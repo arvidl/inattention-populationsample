{
 "cells": [
  {
   "cell_type": "markdown",
   "metadata": {},
   "source": [
    "#### Jupyter R notebook by Arvid Lundervold, 2016\n",
    "in the project\n",
    "### \"Prediction of academic achievement in adolescents from teacher reports of inattention in childhood - a methodological pattern classification study\"\n",
    "by _Astri J. Lundervold, Tormod Bøe, Arvid Lundervold_\n"
   ]
  },
  {
   "cell_type": "markdown",
   "metadata": {},
   "source": [
    "## Multinomial logistic regression"
   ]
  },
  {
   "cell_type": "markdown",
   "metadata": {},
   "source": [
    "See e.g. http://www.ats.ucla.edu/stat/r/dae/mlogit.htm\n",
    "and ml <- read.dta(\"http://www.ats.ucla.edu/stat/data/hsbdemo.dta\")\n",
    "Multinomial logistic regression is used to model nominal outcome variables,\n",
    "in which the log odds of the outcomes are modeled as a linear combination \n",
    "of the predictor variables.\n",
    "See also: Agresti_Foundations_of_Linear_and_Generalized_Linear_Models_Wiley_2015.pdf (Chap.6)\n",
    "\n",
    "To report statistical results using R, e.g. MLR see\n",
    "Andy Field et al.  Discovering Statistics Using R. Sage Publishing 2012.\n",
    "http://studysites.uk.sagepub.com/dsur/main.htm and R code in\n",
    "http://studysites.uk.sagepub.com/dsur/study/scriptfi.htm\n",
    "\n",
    "Using deas from http://www.r-bloggers.com/fitting-a-neural-network-in-r-neuralnet-package\n",
    "https://gist.github.com/mick001/49fad7f4c6112d954aff  neuralnetR.R"
   ]
  },
  {
   "cell_type": "markdown",
   "metadata": {},
   "source": [
    "The original SPSS file as provided to AJL is 'inattention_Astri_94_96_new_grades_updated.sav'\n",
    "and being edited and reduced by AJL to 'inattention_Arvid_new.sav'."
   ]
  },
  {
   "cell_type": "code",
   "execution_count": 28,
   "metadata": {
    "collapsed": false
   },
   "outputs": [],
   "source": [
    "# Import data stored in the SPSS format\n",
    "# library(memisc)\n",
    "# fn <- \"~/Dropbox/Arvid_Inattention/data2/inattention_Arvid_new.sav\"\n",
    "# data <- as.data.set(spss.system.file(fn))"
   ]
  },
  {
   "cell_type": "markdown",
   "metadata": {},
   "source": [
    "Previous step is performed by __data_preparation.ipynb__ computing and storing 'inattention_nomiss_snap_is_012.csv' etc. read into this program."
   ]
  },
  {
   "cell_type": "code",
   "execution_count": 29,
   "metadata": {
    "collapsed": false
   },
   "outputs": [],
   "source": [
    "D0 <- read.csv(\"~/Dropbox/Arvid_Inattention/data2/inattention_nomiss_2397x12.csv\")\n",
    "D1 <- read.csv(\"~/Dropbox/Arvid_Inattention/data2/inattention_nomiss_snap_is_012.csv\")\n",
    "D2 <- read.csv(\"~/Dropbox/Arvid_Inattention/data2/inattention_nomiss_snap_is_01.csv\")\n",
    "D3 <- read.csv(\"~/Dropbox/Arvid_Inattention/data2/inattention_nomiss_snap_is_01_outcome_is_low_medium_high.csv\")\n",
    "D4 <- read.csv(\"~/Dropbox/Arvid_Inattention/data2/inattention_nomiss_snap_is_01_outcome_is_123.csv\")\n",
    "data <- D4"
   ]
  },
  {
   "cell_type": "markdown",
   "metadata": {
    "collapsed": false
   },
   "source": [
    "#### Use Likert scale with three levels (not collapsing to two) \n",
    "\n",
    "APROPOS:\n",
    " - should actually be five (https://en.wikipedia.org/wiki/Likert_scale)\n",
    "\n",
    "When responding to a Likert questionnaire item, respondents specify their level of agreement \n",
    "or disagreement on a symmetric agree-disagree scale for a series of statements. \n",
    "Thus, the range captures the intensity of their feelings for a given item.\n",
    "\n",
    "The format of a typical five-level Likert item, for example, could be:\n",
    " * 1 Strongly disagree\n",
    " * 2 Disagree\n",
    " * 3 Neither agree nor disagree\n",
    " * 4 Agree\n",
    " * 5 Strongly agree\n",
    "\n",
    "Likert scaling is a bipolar scaling method, measuring either positive or negative response to a statement.\n"
   ]
  },
  {
   "cell_type": "code",
   "execution_count": 30,
   "metadata": {
    "collapsed": true
   },
   "outputs": [],
   "source": [
    "for(i in 1:9){\n",
    "  cmd = sprintf(\"data$snap%d <- D1$snap%d\", i, i)\n",
    "  # print(cmd)\n",
    "  eval(parse(text=cmd))\n",
    "}"
   ]
  },
  {
   "cell_type": "markdown",
   "metadata": {},
   "source": [
    "#### Check that no datapoint is missing"
   ]
  },
  {
   "cell_type": "code",
   "execution_count": 31,
   "metadata": {
    "collapsed": false
   },
   "outputs": [
    {
     "data": {
      "text/html": [
       "<dl class=dl-horizontal>\n",
       "\t<dt>gender</dt>\n",
       "\t\t<dd>0</dd>\n",
       "\t<dt>grade</dt>\n",
       "\t\t<dd>0</dd>\n",
       "\t<dt>snap1</dt>\n",
       "\t\t<dd>0</dd>\n",
       "\t<dt>snap2</dt>\n",
       "\t\t<dd>0</dd>\n",
       "\t<dt>snap3</dt>\n",
       "\t\t<dd>0</dd>\n",
       "\t<dt>snap4</dt>\n",
       "\t\t<dd>0</dd>\n",
       "\t<dt>snap5</dt>\n",
       "\t\t<dd>0</dd>\n",
       "\t<dt>snap6</dt>\n",
       "\t\t<dd>0</dd>\n",
       "\t<dt>snap7</dt>\n",
       "\t\t<dd>0</dd>\n",
       "\t<dt>snap8</dt>\n",
       "\t\t<dd>0</dd>\n",
       "\t<dt>snap9</dt>\n",
       "\t\t<dd>0</dd>\n",
       "\t<dt>averBinned</dt>\n",
       "\t\t<dd>0</dd>\n",
       "</dl>\n"
      ],
      "text/latex": [
       "\\begin{description*}\n",
       "\\item[gender] 0\n",
       "\\item[grade] 0\n",
       "\\item[snap1] 0\n",
       "\\item[snap2] 0\n",
       "\\item[snap3] 0\n",
       "\\item[snap4] 0\n",
       "\\item[snap5] 0\n",
       "\\item[snap6] 0\n",
       "\\item[snap7] 0\n",
       "\\item[snap8] 0\n",
       "\\item[snap9] 0\n",
       "\\item[averBinned] 0\n",
       "\\end{description*}\n"
      ],
      "text/markdown": [
       "gender\n",
       ":   0grade\n",
       ":   0snap1\n",
       ":   0snap2\n",
       ":   0snap3\n",
       ":   0snap4\n",
       ":   0snap5\n",
       ":   0snap6\n",
       ":   0snap7\n",
       ":   0snap8\n",
       ":   0snap9\n",
       ":   0averBinned\n",
       ":   0\n",
       "\n"
      ],
      "text/plain": [
       "    gender      grade      snap1      snap2      snap3      snap4      snap5 \n",
       "         0          0          0          0          0          0          0 \n",
       "     snap6      snap7      snap8      snap9 averBinned \n",
       "         0          0          0          0          0 "
      ]
     },
     "metadata": {},
     "output_type": "display_data"
    }
   ],
   "source": [
    "apply(data,2,function(x) sum(is.na(x)))"
   ]
  },
  {
   "cell_type": "markdown",
   "metadata": {},
   "source": [
    "#### SIDESTEP: Randomly splitting the data into a train and a test set"
   ]
  },
  {
   "cell_type": "code",
   "execution_count": 32,
   "metadata": {
    "collapsed": true
   },
   "outputs": [],
   "source": [
    "index <- sample(1:nrow(data),round(0.75*nrow(data)))\n",
    "train <- data[index,]\n",
    "test <- data[-index,]"
   ]
  },
  {
   "cell_type": "markdown",
   "metadata": {},
   "source": [
    "###  Fit a linear regression model and test it on the test set. \n",
    "> lm.fit <- glm(averBinned~., data=train)\n",
    "\n",
    "> summary(lm.fit)"
   ]
  },
  {
   "cell_type": "markdown",
   "metadata": {},
   "source": [
    "Before running our model. We then choose the level of our outcome that we wish \n",
    "to use as our baseline and specify this in the relevel function. \n",
    "\n",
    "Then, we run our model using multinom."
   ]
  },
  {
   "cell_type": "code",
   "execution_count": 33,
   "metadata": {
    "collapsed": false
   },
   "outputs": [
    {
     "name": "stdout",
     "output_type": "stream",
     "text": [
      "# weights:  39 (24 variable)\n",
      "initial  value 2633.373656 \n",
      "iter  10 value 2518.603818\n",
      "iter  20 value 2505.343951\n",
      "iter  30 value 2505.055564\n",
      "final  value 2505.054068 \n",
      "converged\n"
     ]
    }
   ],
   "source": [
    "library(nnet)\n",
    "data$AverageMarksLevel3 <- relevel(factor(data$averBinned), ref = \"2\")   # ref = \"high\"\n",
    "test <- multinom(AverageMarksLevel3 ~ \n",
    "                   gender+grade +\n",
    "                   snap1+snap2+snap3+snap4+snap5+snap6+snap7+snap8+snap9,\n",
    "                   data = data)"
   ]
  },
  {
   "cell_type": "code",
   "execution_count": 34,
   "metadata": {
    "collapsed": false
   },
   "outputs": [
    {
     "data": {
      "text/plain": [
       "Call:\n",
       "multinom(formula = AverageMarksLevel3 ~ gender + grade + snap1 + \n",
       "    snap2 + snap3 + snap4 + snap5 + snap6 + snap7 + snap8 + snap9, \n",
       "    data = data)\n",
       "\n",
       "Coefficients:\n",
       "  (Intercept)     gender      grade       snap1      snap2       snap3\n",
       "1 -0.85501370  0.2256407 0.16494472  0.05488026  0.6489769 -0.02383838\n",
       "3  0.07223822 -0.2620312 0.06289599 -0.52841367 -0.3073022 -0.10263580\n",
       "        snap4       snap5      snap6      snap7      snap8       snap9\n",
       "1 -0.16714559 -0.04084157  0.1725913 -0.1636895  0.2871769  0.06381004\n",
       "3 -0.06131077  0.42519252 -0.4879066 -0.3584543 -0.3136770 -0.17760409\n",
       "\n",
       "Std. Errors:\n",
       "  (Intercept)    gender      grade     snap1     snap2     snap3     snap4\n",
       "1   0.2034855 0.1056061 0.06567805 0.1374610 0.1940327 0.1950978 0.2399403\n",
       "3   0.1941742 0.1039694 0.06437043 0.1836781 0.2810665 0.2518535 0.3285771\n",
       "      snap5     snap6     snap7     snap8     snap9\n",
       "1 0.2203130 0.2038670 0.2619213 0.1275080 0.1622366\n",
       "3 0.2825674 0.2984448 0.4385224 0.1499846 0.2015068\n",
       "\n",
       "Residual Deviance: 5010.108 \n",
       "AIC: 5058.108 "
      ]
     },
     "metadata": {},
     "output_type": "display_data"
    }
   ],
   "source": [
    "summary(test)"
   ]
  },
  {
   "cell_type": "code",
   "execution_count": 35,
   "metadata": {
    "collapsed": false
   },
   "outputs": [
    {
     "data": {
      "text/html": [
       "<table>\n",
       "<thead><tr><th></th><th scope=col>(Intercept)</th><th scope=col>gender</th><th scope=col>grade</th><th scope=col>snap1</th><th scope=col>snap2</th><th scope=col>snap3</th><th scope=col>snap4</th><th scope=col>snap5</th><th scope=col>snap6</th><th scope=col>snap7</th><th scope=col>snap8</th><th scope=col>snap9</th></tr></thead>\n",
       "<tbody>\n",
       "\t<tr><th scope=row>1</th><td>0.0000264753</td><td>0.0326285049</td><td>0.0120248910</td><td>0.6897146008</td><td>0.0008237812</td><td>0.9027510341</td><td>0.4860447980</td><td>0.8529311688</td><td>0.3972250004</td><td>0.5319993641</td><td>0.0243079335</td><td>0.6940870570</td></tr>\n",
       "\t<tr><th scope=row>3</th><td>0.70987203</td><td>0.01172641</td><td>0.32852240</td><td>0.00401672</td><td>0.27424319</td><td>0.68362472</td><td>0.85197838</td><td>0.13238911</td><td>0.10208461</td><td>0.41369189</td><td>0.03649273</td><td>0.37811214</td></tr>\n",
       "</tbody>\n",
       "</table>\n"
      ],
      "text/latex": [
       "\\begin{tabular}{r|llllllllllll}\n",
       "  & (Intercept) & gender & grade & snap1 & snap2 & snap3 & snap4 & snap5 & snap6 & snap7 & snap8 & snap9\\\\\n",
       "\\hline\n",
       "\t1 & 0.0000264753 & 0.0326285049 & 0.0120248910 & 0.6897146008 & 0.0008237812 & 0.9027510341 & 0.4860447980 & 0.8529311688 & 0.3972250004 & 0.5319993641 & 0.0243079335 & 0.6940870570\\\\\n",
       "\t3 & 0.70987203 & 0.01172641 & 0.32852240 & 0.00401672 & 0.27424319 & 0.68362472 & 0.85197838 & 0.13238911 & 0.10208461 & 0.41369189 & 0.03649273 & 0.37811214\\\\\n",
       "\\end{tabular}\n"
      ],
      "text/markdown": [
       "1. 2.64752999772355e-05\n",
       "2. 0.709872033469416\n",
       "3. 0.0326285049486592\n",
       "4. 0.0117264123094085\n",
       "5. 0.0120248910242362\n",
       "6. 0.328522396559721\n",
       "7. 0.689714600811892\n",
       "8. 0.00401671981752094\n",
       "9. 0.00082378116350168\n",
       "10. 0.274243194432291\n",
       "11. 0.902751034063393\n",
       "12. 0.683624720254563\n",
       "13. 0.486044798032816\n",
       "14. 0.851978376475363\n",
       "15. 0.852931168798473\n",
       "16. 0.132389108168021\n",
       "17. 0.397225000369357\n",
       "18. 0.102084612953854\n",
       "19. 0.531999364082319\n",
       "20. 0.413691885149235\n",
       "21. 0.0243079334906597\n",
       "22. 0.0364927326040865\n",
       "23. 0.694087057026493\n",
       "24. 0.37811214352085\n",
       "\n",
       "\n"
      ],
      "text/plain": [
       "  (Intercept)     gender      grade      snap1        snap2     snap3     snap4\n",
       "1 2.64753e-05 0.03262850 0.01202489 0.68971460 0.0008237812 0.9027510 0.4860448\n",
       "3 7.09872e-01 0.01172641 0.32852240 0.00401672 0.2742431944 0.6836247 0.8519784\n",
       "      snap5     snap6     snap7      snap8     snap9\n",
       "1 0.8529312 0.3972250 0.5319994 0.02430793 0.6940871\n",
       "3 0.1323891 0.1020846 0.4136919 0.03649273 0.3781121"
      ]
     },
     "metadata": {},
     "output_type": "display_data"
    }
   ],
   "source": [
    "z <- summary(test)$coefficients/summary(test)$standard.errors\n",
    "# 2-tailed z test\n",
    "p <- (1 - pnorm(abs(z), 0, 1)) * 2\n",
    "p"
   ]
  },
  {
   "cell_type": "markdown",
   "metadata": {},
   "source": [
    "#### Extract the coefficients from the model and exponentiate"
   ]
  },
  {
   "cell_type": "code",
   "execution_count": 36,
   "metadata": {
    "collapsed": true
   },
   "outputs": [],
   "source": [
    "c <- exp(coef(test))"
   ]
  },
  {
   "cell_type": "markdown",
   "metadata": {},
   "source": [
    "You can also use predicted probabilities to help you understand the model. \n",
    "Calculate predicted probabilities for each of the outcome levels using \n",
    "the fitted function. We can start by generating the predicted probabilities \n",
    "for the observations in our dataset and viewing the first few rows"
   ]
  },
  {
   "cell_type": "code",
   "execution_count": 37,
   "metadata": {
    "collapsed": false
   },
   "outputs": [
    {
     "data": {
      "text/html": [
       "<table>\n",
       "<thead><tr><th></th><th scope=col>2</th><th scope=col>1</th><th scope=col>3</th></tr></thead>\n",
       "<tbody>\n",
       "\t<tr><th scope=row>1</th><td>0.3558110</td><td>0.2104557</td><td>0.4337333</td></tr>\n",
       "\t<tr><th scope=row>2</th><td>0.3734630</td><td>0.2156931</td><td>0.4108439</td></tr>\n",
       "\t<tr><th scope=row>3</th><td>0.3558110</td><td>0.2104557</td><td>0.4337333</td></tr>\n",
       "\t<tr><th scope=row>4</th><td>0.3558110</td><td>0.2104557</td><td>0.4337333</td></tr>\n",
       "\t<tr><th scope=row>5</th><td>0.3558110</td><td>0.2104557</td><td>0.4337333</td></tr>\n",
       "\t<tr><th scope=row>6</th><td>0.3558110</td><td>0.2104557</td><td>0.4337333</td></tr>\n",
       "</tbody>\n",
       "</table>\n"
      ],
      "text/latex": [
       "\\begin{tabular}{r|lll}\n",
       "  & 2 & 1 & 3\\\\\n",
       "\\hline\n",
       "\t1 & 0.3558110 & 0.2104557 & 0.4337333\\\\\n",
       "\t2 & 0.3734630 & 0.2156931 & 0.4108439\\\\\n",
       "\t3 & 0.3558110 & 0.2104557 & 0.4337333\\\\\n",
       "\t4 & 0.3558110 & 0.2104557 & 0.4337333\\\\\n",
       "\t5 & 0.3558110 & 0.2104557 & 0.4337333\\\\\n",
       "\t6 & 0.3558110 & 0.2104557 & 0.4337333\\\\\n",
       "\\end{tabular}\n"
      ],
      "text/markdown": [
       "1. 0.355810973373258\n",
       "2. 0.373463023630101\n",
       "3. 0.355810973373258\n",
       "4. 0.355810973373258\n",
       "5. 0.355810973373258\n",
       "6. 0.355810973373258\n",
       "7. 0.210455734814248\n",
       "8. 0.215693053227197\n",
       "9. 0.210455734814248\n",
       "10. 0.210455734814248\n",
       "11. 0.210455734814248\n",
       "12. 0.210455734814248\n",
       "13. 0.433733291812494\n",
       "14. 0.410843923142702\n",
       "15. 0.433733291812494\n",
       "16. 0.433733291812494\n",
       "17. 0.433733291812494\n",
       "18. 0.433733291812494\n",
       "\n",
       "\n"
      ],
      "text/plain": [
       "         2         1         3\n",
       "1 0.355811 0.2104557 0.4337333\n",
       "2 0.373463 0.2156931 0.4108439\n",
       "3 0.355811 0.2104557 0.4337333\n",
       "4 0.355811 0.2104557 0.4337333\n",
       "5 0.355811 0.2104557 0.4337333\n",
       "6 0.355811 0.2104557 0.4337333"
      ]
     },
     "metadata": {},
     "output_type": "display_data"
    }
   ],
   "source": [
    "head(pp <- fitted(test))"
   ]
  },
  {
   "cell_type": "markdown",
   "metadata": {},
   "source": [
    "#### Fore easy input to LaTeX:"
   ]
  },
  {
   "cell_type": "code",
   "execution_count": 38,
   "metadata": {
    "collapsed": false
   },
   "outputs": [
    {
     "name": "stdout",
     "output_type": "stream",
     "text": [
      "\n",
      "% Table created by stargazer v.5.2 by Marek Hlavac, Harvard University. E-mail: hlavac at fas.harvard.edu\n",
      "% Date and time: Fri, Jun 10, 2016 - 17:13:14\n",
      "\\begin{table}[!htbp] \\centering \n",
      "  \\caption{} \n",
      "  \\label{} \n",
      "\\begin{tabular}{@{\\extracolsep{5pt}}lcc} \n",
      "\\\\[-1.8ex]\\hline \n",
      "\\hline \\\\[-1.8ex] \n",
      " & \\multicolumn{2}{c}{\\textit{Dependent variable:}} \\\\ \n",
      "\\cline{2-3} \n",
      "\\\\[-1.8ex] & 1 & 3 \\\\ \n",
      "\\\\[-1.8ex] & (1) & (2)\\\\ \n",
      "\\hline \\\\[-1.8ex] \n",
      " gender & 0.226$^{**}$ & $-$0.262$^{**}$ \\\\ \n",
      "  & (0.106) & (0.104) \\\\ \n",
      "  & & \\\\ \n",
      " grade & 0.165$^{**}$ & 0.063 \\\\ \n",
      "  & (0.066) & (0.064) \\\\ \n",
      "  & & \\\\ \n",
      " snap1 & 0.055 & $-$0.528$^{***}$ \\\\ \n",
      "  & (0.137) & (0.184) \\\\ \n",
      "  & & \\\\ \n",
      " snap2 & 0.649$^{***}$ & $-$0.307 \\\\ \n",
      "  & (0.194) & (0.281) \\\\ \n",
      "  & & \\\\ \n",
      " snap3 & $-$0.024 & $-$0.103 \\\\ \n",
      "  & (0.195) & (0.252) \\\\ \n",
      "  & & \\\\ \n",
      " snap4 & $-$0.167 & $-$0.061 \\\\ \n",
      "  & (0.240) & (0.329) \\\\ \n",
      "  & & \\\\ \n",
      " snap5 & $-$0.041 & 0.425 \\\\ \n",
      "  & (0.220) & (0.283) \\\\ \n",
      "  & & \\\\ \n",
      " snap6 & 0.173 & $-$0.488 \\\\ \n",
      "  & (0.204) & (0.298) \\\\ \n",
      "  & & \\\\ \n",
      " snap7 & $-$0.164 & $-$0.358 \\\\ \n",
      "  & (0.262) & (0.439) \\\\ \n",
      "  & & \\\\ \n",
      " snap8 & 0.287$^{**}$ & $-$0.314$^{**}$ \\\\ \n",
      "  & (0.128) & (0.150) \\\\ \n",
      "  & & \\\\ \n",
      " snap9 & 0.064 & $-$0.178 \\\\ \n",
      "  & (0.162) & (0.202) \\\\ \n",
      "  & & \\\\ \n",
      " Constant & $-$0.855$^{***}$ & 0.072 \\\\ \n",
      "  & (0.203) & (0.194) \\\\ \n",
      "  & & \\\\ \n",
      "\\hline \\\\[-1.8ex] \n",
      "Akaike Inf. Crit. & 5,058.108 & 5,058.108 \\\\ \n",
      "\\hline \n",
      "\\hline \\\\[-1.8ex] \n",
      "\\textit{Note:}  & \\multicolumn{2}{r}{$^{*}$p$<$0.1; $^{**}$p$<$0.05; $^{***}$p$<$0.01} \\\\ \n",
      "\\end{tabular} \n",
      "\\end{table} \n",
      "\n",
      "% Table created by stargazer v.5.2 by Marek Hlavac, Harvard University. E-mail: hlavac at fas.harvard.edu\n",
      "% Date and time: Fri, Jun 10, 2016 - 17:13:14\n",
      "\\begin{table}[!htbp] \\centering \n",
      "  \\caption{} \n",
      "  \\label{} \n",
      "\\begin{tabular}{@{\\extracolsep{5pt}} ccccccccccccc} \n",
      "\\\\[-1.8ex]\\hline \n",
      "\\hline \\\\[-1.8ex] \n",
      " & (Intercept) & gender & grade & snap1 & snap2 & snap3 & snap4 & snap5 & snap6 & snap7 & snap8 & snap9 \\\\ \n",
      "\\hline \\\\[-1.8ex] \n",
      "1 & $0.00003$ & $0.033$ & $0.012$ & $0.690$ & $0.001$ & $0.903$ & $0.486$ & $0.853$ & $0.397$ & $0.532$ & $0.024$ & $0.694$ \\\\ \n",
      "3 & $0.710$ & $0.012$ & $0.329$ & $0.004$ & $0.274$ & $0.684$ & $0.852$ & $0.132$ & $0.102$ & $0.414$ & $0.036$ & $0.378$ \\\\ \n",
      "\\hline \\\\[-1.8ex] \n",
      "\\end{tabular} \n",
      "\\end{table} \n",
      "\n",
      "% Table created by stargazer v.5.2 by Marek Hlavac, Harvard University. E-mail: hlavac at fas.harvard.edu\n",
      "% Date and time: Fri, Jun 10, 2016 - 17:13:14\n",
      "\\begin{table}[!htbp] \\centering \n",
      "  \\caption{} \n",
      "  \\label{} \n",
      "\\begin{tabular}{@{\\extracolsep{5pt}} ccccccccccccc} \n",
      "\\\\[-1.8ex]\\hline \n",
      "\\hline \\\\[-1.8ex] \n",
      " & (Intercept) & gender & grade & snap1 & snap2 & snap3 & snap4 & snap5 & snap6 & snap7 & snap8 & snap9 \\\\ \n",
      "\\hline \\\\[-1.8ex] \n",
      "1 & $0.425$ & $1.253$ & $1.179$ & $1.056$ & $1.914$ & $0.976$ & $0.846$ & $0.960$ & $1.188$ & $0.849$ & $1.333$ & $1.066$ \\\\ \n",
      "3 & $1.075$ & $0.769$ & $1.065$ & $0.590$ & $0.735$ & $0.902$ & $0.941$ & $1.530$ & $0.614$ & $0.699$ & $0.731$ & $0.837$ \\\\ \n",
      "\\hline \\\\[-1.8ex] \n",
      "\\end{tabular} \n",
      "\\end{table} \n"
     ]
    }
   ],
   "source": [
    "library(stargazer)\n",
    "stargazer(test)\n",
    "stargazer(p)\n",
    "stargazer(c)"
   ]
  },
  {
   "cell_type": "markdown",
   "metadata": {},
   "source": [
    "### Using an alternative implementation of MLR - mlogit"
   ]
  },
  {
   "cell_type": "code",
   "execution_count": 39,
   "metadata": {
    "collapsed": false
   },
   "outputs": [],
   "source": [
    "library(mlogit)"
   ]
  },
  {
   "cell_type": "markdown",
   "metadata": {},
   "source": [
    "We need to modify the data so that the multinomial logistic regression\n",
    "function can process it. To do this, we need to expand the outcome variable\n",
    "(y) much like we would for dummy coding a categorical variable for\n",
    "inclusion in standard multiple regression."
   ]
  },
  {
   "cell_type": "code",
   "execution_count": 40,
   "metadata": {
    "collapsed": false
   },
   "outputs": [
    {
     "data": {
      "text/plain": [
       "     gender          grade           snap1            snap2       \n",
       " Min.   :0.000   Min.   :2.000   Min.   :0.0000   Min.   :0.0000  \n",
       " 1st Qu.:0.000   1st Qu.:2.000   1st Qu.:0.0000   1st Qu.:0.0000  \n",
       " Median :0.000   Median :3.000   Median :0.0000   Median :0.0000  \n",
       " Mean   :0.476   Mean   :2.814   Mean   :0.1519   Mean   :0.1377  \n",
       " 3rd Qu.:1.000   3rd Qu.:3.000   3rd Qu.:0.0000   3rd Qu.:0.0000  \n",
       " Max.   :1.000   Max.   :4.000   Max.   :2.0000   Max.   :2.0000  \n",
       "     snap3             snap4             snap5             snap6        \n",
       " Min.   :0.00000   Min.   :0.00000   Min.   :0.00000   Min.   :0.00000  \n",
       " 1st Qu.:0.00000   1st Qu.:0.00000   1st Qu.:0.00000   1st Qu.:0.00000  \n",
       " Median :0.00000   Median :0.00000   Median :0.00000   Median :0.00000  \n",
       " Mean   :0.08803   Mean   :0.08177   Mean   :0.09929   Mean   :0.09762  \n",
       " 3rd Qu.:0.00000   3rd Qu.:0.00000   3rd Qu.:0.00000   3rd Qu.:0.00000  \n",
       " Max.   :2.00000   Max.   :2.00000   Max.   :2.00000   Max.   :2.00000  \n",
       "     snap7             snap8            snap9        averBinned\n",
       " Min.   :0.00000   Min.   :0.0000   Min.   :0.0000   1:779     \n",
       " 1st Qu.:0.00000   1st Qu.:0.0000   1st Qu.:0.0000   2:818     \n",
       " Median :0.00000   Median :0.0000   Median :0.0000   3:800     \n",
       " Mean   :0.04047   Mean   :0.2904   Mean   :0.1176             \n",
       " 3rd Qu.:0.00000   3rd Qu.:1.0000   3rd Qu.:0.0000             \n",
       " Max.   :2.00000   Max.   :2.0000   Max.   :2.0000             \n",
       " AverageMarksLevel3\n",
       " 2:818             \n",
       " 1:779             \n",
       " 3:800             \n",
       "                   \n",
       "                   \n",
       "                   "
      ]
     },
     "metadata": {},
     "output_type": "display_data"
    }
   ],
   "source": [
    "data1 <- data\n",
    "data1$averBinned <- as.factor(data1$averBinned)\n",
    "summary(data1)\n",
    "data2 <- mlogit.data(data1, varying=NULL, choice=\"averBinned\", shape=\"wide\")"
   ]
  },
  {
   "cell_type": "code",
   "execution_count": 41,
   "metadata": {
    "collapsed": false
   },
   "outputs": [
    {
     "data": {
      "text/html": [
       "<table>\n",
       "<thead><tr><th></th><th scope=col>gender</th><th scope=col>grade</th><th scope=col>snap1</th><th scope=col>snap2</th><th scope=col>snap3</th><th scope=col>snap4</th><th scope=col>snap5</th><th scope=col>snap6</th><th scope=col>snap7</th><th scope=col>snap8</th><th scope=col>snap9</th><th scope=col>averBinned</th><th scope=col>AverageMarksLevel3</th><th scope=col>chid</th><th scope=col>alt</th></tr></thead>\n",
       "<tbody>\n",
       "\t<tr><th scope=row>1.1</th><td>0    </td><td>2    </td><td>0    </td><td>0    </td><td>0    </td><td>0    </td><td>0    </td><td>0    </td><td>0    </td><td>0    </td><td>0    </td><td>FALSE</td><td>3    </td><td>1    </td><td>1    </td></tr>\n",
       "\t<tr><th scope=row>1.2</th><td>0    </td><td>2    </td><td>0    </td><td>0    </td><td>0    </td><td>0    </td><td>0    </td><td>0    </td><td>0    </td><td>0    </td><td>0    </td><td>FALSE</td><td>3    </td><td>1    </td><td>2    </td></tr>\n",
       "\t<tr><th scope=row>1.3</th><td>0   </td><td>2   </td><td>0   </td><td>0   </td><td>0   </td><td>0   </td><td>0   </td><td>0   </td><td>0   </td><td>0   </td><td>0   </td><td>TRUE</td><td>3   </td><td>1   </td><td>3   </td></tr>\n",
       "\t<tr><th scope=row>2.1</th><td>0   </td><td>2   </td><td>0   </td><td>0   </td><td>1   </td><td>0   </td><td>0   </td><td>0   </td><td>0   </td><td>0   </td><td>0   </td><td>TRUE</td><td>1   </td><td>2   </td><td>1   </td></tr>\n",
       "\t<tr><th scope=row>2.2</th><td>0    </td><td>2    </td><td>0    </td><td>0    </td><td>1    </td><td>0    </td><td>0    </td><td>0    </td><td>0    </td><td>0    </td><td>0    </td><td>FALSE</td><td>1    </td><td>2    </td><td>2    </td></tr>\n",
       "\t<tr><th scope=row>2.3</th><td>0    </td><td>2    </td><td>0    </td><td>0    </td><td>1    </td><td>0    </td><td>0    </td><td>0    </td><td>0    </td><td>0    </td><td>0    </td><td>FALSE</td><td>1    </td><td>2    </td><td>3    </td></tr>\n",
       "</tbody>\n",
       "</table>\n"
      ],
      "text/latex": [
       "\\begin{tabular}{r|lllllllllllllll}\n",
       "  & gender & grade & snap1 & snap2 & snap3 & snap4 & snap5 & snap6 & snap7 & snap8 & snap9 & averBinned & AverageMarksLevel3 & chid & alt\\\\\n",
       "\\hline\n",
       "\t1.1 & 0     & 2     & 0     & 0     & 0     & 0     & 0     & 0     & 0     & 0     & 0     & FALSE & 3     & 1     & 1    \\\\\n",
       "\t1.2 & 0     & 2     & 0     & 0     & 0     & 0     & 0     & 0     & 0     & 0     & 0     & FALSE & 3     & 1     & 2    \\\\\n",
       "\t1.3 & 0    & 2    & 0    & 0    & 0    & 0    & 0    & 0    & 0    & 0    & 0    & TRUE & 3    & 1    & 3   \\\\\n",
       "\t2.1 & 0    & 2    & 0    & 0    & 1    & 0    & 0    & 0    & 0    & 0    & 0    & TRUE & 1    & 2    & 1   \\\\\n",
       "\t2.2 & 0     & 2     & 0     & 0     & 1     & 0     & 0     & 0     & 0     & 0     & 0     & FALSE & 1     & 2     & 2    \\\\\n",
       "\t2.3 & 0     & 2     & 0     & 0     & 1     & 0     & 0     & 0     & 0     & 0     & 0     & FALSE & 1     & 2     & 3    \\\\\n",
       "\\end{tabular}\n"
      ],
      "text/plain": [
       "    gender grade snap1 snap2 snap3 snap4 snap5 snap6 snap7 snap8 snap9\n",
       "1.1      0     2     0     0     0     0     0     0     0     0     0\n",
       "1.2      0     2     0     0     0     0     0     0     0     0     0\n",
       "1.3      0     2     0     0     0     0     0     0     0     0     0\n",
       "2.1      0     2     0     0     1     0     0     0     0     0     0\n",
       "2.2      0     2     0     0     1     0     0     0     0     0     0\n",
       "2.3      0     2     0     0     1     0     0     0     0     0     0\n",
       "    averBinned AverageMarksLevel3 chid alt\n",
       "1.1      FALSE                  3    1   1\n",
       "1.2      FALSE                  3    1   2\n",
       "1.3       TRUE                  3    1   3\n",
       "2.1       TRUE                  1    2   1\n",
       "2.2      FALSE                  1    2   2\n",
       "2.3      FALSE                  1    2   3"
      ]
     },
     "metadata": {},
     "output_type": "display_data"
    }
   ],
   "source": [
    "head(data2)"
   ]
  },
  {
   "cell_type": "markdown",
   "metadata": {},
   "source": [
    "Now we can proceed with the multinomial logistic regression analysis using\n",
    "the ‘mlogit’ function and the ubiquitous ‘summary’ function of the results.\n",
    "Note that the reference category is specified as “high” (2, where the levels are 0,1,2)."
   ]
  },
  {
   "cell_type": "code",
   "execution_count": 42,
   "metadata": {
    "collapsed": true
   },
   "outputs": [],
   "source": [
    "model.1 <- mlogit(averBinned ~ 1 | gender+grade +\n",
    "                    snap1+snap2+snap3+snap4+snap5+snap6+snap7+snap8+snap9,\n",
    "                    data = data2,\n",
    "                    reflevel=\"2\")    # reflevel = \"high\")"
   ]
  },
  {
   "cell_type": "code",
   "execution_count": 43,
   "metadata": {
    "collapsed": false
   },
   "outputs": [
    {
     "data": {
      "text/plain": [
       "\n",
       "Call:\n",
       "mlogit(formula = averBinned ~ 1 | gender + grade + snap1 + snap2 + \n",
       "    snap3 + snap4 + snap5 + snap6 + snap7 + snap8 + snap9, data = data2, \n",
       "    reflevel = \"2\", method = \"nr\", print.level = 0)\n",
       "\n",
       "Frequencies of alternatives:\n",
       "      2       1       3 \n",
       "0.34126 0.32499 0.33375 \n",
       "\n",
       "nr method\n",
       "5 iterations, 0h:0m:0s \n",
       "g'(-H)^-1g = 4.51E-07 \n",
       "gradient close to zero \n",
       "\n",
       "Coefficients :\n",
       "               Estimate Std. Error t-value  Pr(>|t|)    \n",
       "1:(intercept) -0.855070   0.203485 -4.2021 2.644e-05 ***\n",
       "3:(intercept)  0.072173   0.194175  0.3717 0.7101245    \n",
       "1:gender       0.225644   0.105606  2.1367 0.0326256 *  \n",
       "3:gender      -0.262022   0.103970 -2.5202 0.0117297 *  \n",
       "1:grade        0.164967   0.065678  2.5118 0.0120133 *  \n",
       "3:grade        0.062916   0.064371  0.9774 0.3283691    \n",
       "1:snap1        0.054873   0.137460  0.3992 0.6897525    \n",
       "3:snap1       -0.528499   0.183686 -2.8772 0.0040124 ** \n",
       "1:snap2        0.648952   0.194031  3.3446 0.0008241 ***\n",
       "3:snap2       -0.307387   0.281080 -1.0936 0.2741337    \n",
       "1:snap3       -0.023862   0.195096 -0.1223 0.9026535    \n",
       "3:snap3       -0.102657   0.251862 -0.4076 0.6835717    \n",
       "1:snap4       -0.167112   0.239938 -0.6965 0.4861282    \n",
       "3:snap4       -0.061322   0.328594 -0.1866 0.8519585    \n",
       "1:snap5       -0.040826   0.220311 -0.1853 0.8529870    \n",
       "3:snap5        0.425170   0.282578  1.5046 0.1324244    \n",
       "1:snap6        0.172596   0.203865  0.8466 0.3972085    \n",
       "3:snap6       -0.488041   0.298466 -1.6352 0.1020148    \n",
       "1:snap7       -0.163634   0.261920 -0.6247 0.5321364    \n",
       "3:snap7       -0.358521   0.438573 -0.8175 0.4136592    \n",
       "1:snap8        0.287184   0.127507  2.2523 0.0243038 *  \n",
       "3:snap8       -0.313667   0.149987 -2.0913 0.0365021 *  \n",
       "1:snap9        0.063822   0.162235  0.3934 0.6940313    \n",
       "3:snap9       -0.177681   0.201514 -0.8817 0.3779220    \n",
       "---\n",
       "Signif. codes:  0 ‘***’ 0.001 ‘**’ 0.01 ‘*’ 0.05 ‘.’ 0.1 ‘ ’ 1\n",
       "\n",
       "Log-Likelihood: -2505.1\n",
       "McFadden R^2:  0.048556 \n",
       "Likelihood ratio test : chisq = 255.68 (p.value = < 2.22e-16)"
      ]
     },
     "metadata": {},
     "output_type": "display_data"
    }
   ],
   "source": [
    "summary(model.1)"
   ]
  },
  {
   "cell_type": "code",
   "execution_count": 44,
   "metadata": {
    "collapsed": false
   },
   "outputs": [
    {
     "data": {
      "text/plain": [
       "   Min. 1st Qu.  Median    Mean 3rd Qu.    Max. \n",
       " 0.4253  0.7610  0.9503  0.9806  1.1010  1.9140 "
      ]
     },
     "metadata": {},
     "output_type": "display_data"
    }
   ],
   "source": [
    "b <- exp(coef(model.1))\n",
    "summary(b)"
   ]
  },
  {
   "cell_type": "code",
   "execution_count": null,
   "metadata": {
    "collapsed": true
   },
   "outputs": [],
   "source": []
  }
 ],
 "metadata": {
  "kernelspec": {
   "display_name": "R",
   "language": "R",
   "name": "ir"
  },
  "language_info": {
   "codemirror_mode": "r",
   "file_extension": ".r",
   "mimetype": "text/x-r-source",
   "name": "R",
   "pygments_lexer": "r",
   "version": "3.3.0"
  }
 },
 "nbformat": 4,
 "nbformat_minor": 0
}
