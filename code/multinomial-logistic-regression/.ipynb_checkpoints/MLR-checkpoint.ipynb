{
 "cells": [
  {
   "cell_type": "markdown",
   "metadata": {},
   "source": [
    "#### Jupyter R notebook by Arvid Lundervold, 2016\n",
    "in the project\n",
    "### \"Prediction of academic achievement in adolescents from teacher reports of inattention in childhood - a methodological pattern classification study\"\n",
    "by _Astri J. Lundervold, Tormod Bøe, Arvid Lundervold_\n"
   ]
  },
  {
   "cell_type": "markdown",
   "metadata": {},
   "source": [
    "## Multinomial logistic regression"
   ]
  },
  {
   "cell_type": "markdown",
   "metadata": {},
   "source": [
    "See e.g. http://www.ats.ucla.edu/stat/r/dae/mlogit.htm\n",
    "and ml <- read.dta(\"http://www.ats.ucla.edu/stat/data/hsbdemo.dta\")\n",
    "Multinomial logistic regression is used to model nominal outcome variables,\n",
    "in which the log odds of the outcomes are modeled as a linear combination \n",
    "of the predictor variables.\n",
    "See also: Agresti_Foundations_of_Linear_and_Generalized_Linear_Models_Wiley_2015.pdf (Chap.6)\n",
    "\n",
    "To report statistical results using R, e.g. MLR see\n",
    "Andy Field et al.  Discovering Statistics Using R. Sage Publishing 2012.\n",
    "http://studysites.uk.sagepub.com/dsur/main.htm and R code in\n",
    "http://studysites.uk.sagepub.com/dsur/study/scriptfi.htm\n",
    "\n",
    "Using deas from http://www.r-bloggers.com/fitting-a-neural-network-in-r-neuralnet-package\n",
    "https://gist.github.com/mick001/49fad7f4c6112d954aff  neuralnetR.R"
   ]
  },
  {
   "cell_type": "markdown",
   "metadata": {},
   "source": [
    "The original SPSS file as provided to AJL is 'inattention_Astri_94_96_new_grades_updated.sav'\n",
    "and being edited and reduced by AJL to 'inattention_Arvid_new.sav'."
   ]
  },
  {
   "cell_type": "code",
   "execution_count": 28,
   "metadata": {
    "collapsed": false
   },
   "outputs": [],
   "source": [
    "# Import data stored in the SPSS format\n",
    "# library(memisc)\n",
    "# fn <- \"~/Dropbox/Arvid_Inattention/data2/inattention_Arvid_new.sav\"\n",
    "# data <- as.data.set(spss.system.file(fn))"
   ]
  },
  {
   "cell_type": "markdown",
   "metadata": {},
   "source": [
    "Previous step is performed by __data_preparation.ipynb__ computing and storing 'inattention_nomiss_snap_is_012.csv' etc. read into this program."
   ]
  },
  {
   "cell_type": "code",
   "execution_count": 29,
   "metadata": {
    "collapsed": false
   },
   "outputs": [],
   "source": [
    "D0 <- read.csv(\"~/Dropbox/Arvid_Inattention/data2/inattention_nomiss_2397x12.csv\")\n",
    "D1 <- read.csv(\"~/Dropbox/Arvid_Inattention/data2/inattention_nomiss_snap_is_012.csv\")\n",
    "D2 <- read.csv(\"~/Dropbox/Arvid_Inattention/data2/inattention_nomiss_snap_is_01.csv\")\n",
    "D3 <- read.csv(\"~/Dropbox/Arvid_Inattention/data2/inattention_nomiss_snap_is_01_outcome_is_low_medium_high.csv\")\n",
    "D4 <- read.csv(\"~/Dropbox/Arvid_Inattention/data2/inattention_nomiss_snap_is_01_outcome_is_123.csv\")\n",
    "data <- D4"
   ]
  },
  {
   "cell_type": "markdown",
   "metadata": {
    "collapsed": false
   },
   "source": [
    "#### Use Likert scale with three levels (not collapsing to two) \n",
    "\n",
    "APROPOS:\n",
    " - should actually be five (https://en.wikipedia.org/wiki/Likert_scale)\n",
    "\n",
    "When responding to a Likert questionnaire item, respondents specify their level of agreement \n",
    "or disagreement on a symmetric agree-disagree scale for a series of statements. \n",
    "Thus, the range captures the intensity of their feelings for a given item.\n",
    "\n",
    "The format of a typical five-level Likert item, for example, could be:\n",
    " * 1 Strongly disagree\n",
    " * 2 Disagree\n",
    " * 3 Neither agree nor disagree\n",
    " * 4 Agree\n",
    " * 5 Strongly agree\n",
    "\n",
    "Likert scaling is a bipolar scaling method, measuring either positive or negative response to a statement.\n"
   ]
  },
  {
   "cell_type": "code",
   "execution_count": 30,
   "metadata": {
    "collapsed": true
   },
   "outputs": [],
   "source": [
    "for(i in 1:9){\n",
    "  cmd = sprintf(\"data$snap%d <- D1$snap%d\", i, i)\n",
    "  # print(cmd)\n",
    "  eval(parse(text=cmd))\n",
    "}"
   ]
  },
  {
   "cell_type": "markdown",
   "metadata": {},
   "source": [
    "#### Check that no datapoint is missing"
   ]
  },
  {
   "cell_type": "code",
   "execution_count": 31,
   "metadata": {
    "collapsed": false
   },
   "outputs": [
    {
     "data": {
      "text/html": [
       "<dl class=dl-horizontal>\n",
       "\t<dt>gender</dt>\n",
       "\t\t<dd>0</dd>\n",
       "\t<dt>grade</dt>\n",
       "\t\t<dd>0</dd>\n",
       "\t<dt>snap1</dt>\n",
       "\t\t<dd>0</dd>\n",
       "\t<dt>snap2</dt>\n",
       "\t\t<dd>0</dd>\n",
       "\t<dt>snap3</dt>\n",
       "\t\t<dd>0</dd>\n",
       "\t<dt>snap4</dt>\n",
       "\t\t<dd>0</dd>\n",
       "\t<dt>snap5</dt>\n",
       "\t\t<dd>0</dd>\n",
       "\t<dt>snap6</dt>\n",
       "\t\t<dd>0</dd>\n",
       "\t<dt>snap7</dt>\n",
       "\t\t<dd>0</dd>\n",
       "\t<dt>snap8</dt>\n",
       "\t\t<dd>0</dd>\n",
       "\t<dt>snap9</dt>\n",
       "\t\t<dd>0</dd>\n",
       "\t<dt>averBinned</dt>\n",
       "\t\t<dd>0</dd>\n",
       "</dl>\n"
      ],
      "text/latex": [
       "\\begin{description*}\n",
       "\\item[gender] 0\n",
       "\\item[grade] 0\n",
       "\\item[snap1] 0\n",
       "\\item[snap2] 0\n",
       "\\item[snap3] 0\n",
       "\\item[snap4] 0\n",
       "\\item[snap5] 0\n",
       "\\item[snap6] 0\n",
       "\\item[snap7] 0\n",
       "\\item[snap8] 0\n",
       "\\item[snap9] 0\n",
       "\\item[averBinned] 0\n",
       "\\end{description*}\n"
      ],
      "text/markdown": [
       "gender\n",
       ":   0grade\n",
       ":   0snap1\n",
       ":   0snap2\n",
       ":   0snap3\n",
       ":   0snap4\n",
       ":   0snap5\n",
       ":   0snap6\n",
       ":   0snap7\n",
       ":   0snap8\n",
       ":   0snap9\n",
       ":   0averBinned\n",
       ":   0\n",
       "\n"
      ],
      "text/plain": [
       "    gender      grade      snap1      snap2      snap3      snap4      snap5 \n",
       "         0          0          0          0          0          0          0 \n",
       "     snap6      snap7      snap8      snap9 averBinned \n",
       "         0          0          0          0          0 "
      ]
     },
     "metadata": {},
     "output_type": "display_data"
    }
   ],
   "source": [
    "apply(data,2,function(x) sum(is.na(x)))"
   ]
  },
  {
   "cell_type": "markdown",
   "metadata": {},
   "source": [
    "#### SIDESTEP: Randomly splitting the data into a train and a test set"
   ]
  },
  {
   "cell_type": "code",
   "execution_count": 32,
   "metadata": {
    "collapsed": true
   },
   "outputs": [],
   "source": [
    "index <- sample(1:nrow(data),round(0.75*nrow(data)))\n",
    "train <- data[index,]\n",
    "test <- data[-index,]"
   ]
  },
  {
   "cell_type": "markdown",
   "metadata": {},
   "source": [
    "###  Fit a linear regression model and test it on the test set. \n",
    "> lm.fit <- glm(averBinned~., data=train)\n",
    "\n",
    "> summary(lm.fit)"
   ]
  },
  {
   "cell_type": "markdown",
   "metadata": {},
   "source": [
    "Before running our model. We then choose the level of our outcome that we wish \n",
    "to use as our baseline and specify this in the relevel function. \n",
    "\n",
    "Then, we run our model using multinom."
   ]
  },
  {
   "cell_type": "code",
   "execution_count": 33,
   "metadata": {
    "collapsed": false
   },
   "outputs": [
    {
     "name": "stdout",
     "output_type": "stream",
     "text": [
      "# weights:  39 (24 variable)\n",
      "initial  value 2633.373656 \n",
      "iter  10 value 2518.603818\n",
      "iter  20 value 2505.343951\n",
      "iter  30 value 2505.055564\n",
      "final  value 2505.054068 \n",
      "converged\n"
     ]
    }
   ],
   "source": [
    "library(nnet)\n",
    "data$AverageMarksLevel3 <- relevel(factor(data$averBinned), ref = \"2\")   # ref = \"high\"\n",
    "test <- multinom(AverageMarksLevel3 ~ \n",
    "                   gender+grade +\n",
    "                   snap1+snap2+snap3+snap4+snap5+snap6+snap7+snap8+snap9,\n",
    "                   data = data)"
   ]
  },
  {
   "cell_type": "code",
   "execution_count": 34,
   "metadata": {
    "collapsed": false
   },
   "outputs": [
    {
     "data": {
      "text/plain": [
       "Call:\n",
       "multinom(formula = AverageMarksLevel3 ~ gender + grade + snap1 + \n",
       "    snap2 + snap3 + snap4 + snap5 + snap6 + snap7 + snap8 + snap9, \n",
       "    data = data)\n",
       "\n",
       "Coefficients:\n",
       "  (Intercept)     gender      grade       snap1      snap2       snap3\n",
       "1 -0.85501370  0.2256407 0.16494472  0.05488026  0.6489769 -0.02383838\n",
       "3  0.07223822 -0.2620312 0.06289599 -0.52841367 -0.3073022 -0.10263580\n",
       "        snap4       snap5      snap6      snap7      snap8       snap9\n",
       "1 -0.16714559 -0.04084157  0.1725913 -0.1636895  0.2871769  0.06381004\n",
       "3 -0.06131077  0.42519252 -0.4879066 -0.3584543 -0.3136770 -0.17760409\n",
       "\n",
       "Std. Errors:\n",
       "  (Intercept)    gender      grade     snap1     snap2     snap3     snap4\n",
       "1   0.2034855 0.1056061 0.06567805 0.1374610 0.1940327 0.1950978 0.2399403\n",
       "3   0.1941742 0.1039694 0.06437043 0.1836781 0.2810665 0.2518535 0.3285771\n",
       "      snap5     snap6     snap7     snap8     snap9\n",
       "1 0.2203130 0.2038670 0.2619213 0.1275080 0.1622366\n",
       "3 0.2825674 0.2984448 0.4385224 0.1499846 0.2015068\n",
       "\n",
       "Residual Deviance: 5010.108 \n",
       "AIC: 5058.108 "
      ]
     },
     "metadata": {},
     "output_type": "display_data"
    }
   ],
   "source": [
    "summary(test)"
   ]
  },
  {
   "cell_type": "code",
   "execution_count": 35,
   "metadata": {
    "collapsed": false
   },
   "outputs": [
    {
     "data": {
      "text/html": [
       "<table>\n",
       "<thead><tr><th></th><th scope=col>(Intercept)</th><th scope=col>gender</th><th scope=col>grade</th><th scope=col>snap1</th><th scope=col>snap2</th><th scope=col>snap3</th><th scope=col>snap4</th><th scope=col>snap5</th><th scope=col>snap6</th><th scope=col>snap7</th><th scope=col>snap8</th><th scope=col>snap9</th></tr></thead>\n",
       "<tbody>\n",
       "\t<tr><th scope=row>1</th><td>0.0000264753</td><td>0.0326285049</td><td>0.0120248910</td><td>0.6897146008</td><td>0.0008237812</td><td>0.9027510341</td><td>0.4860447980</td><td>0.8529311688</td><td>0.3972250004</td><td>0.5319993641</td><td>0.0243079335</td><td>0.6940870570</td></tr>\n",
       "\t<tr><th scope=row>3</th><td>0.70987203</td><td>0.01172641</td><td>0.32852240</td><td>0.00401672</td><td>0.27424319</td><td>0.68362472</td><td>0.85197838</td><td>0.13238911</td><td>0.10208461</td><td>0.41369189</td><td>0.03649273</td><td>0.37811214</td></tr>\n",
       "</tbody>\n",
       "</table>\n"
      ],
      "text/latex": [
       "\\begin{tabular}{r|llllllllllll}\n",
       "  & (Intercept) & gender & grade & snap1 & snap2 & snap3 & snap4 & snap5 & snap6 & snap7 & snap8 & snap9\\\\\n",
       "\\hline\n",
       "\t1 & 0.0000264753 & 0.0326285049 & 0.0120248910 & 0.6897146008 & 0.0008237812 & 0.9027510341 & 0.4860447980 & 0.8529311688 & 0.3972250004 & 0.5319993641 & 0.0243079335 & 0.6940870570\\\\\n",
       "\t3 & 0.70987203 & 0.01172641 & 0.32852240 & 0.00401672 & 0.27424319 & 0.68362472 & 0.85197838 & 0.13238911 & 0.10208461 & 0.41369189 & 0.03649273 & 0.37811214\\\\\n",
       "\\end{tabular}\n"
      ],
      "text/markdown": [
       "1. 2.64752999772355e-05\n",
       "2. 0.709872033469416\n",
       "3. 0.0326285049486592\n",
       "4. 0.0117264123094085\n",
       "5. 0.0120248910242362\n",
       "6. 0.328522396559721\n",
       "7. 0.689714600811892\n",
       "8. 0.00401671981752094\n",
       "9. 0.00082378116350168\n",
       "10. 0.274243194432291\n",
       "11. 0.902751034063393\n",
       "12. 0.683624720254563\n",
       "13. 0.486044798032816\n",
       "14. 0.851978376475363\n",
       "15. 0.852931168798473\n",
       "16. 0.132389108168021\n",
       "17. 0.397225000369357\n",
       "18. 0.102084612953854\n",
       "19. 0.531999364082319\n",
       "20. 0.413691885149235\n",
       "21. 0.0243079334906597\n",
       "22. 0.0364927326040865\n",
       "23. 0.694087057026493\n",
       "24. 0.37811214352085\n",
       "\n",
       "\n"
      ],
      "text/plain": [
       "  (Intercept)     gender      grade      snap1        snap2     snap3     snap4\n",
       "1 2.64753e-05 0.03262850 0.01202489 0.68971460 0.0008237812 0.9027510 0.4860448\n",
       "3 7.09872e-01 0.01172641 0.32852240 0.00401672 0.2742431944 0.6836247 0.8519784\n",
       "      snap5     snap6     snap7      snap8     snap9\n",
       "1 0.8529312 0.3972250 0.5319994 0.02430793 0.6940871\n",
       "3 0.1323891 0.1020846 0.4136919 0.03649273 0.3781121"
      ]
     },
     "metadata": {},
     "output_type": "display_data"
    }
   ],
   "source": [
    "z <- summary(test)$coefficients/summary(test)$standard.errors\n",
    "# 2-tailed z test\n",
    "p <- (1 - pnorm(abs(z), 0, 1)) * 2\n",
    "p"
   ]
  },
  {
   "cell_type": "markdown",
   "metadata": {},
   "source": [
    "#### Extract the coefficients from the model and exponentiate"
   ]
  },
  {
   "cell_type": "code",
   "execution_count": 36,
   "metadata": {
    "collapsed": true
   },
   "outputs": [],
   "source": [
    "c <- exp(coef(test))"
   ]
  },
  {
   "cell_type": "markdown",
   "metadata": {},
   "source": [
    "You can also use predicted probabilities to help you understand the model. \n",
    "Calculate predicted probabilities for each of the outcome levels using \n",
    "the fitted function. We can start by generating the predicted probabilities \n",
    "for the observations in our dataset and viewing the first few rows"
   ]
  },
  {
   "cell_type": "code",
   "execution_count": 37,
   "metadata": {
    "collapsed": false
   },
   "outputs": [
    {
     "data": {
      "text/html": [
       "<table>\n",
       "<thead><tr><th></th><th scope=col>2</th><th scope=col>1</th><th scope=col>3</th></tr></thead>\n",
       "<tbody>\n",
       "\t<tr><th scope=row>1</th><td>0.3558110</td><td>0.2104557</td><td>0.4337333</td></tr>\n",
       "\t<tr><th scope=row>2</th><td>0.3734630</td><td>0.2156931</td><td>0.4108439</td></tr>\n",
       "\t<tr><th scope=row>3</th><td>0.3558110</td><td>0.2104557</td><td>0.4337333</td></tr>\n",
       "\t<tr><th scope=row>4</th><td>0.3558110</td><td>0.2104557</td><td>0.4337333</td></tr>\n",
       "\t<tr><th scope=row>5</th><td>0.3558110</td><td>0.2104557</td><td>0.4337333</td></tr>\n",
       "\t<tr><th scope=row>6</th><td>0.3558110</td><td>0.2104557</td><td>0.4337333</td></tr>\n",
       "</tbody>\n",
       "</table>\n"
      ],
      "text/latex": [
       "\\begin{tabular}{r|lll}\n",
       "  & 2 & 1 & 3\\\\\n",
       "\\hline\n",
       "\t1 & 0.3558110 & 0.2104557 & 0.4337333\\\\\n",
       "\t2 & 0.3734630 & 0.2156931 & 0.4108439\\\\\n",
       "\t3 & 0.3558110 & 0.2104557 & 0.4337333\\\\\n",
       "\t4 & 0.3558110 & 0.2104557 & 0.4337333\\\\\n",
       "\t5 & 0.3558110 & 0.2104557 & 0.4337333\\\\\n",
       "\t6 & 0.3558110 & 0.2104557 & 0.4337333\\\\\n",
       "\\end{tabular}\n"
      ],
      "text/markdown": [
       "1. 0.355810973373258\n",
       "2. 0.373463023630101\n",
       "3. 0.355810973373258\n",
       "4. 0.355810973373258\n",
       "5. 0.355810973373258\n",
       "6. 0.355810973373258\n",
       "7. 0.210455734814248\n",
       "8. 0.215693053227197\n",
       "9. 0.210455734814248\n",
       "10. 0.210455734814248\n",
       "11. 0.210455734814248\n",
       "12. 0.210455734814248\n",
       "13. 0.433733291812494\n",
       "14. 0.410843923142702\n",
       "15. 0.433733291812494\n",
       "16. 0.433733291812494\n",
       "17. 0.433733291812494\n",
       "18. 0.433733291812494\n",
       "\n",
       "\n"
      ],
      "text/plain": [
       "         2         1         3\n",
       "1 0.355811 0.2104557 0.4337333\n",
       "2 0.373463 0.2156931 0.4108439\n",
       "3 0.355811 0.2104557 0.4337333\n",
       "4 0.355811 0.2104557 0.4337333\n",
       "5 0.355811 0.2104557 0.4337333\n",
       "6 0.355811 0.2104557 0.4337333"
      ]
     },
     "metadata": {},
     "output_type": "display_data"
    }
   ],
   "source": [
    "head(pp <- fitted(test))"
   ]
  },
  {
   "cell_type": "markdown",
   "metadata": {},
   "source": [
    "#### Fore easy input to LaTeX:"
   ]
  },
  {
   "cell_type": "code",
   "execution_count": 56,
   "metadata": {
    "collapsed": false
   },
   "outputs": [
    {
     "name": "stdout",
     "output_type": "stream",
     "text": [
      "\n",
      "% Table created by stargazer v.5.2 by Marek Hlavac, Harvard University. E-mail: hlavac at fas.harvard.edu\n",
      "% Date and time: Mon, Jun 20, 2016 - 17:50:00\n",
      "\\begin{table}[!htbp] \\centering \n",
      "  \\caption{} \n",
      "  \\label{} \n",
      "\\begin{tabular}{@{\\extracolsep{5pt}}lcc} \n",
      "\\\\[-1.8ex]\\hline \n",
      "\\hline \\\\[-1.8ex] \n",
      " & \\multicolumn{2}{c}{\\textit{Dependent variable:}} \\\\ \n",
      "\\cline{2-3} \n",
      "\\\\[-1.8ex] & 1 & 3 \\\\ \n",
      "\\\\[-1.8ex] & (1) & (2)\\\\ \n",
      "\\hline \\\\[-1.8ex] \n",
      " gender & 0.226$^{**}$ & $-$0.262$^{**}$ \\\\ \n",
      "  & (0.106) & (0.104) \\\\ \n",
      "  & & \\\\ \n",
      " grade & 0.165$^{**}$ & 0.063 \\\\ \n",
      "  & (0.066) & (0.064) \\\\ \n",
      "  & & \\\\ \n",
      " snap1 & 0.055 & $-$0.528$^{***}$ \\\\ \n",
      "  & (0.137) & (0.184) \\\\ \n",
      "  & & \\\\ \n",
      " snap2 & 0.649$^{***}$ & $-$0.307 \\\\ \n",
      "  & (0.194) & (0.281) \\\\ \n",
      "  & & \\\\ \n",
      " snap3 & $-$0.024 & $-$0.103 \\\\ \n",
      "  & (0.195) & (0.252) \\\\ \n",
      "  & & \\\\ \n",
      " snap4 & $-$0.167 & $-$0.061 \\\\ \n",
      "  & (0.240) & (0.329) \\\\ \n",
      "  & & \\\\ \n",
      " snap5 & $-$0.041 & 0.425 \\\\ \n",
      "  & (0.220) & (0.283) \\\\ \n",
      "  & & \\\\ \n",
      " snap6 & 0.173 & $-$0.488 \\\\ \n",
      "  & (0.204) & (0.298) \\\\ \n",
      "  & & \\\\ \n",
      " snap7 & $-$0.164 & $-$0.358 \\\\ \n",
      "  & (0.262) & (0.439) \\\\ \n",
      "  & & \\\\ \n",
      " snap8 & 0.287$^{**}$ & $-$0.314$^{**}$ \\\\ \n",
      "  & (0.128) & (0.150) \\\\ \n",
      "  & & \\\\ \n",
      " snap9 & 0.064 & $-$0.178 \\\\ \n",
      "  & (0.162) & (0.202) \\\\ \n",
      "  & & \\\\ \n",
      " Constant & $-$0.855$^{***}$ & 0.072 \\\\ \n",
      "  & (0.203) & (0.194) \\\\ \n",
      "  & & \\\\ \n",
      "\\hline \\\\[-1.8ex] \n",
      "Akaike Inf. Crit. & 5,058.108 & 5,058.108 \\\\ \n",
      "\\hline \n",
      "\\hline \\\\[-1.8ex] \n",
      "\\textit{Note:}  & \\multicolumn{2}{r}{$^{*}$p$<$0.1; $^{**}$p$<$0.05; $^{***}$p$<$0.01} \\\\ \n",
      "\\end{tabular} \n",
      "\\end{table} \n"
     ]
    },
    {
     "data": {
      "text/html": [
       "<table>\n",
       "<thead><tr><th></th><th scope=col>(Intercept)</th><th scope=col>gender</th><th scope=col>grade</th><th scope=col>snap1</th><th scope=col>snap2</th><th scope=col>snap3</th><th scope=col>snap4</th><th scope=col>snap5</th><th scope=col>snap6</th><th scope=col>snap7</th><th scope=col>snap8</th><th scope=col>snap9</th></tr></thead>\n",
       "<tbody>\n",
       "\t<tr><th scope=row>1</th><td>0.0000264753</td><td>0.0326285049</td><td>0.0120248910</td><td>0.6897146008</td><td>0.0008237812</td><td>0.9027510341</td><td>0.4860447980</td><td>0.8529311688</td><td>0.3972250004</td><td>0.5319993641</td><td>0.0243079335</td><td>0.6940870570</td></tr>\n",
       "\t<tr><th scope=row>3</th><td>0.70987203</td><td>0.01172641</td><td>0.32852240</td><td>0.00401672</td><td>0.27424319</td><td>0.68362472</td><td>0.85197838</td><td>0.13238911</td><td>0.10208461</td><td>0.41369189</td><td>0.03649273</td><td>0.37811214</td></tr>\n",
       "</tbody>\n",
       "</table>\n"
      ],
      "text/latex": [
       "\\begin{tabular}{r|llllllllllll}\n",
       "  & (Intercept) & gender & grade & snap1 & snap2 & snap3 & snap4 & snap5 & snap6 & snap7 & snap8 & snap9\\\\\n",
       "\\hline\n",
       "\t1 & 0.0000264753 & 0.0326285049 & 0.0120248910 & 0.6897146008 & 0.0008237812 & 0.9027510341 & 0.4860447980 & 0.8529311688 & 0.3972250004 & 0.5319993641 & 0.0243079335 & 0.6940870570\\\\\n",
       "\t3 & 0.70987203 & 0.01172641 & 0.32852240 & 0.00401672 & 0.27424319 & 0.68362472 & 0.85197838 & 0.13238911 & 0.10208461 & 0.41369189 & 0.03649273 & 0.37811214\\\\\n",
       "\\end{tabular}\n"
      ],
      "text/plain": [
       "% latex table generated in R 3.3.0 by xtable 1.8-2 package\n",
       "% Mon Jun 20 17:50:00 2016\n",
       "\\begin{table}[ht]\n",
       "\\centering\n",
       "\\begin{tabular}{rrrrrrrrrrrrr}\n",
       "  \\hline\n",
       " & (Intercept) & gender & grade & snap1 & snap2 & snap3 & snap4 & snap5 & snap6 & snap7 & snap8 & snap9 \\\\ \n",
       "  \\hline\n",
       "1 & 0.00 & 0.03 & 0.01 & 0.69 & 0.00 & 0.90 & 0.49 & 0.85 & 0.40 & 0.53 & 0.02 & 0.69 \\\\ \n",
       "  3 & 0.71 & 0.01 & 0.33 & 0.00 & 0.27 & 0.68 & 0.85 & 0.13 & 0.10 & 0.41 & 0.04 & 0.38 \\\\ \n",
       "   \\hline\n",
       "\\end{tabular}\n",
       "\\end{table}"
      ]
     },
     "metadata": {},
     "output_type": "display_data"
    },
    {
     "data": {
      "text/html": [
       "<table>\n",
       "<thead><tr><th></th><th scope=col>(Intercept)</th><th scope=col>gender</th><th scope=col>grade</th><th scope=col>snap1</th><th scope=col>snap2</th><th scope=col>snap3</th><th scope=col>snap4</th><th scope=col>snap5</th><th scope=col>snap6</th><th scope=col>snap7</th><th scope=col>snap8</th><th scope=col>snap9</th></tr></thead>\n",
       "<tbody>\n",
       "\t<tr><th scope=row>1</th><td>0.4252774</td><td>1.2531253</td><td>1.1793279</td><td>1.0564141</td><td>1.9135819</td><td>0.9764435</td><td>0.8460764</td><td>0.9599812</td><td>1.1883803</td><td>0.8490056</td><td>1.3326600</td><td>1.0658899</td></tr>\n",
       "\t<tr><th scope=row>3</th><td>1.0749114</td><td>0.7694870</td><td>1.0649161</td><td>0.5895394</td><td>0.7354284</td><td>0.9024556</td><td>0.9405309</td><td>1.5298849</td><td>0.6139102</td><td>0.6987555</td><td>0.7307550</td><td>0.8372738</td></tr>\n",
       "</tbody>\n",
       "</table>\n"
      ],
      "text/latex": [
       "\\begin{tabular}{r|llllllllllll}\n",
       "  & (Intercept) & gender & grade & snap1 & snap2 & snap3 & snap4 & snap5 & snap6 & snap7 & snap8 & snap9\\\\\n",
       "\\hline\n",
       "\t1 & 0.4252774 & 1.2531253 & 1.1793279 & 1.0564141 & 1.9135819 & 0.9764435 & 0.8460764 & 0.9599812 & 1.1883803 & 0.8490056 & 1.3326600 & 1.0658899\\\\\n",
       "\t3 & 1.0749114 & 0.7694870 & 1.0649161 & 0.5895394 & 0.7354284 & 0.9024556 & 0.9405309 & 1.5298849 & 0.6139102 & 0.6987555 & 0.7307550 & 0.8372738\\\\\n",
       "\\end{tabular}\n"
      ],
      "text/plain": [
       "% latex table generated in R 3.3.0 by xtable 1.8-2 package\n",
       "% Mon Jun 20 17:50:00 2016\n",
       "\\begin{table}[ht]\n",
       "\\centering\n",
       "\\begin{tabular}{rrrrrrrrrrrrr}\n",
       "  \\hline\n",
       " & (Intercept) & gender & grade & snap1 & snap2 & snap3 & snap4 & snap5 & snap6 & snap7 & snap8 & snap9 \\\\ \n",
       "  \\hline\n",
       "1 & 0.43 & 1.25 & 1.18 & 1.06 & 1.91 & 0.98 & 0.85 & 0.96 & 1.19 & 0.85 & 1.33 & 1.07 \\\\ \n",
       "  3 & 1.07 & 0.77 & 1.06 & 0.59 & 0.74 & 0.90 & 0.94 & 1.53 & 0.61 & 0.70 & 0.73 & 0.84 \\\\ \n",
       "   \\hline\n",
       "\\end{tabular}\n",
       "\\end{table}"
      ]
     },
     "metadata": {},
     "output_type": "display_data"
    }
   ],
   "source": [
    "library(stargazer)\n",
    "library(xtable)\n",
    "stargazer(test)\n",
    "# stargazer(p)\n",
    "# stargazer(c)\n",
    "xtable(p)\n",
    "xtable(c)"
   ]
  },
  {
   "cell_type": "markdown",
   "metadata": {},
   "source": [
    "### Using an alternative implementation of MLR - mlogit"
   ]
  },
  {
   "cell_type": "markdown",
   "metadata": {},
   "source": [
    "Multinomial logistic regression is used in the present study where we include a set of explanatory variables on a nominal level - the three levels of academic achievement scores - and the nine inattention items, gender and age as predictors. It is exploratory, in that we have no prior assumption regarding the weights of these items. In other words, the analysis investigates if a prediction can come from one or a limited set of items. \n",
    "To obtain this, the multinomial logistic regression model relates a set of explanatory variables $x_1, \\ldots, x_p$ to a set of log-odds $\\log(\\pi_2/\\pi_1), \\ldots \\log(\\pi_J/\\pi_1)$ according to\n",
    "\n",
    "$$\\log(\\pi_j/\\pi_1) = \\beta_{j0} + \\beta_{j1} x_1 + \\cdots + \\beta_{jp} x_p$$\n",
    "\n",
    "\n",
    "for $j=2,\\ldots,J$. Here, $j = 1$ represents the base level category, \n",
    "$\\pi_j = P(\\mbox{academic achievement level} = j)$, $\\pi_j/\\pi_{j'}$ denotes the odds of category $j$ relative to $j'$, and $\\sum_{j=1}^J \\pi_j = 1$ (see e.g. Bilder, 2015 for details).\n",
    "\n",
    "In our case, we let the base level category $j=1$ be the _high_ (=3) mean academic achievement.\n",
    "For computations we used the _multinom()_ function in the R package _nnet_.\n"
   ]
  },
  {
   "cell_type": "code",
   "execution_count": 39,
   "metadata": {
    "collapsed": false
   },
   "outputs": [],
   "source": [
    "library(mlogit)"
   ]
  },
  {
   "cell_type": "markdown",
   "metadata": {},
   "source": [
    "We need to modify the data so that the multinomial logistic regression\n",
    "function can process it. To do this, we need to expand the outcome variable\n",
    "(y) much like we would for dummy coding a categorical variable for\n",
    "inclusion in standard multiple regression."
   ]
  },
  {
   "cell_type": "code",
   "execution_count": 59,
   "metadata": {
    "collapsed": false
   },
   "outputs": [
    {
     "data": {
      "text/plain": [
       "     gender          grade           snap1            snap2       \n",
       " Min.   :0.000   Min.   :2.000   Min.   :0.0000   Min.   :0.0000  \n",
       " 1st Qu.:0.000   1st Qu.:2.000   1st Qu.:0.0000   1st Qu.:0.0000  \n",
       " Median :0.000   Median :3.000   Median :0.0000   Median :0.0000  \n",
       " Mean   :0.476   Mean   :2.814   Mean   :0.1519   Mean   :0.1377  \n",
       " 3rd Qu.:1.000   3rd Qu.:3.000   3rd Qu.:0.0000   3rd Qu.:0.0000  \n",
       " Max.   :1.000   Max.   :4.000   Max.   :2.0000   Max.   :2.0000  \n",
       "     snap3             snap4             snap5             snap6        \n",
       " Min.   :0.00000   Min.   :0.00000   Min.   :0.00000   Min.   :0.00000  \n",
       " 1st Qu.:0.00000   1st Qu.:0.00000   1st Qu.:0.00000   1st Qu.:0.00000  \n",
       " Median :0.00000   Median :0.00000   Median :0.00000   Median :0.00000  \n",
       " Mean   :0.08803   Mean   :0.08177   Mean   :0.09929   Mean   :0.09762  \n",
       " 3rd Qu.:0.00000   3rd Qu.:0.00000   3rd Qu.:0.00000   3rd Qu.:0.00000  \n",
       " Max.   :2.00000   Max.   :2.00000   Max.   :2.00000   Max.   :2.00000  \n",
       "     snap7             snap8            snap9        averBinned\n",
       " Min.   :0.00000   Min.   :0.0000   Min.   :0.0000   1:779     \n",
       " 1st Qu.:0.00000   1st Qu.:0.0000   1st Qu.:0.0000   2:818     \n",
       " Median :0.00000   Median :0.0000   Median :0.0000   3:800     \n",
       " Mean   :0.04047   Mean   :0.2904   Mean   :0.1176             \n",
       " 3rd Qu.:0.00000   3rd Qu.:1.0000   3rd Qu.:0.0000             \n",
       " Max.   :2.00000   Max.   :2.0000   Max.   :2.0000             \n",
       " AverageMarksLevel3\n",
       " 2:818             \n",
       " 1:779             \n",
       " 3:800             \n",
       "                   \n",
       "                   \n",
       "                   "
      ]
     },
     "metadata": {},
     "output_type": "display_data"
    }
   ],
   "source": [
    "data1 <- data\n",
    "data1$averBinned <- as.factor(data1$averBinned)\n",
    "summary(data1)\n",
    "data2 <- mlogit.data(data1, varying=NULL, choice=\"averBinned\", shape=\"wide\")"
   ]
  },
  {
   "cell_type": "code",
   "execution_count": 41,
   "metadata": {
    "collapsed": false
   },
   "outputs": [
    {
     "data": {
      "text/html": [
       "<table>\n",
       "<thead><tr><th></th><th scope=col>gender</th><th scope=col>grade</th><th scope=col>snap1</th><th scope=col>snap2</th><th scope=col>snap3</th><th scope=col>snap4</th><th scope=col>snap5</th><th scope=col>snap6</th><th scope=col>snap7</th><th scope=col>snap8</th><th scope=col>snap9</th><th scope=col>averBinned</th><th scope=col>AverageMarksLevel3</th><th scope=col>chid</th><th scope=col>alt</th></tr></thead>\n",
       "<tbody>\n",
       "\t<tr><th scope=row>1.1</th><td>0    </td><td>2    </td><td>0    </td><td>0    </td><td>0    </td><td>0    </td><td>0    </td><td>0    </td><td>0    </td><td>0    </td><td>0    </td><td>FALSE</td><td>3    </td><td>1    </td><td>1    </td></tr>\n",
       "\t<tr><th scope=row>1.2</th><td>0    </td><td>2    </td><td>0    </td><td>0    </td><td>0    </td><td>0    </td><td>0    </td><td>0    </td><td>0    </td><td>0    </td><td>0    </td><td>FALSE</td><td>3    </td><td>1    </td><td>2    </td></tr>\n",
       "\t<tr><th scope=row>1.3</th><td>0   </td><td>2   </td><td>0   </td><td>0   </td><td>0   </td><td>0   </td><td>0   </td><td>0   </td><td>0   </td><td>0   </td><td>0   </td><td>TRUE</td><td>3   </td><td>1   </td><td>3   </td></tr>\n",
       "\t<tr><th scope=row>2.1</th><td>0   </td><td>2   </td><td>0   </td><td>0   </td><td>1   </td><td>0   </td><td>0   </td><td>0   </td><td>0   </td><td>0   </td><td>0   </td><td>TRUE</td><td>1   </td><td>2   </td><td>1   </td></tr>\n",
       "\t<tr><th scope=row>2.2</th><td>0    </td><td>2    </td><td>0    </td><td>0    </td><td>1    </td><td>0    </td><td>0    </td><td>0    </td><td>0    </td><td>0    </td><td>0    </td><td>FALSE</td><td>1    </td><td>2    </td><td>2    </td></tr>\n",
       "\t<tr><th scope=row>2.3</th><td>0    </td><td>2    </td><td>0    </td><td>0    </td><td>1    </td><td>0    </td><td>0    </td><td>0    </td><td>0    </td><td>0    </td><td>0    </td><td>FALSE</td><td>1    </td><td>2    </td><td>3    </td></tr>\n",
       "</tbody>\n",
       "</table>\n"
      ],
      "text/latex": [
       "\\begin{tabular}{r|lllllllllllllll}\n",
       "  & gender & grade & snap1 & snap2 & snap3 & snap4 & snap5 & snap6 & snap7 & snap8 & snap9 & averBinned & AverageMarksLevel3 & chid & alt\\\\\n",
       "\\hline\n",
       "\t1.1 & 0     & 2     & 0     & 0     & 0     & 0     & 0     & 0     & 0     & 0     & 0     & FALSE & 3     & 1     & 1    \\\\\n",
       "\t1.2 & 0     & 2     & 0     & 0     & 0     & 0     & 0     & 0     & 0     & 0     & 0     & FALSE & 3     & 1     & 2    \\\\\n",
       "\t1.3 & 0    & 2    & 0    & 0    & 0    & 0    & 0    & 0    & 0    & 0    & 0    & TRUE & 3    & 1    & 3   \\\\\n",
       "\t2.1 & 0    & 2    & 0    & 0    & 1    & 0    & 0    & 0    & 0    & 0    & 0    & TRUE & 1    & 2    & 1   \\\\\n",
       "\t2.2 & 0     & 2     & 0     & 0     & 1     & 0     & 0     & 0     & 0     & 0     & 0     & FALSE & 1     & 2     & 2    \\\\\n",
       "\t2.3 & 0     & 2     & 0     & 0     & 1     & 0     & 0     & 0     & 0     & 0     & 0     & FALSE & 1     & 2     & 3    \\\\\n",
       "\\end{tabular}\n"
      ],
      "text/plain": [
       "    gender grade snap1 snap2 snap3 snap4 snap5 snap6 snap7 snap8 snap9\n",
       "1.1      0     2     0     0     0     0     0     0     0     0     0\n",
       "1.2      0     2     0     0     0     0     0     0     0     0     0\n",
       "1.3      0     2     0     0     0     0     0     0     0     0     0\n",
       "2.1      0     2     0     0     1     0     0     0     0     0     0\n",
       "2.2      0     2     0     0     1     0     0     0     0     0     0\n",
       "2.3      0     2     0     0     1     0     0     0     0     0     0\n",
       "    averBinned AverageMarksLevel3 chid alt\n",
       "1.1      FALSE                  3    1   1\n",
       "1.2      FALSE                  3    1   2\n",
       "1.3       TRUE                  3    1   3\n",
       "2.1       TRUE                  1    2   1\n",
       "2.2      FALSE                  1    2   2\n",
       "2.3      FALSE                  1    2   3"
      ]
     },
     "metadata": {},
     "output_type": "display_data"
    }
   ],
   "source": [
    "head(data2)"
   ]
  },
  {
   "cell_type": "markdown",
   "metadata": {},
   "source": [
    "Now we can proceed with the multinomial logistic regression analysis using\n",
    "the ‘mlogit’ function and the ubiquitous ‘summary’ function of the results.\n",
    "Note that the reference category is specified as “high” (2, where the levels are 0,1,2)."
   ]
  },
  {
   "cell_type": "code",
   "execution_count": 42,
   "metadata": {
    "collapsed": true
   },
   "outputs": [],
   "source": [
    "model.1 <- mlogit(averBinned ~ 1 | gender+grade +\n",
    "                    snap1+snap2+snap3+snap4+snap5+snap6+snap7+snap8+snap9,\n",
    "                    data = data2,\n",
    "                    reflevel=\"2\")    # reflevel = \"high\")"
   ]
  },
  {
   "cell_type": "code",
   "execution_count": 52,
   "metadata": {
    "collapsed": false
   },
   "outputs": [
    {
     "data": {
      "text/plain": [
       "\n",
       "Call:\n",
       "mlogit(formula = averBinned ~ 1 | gender + grade + snap1 + snap2 +     snap3 + snap4 + snap5 + snap6 + snap7 + snap8 + snap9, data = data2,     reflevel = \"2\", method = \"nr\", print.level = 0)\n",
       "\n",
       "Coefficients:\n",
       "1:(intercept)  3:(intercept)       1:gender       3:gender        1:grade  \n",
       "    -0.855070       0.072173       0.225644      -0.262022       0.164967  \n",
       "      3:grade        1:snap1        3:snap1        1:snap2        3:snap2  \n",
       "     0.062916       0.054873      -0.528499       0.648952      -0.307387  \n",
       "      1:snap3        3:snap3        1:snap4        3:snap4        1:snap5  \n",
       "    -0.023862      -0.102657      -0.167112      -0.061322      -0.040826  \n",
       "      3:snap5        1:snap6        3:snap6        1:snap7        3:snap7  \n",
       "     0.425170       0.172596      -0.488041      -0.163634      -0.358521  \n",
       "      1:snap8        3:snap8        1:snap9        3:snap9  \n",
       "     0.287184      -0.313667       0.063822      -0.177681  \n"
      ]
     },
     "metadata": {},
     "output_type": "display_data"
    }
   ],
   "source": [
    "model.1"
   ]
  },
  {
   "cell_type": "code",
   "execution_count": 43,
   "metadata": {
    "collapsed": false
   },
   "outputs": [
    {
     "data": {
      "text/plain": [
       "\n",
       "Call:\n",
       "mlogit(formula = averBinned ~ 1 | gender + grade + snap1 + snap2 + \n",
       "    snap3 + snap4 + snap5 + snap6 + snap7 + snap8 + snap9, data = data2, \n",
       "    reflevel = \"2\", method = \"nr\", print.level = 0)\n",
       "\n",
       "Frequencies of alternatives:\n",
       "      2       1       3 \n",
       "0.34126 0.32499 0.33375 \n",
       "\n",
       "nr method\n",
       "5 iterations, 0h:0m:0s \n",
       "g'(-H)^-1g = 4.51E-07 \n",
       "gradient close to zero \n",
       "\n",
       "Coefficients :\n",
       "               Estimate Std. Error t-value  Pr(>|t|)    \n",
       "1:(intercept) -0.855070   0.203485 -4.2021 2.644e-05 ***\n",
       "3:(intercept)  0.072173   0.194175  0.3717 0.7101245    \n",
       "1:gender       0.225644   0.105606  2.1367 0.0326256 *  \n",
       "3:gender      -0.262022   0.103970 -2.5202 0.0117297 *  \n",
       "1:grade        0.164967   0.065678  2.5118 0.0120133 *  \n",
       "3:grade        0.062916   0.064371  0.9774 0.3283691    \n",
       "1:snap1        0.054873   0.137460  0.3992 0.6897525    \n",
       "3:snap1       -0.528499   0.183686 -2.8772 0.0040124 ** \n",
       "1:snap2        0.648952   0.194031  3.3446 0.0008241 ***\n",
       "3:snap2       -0.307387   0.281080 -1.0936 0.2741337    \n",
       "1:snap3       -0.023862   0.195096 -0.1223 0.9026535    \n",
       "3:snap3       -0.102657   0.251862 -0.4076 0.6835717    \n",
       "1:snap4       -0.167112   0.239938 -0.6965 0.4861282    \n",
       "3:snap4       -0.061322   0.328594 -0.1866 0.8519585    \n",
       "1:snap5       -0.040826   0.220311 -0.1853 0.8529870    \n",
       "3:snap5        0.425170   0.282578  1.5046 0.1324244    \n",
       "1:snap6        0.172596   0.203865  0.8466 0.3972085    \n",
       "3:snap6       -0.488041   0.298466 -1.6352 0.1020148    \n",
       "1:snap7       -0.163634   0.261920 -0.6247 0.5321364    \n",
       "3:snap7       -0.358521   0.438573 -0.8175 0.4136592    \n",
       "1:snap8        0.287184   0.127507  2.2523 0.0243038 *  \n",
       "3:snap8       -0.313667   0.149987 -2.0913 0.0365021 *  \n",
       "1:snap9        0.063822   0.162235  0.3934 0.6940313    \n",
       "3:snap9       -0.177681   0.201514 -0.8817 0.3779220    \n",
       "---\n",
       "Signif. codes:  0 ‘***’ 0.001 ‘**’ 0.01 ‘*’ 0.05 ‘.’ 0.1 ‘ ’ 1\n",
       "\n",
       "Log-Likelihood: -2505.1\n",
       "McFadden R^2:  0.048556 \n",
       "Likelihood ratio test : chisq = 255.68 (p.value = < 2.22e-16)"
      ]
     },
     "metadata": {},
     "output_type": "display_data"
    }
   ],
   "source": [
    "summary(model.1)"
   ]
  },
  {
   "cell_type": "code",
   "execution_count": 44,
   "metadata": {
    "collapsed": false
   },
   "outputs": [
    {
     "name": "stdout",
     "output_type": "stream",
     "text": [
      "   Min. 1st Qu.  Median    Mean 3rd Qu.    Max. \n",
      " 0.4253  0.7610  0.9503  0.9806  1.1010  1.9140 \n"
     ]
    },
    {
     "data": {
      "text/html": [
       "<dl class=dl-horizontal>\n",
       "\t<dt>1:(intercept)</dt>\n",
       "\t\t<dd>0.425253628687473</dd>\n",
       "\t<dt>3:(intercept)</dt>\n",
       "\t\t<dd>1.07484100191092</dd>\n",
       "\t<dt>1:gender</dt>\n",
       "\t\t<dd>1.25312892618358</dd>\n",
       "\t<dt>3:gender</dt>\n",
       "\t\t<dd>0.76949387878022</dd>\n",
       "\t<dt>1:grade</dt>\n",
       "\t\t<dd>1.17935364483204</dd>\n",
       "\t<dt>3:grade</dt>\n",
       "\t\t<dd>1.06493770502105</dd>\n",
       "\t<dt>1:snap1</dt>\n",
       "\t\t<dd>1.05640615259593</dd>\n",
       "\t<dt>3:snap1</dt>\n",
       "\t\t<dd>0.58948885954704</dd>\n",
       "\t<dt>1:snap2</dt>\n",
       "\t\t<dd>1.91353434448301</dd>\n",
       "\t<dt>3:snap2</dt>\n",
       "\t\t<dd>0.735365604153895</dd>\n",
       "\t<dt>1:snap3</dt>\n",
       "\t\t<dd>0.976420198741055</dd>\n",
       "\t<dt>3:snap3</dt>\n",
       "\t\t<dd>0.902436103369771</dd>\n",
       "\t<dt>1:snap4</dt>\n",
       "\t\t<dd>0.846104605359386</dd>\n",
       "\t<dt>3:snap4</dt>\n",
       "\t\t<dd>0.940520130817491</dd>\n",
       "\t<dt>1:snap5</dt>\n",
       "\t\t<dd>0.959996619575903</dd>\n",
       "\t<dt>3:snap5</dt>\n",
       "\t\t<dd>1.5298506181826</dd>\n",
       "\t<dt>1:snap6</dt>\n",
       "\t\t<dd>1.18838550521038</dd>\n",
       "\t<dt>3:snap6</dt>\n",
       "\t\t<dd>0.613827683333499</dd>\n",
       "\t<dt>1:snap7</dt>\n",
       "\t\t<dd>0.849052702724094</dd>\n",
       "\t<dt>3:snap7</dt>\n",
       "\t\t<dd>0.698709058686119</dd>\n",
       "\t<dt>1:snap8</dt>\n",
       "\t\t<dd>1.33266949371927</dd>\n",
       "\t<dt>3:snap8</dt>\n",
       "\t\t<dd>0.730762644405148</dd>\n",
       "\t<dt>1:snap9</dt>\n",
       "\t\t<dd>1.0659022436817</dd>\n",
       "\t<dt>3:snap9</dt>\n",
       "\t\t<dd>0.837209111112812</dd>\n",
       "</dl>\n"
      ],
      "text/latex": [
       "\\begin{description*}\n",
       "\\item[1:(intercept)] 0.425253628687473\n",
       "\\item[3:(intercept)] 1.07484100191092\n",
       "\\item[1:gender] 1.25312892618358\n",
       "\\item[3:gender] 0.76949387878022\n",
       "\\item[1:grade] 1.17935364483204\n",
       "\\item[3:grade] 1.06493770502105\n",
       "\\item[1:snap1] 1.05640615259593\n",
       "\\item[3:snap1] 0.58948885954704\n",
       "\\item[1:snap2] 1.91353434448301\n",
       "\\item[3:snap2] 0.735365604153895\n",
       "\\item[1:snap3] 0.976420198741055\n",
       "\\item[3:snap3] 0.902436103369771\n",
       "\\item[1:snap4] 0.846104605359386\n",
       "\\item[3:snap4] 0.940520130817491\n",
       "\\item[1:snap5] 0.959996619575903\n",
       "\\item[3:snap5] 1.5298506181826\n",
       "\\item[1:snap6] 1.18838550521038\n",
       "\\item[3:snap6] 0.613827683333499\n",
       "\\item[1:snap7] 0.849052702724094\n",
       "\\item[3:snap7] 0.698709058686119\n",
       "\\item[1:snap8] 1.33266949371927\n",
       "\\item[3:snap8] 0.730762644405148\n",
       "\\item[1:snap9] 1.0659022436817\n",
       "\\item[3:snap9] 0.837209111112812\n",
       "\\end{description*}\n"
      ],
      "text/markdown": [
       "1:(intercept)\n",
       ":   0.4252536286874733:(intercept)\n",
       ":   1.074841001910921:gender\n",
       ":   1.253128926183583:gender\n",
       ":   0.769493878780221:grade\n",
       ":   1.179353644832043:grade\n",
       ":   1.064937705021051:snap1\n",
       ":   1.056406152595933:snap1\n",
       ":   0.589488859547041:snap2\n",
       ":   1.913534344483013:snap2\n",
       ":   0.7353656041538951:snap3\n",
       ":   0.9764201987410553:snap3\n",
       ":   0.9024361033697711:snap4\n",
       ":   0.8461046053593863:snap4\n",
       ":   0.9405201308174911:snap5\n",
       ":   0.9599966195759033:snap5\n",
       ":   1.52985061818261:snap6\n",
       ":   1.188385505210383:snap6\n",
       ":   0.6138276833334991:snap7\n",
       ":   0.8490527027240943:snap7\n",
       ":   0.6987090586861191:snap8\n",
       ":   1.332669493719273:snap8\n",
       ":   0.7307626444051481:snap9\n",
       ":   1.06590224368173:snap9\n",
       ":   0.837209111112812\n",
       "\n"
      ],
      "text/plain": [
       "1:(intercept) 3:(intercept)      1:gender      3:gender       1:grade \n",
       "    0.4252536     1.0748410     1.2531289     0.7694939     1.1793536 \n",
       "      3:grade       1:snap1       3:snap1       1:snap2       3:snap2 \n",
       "    1.0649377     1.0564062     0.5894889     1.9135343     0.7353656 \n",
       "      1:snap3       3:snap3       1:snap4       3:snap4       1:snap5 \n",
       "    0.9764202     0.9024361     0.8461046     0.9405201     0.9599966 \n",
       "      3:snap5       1:snap6       3:snap6       1:snap7       3:snap7 \n",
       "    1.5298506     1.1883855     0.6138277     0.8490527     0.6987091 \n",
       "      1:snap8       3:snap8       1:snap9       3:snap9 \n",
       "    1.3326695     0.7307626     1.0659022     0.8372091 \n",
       "attr(,\"fixed\")\n",
       "1:(intercept) 3:(intercept)      1:gender      3:gender       1:grade \n",
       "        FALSE         FALSE         FALSE         FALSE         FALSE \n",
       "      3:grade       1:snap1       3:snap1       1:snap2       3:snap2 \n",
       "        FALSE         FALSE         FALSE         FALSE         FALSE \n",
       "      1:snap3       3:snap3       1:snap4       3:snap4       1:snap5 \n",
       "        FALSE         FALSE         FALSE         FALSE         FALSE \n",
       "      3:snap5       1:snap6       3:snap6       1:snap7       3:snap7 \n",
       "        FALSE         FALSE         FALSE         FALSE         FALSE \n",
       "      1:snap8       3:snap8       1:snap9       3:snap9 \n",
       "        FALSE         FALSE         FALSE         FALSE "
      ]
     },
     "metadata": {},
     "output_type": "display_data"
    }
   ],
   "source": [
    "b <- exp(coef(model.1))\n",
    "print(summary(b))\n",
    "b"
   ]
  },
  {
   "cell_type": "code",
   "execution_count": 45,
   "metadata": {
    "collapsed": false
   },
   "outputs": [
    {
     "data": {
      "text/html": [
       "<ol class=list-inline>\n",
       "\t<li>'gender'</li>\n",
       "\t<li>'grade'</li>\n",
       "\t<li>'snap1'</li>\n",
       "\t<li>'snap2'</li>\n",
       "\t<li>'snap3'</li>\n",
       "\t<li>'snap4'</li>\n",
       "\t<li>'snap5'</li>\n",
       "\t<li>'snap6'</li>\n",
       "\t<li>'snap7'</li>\n",
       "\t<li>'snap8'</li>\n",
       "\t<li>'snap9'</li>\n",
       "\t<li>'averBinned'</li>\n",
       "\t<li>'AverageMarksLevel3'</li>\n",
       "</ol>\n"
      ],
      "text/latex": [
       "\\begin{enumerate*}\n",
       "\\item 'gender'\n",
       "\\item 'grade'\n",
       "\\item 'snap1'\n",
       "\\item 'snap2'\n",
       "\\item 'snap3'\n",
       "\\item 'snap4'\n",
       "\\item 'snap5'\n",
       "\\item 'snap6'\n",
       "\\item 'snap7'\n",
       "\\item 'snap8'\n",
       "\\item 'snap9'\n",
       "\\item 'averBinned'\n",
       "\\item 'AverageMarksLevel3'\n",
       "\\end{enumerate*}\n"
      ],
      "text/markdown": [
       "1. 'gender'\n",
       "2. 'grade'\n",
       "3. 'snap1'\n",
       "4. 'snap2'\n",
       "5. 'snap3'\n",
       "6. 'snap4'\n",
       "7. 'snap5'\n",
       "8. 'snap6'\n",
       "9. 'snap7'\n",
       "10. 'snap8'\n",
       "11. 'snap9'\n",
       "12. 'averBinned'\n",
       "13. 'AverageMarksLevel3'\n",
       "\n",
       "\n"
      ],
      "text/plain": [
       " [1] \"gender\"             \"grade\"              \"snap1\"             \n",
       " [4] \"snap2\"              \"snap3\"              \"snap4\"             \n",
       " [7] \"snap5\"              \"snap6\"              \"snap7\"             \n",
       "[10] \"snap8\"              \"snap9\"              \"averBinned\"        \n",
       "[13] \"AverageMarksLevel3\""
      ]
     },
     "metadata": {},
     "output_type": "display_data"
    }
   ],
   "source": [
    "names(data)"
   ]
  },
  {
   "cell_type": "code",
   "execution_count": 46,
   "metadata": {
    "collapsed": false
   },
   "outputs": [
    {
     "data": {
      "text/html": [
       "<table>\n",
       "<thead><tr><th></th><th scope=col>gender</th><th scope=col>grade</th><th scope=col>snap1</th><th scope=col>snap2</th><th scope=col>snap3</th><th scope=col>snap4</th><th scope=col>snap5</th><th scope=col>snap6</th><th scope=col>snap7</th><th scope=col>snap8</th><th scope=col>snap9</th><th scope=col>averBinned</th><th scope=col>AverageMarksLevel3</th></tr></thead>\n",
       "<tbody>\n",
       "\t<tr><th scope=row>1</th><td>0</td><td>2</td><td>0</td><td>0</td><td>0</td><td>0</td><td>0</td><td>0</td><td>0</td><td>0</td><td>0</td><td>3</td><td>3</td></tr>\n",
       "\t<tr><th scope=row>2</th><td>0</td><td>2</td><td>0</td><td>0</td><td>1</td><td>0</td><td>0</td><td>0</td><td>0</td><td>0</td><td>0</td><td>1</td><td>1</td></tr>\n",
       "\t<tr><th scope=row>3</th><td>0</td><td>2</td><td>0</td><td>0</td><td>0</td><td>0</td><td>0</td><td>0</td><td>0</td><td>0</td><td>0</td><td>2</td><td>2</td></tr>\n",
       "\t<tr><th scope=row>4</th><td>0</td><td>2</td><td>0</td><td>0</td><td>0</td><td>0</td><td>0</td><td>0</td><td>0</td><td>0</td><td>0</td><td>2</td><td>2</td></tr>\n",
       "\t<tr><th scope=row>5</th><td>0</td><td>2</td><td>0</td><td>0</td><td>0</td><td>0</td><td>0</td><td>0</td><td>0</td><td>0</td><td>0</td><td>2</td><td>2</td></tr>\n",
       "\t<tr><th scope=row>6</th><td>0</td><td>2</td><td>0</td><td>0</td><td>0</td><td>0</td><td>0</td><td>0</td><td>0</td><td>0</td><td>0</td><td>2</td><td>2</td></tr>\n",
       "</tbody>\n",
       "</table>\n"
      ],
      "text/latex": [
       "\\begin{tabular}{r|lllllllllllll}\n",
       "  & gender & grade & snap1 & snap2 & snap3 & snap4 & snap5 & snap6 & snap7 & snap8 & snap9 & averBinned & AverageMarksLevel3\\\\\n",
       "\\hline\n",
       "\t1 & 0 & 2 & 0 & 0 & 0 & 0 & 0 & 0 & 0 & 0 & 0 & 3 & 3\\\\\n",
       "\t2 & 0 & 2 & 0 & 0 & 1 & 0 & 0 & 0 & 0 & 0 & 0 & 1 & 1\\\\\n",
       "\t3 & 0 & 2 & 0 & 0 & 0 & 0 & 0 & 0 & 0 & 0 & 0 & 2 & 2\\\\\n",
       "\t4 & 0 & 2 & 0 & 0 & 0 & 0 & 0 & 0 & 0 & 0 & 0 & 2 & 2\\\\\n",
       "\t5 & 0 & 2 & 0 & 0 & 0 & 0 & 0 & 0 & 0 & 0 & 0 & 2 & 2\\\\\n",
       "\t6 & 0 & 2 & 0 & 0 & 0 & 0 & 0 & 0 & 0 & 0 & 0 & 2 & 2\\\\\n",
       "\\end{tabular}\n"
      ],
      "text/plain": [
       "  gender grade snap1 snap2 snap3 snap4 snap5 snap6 snap7 snap8 snap9 averBinned\n",
       "1      0     2     0     0     0     0     0     0     0     0     0          3\n",
       "2      0     2     0     0     1     0     0     0     0     0     0          1\n",
       "3      0     2     0     0     0     0     0     0     0     0     0          2\n",
       "4      0     2     0     0     0     0     0     0     0     0     0          2\n",
       "5      0     2     0     0     0     0     0     0     0     0     0          2\n",
       "6      0     2     0     0     0     0     0     0     0     0     0          2\n",
       "  AverageMarksLevel3\n",
       "1                  3\n",
       "2                  1\n",
       "3                  2\n",
       "4                  2\n",
       "5                  2\n",
       "6                  2"
      ]
     },
     "metadata": {},
     "output_type": "display_data"
    }
   ],
   "source": [
    "head(data)"
   ]
  },
  {
   "cell_type": "markdown",
   "metadata": {},
   "source": [
    "Testing"
   ]
  },
  {
   "cell_type": "code",
   "execution_count": 47,
   "metadata": {
    "collapsed": false
   },
   "outputs": [
    {
     "data": {
      "image/png": "[encoded data removed]",
      "image/svg+xml": [
       "<?xml version=\"1.0\" encoding=\"UTF-8\"?>\n",
       "<svg xmlns=\"http://www.w3.org/2000/svg\" xmlns:xlink=\"http://www.w3.org/1999/xlink\" width=\"504pt\" height=\"504pt\" viewBox=\"0 0 504 504\" version=\"1.1\">\n",
       "<defs>\n",
       "<g>\n",
       "<symbol overflow=\"visible\" id=\"glyph0-0\">\n",
       "<path style=\"stroke:none;\" d=\"M 0.40625 0 L 0.40625 -8.96875 L 7.515625 -8.96875 L 7.515625 0 Z M 6.390625 -1.125 L 6.390625 -7.84375 L 1.53125 -7.84375 L 1.53125 -1.125 Z \"/>\n",
       "</symbol>\n",
       "<symbol overflow=\"visible\" id=\"glyph0-1\">\n",
       "<path style=\"stroke:none;\" d=\"M 0.515625 -4.046875 L 3.578125 -4.046875 L 3.578125 -2.921875 L 0.515625 -2.921875 Z \"/>\n",
       "</symbol>\n",
       "<symbol overflow=\"visible\" id=\"glyph0-2\">\n",
       "<path style=\"stroke:none;\" d=\"M 1.203125 -6.1875 L 1.203125 -7.03125 C 1.992188 -7.101562 2.546875 -7.226562 2.859375 -7.40625 C 3.171875 -7.59375 3.40625 -8.023438 3.5625 -8.703125 L 4.421875 -8.703125 L 4.421875 0 L 3.25 0 L 3.25 -6.1875 Z \"/>\n",
       "</symbol>\n",
       "<symbol overflow=\"visible\" id=\"glyph0-3\">\n",
       "<path style=\"stroke:none;\" d=\"M 1.0625 -1.328125 L 2.34375 -1.328125 L 2.34375 0 L 1.0625 0 Z \"/>\n",
       "</symbol>\n",
       "<symbol overflow=\"visible\" id=\"glyph0-4\">\n",
       "<path style=\"stroke:none;\" d=\"M 3.375 -8.734375 C 4.507812 -8.734375 5.328125 -8.269531 5.828125 -7.34375 C 6.222656 -6.625 6.421875 -5.632812 6.421875 -4.375 C 6.421875 -3.1875 6.242188 -2.207031 5.890625 -1.4375 C 5.378906 -0.320312 4.539062 0.234375 3.375 0.234375 C 2.320312 0.234375 1.539062 -0.21875 1.03125 -1.125 C 0.601562 -1.882812 0.390625 -2.90625 0.390625 -4.1875 C 0.390625 -5.1875 0.519531 -6.039062 0.78125 -6.75 C 1.257812 -8.070312 2.125 -8.734375 3.375 -8.734375 Z M 3.375 -0.765625 C 3.9375 -0.765625 4.382812 -1.015625 4.71875 -1.515625 C 5.0625 -2.023438 5.234375 -2.96875 5.234375 -4.34375 C 5.234375 -5.332031 5.109375 -6.144531 4.859375 -6.78125 C 4.617188 -7.425781 4.148438 -7.75 3.453125 -7.75 C 2.804688 -7.75 2.332031 -7.441406 2.03125 -6.828125 C 1.726562 -6.222656 1.578125 -5.332031 1.578125 -4.15625 C 1.578125 -3.257812 1.675781 -2.539062 1.875 -2 C 2.164062 -1.175781 2.664062 -0.765625 3.375 -0.765625 Z \"/>\n",
       "</symbol>\n",
       "<symbol overflow=\"visible\" id=\"glyph0-5\">\n",
       "<path style=\"stroke:none;\" d=\"M 1.546875 -2.234375 C 1.617188 -1.597656 1.910156 -1.160156 2.421875 -0.921875 C 2.679688 -0.804688 2.984375 -0.75 3.328125 -0.75 C 3.972656 -0.75 4.453125 -0.953125 4.765625 -1.359375 C 5.078125 -1.773438 5.234375 -2.238281 5.234375 -2.75 C 5.234375 -3.351562 5.046875 -3.820312 4.671875 -4.15625 C 4.304688 -4.488281 3.863281 -4.65625 3.34375 -4.65625 C 2.957031 -4.65625 2.628906 -4.582031 2.359375 -4.4375 C 2.085938 -4.289062 1.859375 -4.085938 1.671875 -3.828125 L 0.71875 -3.890625 L 1.390625 -8.59375 L 5.921875 -8.59375 L 5.921875 -7.53125 L 2.203125 -7.53125 L 1.84375 -5.109375 C 2.039062 -5.253906 2.234375 -5.367188 2.421875 -5.453125 C 2.742188 -5.585938 3.117188 -5.65625 3.546875 -5.65625 C 4.347656 -5.65625 5.023438 -5.394531 5.578125 -4.875 C 6.140625 -4.363281 6.421875 -3.707031 6.421875 -2.90625 C 6.421875 -2.082031 6.164062 -1.351562 5.65625 -0.71875 C 5.144531 -0.09375 4.328125 0.21875 3.203125 0.21875 C 2.492188 0.21875 1.863281 0.0195312 1.3125 -0.375 C 0.769531 -0.78125 0.46875 -1.398438 0.40625 -2.234375 Z \"/>\n",
       "</symbol>\n",
       "<symbol overflow=\"visible\" id=\"glyph0-6\">\n",
       "<path style=\"stroke:none;\" d=\"M 9.15625 -0.03125 L 8.546875 0.71875 L 7.15625 -0.34375 C 6.820312 -0.15625 6.460938 -0.0078125 6.078125 0.09375 C 5.691406 0.207031 5.265625 0.265625 4.796875 0.265625 C 3.410156 0.265625 2.320312 -0.191406 1.53125 -1.109375 C 0.832031 -1.992188 0.484375 -3.101562 0.484375 -4.4375 C 0.484375 -5.644531 0.785156 -6.679688 1.390625 -7.546875 C 2.160156 -8.648438 3.304688 -9.203125 4.828125 -9.203125 C 6.410156 -9.203125 7.582031 -8.695312 8.34375 -7.6875 C 8.9375 -6.894531 9.234375 -5.878906 9.234375 -4.640625 C 9.234375 -4.054688 9.160156 -3.5 9.015625 -2.96875 C 8.796875 -2.15625 8.429688 -1.492188 7.921875 -0.984375 Z M 4.953125 -0.828125 C 5.203125 -0.828125 5.4375 -0.84375 5.65625 -0.875 C 5.875 -0.90625 6.066406 -0.972656 6.234375 -1.078125 L 5.25 -1.84375 L 5.859375 -2.59375 L 7.03125 -1.6875 C 7.40625 -2.113281 7.65625 -2.585938 7.78125 -3.109375 C 7.914062 -3.640625 7.984375 -4.144531 7.984375 -4.625 C 7.984375 -5.675781 7.707031 -6.519531 7.15625 -7.15625 C 6.601562 -7.800781 5.847656 -8.125 4.890625 -8.125 C 3.921875 -8.125 3.15625 -7.816406 2.59375 -7.203125 C 2.03125 -6.585938 1.75 -5.640625 1.75 -4.359375 C 1.75 -3.273438 2.019531 -2.414062 2.5625 -1.78125 C 3.101562 -1.144531 3.898438 -0.828125 4.953125 -0.828125 Z \"/>\n",
       "</symbol>\n",
       "<symbol overflow=\"visible\" id=\"glyph0-7\">\n",
       "<path style=\"stroke:none;\" d=\"M 1.65625 -2.109375 C 1.6875 -1.503906 1.921875 -1.085938 2.359375 -0.859375 C 2.585938 -0.734375 2.84375 -0.671875 3.125 -0.671875 C 3.644531 -0.671875 4.085938 -0.890625 4.453125 -1.328125 C 4.828125 -1.765625 5.09375 -2.648438 5.25 -3.984375 C 5.007812 -3.597656 4.707031 -3.328125 4.34375 -3.171875 C 3.976562 -3.015625 3.59375 -2.9375 3.1875 -2.9375 C 2.34375 -2.9375 1.675781 -3.195312 1.1875 -3.71875 C 0.695312 -4.25 0.453125 -4.925781 0.453125 -5.75 C 0.453125 -6.550781 0.691406 -7.25 1.171875 -7.84375 C 1.648438 -8.445312 2.363281 -8.75 3.3125 -8.75 C 4.582031 -8.75 5.460938 -8.175781 5.953125 -7.03125 C 6.222656 -6.394531 6.359375 -5.601562 6.359375 -4.65625 C 6.359375 -3.59375 6.195312 -2.644531 5.875 -1.8125 C 5.34375 -0.4375 4.4375 0.25 3.15625 0.25 C 2.300781 0.25 1.648438 0.0234375 1.203125 -0.421875 C 0.765625 -0.867188 0.546875 -1.429688 0.546875 -2.109375 Z M 3.328125 -3.90625 C 3.765625 -3.90625 4.160156 -4.046875 4.515625 -4.328125 C 4.878906 -4.617188 5.0625 -5.125 5.0625 -5.84375 C 5.0625 -6.488281 4.898438 -6.96875 4.578125 -7.28125 C 4.253906 -7.59375 3.84375 -7.75 3.34375 -7.75 C 2.800781 -7.75 2.375 -7.566406 2.0625 -7.203125 C 1.75 -6.847656 1.59375 -6.367188 1.59375 -5.765625 C 1.59375 -5.191406 1.726562 -4.738281 2 -4.40625 C 2.28125 -4.070312 2.722656 -3.90625 3.328125 -3.90625 Z \"/>\n",
       "</symbol>\n",
       "<symbol overflow=\"visible\" id=\"glyph0-8\">\n",
       "<path style=\"stroke:none;\" d=\"M 3.40625 -5.078125 C 3.882812 -5.078125 4.257812 -5.210938 4.53125 -5.484375 C 4.800781 -5.753906 4.9375 -6.078125 4.9375 -6.453125 C 4.9375 -6.773438 4.804688 -7.070312 4.546875 -7.34375 C 4.285156 -7.613281 3.890625 -7.75 3.359375 -7.75 C 2.828125 -7.75 2.441406 -7.613281 2.203125 -7.34375 C 1.972656 -7.070312 1.859375 -6.753906 1.859375 -6.390625 C 1.859375 -5.984375 2.007812 -5.660156 2.3125 -5.421875 C 2.625 -5.191406 2.988281 -5.078125 3.40625 -5.078125 Z M 3.46875 -0.75 C 3.976562 -0.75 4.398438 -0.882812 4.734375 -1.15625 C 5.066406 -1.4375 5.234375 -1.847656 5.234375 -2.390625 C 5.234375 -2.953125 5.0625 -3.378906 4.71875 -3.671875 C 4.375 -3.972656 3.929688 -4.125 3.390625 -4.125 C 2.859375 -4.125 2.425781 -3.972656 2.09375 -3.671875 C 1.769531 -3.367188 1.609375 -2.953125 1.609375 -2.421875 C 1.609375 -1.972656 1.757812 -1.582031 2.0625 -1.25 C 2.363281 -0.914062 2.832031 -0.75 3.46875 -0.75 Z M 1.90625 -4.65625 C 1.601562 -4.789062 1.363281 -4.941406 1.1875 -5.109375 C 0.863281 -5.441406 0.703125 -5.867188 0.703125 -6.390625 C 0.703125 -7.035156 0.9375 -7.59375 1.40625 -8.0625 C 1.882812 -8.53125 2.554688 -8.765625 3.421875 -8.765625 C 4.265625 -8.765625 4.921875 -8.539062 5.390625 -8.09375 C 5.867188 -7.65625 6.109375 -7.144531 6.109375 -6.5625 C 6.109375 -6.007812 5.96875 -5.566406 5.6875 -5.234375 C 5.539062 -5.035156 5.300781 -4.847656 4.96875 -4.671875 C 5.332031 -4.503906 5.617188 -4.3125 5.828125 -4.09375 C 6.210938 -3.6875 6.40625 -3.160156 6.40625 -2.515625 C 6.40625 -1.742188 6.144531 -1.085938 5.625 -0.546875 C 5.113281 -0.015625 4.382812 0.25 3.4375 0.25 C 2.59375 0.25 1.875 0.0195312 1.28125 -0.4375 C 0.695312 -0.90625 0.40625 -1.578125 0.40625 -2.453125 C 0.40625 -2.972656 0.53125 -3.421875 0.78125 -3.796875 C 1.03125 -4.171875 1.40625 -4.457031 1.90625 -4.65625 Z \"/>\n",
       "</symbol>\n",
       "<symbol overflow=\"visible\" id=\"glyph0-9\">\n",
       "<path style=\"stroke:none;\" d=\"M 6.53125 -8.59375 L 6.53125 -7.640625 C 6.25 -7.367188 5.875 -6.894531 5.40625 -6.21875 C 4.945312 -5.539062 4.539062 -4.8125 4.1875 -4.03125 C 3.832031 -3.269531 3.5625 -2.578125 3.375 -1.953125 C 3.257812 -1.546875 3.109375 -0.894531 2.921875 0 L 1.703125 0 C 1.984375 -1.664062 2.59375 -3.328125 3.53125 -4.984375 C 4.09375 -5.953125 4.679688 -6.785156 5.296875 -7.484375 L 0.453125 -7.484375 L 0.453125 -8.59375 Z \"/>\n",
       "</symbol>\n",
       "<symbol overflow=\"visible\" id=\"glyph0-10\">\n",
       "<path style=\"stroke:none;\" d=\"M 3.65625 -8.78125 C 4.632812 -8.78125 5.316406 -8.523438 5.703125 -8.015625 C 6.085938 -7.503906 6.28125 -6.984375 6.28125 -6.453125 L 5.1875 -6.453125 C 5.125 -6.796875 5.019531 -7.066406 4.875 -7.265625 C 4.613281 -7.628906 4.210938 -7.8125 3.671875 -7.8125 C 3.054688 -7.8125 2.566406 -7.523438 2.203125 -6.953125 C 1.847656 -6.390625 1.648438 -5.578125 1.609375 -4.515625 C 1.859375 -4.890625 2.175781 -5.171875 2.5625 -5.359375 C 2.90625 -5.515625 3.296875 -5.59375 3.734375 -5.59375 C 4.460938 -5.59375 5.097656 -5.359375 5.640625 -4.890625 C 6.191406 -4.421875 6.46875 -3.722656 6.46875 -2.796875 C 6.46875 -2.003906 6.207031 -1.300781 5.6875 -0.6875 C 5.164062 -0.0820312 4.429688 0.21875 3.484375 0.21875 C 2.660156 0.21875 1.953125 -0.0859375 1.359375 -0.703125 C 0.765625 -1.328125 0.46875 -2.375 0.46875 -3.84375 C 0.46875 -4.925781 0.597656 -5.847656 0.859375 -6.609375 C 1.367188 -8.054688 2.300781 -8.78125 3.65625 -8.78125 Z M 3.578125 -0.75 C 4.148438 -0.75 4.578125 -0.941406 4.859375 -1.328125 C 5.148438 -1.722656 5.296875 -2.179688 5.296875 -2.703125 C 5.296875 -3.148438 5.164062 -3.578125 4.90625 -3.984375 C 4.65625 -4.390625 4.191406 -4.59375 3.515625 -4.59375 C 3.046875 -4.59375 2.632812 -4.4375 2.28125 -4.125 C 1.925781 -3.8125 1.75 -3.335938 1.75 -2.703125 C 1.75 -2.148438 1.910156 -1.6875 2.234375 -1.3125 C 2.554688 -0.9375 3.003906 -0.75 3.578125 -0.75 Z \"/>\n",
       "</symbol>\n",
       "<symbol overflow=\"visible\" id=\"glyph0-11\">\n",
       "<path style=\"stroke:none;\" d=\"M 4.125 -3.09375 L 4.125 -7.0625 L 1.328125 -3.09375 Z M 4.15625 0 L 4.15625 -2.140625 L 0.3125 -2.140625 L 0.3125 -3.203125 L 4.328125 -8.765625 L 5.25 -8.765625 L 5.25 -3.09375 L 6.53125 -3.09375 L 6.53125 -2.140625 L 5.25 -2.140625 L 5.25 0 Z \"/>\n",
       "</symbol>\n",
       "<symbol overflow=\"visible\" id=\"glyph0-12\">\n",
       "<path style=\"stroke:none;\" d=\"M 3.25 0.234375 C 2.21875 0.234375 1.46875 -0.046875 1 -0.609375 C 0.53125 -1.179688 0.296875 -1.875 0.296875 -2.6875 L 1.453125 -2.6875 C 1.492188 -2.125 1.597656 -1.710938 1.765625 -1.453125 C 2.046875 -0.992188 2.5625 -0.765625 3.3125 -0.765625 C 3.882812 -0.765625 4.34375 -0.914062 4.6875 -1.21875 C 5.039062 -1.53125 5.21875 -1.929688 5.21875 -2.421875 C 5.21875 -3.023438 5.035156 -3.445312 4.671875 -3.6875 C 4.304688 -3.925781 3.796875 -4.046875 3.140625 -4.046875 C 3.066406 -4.046875 2.988281 -4.046875 2.90625 -4.046875 C 2.832031 -4.046875 2.757812 -4.039062 2.6875 -4.03125 L 2.6875 -5 C 2.800781 -4.988281 2.894531 -4.976562 2.96875 -4.96875 C 3.050781 -4.96875 3.132812 -4.96875 3.21875 -4.96875 C 3.632812 -4.96875 3.972656 -5.035156 4.234375 -5.171875 C 4.703125 -5.398438 4.9375 -5.804688 4.9375 -6.390625 C 4.9375 -6.828125 4.78125 -7.160156 4.46875 -7.390625 C 4.15625 -7.628906 3.796875 -7.75 3.390625 -7.75 C 2.648438 -7.75 2.144531 -7.503906 1.875 -7.015625 C 1.71875 -6.742188 1.628906 -6.363281 1.609375 -5.875 L 0.515625 -5.875 C 0.515625 -6.519531 0.644531 -7.070312 0.90625 -7.53125 C 1.351562 -8.34375 2.140625 -8.75 3.265625 -8.75 C 4.160156 -8.75 4.851562 -8.550781 5.34375 -8.15625 C 5.832031 -7.757812 6.078125 -7.1875 6.078125 -6.4375 C 6.078125 -5.894531 5.929688 -5.457031 5.640625 -5.125 C 5.460938 -4.914062 5.226562 -4.753906 4.9375 -4.640625 C 5.40625 -4.515625 5.765625 -4.269531 6.015625 -3.90625 C 6.273438 -3.550781 6.40625 -3.113281 6.40625 -2.59375 C 6.40625 -1.757812 6.128906 -1.078125 5.578125 -0.546875 C 5.035156 -0.0234375 4.257812 0.234375 3.25 0.234375 Z \"/>\n",
       "</symbol>\n",
       "<symbol overflow=\"visible\" id=\"glyph0-13\">\n",
       "<path style=\"stroke:none;\" d=\"M 0.390625 0 C 0.429688 -0.75 0.585938 -1.398438 0.859375 -1.953125 C 1.128906 -2.515625 1.65625 -3.023438 2.4375 -3.484375 L 3.609375 -4.15625 C 4.140625 -4.46875 4.507812 -4.726562 4.71875 -4.9375 C 5.050781 -5.28125 5.21875 -5.671875 5.21875 -6.109375 C 5.21875 -6.609375 5.0625 -7.007812 4.75 -7.3125 C 4.445312 -7.613281 4.046875 -7.765625 3.546875 -7.765625 C 2.785156 -7.765625 2.265625 -7.476562 1.984375 -6.90625 C 1.828125 -6.601562 1.738281 -6.179688 1.71875 -5.640625 L 0.609375 -5.640625 C 0.617188 -6.398438 0.757812 -7.019531 1.03125 -7.5 C 1.5 -8.34375 2.335938 -8.765625 3.546875 -8.765625 C 4.546875 -8.765625 5.273438 -8.492188 5.734375 -7.953125 C 6.203125 -7.410156 6.4375 -6.8125 6.4375 -6.15625 C 6.4375 -5.457031 6.1875 -4.859375 5.6875 -4.359375 C 5.40625 -4.066406 4.894531 -3.71875 4.15625 -3.3125 L 3.328125 -2.84375 C 2.929688 -2.625 2.617188 -2.414062 2.390625 -2.21875 C 1.984375 -1.863281 1.726562 -1.46875 1.625 -1.03125 L 6.390625 -1.03125 L 6.390625 0 Z \"/>\n",
       "</symbol>\n",
       "<symbol overflow=\"visible\" id=\"glyph0-14\">\n",
       "<path style=\"stroke:none;\" d=\"M 1.75 -2.890625 C 1.769531 -2.378906 1.890625 -1.96875 2.109375 -1.65625 C 2.503906 -1.0625 3.210938 -0.765625 4.234375 -0.765625 C 4.691406 -0.765625 5.109375 -0.828125 5.484375 -0.953125 C 6.203125 -1.210938 6.5625 -1.664062 6.5625 -2.3125 C 6.5625 -2.800781 6.410156 -3.148438 6.109375 -3.359375 C 5.796875 -3.554688 5.3125 -3.734375 4.65625 -3.890625 L 3.4375 -4.15625 C 2.644531 -4.34375 2.085938 -4.539062 1.765625 -4.75 C 1.191406 -5.125 0.90625 -5.6875 0.90625 -6.4375 C 0.90625 -7.238281 1.179688 -7.894531 1.734375 -8.40625 C 2.296875 -8.925781 3.085938 -9.1875 4.109375 -9.1875 C 5.046875 -9.1875 5.84375 -8.957031 6.5 -8.5 C 7.15625 -8.050781 7.484375 -7.328125 7.484375 -6.328125 L 6.34375 -6.328125 C 6.28125 -6.816406 6.148438 -7.1875 5.953125 -7.4375 C 5.585938 -7.90625 4.960938 -8.140625 4.078125 -8.140625 C 3.359375 -8.140625 2.84375 -7.988281 2.53125 -7.6875 C 2.21875 -7.382812 2.0625 -7.035156 2.0625 -6.640625 C 2.0625 -6.203125 2.242188 -5.878906 2.609375 -5.671875 C 2.847656 -5.546875 3.390625 -5.382812 4.234375 -5.1875 L 5.5 -4.90625 C 6.101562 -4.757812 6.566406 -4.566406 6.890625 -4.328125 C 7.460938 -3.910156 7.75 -3.304688 7.75 -2.515625 C 7.75 -1.515625 7.382812 -0.800781 6.65625 -0.375 C 5.9375 0.0507812 5.101562 0.265625 4.15625 0.265625 C 3.039062 0.265625 2.164062 -0.0195312 1.53125 -0.59375 C 0.90625 -1.15625 0.597656 -1.921875 0.609375 -2.890625 Z M 4.203125 -9.203125 Z \"/>\n",
       "</symbol>\n",
       "<symbol overflow=\"visible\" id=\"glyph0-15\">\n",
       "<path style=\"stroke:none;\" d=\"M 1.03125 -8.359375 L 2.140625 -8.359375 L 2.140625 -6.53125 L 3.1875 -6.53125 L 3.1875 -5.640625 L 2.140625 -5.640625 L 2.140625 -1.375 C 2.140625 -1.144531 2.21875 -0.992188 2.375 -0.921875 C 2.457031 -0.867188 2.597656 -0.84375 2.796875 -0.84375 C 2.847656 -0.84375 2.90625 -0.84375 2.96875 -0.84375 C 3.03125 -0.851562 3.101562 -0.859375 3.1875 -0.859375 L 3.1875 0 C 3.050781 0.0390625 2.914062 0.0664062 2.78125 0.078125 C 2.644531 0.0976562 2.5 0.109375 2.34375 0.109375 C 1.832031 0.109375 1.484375 -0.0195312 1.296875 -0.28125 C 1.117188 -0.550781 1.03125 -0.894531 1.03125 -1.3125 L 1.03125 -5.640625 L 0.140625 -5.640625 L 0.140625 -6.53125 L 1.03125 -6.53125 Z \"/>\n",
       "</symbol>\n",
       "<symbol overflow=\"visible\" id=\"glyph0-16\">\n",
       "<path style=\"stroke:none;\" d=\"M 0.84375 -6.53125 L 1.875 -6.53125 L 1.875 -5.40625 C 1.96875 -5.625 2.179688 -5.890625 2.515625 -6.203125 C 2.847656 -6.523438 3.226562 -6.6875 3.65625 -6.6875 C 3.675781 -6.6875 3.710938 -6.679688 3.765625 -6.671875 C 3.816406 -6.671875 3.898438 -6.664062 4.015625 -6.65625 L 4.015625 -5.5 C 3.953125 -5.507812 3.890625 -5.515625 3.828125 -5.515625 C 3.773438 -5.523438 3.71875 -5.53125 3.65625 -5.53125 C 3.101562 -5.53125 2.675781 -5.347656 2.375 -4.984375 C 2.082031 -4.628906 1.9375 -4.222656 1.9375 -3.765625 L 1.9375 0 L 0.84375 0 Z \"/>\n",
       "</symbol>\n",
       "<symbol overflow=\"visible\" id=\"glyph0-17\">\n",
       "<path style=\"stroke:none;\" d=\"M 3.40625 -0.703125 C 4.132812 -0.703125 4.628906 -0.976562 4.890625 -1.53125 C 5.160156 -2.082031 5.296875 -2.695312 5.296875 -3.375 C 5.296875 -3.988281 5.203125 -4.484375 5.015625 -4.859375 C 4.703125 -5.460938 4.164062 -5.765625 3.40625 -5.765625 C 2.738281 -5.765625 2.25 -5.507812 1.9375 -5 C 1.632812 -4.488281 1.484375 -3.867188 1.484375 -3.140625 C 1.484375 -2.441406 1.632812 -1.859375 1.9375 -1.390625 C 2.25 -0.929688 2.738281 -0.703125 3.40625 -0.703125 Z M 3.4375 -6.71875 C 4.28125 -6.71875 4.992188 -6.4375 5.578125 -5.875 C 6.160156 -5.320312 6.453125 -4.5 6.453125 -3.40625 C 6.453125 -2.351562 6.191406 -1.484375 5.671875 -0.796875 C 5.160156 -0.109375 4.367188 0.234375 3.296875 0.234375 C 2.398438 0.234375 1.6875 -0.0664062 1.15625 -0.671875 C 0.625 -1.285156 0.359375 -2.101562 0.359375 -3.125 C 0.359375 -4.21875 0.632812 -5.085938 1.1875 -5.734375 C 1.75 -6.390625 2.5 -6.71875 3.4375 -6.71875 Z M 3.40625 -6.703125 Z \"/>\n",
       "</symbol>\n",
       "<symbol overflow=\"visible\" id=\"glyph0-18\">\n",
       "<path style=\"stroke:none;\" d=\"M 0.8125 -6.53125 L 1.84375 -6.53125 L 1.84375 -5.609375 C 2.15625 -5.992188 2.484375 -6.269531 2.828125 -6.4375 C 3.171875 -6.601562 3.554688 -6.6875 3.984375 -6.6875 C 4.910156 -6.6875 5.535156 -6.363281 5.859375 -5.71875 C 6.046875 -5.363281 6.140625 -4.851562 6.140625 -4.1875 L 6.140625 0 L 5.015625 0 L 5.015625 -4.125 C 5.015625 -4.519531 4.957031 -4.835938 4.84375 -5.078125 C 4.644531 -5.484375 4.289062 -5.6875 3.78125 -5.6875 C 3.519531 -5.6875 3.304688 -5.660156 3.140625 -5.609375 C 2.835938 -5.523438 2.570312 -5.347656 2.34375 -5.078125 C 2.15625 -4.859375 2.035156 -4.632812 1.984375 -4.40625 C 1.929688 -4.175781 1.90625 -3.847656 1.90625 -3.421875 L 1.90625 0 L 0.8125 0 Z M 3.390625 -6.703125 Z \"/>\n",
       "</symbol>\n",
       "<symbol overflow=\"visible\" id=\"glyph0-19\">\n",
       "<path style=\"stroke:none;\" d=\"M 3.109375 -6.65625 C 3.617188 -6.65625 4.066406 -6.53125 4.453125 -6.28125 C 4.660156 -6.132812 4.875 -5.925781 5.09375 -5.65625 L 5.09375 -6.46875 L 6.109375 -6.46875 L 6.109375 -0.53125 C 6.109375 0.300781 5.984375 0.957031 5.734375 1.4375 C 5.273438 2.320312 4.414062 2.765625 3.15625 2.765625 C 2.445312 2.765625 1.851562 2.601562 1.375 2.28125 C 0.894531 1.96875 0.628906 1.476562 0.578125 0.8125 L 1.6875 0.8125 C 1.738281 1.101562 1.847656 1.328125 2.015625 1.484375 C 2.253906 1.734375 2.644531 1.859375 3.1875 1.859375 C 4.019531 1.859375 4.566406 1.5625 4.828125 0.96875 C 4.984375 0.613281 5.054688 -0.0078125 5.046875 -0.90625 C 4.828125 -0.570312 4.5625 -0.320312 4.25 -0.15625 C 3.945312 0 3.539062 0.078125 3.03125 0.078125 C 2.320312 0.078125 1.703125 -0.171875 1.171875 -0.671875 C 0.640625 -1.171875 0.375 -2.003906 0.375 -3.171875 C 0.375 -4.265625 0.640625 -5.117188 1.171875 -5.734375 C 1.710938 -6.347656 2.359375 -6.65625 3.109375 -6.65625 Z M 5.09375 -3.296875 C 5.09375 -4.109375 4.925781 -4.707031 4.59375 -5.09375 C 4.257812 -5.488281 3.832031 -5.6875 3.3125 -5.6875 C 2.539062 -5.6875 2.015625 -5.320312 1.734375 -4.59375 C 1.578125 -4.207031 1.5 -3.703125 1.5 -3.078125 C 1.5 -2.335938 1.648438 -1.773438 1.953125 -1.390625 C 2.253906 -1.003906 2.65625 -0.8125 3.15625 -0.8125 C 3.945312 -0.8125 4.503906 -1.171875 4.828125 -1.890625 C 5.003906 -2.285156 5.09375 -2.753906 5.09375 -3.296875 Z M 3.234375 -6.703125 Z \"/>\n",
       "</symbol>\n",
       "<symbol overflow=\"visible\" id=\"glyph0-20\">\n",
       "<path style=\"stroke:none;\" d=\"M 0.84375 -8.96875 L 1.9375 -8.96875 L 1.9375 0 L 0.84375 0 Z \"/>\n",
       "</symbol>\n",
       "<symbol overflow=\"visible\" id=\"glyph0-21\">\n",
       "<path style=\"stroke:none;\" d=\"M 4.890625 -6.53125 L 6.109375 -6.53125 C 5.953125 -6.113281 5.609375 -5.160156 5.078125 -3.671875 C 4.671875 -2.546875 4.335938 -1.628906 4.078125 -0.921875 C 3.441406 0.742188 2.992188 1.757812 2.734375 2.125 C 2.472656 2.488281 2.023438 2.671875 1.390625 2.671875 C 1.234375 2.671875 1.113281 2.664062 1.03125 2.65625 C 0.945312 2.644531 0.84375 2.625 0.71875 2.59375 L 0.71875 1.59375 C 0.90625 1.644531 1.039062 1.675781 1.125 1.6875 C 1.21875 1.695312 1.296875 1.703125 1.359375 1.703125 C 1.566406 1.703125 1.71875 1.664062 1.8125 1.59375 C 1.90625 1.53125 1.984375 1.453125 2.046875 1.359375 C 2.066406 1.328125 2.140625 1.160156 2.265625 0.859375 C 2.390625 0.554688 2.484375 0.332031 2.546875 0.1875 L 0.125 -6.53125 L 1.375 -6.53125 L 3.125 -1.21875 Z M 3.125 -6.703125 Z \"/>\n",
       "</symbol>\n",
       "<symbol overflow=\"visible\" id=\"glyph0-22\">\n",
       "<path style=\"stroke:none;\" d=\"\"/>\n",
       "</symbol>\n",
       "<symbol overflow=\"visible\" id=\"glyph0-23\">\n",
       "<path style=\"stroke:none;\" d=\"M 4.390625 -1.03125 C 4.804688 -1.03125 5.144531 -1.078125 5.40625 -1.171875 C 5.875 -1.328125 6.257812 -1.628906 6.5625 -2.078125 C 6.800781 -2.441406 6.976562 -2.90625 7.09375 -3.46875 C 7.144531 -3.8125 7.171875 -4.125 7.171875 -4.40625 C 7.171875 -5.519531 6.953125 -6.382812 6.515625 -7 C 6.078125 -7.613281 5.363281 -7.921875 4.375 -7.921875 L 2.234375 -7.921875 L 2.234375 -1.03125 Z M 1 -8.96875 L 4.640625 -8.96875 C 5.867188 -8.96875 6.820312 -8.53125 7.5 -7.65625 C 8.113281 -6.863281 8.421875 -5.851562 8.421875 -4.625 C 8.421875 -3.664062 8.238281 -2.800781 7.875 -2.03125 C 7.25 -0.675781 6.164062 0 4.625 0 L 1 0 Z \"/>\n",
       "</symbol>\n",
       "<symbol overflow=\"visible\" id=\"glyph0-24\">\n",
       "<path style=\"stroke:none;\" d=\"M 0.8125 -6.5 L 1.921875 -6.5 L 1.921875 0 L 0.8125 0 Z M 0.8125 -8.96875 L 1.921875 -8.96875 L 1.921875 -7.71875 L 0.8125 -7.71875 Z \"/>\n",
       "</symbol>\n",
       "<symbol overflow=\"visible\" id=\"glyph0-25\">\n",
       "<path style=\"stroke:none;\" d=\"M 1.453125 -2.046875 C 1.484375 -1.679688 1.578125 -1.398438 1.734375 -1.203125 C 2.015625 -0.847656 2.492188 -0.671875 3.171875 -0.671875 C 3.578125 -0.671875 3.9375 -0.757812 4.25 -0.9375 C 4.5625 -1.113281 4.71875 -1.390625 4.71875 -1.765625 C 4.71875 -2.046875 4.59375 -2.257812 4.34375 -2.40625 C 4.1875 -2.5 3.875 -2.601562 3.40625 -2.71875 L 2.53125 -2.9375 C 1.96875 -3.070312 1.554688 -3.226562 1.296875 -3.40625 C 0.828125 -3.695312 0.59375 -4.101562 0.59375 -4.625 C 0.59375 -5.25 0.8125 -5.75 1.25 -6.125 C 1.695312 -6.507812 2.296875 -6.703125 3.046875 -6.703125 C 4.035156 -6.703125 4.75 -6.414062 5.1875 -5.84375 C 5.457031 -5.476562 5.585938 -5.082031 5.578125 -4.65625 L 4.546875 -4.65625 C 4.523438 -4.90625 4.4375 -5.128906 4.28125 -5.328125 C 4.03125 -5.617188 3.59375 -5.765625 2.96875 -5.765625 C 2.550781 -5.765625 2.234375 -5.6875 2.015625 -5.53125 C 1.804688 -5.375 1.703125 -5.164062 1.703125 -4.90625 C 1.703125 -4.613281 1.84375 -4.382812 2.125 -4.21875 C 2.289062 -4.113281 2.53125 -4.023438 2.84375 -3.953125 L 3.578125 -3.765625 C 4.359375 -3.578125 4.882812 -3.394531 5.15625 -3.21875 C 5.582031 -2.9375 5.796875 -2.492188 5.796875 -1.890625 C 5.796875 -1.304688 5.570312 -0.800781 5.125 -0.375 C 4.6875 0.0390625 4.019531 0.25 3.125 0.25 C 2.144531 0.25 1.453125 0.03125 1.046875 -0.40625 C 0.648438 -0.851562 0.4375 -1.398438 0.40625 -2.046875 Z M 3.078125 -6.703125 Z \"/>\n",
       "</symbol>\n",
       "<symbol overflow=\"visible\" id=\"glyph0-26\">\n",
       "<path style=\"stroke:none;\" d=\"M 1.640625 -1.734375 C 1.640625 -1.421875 1.753906 -1.171875 1.984375 -0.984375 C 2.222656 -0.804688 2.5 -0.71875 2.8125 -0.71875 C 3.207031 -0.71875 3.582031 -0.804688 3.9375 -0.984375 C 4.550781 -1.273438 4.859375 -1.757812 4.859375 -2.4375 L 4.859375 -3.328125 C 4.722656 -3.242188 4.546875 -3.171875 4.328125 -3.109375 C 4.117188 -3.054688 3.914062 -3.015625 3.71875 -2.984375 L 3.046875 -2.90625 C 2.648438 -2.851562 2.351562 -2.769531 2.15625 -2.65625 C 1.8125 -2.46875 1.640625 -2.160156 1.640625 -1.734375 Z M 4.3125 -3.96875 C 4.5625 -4 4.726562 -4.101562 4.8125 -4.28125 C 4.863281 -4.375 4.890625 -4.515625 4.890625 -4.703125 C 4.890625 -5.078125 4.753906 -5.347656 4.484375 -5.515625 C 4.222656 -5.679688 3.84375 -5.765625 3.34375 -5.765625 C 2.769531 -5.765625 2.363281 -5.609375 2.125 -5.296875 C 1.988281 -5.128906 1.898438 -4.878906 1.859375 -4.546875 L 0.84375 -4.546875 C 0.851562 -5.347656 1.109375 -5.90625 1.609375 -6.21875 C 2.117188 -6.539062 2.707031 -6.703125 3.375 -6.703125 C 4.132812 -6.703125 4.757812 -6.550781 5.25 -6.25 C 5.71875 -5.957031 5.953125 -5.503906 5.953125 -4.890625 L 5.953125 -1.125 C 5.953125 -1.007812 5.972656 -0.914062 6.015625 -0.84375 C 6.066406 -0.78125 6.171875 -0.75 6.328125 -0.75 C 6.367188 -0.75 6.421875 -0.75 6.484375 -0.75 C 6.546875 -0.757812 6.613281 -0.769531 6.6875 -0.78125 L 6.6875 0.03125 C 6.507812 0.0820312 6.375 0.113281 6.28125 0.125 C 6.195312 0.132812 6.078125 0.140625 5.921875 0.140625 C 5.546875 0.140625 5.273438 0.00390625 5.109375 -0.265625 C 5.015625 -0.398438 4.945312 -0.597656 4.90625 -0.859375 C 4.6875 -0.566406 4.367188 -0.3125 3.953125 -0.09375 C 3.535156 0.113281 3.070312 0.21875 2.5625 0.21875 C 1.957031 0.21875 1.460938 0.0351562 1.078125 -0.328125 C 0.691406 -0.703125 0.5 -1.164062 0.5 -1.71875 C 0.5 -2.320312 0.6875 -2.789062 1.0625 -3.125 C 1.445312 -3.457031 1.945312 -3.660156 2.5625 -3.734375 Z M 3.40625 -6.703125 Z \"/>\n",
       "</symbol>\n",
       "<symbol overflow=\"visible\" id=\"glyph0-27\">\n",
       "<path style=\"stroke:none;\" d=\"M 3.53125 -6.6875 C 3.988281 -6.6875 4.4375 -6.578125 4.875 -6.359375 C 5.3125 -6.140625 5.644531 -5.859375 5.875 -5.515625 C 6.09375 -5.179688 6.238281 -4.796875 6.3125 -4.359375 C 6.375 -4.054688 6.40625 -3.578125 6.40625 -2.921875 L 1.625 -2.921875 C 1.632812 -2.253906 1.785156 -1.71875 2.078125 -1.3125 C 2.378906 -0.914062 2.835938 -0.71875 3.453125 -0.71875 C 4.023438 -0.71875 4.484375 -0.90625 4.828125 -1.28125 C 5.015625 -1.507812 5.148438 -1.765625 5.234375 -2.046875 L 6.3125 -2.046875 C 6.289062 -1.804688 6.195312 -1.539062 6.03125 -1.25 C 5.875 -0.957031 5.695312 -0.71875 5.5 -0.53125 C 5.164062 -0.195312 4.75 0.0234375 4.25 0.140625 C 3.988281 0.203125 3.691406 0.234375 3.359375 0.234375 C 2.546875 0.234375 1.851562 -0.0625 1.28125 -0.65625 C 0.71875 -1.25 0.4375 -2.078125 0.4375 -3.140625 C 0.4375 -4.191406 0.722656 -5.046875 1.296875 -5.703125 C 1.867188 -6.359375 2.613281 -6.6875 3.53125 -6.6875 Z M 5.28125 -3.796875 C 5.238281 -4.265625 5.132812 -4.644531 4.96875 -4.9375 C 4.664062 -5.457031 4.160156 -5.71875 3.453125 -5.71875 C 2.953125 -5.71875 2.53125 -5.535156 2.1875 -5.171875 C 1.84375 -4.804688 1.660156 -4.347656 1.640625 -3.796875 Z M 3.421875 -6.703125 Z \"/>\n",
       "</symbol>\n",
       "<symbol overflow=\"visible\" id=\"glyph0-28\">\n",
       "<path style=\"stroke:none;\" d=\"M 0.953125 -8.96875 L 2.390625 -8.96875 L 6.921875 -1.703125 L 6.921875 -8.96875 L 8.0625 -8.96875 L 8.0625 0 L 6.703125 0 L 2.109375 -7.25 L 2.109375 0 L 0.953125 0 Z M 4.4375 -8.96875 Z \"/>\n",
       "</symbol>\n",
       "<symbol overflow=\"visible\" id=\"glyph0-29\">\n",
       "<path style=\"stroke:none;\" d=\"M 1.90625 -6.53125 L 1.90625 -2.203125 C 1.90625 -1.867188 1.957031 -1.59375 2.0625 -1.375 C 2.257812 -0.988281 2.625 -0.796875 3.15625 -0.796875 C 3.914062 -0.796875 4.4375 -1.132812 4.71875 -1.8125 C 4.863281 -2.1875 4.9375 -2.691406 4.9375 -3.328125 L 4.9375 -6.53125 L 6.046875 -6.53125 L 6.046875 0 L 5 0 L 5.015625 -0.96875 C 4.867188 -0.71875 4.691406 -0.503906 4.484375 -0.328125 C 4.066406 0.00390625 3.554688 0.171875 2.953125 0.171875 C 2.023438 0.171875 1.394531 -0.132812 1.0625 -0.75 C 0.875 -1.082031 0.78125 -1.53125 0.78125 -2.09375 L 0.78125 -6.53125 Z M 3.40625 -6.703125 Z \"/>\n",
       "</symbol>\n",
       "<symbol overflow=\"visible\" id=\"glyph0-30\">\n",
       "<path style=\"stroke:none;\" d=\"M 5.546875 -3.671875 L 4.1875 -7.640625 L 2.75 -3.671875 Z M 3.5625 -8.96875 L 4.9375 -8.96875 L 8.1875 0 L 6.859375 0 L 5.9375 -2.6875 L 2.40625 -2.6875 L 1.421875 0 L 0.1875 0 Z M 4.1875 -8.96875 Z \"/>\n",
       "</symbol>\n",
       "</g>\n",
       "<clipPath id=\"clip1\">\n",
       "  <path d=\"M 265 59.039062 L 267 59.039062 L 267 431.558594 L 265 431.558594 Z \"/>\n",
       "</clipPath>\n",
       "</defs>\n",
       "<g id=\"surface78\">\n",
       "<rect x=\"0\" y=\"0\" width=\"504\" height=\"504\" style=\"fill:rgb(100%,100%,100%);fill-opacity:1;stroke:none;\"/>\n",
       "<path style=\"fill:none;stroke-width:1;stroke-linecap:round;stroke-linejoin:round;stroke:rgb(0%,0%,0%);stroke-opacity:1;stroke-miterlimit:10;\" d=\"M 74.398438 430.558594 L 458.398438 430.558594 \"/>\n",
       "<path style=\"fill:none;stroke-width:1;stroke-linecap:round;stroke-linejoin:round;stroke:rgb(0%,0%,0%);stroke-opacity:1;stroke-miterlimit:10;\" d=\"M 74.398438 430.558594 L 74.398438 437.761719 \"/>\n",
       "<path style=\"fill:none;stroke-width:1;stroke-linecap:round;stroke-linejoin:round;stroke:rgb(0%,0%,0%);stroke-opacity:1;stroke-miterlimit:10;\" d=\"M 170.398438 430.558594 L 170.398438 437.761719 \"/>\n",
       "<path style=\"fill:none;stroke-width:1;stroke-linecap:round;stroke-linejoin:round;stroke:rgb(0%,0%,0%);stroke-opacity:1;stroke-miterlimit:10;\" d=\"M 266.398438 430.558594 L 266.398438 437.761719 \"/>\n",
       "<path style=\"fill:none;stroke-width:1;stroke-linecap:round;stroke-linejoin:round;stroke:rgb(0%,0%,0%);stroke-opacity:1;stroke-miterlimit:10;\" d=\"M 362.398438 430.558594 L 362.398438 437.761719 \"/>\n",
       "<path style=\"fill:none;stroke-width:1;stroke-linecap:round;stroke-linejoin:round;stroke:rgb(0%,0%,0%);stroke-opacity:1;stroke-miterlimit:10;\" d=\"M 458.398438 430.558594 L 458.398438 437.761719 \"/>\n",
       "<g style=\"fill:rgb(0%,0%,0%);fill-opacity:1;\">\n",
       "  <use xlink:href=\"#glyph0-1\" x=\"63.628906\" y=\"457.921875\"/>\n",
       "  <use xlink:href=\"#glyph0-2\" x=\"67.791504\" y=\"457.921875\"/>\n",
       "  <use xlink:href=\"#glyph0-3\" x=\"74.743408\" y=\"457.921875\"/>\n",
       "  <use xlink:href=\"#glyph0-4\" x=\"78.216309\" y=\"457.921875\"/>\n",
       "</g>\n",
       "<g style=\"fill:rgb(0%,0%,0%);fill-opacity:1;\">\n",
       "  <use xlink:href=\"#glyph0-1\" x=\"159.628906\" y=\"457.921875\"/>\n",
       "  <use xlink:href=\"#glyph0-4\" x=\"163.791504\" y=\"457.921875\"/>\n",
       "  <use xlink:href=\"#glyph0-3\" x=\"170.743408\" y=\"457.921875\"/>\n",
       "  <use xlink:href=\"#glyph0-5\" x=\"174.216309\" y=\"457.921875\"/>\n",
       "</g>\n",
       "<g style=\"fill:rgb(0%,0%,0%);fill-opacity:1;\">\n",
       "  <use xlink:href=\"#glyph0-4\" x=\"257.710938\" y=\"457.921875\"/>\n",
       "  <use xlink:href=\"#glyph0-3\" x=\"264.662842\" y=\"457.921875\"/>\n",
       "  <use xlink:href=\"#glyph0-4\" x=\"268.135742\" y=\"457.921875\"/>\n",
       "</g>\n",
       "<g style=\"fill:rgb(0%,0%,0%);fill-opacity:1;\">\n",
       "  <use xlink:href=\"#glyph0-4\" x=\"353.710938\" y=\"457.921875\"/>\n",
       "  <use xlink:href=\"#glyph0-3\" x=\"360.662842\" y=\"457.921875\"/>\n",
       "  <use xlink:href=\"#glyph0-5\" x=\"364.135742\" y=\"457.921875\"/>\n",
       "</g>\n",
       "<g style=\"fill:rgb(0%,0%,0%);fill-opacity:1;\">\n",
       "  <use xlink:href=\"#glyph0-2\" x=\"449.710938\" y=\"457.921875\"/>\n",
       "  <use xlink:href=\"#glyph0-3\" x=\"456.662842\" y=\"457.921875\"/>\n",
       "  <use xlink:href=\"#glyph0-4\" x=\"460.135742\" y=\"457.921875\"/>\n",
       "</g>\n",
       "<path style=\"fill:none;stroke-width:1;stroke-linecap:round;stroke-linejoin:round;stroke:rgb(0%,0%,0%);stroke-opacity:1;stroke-miterlimit:10;\" d=\"M 59.039062 430.558594 L 473.761719 430.558594 L 473.761719 59.039062 L 59.039062 59.039062 L 59.039062 430.558594 \"/>\n",
       "<path style=\" stroke:none;fill-rule:nonzero;fill:rgb(90.196078%,90.196078%,90.196078%);fill-opacity:1;\" d=\"M 169.933594 410.054688 L 169.933594 383.074219 L 209.925781 383.074219 L 209.925781 410.054688 Z \"/>\n",
       "<path style=\" stroke:none;fill-rule:nonzero;fill:rgb(80%,80%,80%);fill-opacity:1;\" d=\"M 209.925781 410.054688 L 209.925781 383.074219 L 254.296875 383.074219 L 254.296875 410.054688 Z \"/>\n",
       "<path style=\" stroke:none;fill-rule:nonzero;fill:rgb(68.235294%,68.235294%,68.235294%);fill-opacity:1;\" d=\"M 254.296875 410.054688 L 254.296875 383.074219 L 278.503906 383.074219 L 278.503906 410.054688 Z \"/>\n",
       "<path style=\" stroke:none;fill-rule:nonzero;fill:rgb(53.333333%,53.333333%,53.333333%);fill-opacity:1;\" d=\"M 278.503906 410.054688 L 278.503906 383.074219 L 298.96875 383.074219 L 298.96875 410.054688 Z \"/>\n",
       "<path style=\" stroke:none;fill-rule:nonzero;fill:rgb(30.196078%,30.196078%,30.196078%);fill-opacity:1;\" d=\"M 298.96875 410.054688 L 298.96875 383.074219 L 361.933594 383.074219 L 361.933594 410.054688 Z \"/>\n",
       "<path style=\" stroke:none;fill-rule:nonzero;fill:rgb(90.196078%,90.196078%,90.196078%);fill-opacity:1;\" d=\"M 133.355469 376.328125 L 133.355469 349.347656 L 141.160156 349.347656 L 141.160156 376.328125 Z \"/>\n",
       "<path style=\" stroke:none;fill-rule:nonzero;fill:rgb(80%,80%,80%);fill-opacity:1;\" d=\"M 141.160156 376.328125 L 141.160156 349.347656 L 229.464844 349.347656 L 229.464844 376.328125 Z \"/>\n",
       "<path style=\" stroke:none;fill-rule:nonzero;fill:rgb(68.235294%,68.235294%,68.235294%);fill-opacity:1;\" d=\"M 229.464844 376.328125 L 229.464844 349.347656 L 303.335938 349.347656 L 303.335938 376.328125 Z \"/>\n",
       "<path style=\" stroke:none;fill-rule:nonzero;fill:rgb(53.333333%,53.333333%,53.333333%);fill-opacity:1;\" d=\"M 303.335938 376.328125 L 303.335938 349.347656 L 311.710938 349.347656 L 311.710938 376.328125 Z \"/>\n",
       "<path style=\" stroke:none;fill-rule:nonzero;fill:rgb(30.196078%,30.196078%,30.196078%);fill-opacity:1;\" d=\"M 311.710938 376.328125 L 311.710938 349.347656 L 325.355469 349.347656 L 325.355469 376.328125 Z \"/>\n",
       "<path style=\" stroke:none;fill-rule:nonzero;fill:rgb(90.196078%,90.196078%,90.196078%);fill-opacity:1;\" d=\"M 130.277344 342.605469 L 130.277344 315.625 L 160.359375 315.625 L 160.359375 342.605469 Z \"/>\n",
       "<path style=\" stroke:none;fill-rule:nonzero;fill:rgb(80%,80%,80%);fill-opacity:1;\" d=\"M 160.359375 342.605469 L 160.359375 315.625 L 265.152344 315.625 L 265.152344 342.605469 Z \"/>\n",
       "<path style=\" stroke:none;fill-rule:nonzero;fill:rgb(68.235294%,68.235294%,68.235294%);fill-opacity:1;\" d=\"M 265.152344 342.605469 L 265.152344 315.625 L 267.648438 315.625 L 267.648438 342.605469 Z \"/>\n",
       "<path style=\" stroke:none;fill-rule:nonzero;fill:rgb(53.333333%,53.333333%,53.333333%);fill-opacity:1;\" d=\"M 267.648438 342.605469 L 267.648438 315.625 L 312.925781 315.625 L 312.925781 342.605469 Z \"/>\n",
       "<path style=\" stroke:none;fill-rule:nonzero;fill:rgb(30.196078%,30.196078%,30.196078%);fill-opacity:1;\" d=\"M 312.925781 342.605469 L 312.925781 315.625 L 322.277344 315.625 L 322.277344 342.605469 Z \"/>\n",
       "<path style=\" stroke:none;fill-rule:nonzero;fill:rgb(90.196078%,90.196078%,90.196078%);fill-opacity:1;\" d=\"M 122.683594 308.878906 L 122.683594 281.898438 L 239.226562 281.898438 L 239.226562 308.878906 Z \"/>\n",
       "<path style=\" stroke:none;fill-rule:nonzero;fill:rgb(80%,80%,80%);fill-opacity:1;\" d=\"M 239.226562 308.878906 L 239.226562 281.898438 L 241.667969 281.898438 L 241.667969 308.878906 Z \"/>\n",
       "<path style=\" stroke:none;fill-rule:nonzero;fill:rgb(68.235294%,68.235294%,68.235294%);fill-opacity:1;\" d=\"M 241.667969 308.878906 L 241.667969 281.898438 L 291.132812 281.898438 L 291.132812 308.878906 Z \"/>\n",
       "<path style=\" stroke:none;fill-rule:nonzero;fill:rgb(53.333333%,53.333333%,53.333333%);fill-opacity:1;\" d=\"M 291.132812 308.878906 L 291.132812 281.898438 L 296.425781 281.898438 L 296.425781 308.878906 Z \"/>\n",
       "<path style=\" stroke:none;fill-rule:nonzero;fill:rgb(30.196078%,30.196078%,30.196078%);fill-opacity:1;\" d=\"M 296.425781 308.878906 L 296.425781 281.898438 L 314.683594 281.898438 L 314.683594 308.878906 Z \"/>\n",
       "<path style=\" stroke:none;fill-rule:nonzero;fill:rgb(90.196078%,90.196078%,90.196078%);fill-opacity:1;\" d=\"M 136.789062 275.152344 L 136.789062 248.171875 L 221.960938 248.171875 L 221.960938 275.152344 Z \"/>\n",
       "<path style=\" stroke:none;fill-rule:nonzero;fill:rgb(80%,80%,80%);fill-opacity:1;\" d=\"M 221.960938 275.152344 L 221.960938 248.171875 L 225.191406 248.171875 L 225.191406 275.152344 Z \"/>\n",
       "<path style=\" stroke:none;fill-rule:nonzero;fill:rgb(68.235294%,68.235294%,68.235294%);fill-opacity:1;\" d=\"M 225.191406 275.152344 L 225.191406 248.171875 L 307.605469 248.171875 L 307.605469 275.152344 Z \"/>\n",
       "<path style=\" stroke:none;fill-rule:nonzero;fill:rgb(53.333333%,53.333333%,53.333333%);fill-opacity:1;\" d=\"M 307.605469 275.152344 L 307.605469 248.171875 L 314.242188 248.171875 L 314.242188 275.152344 Z \"/>\n",
       "<path style=\" stroke:none;fill-rule:nonzero;fill:rgb(30.196078%,30.196078%,30.196078%);fill-opacity:1;\" d=\"M 314.242188 275.152344 L 314.242188 248.171875 L 328.789062 248.171875 L 328.789062 275.152344 Z \"/>\n",
       "<path style=\" stroke:none;fill-rule:nonzero;fill:rgb(90.196078%,90.196078%,90.196078%);fill-opacity:1;\" d=\"M 151.585938 241.425781 L 151.585938 214.445312 L 152.660156 214.445312 L 152.660156 241.425781 Z \"/>\n",
       "<path style=\" stroke:none;fill-rule:nonzero;fill:rgb(80%,80%,80%);fill-opacity:1;\" d=\"M 152.660156 241.425781 L 152.660156 214.445312 L 243.136719 214.445312 L 243.136719 241.425781 Z \"/>\n",
       "<path style=\" stroke:none;fill-rule:nonzero;fill:rgb(68.235294%,68.235294%,68.235294%);fill-opacity:1;\" d=\"M 243.136719 241.425781 L 243.136719 214.445312 L 289.664062 214.445312 L 289.664062 241.425781 Z \"/>\n",
       "<path style=\" stroke:none;fill-rule:nonzero;fill:rgb(53.333333%,53.333333%,53.333333%);fill-opacity:1;\" d=\"M 289.664062 241.425781 L 289.664062 214.445312 L 294.285156 214.445312 L 294.285156 241.425781 Z \"/>\n",
       "<path style=\" stroke:none;fill-rule:nonzero;fill:rgb(30.196078%,30.196078%,30.196078%);fill-opacity:1;\" d=\"M 294.285156 241.425781 L 294.285156 214.445312 L 343.585938 214.445312 L 343.585938 241.425781 Z \"/>\n",
       "<path style=\" stroke:none;fill-rule:nonzero;fill:rgb(90.196078%,90.196078%,90.196078%);fill-opacity:1;\" d=\"M 194.117188 207.703125 L 194.117188 180.722656 L 214.835938 180.722656 L 214.835938 207.703125 Z \"/>\n",
       "<path style=\" stroke:none;fill-rule:nonzero;fill:rgb(80%,80%,80%);fill-opacity:1;\" d=\"M 214.835938 207.703125 L 214.835938 180.722656 L 239.410156 180.722656 L 239.410156 207.703125 Z \"/>\n",
       "<path style=\" stroke:none;fill-rule:nonzero;fill:rgb(68.235294%,68.235294%,68.235294%);fill-opacity:1;\" d=\"M 239.410156 207.703125 L 239.410156 180.722656 L 293.390625 180.722656 L 293.390625 207.703125 Z \"/>\n",
       "<path style=\" stroke:none;fill-rule:nonzero;fill:rgb(53.333333%,53.333333%,53.333333%);fill-opacity:1;\" d=\"M 293.390625 207.703125 L 293.390625 180.722656 L 317.726562 180.722656 L 317.726562 207.703125 Z \"/>\n",
       "<path style=\" stroke:none;fill-rule:nonzero;fill:rgb(30.196078%,30.196078%,30.196078%);fill-opacity:1;\" d=\"M 317.726562 207.703125 L 317.726562 180.722656 L 386.117188 180.722656 L 386.117188 207.703125 Z \"/>\n",
       "<path style=\" stroke:none;fill-rule:nonzero;fill:rgb(90.196078%,90.196078%,90.196078%);fill-opacity:1;\" d=\"M 235.292969 173.976562 L 235.292969 146.996094 L 239.808594 146.996094 L 239.808594 173.976562 Z \"/>\n",
       "<path style=\" stroke:none;fill-rule:nonzero;fill:rgb(80%,80%,80%);fill-opacity:1;\" d=\"M 239.808594 173.976562 L 239.808594 146.996094 L 247.195312 146.996094 L 247.195312 173.976562 Z \"/>\n",
       "<path style=\" stroke:none;fill-rule:nonzero;fill:rgb(68.235294%,68.235294%,68.235294%);fill-opacity:1;\" d=\"M 247.195312 173.976562 L 247.195312 146.996094 L 285.605469 146.996094 L 285.605469 173.976562 Z \"/>\n",
       "<path style=\" stroke:none;fill-rule:nonzero;fill:rgb(53.333333%,53.333333%,53.333333%);fill-opacity:1;\" d=\"M 285.605469 173.976562 L 285.605469 146.996094 L 361.144531 146.996094 L 361.144531 173.976562 Z \"/>\n",
       "<path style=\" stroke:none;fill-rule:nonzero;fill:rgb(30.196078%,30.196078%,30.196078%);fill-opacity:1;\" d=\"M 361.144531 173.976562 L 361.144531 146.996094 L 427.292969 146.996094 L 427.292969 173.976562 Z \"/>\n",
       "<path style=\" stroke:none;fill-rule:nonzero;fill:rgb(90.196078%,90.196078%,90.196078%);fill-opacity:1;\" d=\"M 198.515625 140.25 L 198.515625 113.269531 L 228.015625 113.269531 L 228.015625 140.25 Z \"/>\n",
       "<path style=\" stroke:none;fill-rule:nonzero;fill:rgb(80%,80%,80%);fill-opacity:1;\" d=\"M 228.015625 140.25 L 228.015625 113.269531 L 264.164062 113.269531 L 264.164062 140.25 Z \"/>\n",
       "<path style=\" stroke:none;fill-rule:nonzero;fill:rgb(68.235294%,68.235294%,68.235294%);fill-opacity:1;\" d=\"M 264.164062 140.25 L 264.164062 113.269531 L 268.636719 113.269531 L 268.636719 140.25 Z \"/>\n",
       "<path style=\" stroke:none;fill-rule:nonzero;fill:rgb(53.333333%,53.333333%,53.333333%);fill-opacity:1;\" d=\"M 268.636719 140.25 L 268.636719 113.269531 L 280.898438 113.269531 L 280.898438 140.25 Z \"/>\n",
       "<path style=\" stroke:none;fill-rule:nonzero;fill:rgb(30.196078%,30.196078%,30.196078%);fill-opacity:1;\" d=\"M 280.898438 140.25 L 280.898438 113.269531 L 390.515625 113.269531 L 390.515625 140.25 Z \"/>\n",
       "<path style=\" stroke:none;fill-rule:nonzero;fill:rgb(90.196078%,90.196078%,90.196078%);fill-opacity:1;\" d=\"M 209.34375 106.527344 L 209.34375 79.546875 L 245.691406 79.546875 L 245.691406 106.527344 Z \"/>\n",
       "<path style=\" stroke:none;fill-rule:nonzero;fill:rgb(80%,80%,80%);fill-opacity:1;\" d=\"M 245.691406 106.527344 L 245.691406 79.546875 L 254.328125 79.546875 L 254.328125 106.527344 Z \"/>\n",
       "<path style=\" stroke:none;fill-rule:nonzero;fill:rgb(68.235294%,68.235294%,68.235294%);fill-opacity:1;\" d=\"M 254.328125 106.527344 L 254.328125 79.546875 L 278.472656 79.546875 L 278.472656 106.527344 Z \"/>\n",
       "<path style=\" stroke:none;fill-rule:nonzero;fill:rgb(53.333333%,53.333333%,53.333333%);fill-opacity:1;\" d=\"M 278.472656 106.527344 L 278.472656 79.546875 L 400.019531 79.546875 L 400.019531 106.527344 Z \"/>\n",
       "<path style=\" stroke:none;fill-rule:nonzero;fill:rgb(30.196078%,30.196078%,30.196078%);fill-opacity:1;\" d=\"M 400.019531 106.527344 L 400.019531 79.546875 L 401.34375 79.546875 L 401.34375 106.527344 Z \"/>\n",
       "<path style=\"fill:none;stroke-width:1;stroke-linecap:round;stroke-linejoin:round;stroke:rgb(0%,0%,0%);stroke-opacity:1;stroke-miterlimit:10;\" d=\"M 59.039062 396.566406 L 59.039062 93.035156 \"/>\n",
       "<path style=\"fill:none;stroke-width:1;stroke-linecap:round;stroke-linejoin:round;stroke:rgb(0%,0%,0%);stroke-opacity:1;stroke-miterlimit:10;\" d=\"M 59.039062 396.566406 L 51.839844 396.566406 \"/>\n",
       "<path style=\"fill:none;stroke-width:1;stroke-linecap:round;stroke-linejoin:round;stroke:rgb(0%,0%,0%);stroke-opacity:1;stroke-miterlimit:10;\" d=\"M 59.039062 362.839844 L 51.839844 362.839844 \"/>\n",
       "<path style=\"fill:none;stroke-width:1;stroke-linecap:round;stroke-linejoin:round;stroke:rgb(0%,0%,0%);stroke-opacity:1;stroke-miterlimit:10;\" d=\"M 59.039062 329.113281 L 51.839844 329.113281 \"/>\n",
       "<path style=\"fill:none;stroke-width:1;stroke-linecap:round;stroke-linejoin:round;stroke:rgb(0%,0%,0%);stroke-opacity:1;stroke-miterlimit:10;\" d=\"M 59.039062 295.386719 L 51.839844 295.386719 \"/>\n",
       "<path style=\"fill:none;stroke-width:1;stroke-linecap:round;stroke-linejoin:round;stroke:rgb(0%,0%,0%);stroke-opacity:1;stroke-miterlimit:10;\" d=\"M 59.039062 261.664062 L 51.839844 261.664062 \"/>\n",
       "<path style=\"fill:none;stroke-width:1;stroke-linecap:round;stroke-linejoin:round;stroke:rgb(0%,0%,0%);stroke-opacity:1;stroke-miterlimit:10;\" d=\"M 59.039062 227.9375 L 51.839844 227.9375 \"/>\n",
       "<path style=\"fill:none;stroke-width:1;stroke-linecap:round;stroke-linejoin:round;stroke:rgb(0%,0%,0%);stroke-opacity:1;stroke-miterlimit:10;\" d=\"M 59.039062 194.210938 L 51.839844 194.210938 \"/>\n",
       "<path style=\"fill:none;stroke-width:1;stroke-linecap:round;stroke-linejoin:round;stroke:rgb(0%,0%,0%);stroke-opacity:1;stroke-miterlimit:10;\" d=\"M 59.039062 160.484375 L 51.839844 160.484375 \"/>\n",
       "<path style=\"fill:none;stroke-width:1;stroke-linecap:round;stroke-linejoin:round;stroke:rgb(0%,0%,0%);stroke-opacity:1;stroke-miterlimit:10;\" d=\"M 59.039062 126.761719 L 51.839844 126.761719 \"/>\n",
       "<path style=\"fill:none;stroke-width:1;stroke-linecap:round;stroke-linejoin:round;stroke:rgb(0%,0%,0%);stroke-opacity:1;stroke-miterlimit:10;\" d=\"M 59.039062 93.035156 L 51.839844 93.035156 \"/>\n",
       "<g style=\"fill:rgb(0%,0%,0%);fill-opacity:1;\">\n",
       "  <use xlink:href=\"#glyph0-6\" x=\"21.015625\" y=\"401.050781\"/>\n",
       "  <use xlink:href=\"#glyph0-2\" x=\"30.738525\" y=\"401.050781\"/>\n",
       "  <use xlink:href=\"#glyph0-4\" x=\"37.69043\" y=\"401.050781\"/>\n",
       "</g>\n",
       "<g style=\"fill:rgb(0%,0%,0%);fill-opacity:1;\">\n",
       "  <use xlink:href=\"#glyph0-6\" x=\"27.964844\" y=\"367.324219\"/>\n",
       "  <use xlink:href=\"#glyph0-7\" x=\"37.687744\" y=\"367.324219\"/>\n",
       "</g>\n",
       "<g style=\"fill:rgb(0%,0%,0%);fill-opacity:1;\">\n",
       "  <use xlink:href=\"#glyph0-6\" x=\"27.964844\" y=\"333.597656\"/>\n",
       "  <use xlink:href=\"#glyph0-8\" x=\"37.687744\" y=\"333.597656\"/>\n",
       "</g>\n",
       "<g style=\"fill:rgb(0%,0%,0%);fill-opacity:1;\">\n",
       "  <use xlink:href=\"#glyph0-6\" x=\"27.964844\" y=\"299.871094\"/>\n",
       "  <use xlink:href=\"#glyph0-9\" x=\"37.687744\" y=\"299.871094\"/>\n",
       "</g>\n",
       "<g style=\"fill:rgb(0%,0%,0%);fill-opacity:1;\">\n",
       "  <use xlink:href=\"#glyph0-6\" x=\"27.964844\" y=\"266.148438\"/>\n",
       "  <use xlink:href=\"#glyph0-10\" x=\"37.687744\" y=\"266.148438\"/>\n",
       "</g>\n",
       "<g style=\"fill:rgb(0%,0%,0%);fill-opacity:1;\">\n",
       "  <use xlink:href=\"#glyph0-6\" x=\"27.964844\" y=\"232.421875\"/>\n",
       "  <use xlink:href=\"#glyph0-5\" x=\"37.687744\" y=\"232.421875\"/>\n",
       "</g>\n",
       "<g style=\"fill:rgb(0%,0%,0%);fill-opacity:1;\">\n",
       "  <use xlink:href=\"#glyph0-6\" x=\"27.964844\" y=\"198.695312\"/>\n",
       "  <use xlink:href=\"#glyph0-11\" x=\"37.687744\" y=\"198.695312\"/>\n",
       "</g>\n",
       "<g style=\"fill:rgb(0%,0%,0%);fill-opacity:1;\">\n",
       "  <use xlink:href=\"#glyph0-6\" x=\"27.964844\" y=\"164.96875\"/>\n",
       "  <use xlink:href=\"#glyph0-12\" x=\"37.687744\" y=\"164.96875\"/>\n",
       "</g>\n",
       "<g style=\"fill:rgb(0%,0%,0%);fill-opacity:1;\">\n",
       "  <use xlink:href=\"#glyph0-6\" x=\"27.964844\" y=\"131.246094\"/>\n",
       "  <use xlink:href=\"#glyph0-13\" x=\"37.687744\" y=\"131.246094\"/>\n",
       "</g>\n",
       "<g style=\"fill:rgb(0%,0%,0%);fill-opacity:1;\">\n",
       "  <use xlink:href=\"#glyph0-6\" x=\"27.964844\" y=\"97.519531\"/>\n",
       "  <use xlink:href=\"#glyph0-2\" x=\"37.687744\" y=\"97.519531\"/>\n",
       "</g>\n",
       "<path style=\"fill-rule:nonzero;fill:rgb(90.196078%,90.196078%,90.196078%);fill-opacity:1;stroke-width:1;stroke-linecap:round;stroke-linejoin:round;stroke:rgb(0%,0%,0%);stroke-opacity:1;stroke-miterlimit:10;\" d=\"M 69.839844 69.839844 L 78.480469 69.839844 L 78.480469 77.039062 L 69.839844 77.039062 Z \"/>\n",
       "<path style=\"fill-rule:nonzero;fill:rgb(80%,80%,80%);fill-opacity:1;stroke-width:1;stroke-linecap:round;stroke-linejoin:round;stroke:rgb(0%,0%,0%);stroke-opacity:1;stroke-miterlimit:10;\" d=\"M 69.839844 84.238281 L 78.480469 84.238281 L 78.480469 91.4375 L 69.839844 91.4375 Z \"/>\n",
       "<path style=\"fill-rule:nonzero;fill:rgb(68.235294%,68.235294%,68.235294%);fill-opacity:1;stroke-width:1;stroke-linecap:round;stroke-linejoin:round;stroke:rgb(0%,0%,0%);stroke-opacity:1;stroke-miterlimit:10;\" d=\"M 69.839844 98.640625 L 78.480469 98.640625 L 78.480469 105.839844 L 69.839844 105.839844 Z \"/>\n",
       "<path style=\"fill-rule:nonzero;fill:rgb(53.333333%,53.333333%,53.333333%);fill-opacity:1;stroke-width:1;stroke-linecap:round;stroke-linejoin:round;stroke:rgb(0%,0%,0%);stroke-opacity:1;stroke-miterlimit:10;\" d=\"M 69.839844 113.039062 L 78.480469 113.039062 L 78.480469 120.238281 L 69.839844 120.238281 Z \"/>\n",
       "<path style=\"fill-rule:nonzero;fill:rgb(30.196078%,30.196078%,30.196078%);fill-opacity:1;stroke-width:1;stroke-linecap:round;stroke-linejoin:round;stroke:rgb(0%,0%,0%);stroke-opacity:1;stroke-miterlimit:10;\" d=\"M 69.839844 127.441406 L 78.480469 127.441406 L 78.480469 134.640625 L 69.839844 134.640625 Z \"/>\n",
       "<g style=\"fill:rgb(0%,0%,0%);fill-opacity:1;\">\n",
       "  <use xlink:href=\"#glyph0-14\" x=\"89.28125\" y=\"77.925781\"/>\n",
       "  <use xlink:href=\"#glyph0-15\" x=\"97.618652\" y=\"77.925781\"/>\n",
       "  <use xlink:href=\"#glyph0-16\" x=\"101.091553\" y=\"77.925781\"/>\n",
       "  <use xlink:href=\"#glyph0-17\" x=\"105.25415\" y=\"77.925781\"/>\n",
       "  <use xlink:href=\"#glyph0-18\" x=\"112.206055\" y=\"77.925781\"/>\n",
       "  <use xlink:href=\"#glyph0-19\" x=\"119.157959\" y=\"77.925781\"/>\n",
       "  <use xlink:href=\"#glyph0-20\" x=\"126.109863\" y=\"77.925781\"/>\n",
       "  <use xlink:href=\"#glyph0-21\" x=\"128.886963\" y=\"77.925781\"/>\n",
       "  <use xlink:href=\"#glyph0-22\" x=\"135.136963\" y=\"77.925781\"/>\n",
       "  <use xlink:href=\"#glyph0-23\" x=\"138.609863\" y=\"77.925781\"/>\n",
       "  <use xlink:href=\"#glyph0-24\" x=\"147.636963\" y=\"77.925781\"/>\n",
       "  <use xlink:href=\"#glyph0-25\" x=\"150.414062\" y=\"77.925781\"/>\n",
       "  <use xlink:href=\"#glyph0-26\" x=\"156.664062\" y=\"77.925781\"/>\n",
       "  <use xlink:href=\"#glyph0-19\" x=\"163.615967\" y=\"77.925781\"/>\n",
       "  <use xlink:href=\"#glyph0-16\" x=\"170.567871\" y=\"77.925781\"/>\n",
       "  <use xlink:href=\"#glyph0-27\" x=\"174.730469\" y=\"77.925781\"/>\n",
       "  <use xlink:href=\"#glyph0-27\" x=\"181.682373\" y=\"77.925781\"/>\n",
       "</g>\n",
       "<g style=\"fill:rgb(0%,0%,0%);fill-opacity:1;\">\n",
       "  <use xlink:href=\"#glyph0-23\" x=\"89.28125\" y=\"92.324219\"/>\n",
       "  <use xlink:href=\"#glyph0-24\" x=\"98.30835\" y=\"92.324219\"/>\n",
       "  <use xlink:href=\"#glyph0-25\" x=\"101.085449\" y=\"92.324219\"/>\n",
       "  <use xlink:href=\"#glyph0-26\" x=\"107.335449\" y=\"92.324219\"/>\n",
       "  <use xlink:href=\"#glyph0-19\" x=\"114.287354\" y=\"92.324219\"/>\n",
       "  <use xlink:href=\"#glyph0-16\" x=\"121.239258\" y=\"92.324219\"/>\n",
       "  <use xlink:href=\"#glyph0-27\" x=\"125.401855\" y=\"92.324219\"/>\n",
       "  <use xlink:href=\"#glyph0-27\" x=\"132.35376\" y=\"92.324219\"/>\n",
       "</g>\n",
       "<g style=\"fill:rgb(0%,0%,0%);fill-opacity:1;\">\n",
       "  <use xlink:href=\"#glyph0-28\" x=\"89.28125\" y=\"106.722656\"/>\n",
       "  <use xlink:href=\"#glyph0-27\" x=\"98.30835\" y=\"106.722656\"/>\n",
       "  <use xlink:href=\"#glyph0-29\" x=\"105.260254\" y=\"106.722656\"/>\n",
       "  <use xlink:href=\"#glyph0-15\" x=\"112.212158\" y=\"106.722656\"/>\n",
       "  <use xlink:href=\"#glyph0-16\" x=\"115.685059\" y=\"106.722656\"/>\n",
       "  <use xlink:href=\"#glyph0-26\" x=\"119.847656\" y=\"106.722656\"/>\n",
       "  <use xlink:href=\"#glyph0-20\" x=\"126.799561\" y=\"106.722656\"/>\n",
       "</g>\n",
       "<g style=\"fill:rgb(0%,0%,0%);fill-opacity:1;\">\n",
       "  <use xlink:href=\"#glyph0-30\" x=\"89.28125\" y=\"121.125\"/>\n",
       "  <use xlink:href=\"#glyph0-19\" x=\"97.618652\" y=\"121.125\"/>\n",
       "  <use xlink:href=\"#glyph0-16\" x=\"104.570557\" y=\"121.125\"/>\n",
       "  <use xlink:href=\"#glyph0-27\" x=\"108.733154\" y=\"121.125\"/>\n",
       "  <use xlink:href=\"#glyph0-27\" x=\"115.685059\" y=\"121.125\"/>\n",
       "</g>\n",
       "<g style=\"fill:rgb(0%,0%,0%);fill-opacity:1;\">\n",
       "  <use xlink:href=\"#glyph0-14\" x=\"89.28125\" y=\"135.523438\"/>\n",
       "  <use xlink:href=\"#glyph0-15\" x=\"97.618652\" y=\"135.523438\"/>\n",
       "  <use xlink:href=\"#glyph0-16\" x=\"101.091553\" y=\"135.523438\"/>\n",
       "  <use xlink:href=\"#glyph0-17\" x=\"105.25415\" y=\"135.523438\"/>\n",
       "  <use xlink:href=\"#glyph0-18\" x=\"112.206055\" y=\"135.523438\"/>\n",
       "  <use xlink:href=\"#glyph0-19\" x=\"119.157959\" y=\"135.523438\"/>\n",
       "  <use xlink:href=\"#glyph0-20\" x=\"126.109863\" y=\"135.523438\"/>\n",
       "  <use xlink:href=\"#glyph0-21\" x=\"128.886963\" y=\"135.523438\"/>\n",
       "  <use xlink:href=\"#glyph0-22\" x=\"135.136963\" y=\"135.523438\"/>\n",
       "  <use xlink:href=\"#glyph0-30\" x=\"138.609863\" y=\"135.523438\"/>\n",
       "  <use xlink:href=\"#glyph0-19\" x=\"146.947266\" y=\"135.523438\"/>\n",
       "  <use xlink:href=\"#glyph0-16\" x=\"153.89917\" y=\"135.523438\"/>\n",
       "  <use xlink:href=\"#glyph0-27\" x=\"158.061768\" y=\"135.523438\"/>\n",
       "  <use xlink:href=\"#glyph0-27\" x=\"165.013672\" y=\"135.523438\"/>\n",
       "</g>\n",
       "<g clip-path=\"url(#clip1)\" clip-rule=\"nonzero\">\n",
       "<path style=\"fill:none;stroke-width:1;stroke-linecap:round;stroke-linejoin:round;stroke:rgb(0%,0%,0%);stroke-opacity:1;stroke-dasharray:4,4;stroke-miterlimit:10;\" d=\"M 266.398438 430.558594 L 266.398438 59.039062 \"/>\n",
       "</g>\n",
       "</g>\n",
       "</svg>\n"
      ],
      "text/plain": [
       "plot without title"
      ]
     },
     "metadata": {
      "image/svg+xml": {
       "isolated": true
      }
     },
     "output_type": "display_data"
    }
   ],
   "source": [
    "set.seed(40)\n",
    "x <- matrix(rgamma(50,1,1),10,5)\n",
    "x <- x/rowSums(x)\n",
    "colnames(x) <- c(\"Strongly Disagree\", \"Disagree\",\n",
    "                 \"Neutral\", \"Agree\", \"Strongly Agree\")\n",
    "rownames(x) <- paste0(\"Q\", 1:nrow(x))\n",
    "\n",
    "\n",
    "## colors for each category\n",
    "clrs <- rev(gray.colors(ncol(x))) ## colors\n",
    "\n",
    "## centering category\n",
    "acat <- 3 ## \"Neutral\"\n",
    "\n",
    "## separation between bars\n",
    "sepr <- 0.2\n",
    "\n",
    "## ncol and nrow\n",
    "nr <- nrow(x)\n",
    "nc <- ncol(x)\n",
    "\n",
    "## reorder so that questions 1:nrow(x) go from top down\n",
    "x <- x[nr:1,] \n",
    "\n",
    "## compute center offsets\n",
    "cnof <- apply(x, 1, function(y) {\n",
    "  lo <- if(acat > 1) sum(y[1:(acat-1)]) else 0\n",
    "  hi <- sum(y[1:acat])\n",
    "  lo + (hi-lo)/2\n",
    "})\n",
    "\n",
    "## create plot\n",
    "plot(c(-1,1), c(1,nr), type=\"n\",\n",
    "     ylim=c(1-(1-sepr)/2-sepr,\n",
    "            nr+(1-sepr)/2+sepr),\n",
    "     ylab=\"\", yaxt=\"n\",\n",
    "     xlab=\"\", )\n",
    "\n",
    "## plot bars\n",
    "for(i in 1:nr) {\n",
    "  for(j in 1:nc) {\n",
    "    lo <- if(j > 1) sum(x[i,][1:(j-1)]) else 0\n",
    "    hi <- sum(x[i,][1:j])\n",
    "    polygon(x=c(lo, lo, hi, hi)-cnof[i],\n",
    "            y=c(i-(1-sepr)/2, i+(1-sepr)/2,\n",
    "                i+(1-sepr)/2, i-(1-sepr)/2),\n",
    "            col=clrs[j], border=NA)\n",
    "  }\n",
    "}\n",
    "\n",
    "## create y-axis\n",
    "axis(2, at=1:nr, las=2, xpd=NA, labels=rownames(x)) \n",
    "legend(\"topleft\", fill=clrs, bty=\"n\", legend=colnames(x))\n",
    "\n",
    "## add center line\n",
    "abline(v=0, lty=2)\n"
   ]
  },
  {
   "cell_type": "code",
   "execution_count": 48,
   "metadata": {
    "collapsed": false
   },
   "outputs": [
    {
     "data": {
      "text/html": [
       "<table>\n",
       "<thead><tr><th></th><th scope=col>Strongly Disagree</th><th scope=col>Disagree</th><th scope=col>Neutral</th><th scope=col>Agree</th><th scope=col>Strongly Agree</th></tr></thead>\n",
       "<tbody>\n",
       "\t<tr><th scope=row>Q10</th><td>0.2082850</td><td>0.2311013</td><td>0.1260881</td><td>0.1065782</td><td>0.3279473</td></tr>\n",
       "\t<tr><th scope=row>Q9</th><td>0.04064632</td><td>0.45991199</td><td>0.38474905</td><td>0.04362408</td><td>0.07106856</td></tr>\n",
       "\t<tr><th scope=row>Q8</th><td>0.15667175</td><td>0.54579887</td><td>0.01299913</td><td>0.23582576</td><td>0.04870449</td></tr>\n",
       "\t<tr><th scope=row>Q7</th><td>0.60700022</td><td>0.01270126</td><td>0.25763510</td><td>0.02756255</td><td>0.09510087</td></tr>\n",
       "\t<tr><th scope=row>Q6</th><td>0.44360933</td><td>0.01683174</td><td>0.42924049</td><td>0.03456616</td><td>0.07575228</td></tr>\n",
       "\t<tr><th scope=row>Q5</th><td>0.005594751</td><td>0.471236163</td><td>0.242320574</td><td>0.024069861</td><td>0.256778650</td></tr>\n",
       "</tbody>\n",
       "</table>\n"
      ],
      "text/latex": [
       "\\begin{tabular}{r|lllll}\n",
       "  & Strongly Disagree & Disagree & Neutral & Agree & Strongly Agree\\\\\n",
       "\\hline\n",
       "\tQ10 & 0.2082850 & 0.2311013 & 0.1260881 & 0.1065782 & 0.3279473\\\\\n",
       "\tQ9 & 0.04064632 & 0.45991199 & 0.38474905 & 0.04362408 & 0.07106856\\\\\n",
       "\tQ8 & 0.15667175 & 0.54579887 & 0.01299913 & 0.23582576 & 0.04870449\\\\\n",
       "\tQ7 & 0.60700022 & 0.01270126 & 0.25763510 & 0.02756255 & 0.09510087\\\\\n",
       "\tQ6 & 0.44360933 & 0.01683174 & 0.42924049 & 0.03456616 & 0.07575228\\\\\n",
       "\tQ5 & 0.005594751 & 0.471236163 & 0.242320574 & 0.024069861 & 0.256778650\\\\\n",
       "\\end{tabular}\n"
      ],
      "text/markdown": [
       "1. 0.208285038123797\n",
       "2. 0.040646321518046\n",
       "3. 0.156671747579918\n",
       "4. 0.607000215014807\n",
       "5. 0.44360932726838\n",
       "6. 0.00559475137132645\n",
       "7. 0.231101329714928\n",
       "8. 0.459911989487995\n",
       "9. 0.545798874561548\n",
       "10. 0.0127012648748141\n",
       "11. 0.0168317445479401\n",
       "12. 0.471236163461053\n",
       "13. 0.126088149407936\n",
       "14. 0.384749045724238\n",
       "15. 0.0129991252232753\n",
       "16. 0.257635099846323\n",
       "17. 0.429240488372571\n",
       "18. 0.242320574240223\n",
       "19. 0.106578199692743\n",
       "20. 0.0436240791018825\n",
       "21. 0.235825760853786\n",
       "22. 0.0275625547649604\n",
       "23. 0.0345661633183732\n",
       "24. 0.0240698613110318\n",
       "25. 0.327947283060597\n",
       "26. 0.0710685641678381\n",
       "27. 0.0487044917814731\n",
       "28. 0.0951008654990951\n",
       "29. 0.0757522764927352\n",
       "30. 0.256778649616367\n",
       "\n",
       "\n"
      ],
      "text/plain": [
       "    Strongly Disagree   Disagree    Neutral      Agree Strongly Agree\n",
       "Q10       0.208285038 0.23110133 0.12608815 0.10657820     0.32794728\n",
       "Q9        0.040646322 0.45991199 0.38474905 0.04362408     0.07106856\n",
       "Q8        0.156671748 0.54579887 0.01299913 0.23582576     0.04870449\n",
       "Q7        0.607000215 0.01270126 0.25763510 0.02756255     0.09510087\n",
       "Q6        0.443609327 0.01683174 0.42924049 0.03456616     0.07575228\n",
       "Q5        0.005594751 0.47123616 0.24232057 0.02406986     0.25677865"
      ]
     },
     "metadata": {},
     "output_type": "display_data"
    }
   ],
   "source": [
    "head(x)\n"
   ]
  },
  {
   "cell_type": "code",
   "execution_count": 49,
   "metadata": {
    "collapsed": false
   },
   "outputs": [
    {
     "data": {
      "text/html": [
       "<table>\n",
       "<thead><tr><th></th><th scope=col>Strongly Disagree</th><th scope=col>Disagree</th><th scope=col>Neutral</th><th scope=col>Agree</th><th scope=col>Strongly Agree</th></tr></thead>\n",
       "<tbody>\n",
       "\t<tr><th scope=row>Q10</th><td>0.2082850</td><td>0.2311013</td><td>0.1260881</td><td>0.1065782</td><td>0.3279473</td></tr>\n",
       "\t<tr><th scope=row>Q9</th><td>0.04064632</td><td>0.45991199</td><td>0.38474905</td><td>0.04362408</td><td>0.07106856</td></tr>\n",
       "\t<tr><th scope=row>Q8</th><td>0.15667175</td><td>0.54579887</td><td>0.01299913</td><td>0.23582576</td><td>0.04870449</td></tr>\n",
       "\t<tr><th scope=row>Q7</th><td>0.60700022</td><td>0.01270126</td><td>0.25763510</td><td>0.02756255</td><td>0.09510087</td></tr>\n",
       "\t<tr><th scope=row>Q6</th><td>0.44360933</td><td>0.01683174</td><td>0.42924049</td><td>0.03456616</td><td>0.07575228</td></tr>\n",
       "\t<tr><th scope=row>Q5</th><td>0.005594751</td><td>0.471236163</td><td>0.242320574</td><td>0.024069861</td><td>0.256778650</td></tr>\n",
       "\t<tr><th scope=row>Q4</th><td>0.1079143</td><td>0.1279794</td><td>0.2811541</td><td>0.1267584</td><td>0.3561937</td></tr>\n",
       "\t<tr><th scope=row>Q3</th><td>0.02351776</td><td>0.03847138</td><td>0.20004444</td><td>0.39342948</td><td>0.34453695</td></tr>\n",
       "\t<tr><th scope=row>Q2</th><td>0.15364919</td><td>0.18827816</td><td>0.02328442</td><td>0.06387391</td><td>0.57091432</td></tr>\n",
       "\t<tr><th scope=row>Q1</th><td>0.189321709</td><td>0.044967766</td><td>0.125760017</td><td>0.633062163</td><td>0.006888345</td></tr>\n",
       "</tbody>\n",
       "</table>\n"
      ],
      "text/latex": [
       "\\begin{tabular}{r|lllll}\n",
       "  & Strongly Disagree & Disagree & Neutral & Agree & Strongly Agree\\\\\n",
       "\\hline\n",
       "\tQ10 & 0.2082850 & 0.2311013 & 0.1260881 & 0.1065782 & 0.3279473\\\\\n",
       "\tQ9 & 0.04064632 & 0.45991199 & 0.38474905 & 0.04362408 & 0.07106856\\\\\n",
       "\tQ8 & 0.15667175 & 0.54579887 & 0.01299913 & 0.23582576 & 0.04870449\\\\\n",
       "\tQ7 & 0.60700022 & 0.01270126 & 0.25763510 & 0.02756255 & 0.09510087\\\\\n",
       "\tQ6 & 0.44360933 & 0.01683174 & 0.42924049 & 0.03456616 & 0.07575228\\\\\n",
       "\tQ5 & 0.005594751 & 0.471236163 & 0.242320574 & 0.024069861 & 0.256778650\\\\\n",
       "\tQ4 & 0.1079143 & 0.1279794 & 0.2811541 & 0.1267584 & 0.3561937\\\\\n",
       "\tQ3 & 0.02351776 & 0.03847138 & 0.20004444 & 0.39342948 & 0.34453695\\\\\n",
       "\tQ2 & 0.15364919 & 0.18827816 & 0.02328442 & 0.06387391 & 0.57091432\\\\\n",
       "\tQ1 & 0.189321709 & 0.044967766 & 0.125760017 & 0.633062163 & 0.006888345\\\\\n",
       "\\end{tabular}\n"
      ],
      "text/markdown": [
       "1. 0.208285038123797\n",
       "2. 0.040646321518046\n",
       "3. 0.156671747579918\n",
       "4. 0.607000215014807\n",
       "5. 0.44360932726838\n",
       "6. 0.00559475137132645\n",
       "7. 0.107914323715739\n",
       "8. 0.0235177569338189\n",
       "9. 0.153649186484771\n",
       "10. 0.18932170893757\n",
       "11. 0.231101329714928\n",
       "12. 0.459911989487995\n",
       "13. 0.545798874561548\n",
       "14. 0.0127012648748141\n",
       "15. 0.0168317445479401\n",
       "16. 0.471236163461053\n",
       "17. 0.127979425907739\n",
       "18. 0.038471375470334\n",
       "19. 0.188278158319834\n",
       "20. 0.0449677661207736\n",
       "21. 0.126088149407936\n",
       "22. 0.384749045724238\n",
       "23. 0.0129991252232753\n",
       "24. 0.257635099846323\n",
       "25. 0.429240488372571\n",
       "26. 0.242320574240223\n",
       "27. 0.281154140672371\n",
       "28. 0.20004443756794\n",
       "29. 0.0232844242956939\n",
       "30. 0.125760017046603\n",
       "31. 0.106578199692743\n",
       "32. 0.0436240791018825\n",
       "33. 0.235825760853786\n",
       "34. 0.0275625547649604\n",
       "35. 0.0345661633183732\n",
       "36. 0.0240698613110318\n",
       "37. 0.126758417564181\n",
       "38. 0.393429475159923\n",
       "39. 0.0638739119679126\n",
       "40. 0.63306216312111\n",
       "41. 0.327947283060597\n",
       "42. 0.0710685641678381\n",
       "43. 0.0487044917814731\n",
       "44. 0.0951008654990951\n",
       "45. 0.0757522764927352\n",
       "46. 0.256778649616367\n",
       "47. 0.35619369213997\n",
       "48. 0.344536954867984\n",
       "49. 0.570914318931789\n",
       "50. 0.00688834477394339\n",
       "\n",
       "\n"
      ],
      "text/plain": [
       "    Strongly Disagree   Disagree    Neutral      Agree Strongly Agree\n",
       "Q10       0.208285038 0.23110133 0.12608815 0.10657820    0.327947283\n",
       "Q9        0.040646322 0.45991199 0.38474905 0.04362408    0.071068564\n",
       "Q8        0.156671748 0.54579887 0.01299913 0.23582576    0.048704492\n",
       "Q7        0.607000215 0.01270126 0.25763510 0.02756255    0.095100865\n",
       "Q6        0.443609327 0.01683174 0.42924049 0.03456616    0.075752276\n",
       "Q5        0.005594751 0.47123616 0.24232057 0.02406986    0.256778650\n",
       "Q4        0.107914324 0.12797943 0.28115414 0.12675842    0.356193692\n",
       "Q3        0.023517757 0.03847138 0.20004444 0.39342948    0.344536955\n",
       "Q2        0.153649186 0.18827816 0.02328442 0.06387391    0.570914319\n",
       "Q1        0.189321709 0.04496777 0.12576002 0.63306216    0.006888345"
      ]
     },
     "metadata": {},
     "output_type": "display_data"
    }
   ],
   "source": [
    "x"
   ]
  },
  {
   "cell_type": "code",
   "execution_count": 50,
   "metadata": {
    "collapsed": false
   },
   "outputs": [
    {
     "data": {
      "text/html": [
       "<table>\n",
       "<tbody>\n",
       "\t<tr><td>1.7053920</td><td>0.2021273</td><td>0.7615568</td><td>0.2192562</td><td>0.6844458</td></tr>\n",
       "\t<tr><td>0.1591546</td><td>0.1986496</td><td>3.3846383</td><td>0.9559229</td><td>0.4215130</td></tr>\n",
       "\t<tr><td>0.7305412</td><td>0.2151153</td><td>0.2571816</td><td>0.4074093</td><td>0.4783926</td></tr>\n",
       "\t<tr><td>1.7136237</td><td>0.5796253</td><td>2.2997209</td><td>0.5018369</td><td>3.8603597</td></tr>\n",
       "\t<tr><td>0.05919675</td><td>3.62063747</td><td>1.53981994</td><td>1.13371166</td><td>0.01261060</td></tr>\n",
       "\t<tr><td>0.5192955</td><td>1.4873522</td><td>0.1045275</td><td>1.2807758</td><td>0.6081882</td></tr>\n",
       "\t<tr><td>1.7533553</td><td>1.5939005</td><td>2.2805781</td><td>0.8016385</td><td>1.0391847</td></tr>\n",
       "\t<tr><td>0.5218780</td><td>0.5563637</td><td>0.4668945</td><td>0.7464735</td><td>1.6500413</td></tr>\n",
       "\t<tr><td>2.4329936</td><td>0.7472875</td><td>1.2934711</td><td>0.2456427</td><td>2.8146218</td></tr>\n",
       "\t<tr><td>2.8784054</td><td>1.1700794</td><td>0.8339679</td><td>0.2088622</td><td>0.9450346</td></tr>\n",
       "</tbody>\n",
       "</table>\n"
      ],
      "text/latex": [
       "\\begin{tabular}{lllll}\n",
       "\t 1.7053920 & 0.2021273 & 0.7615568 & 0.2192562 & 0.6844458\\\\\n",
       "\t 0.1591546 & 0.1986496 & 3.3846383 & 0.9559229 & 0.4215130\\\\\n",
       "\t 0.7305412 & 0.2151153 & 0.2571816 & 0.4074093 & 0.4783926\\\\\n",
       "\t 1.7136237 & 0.5796253 & 2.2997209 & 0.5018369 & 3.8603597\\\\\n",
       "\t 0.05919675 & 3.62063747 & 1.53981994 & 1.13371166 & 0.01261060\\\\\n",
       "\t 0.5192955 & 1.4873522 & 0.1045275 & 1.2807758 & 0.6081882\\\\\n",
       "\t 1.7533553 & 1.5939005 & 2.2805781 & 0.8016385 & 1.0391847\\\\\n",
       "\t 0.5218780 & 0.5563637 & 0.4668945 & 0.7464735 & 1.6500413\\\\\n",
       "\t 2.4329936 & 0.7472875 & 1.2934711 & 0.2456427 & 2.8146218\\\\\n",
       "\t 2.8784054 & 1.1700794 & 0.8339679 & 0.2088622 & 0.9450346\\\\\n",
       "\\end{tabular}\n"
      ],
      "text/markdown": [
       "1. 1.70539195379312\n",
       "2. 0.159154632385283\n",
       "3. 0.730541201250684\n",
       "4. 1.71362367671229\n",
       "5. 0.0591967515689046\n",
       "6. 0.519295535954165\n",
       "7. 1.75335527148081\n",
       "8. 0.521877954600004\n",
       "9. 2.43299362001925\n",
       "10. 2.87840537107249\n",
       "11. 0.20212733460211\n",
       "12. 0.19864957725537\n",
       "13. 0.215115265008802\n",
       "14. 0.579625329183595\n",
       "15. 3.62063746813936\n",
       "16. 1.48735215470865\n",
       "17. 1.59390048324012\n",
       "18. 0.556363749236292\n",
       "19. 0.747287485324011\n",
       "20. 1.17007941695683\n",
       "21. 0.761556773989032\n",
       "22. 3.38463831140785\n",
       "23. 0.25718163374595\n",
       "24. 2.29972087784169\n",
       "25. 1.5398199368348\n",
       "26. 0.104527536796881\n",
       "27. 2.28057810705418\n",
       "28. 0.466894517718087\n",
       "29. 1.29347110668392\n",
       "30. 0.833967945742009\n",
       "31. 0.219256172547012\n",
       "32. 0.955922926577335\n",
       "33. 0.407409322854927\n",
       "34. 0.501836946446261\n",
       "35. 1.13371166383818\n",
       "36. 1.28077578174297\n",
       "37. 0.801638503930893\n",
       "38. 0.74647354435782\n",
       "39. 0.245642744028316\n",
       "40. 0.208862167085034\n",
       "41. 0.684445820440839\n",
       "42. 0.421513032690278\n",
       "43. 0.478392630113851\n",
       "44. 3.8603596826138\n",
       "45. 0.0126106019280143\n",
       "46. 0.608188170300968\n",
       "47. 1.0391846961059\n",
       "48. 1.65004129805365\n",
       "49. 2.81462179769485\n",
       "50. 0.945034635265543\n",
       "\n",
       "\n"
      ],
      "text/plain": [
       "            [,1]      [,2]      [,3]      [,4]      [,5]\n",
       " [1,] 1.70539195 0.2021273 0.7615568 0.2192562 0.6844458\n",
       " [2,] 0.15915463 0.1986496 3.3846383 0.9559229 0.4215130\n",
       " [3,] 0.73054120 0.2151153 0.2571816 0.4074093 0.4783926\n",
       " [4,] 1.71362368 0.5796253 2.2997209 0.5018369 3.8603597\n",
       " [5,] 0.05919675 3.6206375 1.5398199 1.1337117 0.0126106\n",
       " [6,] 0.51929554 1.4873522 0.1045275 1.2807758 0.6081882\n",
       " [7,] 1.75335527 1.5939005 2.2805781 0.8016385 1.0391847\n",
       " [8,] 0.52187795 0.5563637 0.4668945 0.7464735 1.6500413\n",
       " [9,] 2.43299362 0.7472875 1.2934711 0.2456427 2.8146218\n",
       "[10,] 2.87840537 1.1700794 0.8339679 0.2088622 0.9450346"
      ]
     },
     "metadata": {},
     "output_type": "display_data"
    }
   ],
   "source": [
    "matrix(rgamma(50,1,1),10,5)"
   ]
  },
  {
   "cell_type": "code",
   "execution_count": 51,
   "metadata": {
    "collapsed": false
   },
   "outputs": [
    {
     "data": {
      "text/html": [
       "2397"
      ],
      "text/latex": [
       "2397"
      ],
      "text/markdown": [
       "2397"
      ],
      "text/plain": [
       "[1] 2397"
      ]
     },
     "metadata": {},
     "output_type": "display_data"
    }
   ],
   "source": [
    "length(data$snap1)"
   ]
  },
  {
   "cell_type": "code",
   "execution_count": null,
   "metadata": {
    "collapsed": true
   },
   "outputs": [],
   "source": []
  }
 ],
 "metadata": {
  "kernelspec": {
   "display_name": "R",
   "language": "R",
   "name": "ir"
  },
  "language_info": {
   "codemirror_mode": "r",
   "file_extension": ".r",
   "mimetype": "text/x-r-source",
   "name": "R",
   "pygments_lexer": "r",
   "version": "3.3.0"
  }
 },
 "nbformat": 4,
 "nbformat_minor": 0
}
