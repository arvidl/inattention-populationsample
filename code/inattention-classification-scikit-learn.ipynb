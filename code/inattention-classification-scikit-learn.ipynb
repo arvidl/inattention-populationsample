{
 "cells": [
  {
   "cell_type": "markdown",
   "metadata": {},
   "source": [
    "# Prediction of academic achievement in adolescents from teacher reports of inattention in childhood - a pattern classification study\n",
    "### AJ Lundervold, T Bø, A Lundervold"
   ]
  },
  {
   "cell_type": "markdown",
   "metadata": {},
   "source": [
    "<img src=\"Data_to_classes_pptx.png\",width=700,height=700>"
   ]
  },
  {
   "cell_type": "code",
   "execution_count": 262,
   "metadata": {
    "collapsed": false
   },
   "outputs": [],
   "source": [
    "%matplotlib inline\n",
    "from matplotlib import pyplot as plt\n",
    "import numpy as np\n",
    "import pandas as pd\n",
    "import seaborn as sns\n",
    "import math\n",
    "import ggplot\n",
    "import os\n",
    "\n",
    "# N(ot true), S(omewhat true), C(ertainly true) on SNAP\n",
    "# L(ow), M(edium), H(igh) marks / mean academic achievement\n",
    "f1 = \"../data/inattention_nomiss_2397x12_snap_is_0_1_2.csv\"\n",
    "f2 = \"../data/inattention_nomiss_2397x12_snap_is_0_1_2_outcome_is_L_M_H.csv\"\n",
    "f3 = \"../data/inattention_nomiss_2397x12_snap_is_N_S_C_outcome_is_L_M_H.csv\"\n",
    "f4 = \"../data/inattention_nomiss_2397x12_snap_is_0_1_2_outcome_is_0_1_2.csv\"\n",
    "df1 = pd.read_csv(f1)\n",
    "df2 = pd.read_csv(f2)"
   ]
  },
  {
   "cell_type": "markdown",
   "metadata": {},
   "source": [
    "### Exploring the data"
   ]
  },
  {
   "cell_type": "code",
   "execution_count": 263,
   "metadata": {
    "collapsed": false
   },
   "outputs": [
    {
     "name": "stdout",
     "output_type": "stream",
     "text": [
      "<class 'pandas.core.frame.DataFrame'>\n",
      "RangeIndex: 2397 entries, 0 to 2396\n",
      "Data columns (total 12 columns):\n",
      "gender    2397 non-null int64\n",
      "grade     2397 non-null int64\n",
      "snap1     2397 non-null int64\n",
      "snap2     2397 non-null int64\n",
      "snap3     2397 non-null int64\n",
      "snap4     2397 non-null int64\n",
      "snap5     2397 non-null int64\n",
      "snap6     2397 non-null int64\n",
      "snap7     2397 non-null int64\n",
      "snap8     2397 non-null int64\n",
      "snap9     2397 non-null int64\n",
      "ave       2397 non-null float64\n",
      "dtypes: float64(1), int64(11)\n",
      "memory usage: 224.8 KB\n"
     ]
    }
   ],
   "source": [
    "df1.info()"
   ]
  },
  {
   "cell_type": "code",
   "execution_count": 264,
   "metadata": {
    "collapsed": false
   },
   "outputs": [
    {
     "data": {
      "text/html": [
       "<div>\n",
       "<table border=\"1\" class=\"dataframe\">\n",
       "  <thead>\n",
       "    <tr style=\"text-align: right;\">\n",
       "      <th></th>\n",
       "      <th>gender</th>\n",
       "      <th>grade</th>\n",
       "      <th>snap1</th>\n",
       "      <th>snap2</th>\n",
       "      <th>snap3</th>\n",
       "      <th>snap4</th>\n",
       "      <th>snap5</th>\n",
       "      <th>snap6</th>\n",
       "      <th>snap7</th>\n",
       "      <th>snap8</th>\n",
       "      <th>snap9</th>\n",
       "      <th>ave</th>\n",
       "    </tr>\n",
       "  </thead>\n",
       "  <tbody>\n",
       "    <tr>\n",
       "      <th>0</th>\n",
       "      <td>1</td>\n",
       "      <td>2</td>\n",
       "      <td>1</td>\n",
       "      <td>1</td>\n",
       "      <td>1</td>\n",
       "      <td>1</td>\n",
       "      <td>1</td>\n",
       "      <td>1</td>\n",
       "      <td>1</td>\n",
       "      <td>1</td>\n",
       "      <td>1</td>\n",
       "      <td>4.666667</td>\n",
       "    </tr>\n",
       "    <tr>\n",
       "      <th>1</th>\n",
       "      <td>1</td>\n",
       "      <td>2</td>\n",
       "      <td>1</td>\n",
       "      <td>1</td>\n",
       "      <td>2</td>\n",
       "      <td>1</td>\n",
       "      <td>1</td>\n",
       "      <td>1</td>\n",
       "      <td>1</td>\n",
       "      <td>1</td>\n",
       "      <td>1</td>\n",
       "      <td>3.666667</td>\n",
       "    </tr>\n",
       "    <tr>\n",
       "      <th>2</th>\n",
       "      <td>1</td>\n",
       "      <td>2</td>\n",
       "      <td>1</td>\n",
       "      <td>1</td>\n",
       "      <td>1</td>\n",
       "      <td>1</td>\n",
       "      <td>1</td>\n",
       "      <td>1</td>\n",
       "      <td>1</td>\n",
       "      <td>1</td>\n",
       "      <td>1</td>\n",
       "      <td>4.142857</td>\n",
       "    </tr>\n",
       "    <tr>\n",
       "      <th>3</th>\n",
       "      <td>1</td>\n",
       "      <td>2</td>\n",
       "      <td>1</td>\n",
       "      <td>1</td>\n",
       "      <td>1</td>\n",
       "      <td>1</td>\n",
       "      <td>1</td>\n",
       "      <td>1</td>\n",
       "      <td>1</td>\n",
       "      <td>1</td>\n",
       "      <td>1</td>\n",
       "      <td>4.111111</td>\n",
       "    </tr>\n",
       "    <tr>\n",
       "      <th>4</th>\n",
       "      <td>1</td>\n",
       "      <td>2</td>\n",
       "      <td>1</td>\n",
       "      <td>1</td>\n",
       "      <td>1</td>\n",
       "      <td>1</td>\n",
       "      <td>1</td>\n",
       "      <td>1</td>\n",
       "      <td>1</td>\n",
       "      <td>1</td>\n",
       "      <td>1</td>\n",
       "      <td>4.300000</td>\n",
       "    </tr>\n",
       "  </tbody>\n",
       "</table>\n",
       "</div>"
      ],
      "text/plain": [
       "   gender  grade  snap1  snap2  snap3  snap4  snap5  snap6  snap7  snap8  \\\n",
       "0       1      2      1      1      1      1      1      1      1      1   \n",
       "1       1      2      1      1      2      1      1      1      1      1   \n",
       "2       1      2      1      1      1      1      1      1      1      1   \n",
       "3       1      2      1      1      1      1      1      1      1      1   \n",
       "4       1      2      1      1      1      1      1      1      1      1   \n",
       "\n",
       "   snap9       ave  \n",
       "0      1  4.666667  \n",
       "1      1  3.666667  \n",
       "2      1  4.142857  \n",
       "3      1  4.111111  \n",
       "4      1  4.300000  "
      ]
     },
     "execution_count": 264,
     "metadata": {},
     "output_type": "execute_result"
    }
   ],
   "source": [
    "df1.head()"
   ]
  },
  {
   "cell_type": "code",
   "execution_count": 265,
   "metadata": {
    "collapsed": false
   },
   "outputs": [
    {
     "data": {
      "text/html": [
       "<div>\n",
       "<table border=\"1\" class=\"dataframe\">\n",
       "  <thead>\n",
       "    <tr style=\"text-align: right;\">\n",
       "      <th></th>\n",
       "      <th>gender</th>\n",
       "      <th>grade</th>\n",
       "      <th>snap1</th>\n",
       "      <th>snap2</th>\n",
       "      <th>snap3</th>\n",
       "      <th>snap4</th>\n",
       "      <th>snap5</th>\n",
       "      <th>snap6</th>\n",
       "      <th>snap7</th>\n",
       "      <th>snap8</th>\n",
       "      <th>snap9</th>\n",
       "      <th>ave</th>\n",
       "    </tr>\n",
       "  </thead>\n",
       "  <tbody>\n",
       "    <tr>\n",
       "      <th>2392</th>\n",
       "      <td>0</td>\n",
       "      <td>4</td>\n",
       "      <td>0</td>\n",
       "      <td>2</td>\n",
       "      <td>2</td>\n",
       "      <td>1</td>\n",
       "      <td>1</td>\n",
       "      <td>1</td>\n",
       "      <td>1</td>\n",
       "      <td>2</td>\n",
       "      <td>1</td>\n",
       "      <td>2.333333</td>\n",
       "    </tr>\n",
       "    <tr>\n",
       "      <th>2393</th>\n",
       "      <td>0</td>\n",
       "      <td>4</td>\n",
       "      <td>2</td>\n",
       "      <td>2</td>\n",
       "      <td>2</td>\n",
       "      <td>2</td>\n",
       "      <td>1</td>\n",
       "      <td>2</td>\n",
       "      <td>1</td>\n",
       "      <td>2</td>\n",
       "      <td>1</td>\n",
       "      <td>3.875000</td>\n",
       "    </tr>\n",
       "    <tr>\n",
       "      <th>2394</th>\n",
       "      <td>0</td>\n",
       "      <td>4</td>\n",
       "      <td>2</td>\n",
       "      <td>1</td>\n",
       "      <td>1</td>\n",
       "      <td>1</td>\n",
       "      <td>1</td>\n",
       "      <td>1</td>\n",
       "      <td>1</td>\n",
       "      <td>1</td>\n",
       "      <td>1</td>\n",
       "      <td>3.888889</td>\n",
       "    </tr>\n",
       "    <tr>\n",
       "      <th>2395</th>\n",
       "      <td>0</td>\n",
       "      <td>4</td>\n",
       "      <td>2</td>\n",
       "      <td>2</td>\n",
       "      <td>1</td>\n",
       "      <td>1</td>\n",
       "      <td>1</td>\n",
       "      <td>1</td>\n",
       "      <td>2</td>\n",
       "      <td>2</td>\n",
       "      <td>2</td>\n",
       "      <td>3.777778</td>\n",
       "    </tr>\n",
       "    <tr>\n",
       "      <th>2396</th>\n",
       "      <td>0</td>\n",
       "      <td>4</td>\n",
       "      <td>2</td>\n",
       "      <td>1</td>\n",
       "      <td>1</td>\n",
       "      <td>1</td>\n",
       "      <td>1</td>\n",
       "      <td>1</td>\n",
       "      <td>1</td>\n",
       "      <td>1</td>\n",
       "      <td>1</td>\n",
       "      <td>2.555556</td>\n",
       "    </tr>\n",
       "  </tbody>\n",
       "</table>\n",
       "</div>"
      ],
      "text/plain": [
       "      gender  grade  snap1  snap2  snap3  snap4  snap5  snap6  snap7  snap8  \\\n",
       "2392       0      4      0      2      2      1      1      1      1      2   \n",
       "2393       0      4      2      2      2      2      1      2      1      2   \n",
       "2394       0      4      2      1      1      1      1      1      1      1   \n",
       "2395       0      4      2      2      1      1      1      1      2      2   \n",
       "2396       0      4      2      1      1      1      1      1      1      1   \n",
       "\n",
       "      snap9       ave  \n",
       "2392      1  2.333333  \n",
       "2393      1  3.875000  \n",
       "2394      1  3.888889  \n",
       "2395      2  3.777778  \n",
       "2396      1  2.555556  "
      ]
     },
     "execution_count": 265,
     "metadata": {},
     "output_type": "execute_result"
    }
   ],
   "source": [
    "df1.tail()"
   ]
  },
  {
   "cell_type": "markdown",
   "metadata": {},
   "source": [
    "### Make shorter feature names"
   ]
  },
  {
   "cell_type": "code",
   "execution_count": 266,
   "metadata": {
    "collapsed": false
   },
   "outputs": [
    {
     "data": {
      "text/html": [
       "<div>\n",
       "<table border=\"1\" class=\"dataframe\">\n",
       "  <thead>\n",
       "    <tr style=\"text-align: right;\">\n",
       "      <th></th>\n",
       "      <th>s</th>\n",
       "      <th>g</th>\n",
       "      <th>s1</th>\n",
       "      <th>s2</th>\n",
       "      <th>s3</th>\n",
       "      <th>s4</th>\n",
       "      <th>s5</th>\n",
       "      <th>s6</th>\n",
       "      <th>s7</th>\n",
       "      <th>s8</th>\n",
       "      <th>s9</th>\n",
       "      <th>a</th>\n",
       "    </tr>\n",
       "  </thead>\n",
       "  <tbody>\n",
       "    <tr>\n",
       "      <th>0</th>\n",
       "      <td>2397</td>\n",
       "      <td>2397</td>\n",
       "      <td>2397</td>\n",
       "      <td>2397</td>\n",
       "      <td>2397</td>\n",
       "      <td>2397</td>\n",
       "      <td>2397</td>\n",
       "      <td>2397</td>\n",
       "      <td>2397</td>\n",
       "      <td>2397</td>\n",
       "      <td>2397</td>\n",
       "      <td>2397</td>\n",
       "    </tr>\n",
       "  </tbody>\n",
       "</table>\n",
       "</div>"
      ],
      "text/plain": [
       "      s     g    s1    s2    s3    s4    s5    s6    s7    s8    s9     a\n",
       "0  2397  2397  2397  2397  2397  2397  2397  2397  2397  2397  2397  2397"
      ]
     },
     "execution_count": 266,
     "metadata": {},
     "output_type": "execute_result"
    }
   ],
   "source": [
    "old_names = df1.columns.tolist()\n",
    "new_names = ['s','g','s1','s2','s3','s4','s5','s6','s7','s8','s9','a']\n",
    "df = df1.copy()  # deep copy\n",
    "df.rename(columns=dict(zip(old_names, new_names)), inplace=True)\n",
    "pd.DataFrame(df.count()).T  # non NA/null values"
   ]
  },
  {
   "cell_type": "markdown",
   "metadata": {},
   "source": [
    "### Summary statistics"
   ]
  },
  {
   "cell_type": "code",
   "execution_count": 267,
   "metadata": {
    "collapsed": false
   },
   "outputs": [
    {
     "data": {
      "text/html": [
       "<div>\n",
       "<table border=\"1\" class=\"dataframe\">\n",
       "  <thead>\n",
       "    <tr style=\"text-align: right;\">\n",
       "      <th></th>\n",
       "      <th>s</th>\n",
       "      <th>g</th>\n",
       "      <th>s1</th>\n",
       "      <th>s2</th>\n",
       "      <th>s3</th>\n",
       "      <th>s4</th>\n",
       "      <th>s5</th>\n",
       "      <th>s6</th>\n",
       "      <th>s7</th>\n",
       "      <th>s8</th>\n",
       "      <th>s9</th>\n",
       "      <th>a</th>\n",
       "    </tr>\n",
       "  </thead>\n",
       "  <tbody>\n",
       "    <tr>\n",
       "      <th>count</th>\n",
       "      <td>2397.00</td>\n",
       "      <td>2397.00</td>\n",
       "      <td>2397.00</td>\n",
       "      <td>2397.00</td>\n",
       "      <td>2397.00</td>\n",
       "      <td>2397.00</td>\n",
       "      <td>2397.00</td>\n",
       "      <td>2397.00</td>\n",
       "      <td>2397.00</td>\n",
       "      <td>2397.00</td>\n",
       "      <td>2397.00</td>\n",
       "      <td>2397.00</td>\n",
       "    </tr>\n",
       "    <tr>\n",
       "      <th>mean</th>\n",
       "      <td>0.52</td>\n",
       "      <td>2.81</td>\n",
       "      <td>1.09</td>\n",
       "      <td>1.08</td>\n",
       "      <td>1.07</td>\n",
       "      <td>1.06</td>\n",
       "      <td>1.06</td>\n",
       "      <td>1.06</td>\n",
       "      <td>1.03</td>\n",
       "      <td>1.17</td>\n",
       "      <td>1.08</td>\n",
       "      <td>4.02</td>\n",
       "    </tr>\n",
       "    <tr>\n",
       "      <th>std</th>\n",
       "      <td>0.50</td>\n",
       "      <td>0.79</td>\n",
       "      <td>0.35</td>\n",
       "      <td>0.33</td>\n",
       "      <td>0.28</td>\n",
       "      <td>0.27</td>\n",
       "      <td>0.29</td>\n",
       "      <td>0.28</td>\n",
       "      <td>0.19</td>\n",
       "      <td>0.47</td>\n",
       "      <td>0.32</td>\n",
       "      <td>0.73</td>\n",
       "    </tr>\n",
       "    <tr>\n",
       "      <th>min</th>\n",
       "      <td>0.00</td>\n",
       "      <td>2.00</td>\n",
       "      <td>0.00</td>\n",
       "      <td>0.00</td>\n",
       "      <td>0.00</td>\n",
       "      <td>0.00</td>\n",
       "      <td>0.00</td>\n",
       "      <td>0.00</td>\n",
       "      <td>0.00</td>\n",
       "      <td>0.00</td>\n",
       "      <td>0.00</td>\n",
       "      <td>1.00</td>\n",
       "    </tr>\n",
       "    <tr>\n",
       "      <th>25%</th>\n",
       "      <td>0.00</td>\n",
       "      <td>2.00</td>\n",
       "      <td>1.00</td>\n",
       "      <td>1.00</td>\n",
       "      <td>1.00</td>\n",
       "      <td>1.00</td>\n",
       "      <td>1.00</td>\n",
       "      <td>1.00</td>\n",
       "      <td>1.00</td>\n",
       "      <td>1.00</td>\n",
       "      <td>1.00</td>\n",
       "      <td>3.56</td>\n",
       "    </tr>\n",
       "    <tr>\n",
       "      <th>50%</th>\n",
       "      <td>1.00</td>\n",
       "      <td>3.00</td>\n",
       "      <td>1.00</td>\n",
       "      <td>1.00</td>\n",
       "      <td>1.00</td>\n",
       "      <td>1.00</td>\n",
       "      <td>1.00</td>\n",
       "      <td>1.00</td>\n",
       "      <td>1.00</td>\n",
       "      <td>1.00</td>\n",
       "      <td>1.00</td>\n",
       "      <td>4.08</td>\n",
       "    </tr>\n",
       "    <tr>\n",
       "      <th>75%</th>\n",
       "      <td>1.00</td>\n",
       "      <td>3.00</td>\n",
       "      <td>1.00</td>\n",
       "      <td>1.00</td>\n",
       "      <td>1.00</td>\n",
       "      <td>1.00</td>\n",
       "      <td>1.00</td>\n",
       "      <td>1.00</td>\n",
       "      <td>1.00</td>\n",
       "      <td>1.00</td>\n",
       "      <td>1.00</td>\n",
       "      <td>4.56</td>\n",
       "    </tr>\n",
       "    <tr>\n",
       "      <th>max</th>\n",
       "      <td>1.00</td>\n",
       "      <td>4.00</td>\n",
       "      <td>2.00</td>\n",
       "      <td>2.00</td>\n",
       "      <td>2.00</td>\n",
       "      <td>2.00</td>\n",
       "      <td>2.00</td>\n",
       "      <td>2.00</td>\n",
       "      <td>2.00</td>\n",
       "      <td>2.00</td>\n",
       "      <td>2.00</td>\n",
       "      <td>5.90</td>\n",
       "    </tr>\n",
       "  </tbody>\n",
       "</table>\n",
       "</div>"
      ],
      "text/plain": [
       "             s        g       s1       s2       s3       s4       s5       s6  \\\n",
       "count  2397.00  2397.00  2397.00  2397.00  2397.00  2397.00  2397.00  2397.00   \n",
       "mean      0.52     2.81     1.09     1.08     1.07     1.06     1.06     1.06   \n",
       "std       0.50     0.79     0.35     0.33     0.28     0.27     0.29     0.28   \n",
       "min       0.00     2.00     0.00     0.00     0.00     0.00     0.00     0.00   \n",
       "25%       0.00     2.00     1.00     1.00     1.00     1.00     1.00     1.00   \n",
       "50%       1.00     3.00     1.00     1.00     1.00     1.00     1.00     1.00   \n",
       "75%       1.00     3.00     1.00     1.00     1.00     1.00     1.00     1.00   \n",
       "max       1.00     4.00     2.00     2.00     2.00     2.00     2.00     2.00   \n",
       "\n",
       "            s7       s8       s9        a  \n",
       "count  2397.00  2397.00  2397.00  2397.00  \n",
       "mean      1.03     1.17     1.08     4.02  \n",
       "std       0.19     0.47     0.32     0.73  \n",
       "min       0.00     0.00     0.00     1.00  \n",
       "25%       1.00     1.00     1.00     3.56  \n",
       "50%       1.00     1.00     1.00     4.08  \n",
       "75%       1.00     1.00     1.00     4.56  \n",
       "max       2.00     2.00     2.00     5.90  "
      ]
     },
     "execution_count": 267,
     "metadata": {},
     "output_type": "execute_result"
    }
   ],
   "source": [
    "df.describe().round(2)"
   ]
  },
  {
   "cell_type": "code",
   "execution_count": 268,
   "metadata": {
    "collapsed": false
   },
   "outputs": [
    {
     "data": {
      "text/html": [
       "<div>\n",
       "<table border=\"1\" class=\"dataframe\">\n",
       "  <thead>\n",
       "    <tr style=\"text-align: right;\">\n",
       "      <th></th>\n",
       "      <th>0</th>\n",
       "      <th>1</th>\n",
       "      <th>2</th>\n",
       "      <th>3</th>\n",
       "      <th>4</th>\n",
       "      <th>5</th>\n",
       "      <th>6</th>\n",
       "      <th>7</th>\n",
       "      <th>8</th>\n",
       "      <th>9</th>\n",
       "      <th>10</th>\n",
       "      <th>11</th>\n",
       "    </tr>\n",
       "  </thead>\n",
       "  <tbody>\n",
       "    <tr>\n",
       "      <th>0</th>\n",
       "      <td>gender</td>\n",
       "      <td>grade</td>\n",
       "      <td>snap1</td>\n",
       "      <td>snap2</td>\n",
       "      <td>snap3</td>\n",
       "      <td>snap4</td>\n",
       "      <td>snap5</td>\n",
       "      <td>snap6</td>\n",
       "      <td>snap7</td>\n",
       "      <td>snap8</td>\n",
       "      <td>snap9</td>\n",
       "      <td>ave</td>\n",
       "    </tr>\n",
       "    <tr>\n",
       "      <th>1</th>\n",
       "      <td>s</td>\n",
       "      <td>g</td>\n",
       "      <td>s1</td>\n",
       "      <td>s2</td>\n",
       "      <td>s3</td>\n",
       "      <td>s4</td>\n",
       "      <td>s5</td>\n",
       "      <td>s6</td>\n",
       "      <td>s7</td>\n",
       "      <td>s8</td>\n",
       "      <td>s9</td>\n",
       "      <td>a</td>\n",
       "    </tr>\n",
       "    <tr>\n",
       "      <th>2</th>\n",
       "      <td>int64</td>\n",
       "      <td>int64</td>\n",
       "      <td>int64</td>\n",
       "      <td>int64</td>\n",
       "      <td>int64</td>\n",
       "      <td>int64</td>\n",
       "      <td>int64</td>\n",
       "      <td>int64</td>\n",
       "      <td>int64</td>\n",
       "      <td>int64</td>\n",
       "      <td>int64</td>\n",
       "      <td>float64</td>\n",
       "    </tr>\n",
       "  </tbody>\n",
       "</table>\n",
       "</div>"
      ],
      "text/plain": [
       "       0      1      2      3      4      5      6      7      8      9   \\\n",
       "0  gender  grade  snap1  snap2  snap3  snap4  snap5  snap6  snap7  snap8   \n",
       "1       s      g     s1     s2     s3     s4     s5     s6     s7     s8   \n",
       "2   int64  int64  int64  int64  int64  int64  int64  int64  int64  int64   \n",
       "\n",
       "      10       11  \n",
       "0  snap9      ave  \n",
       "1     s9        a  \n",
       "2  int64  float64  "
      ]
     },
     "execution_count": 268,
     "metadata": {},
     "output_type": "execute_result"
    }
   ],
   "source": [
    "pd.DataFrame([df1.columns, df.columns, df1.dtypes])"
   ]
  },
  {
   "cell_type": "code",
   "execution_count": 269,
   "metadata": {
    "collapsed": false
   },
   "outputs": [],
   "source": [
    "df_m = (df.groupby('s').get_group(0)).iloc[:,1:]  # pandas DataFrame\n",
    "X_m = df_m.as_matrix()   # numpy ndarray\n",
    "df_f = (df.groupby('s').get_group(1)).iloc[:,1:]\n",
    "X_f = df_f.as_matrix()"
   ]
  },
  {
   "cell_type": "code",
   "execution_count": 270,
   "metadata": {
    "collapsed": false
   },
   "outputs": [
    {
     "data": {
      "text/html": [
       "<div>\n",
       "<table border=\"1\" class=\"dataframe\">\n",
       "  <thead>\n",
       "    <tr style=\"text-align: right;\">\n",
       "      <th></th>\n",
       "      <th>g</th>\n",
       "      <th>s1</th>\n",
       "      <th>s2</th>\n",
       "      <th>s3</th>\n",
       "      <th>s4</th>\n",
       "      <th>s5</th>\n",
       "      <th>s6</th>\n",
       "      <th>s7</th>\n",
       "      <th>s8</th>\n",
       "      <th>s9</th>\n",
       "      <th>a</th>\n",
       "    </tr>\n",
       "  </thead>\n",
       "  <tbody>\n",
       "    <tr>\n",
       "      <th>g</th>\n",
       "      <td>1.00</td>\n",
       "      <td>0.01</td>\n",
       "      <td>-0.03</td>\n",
       "      <td>0.00</td>\n",
       "      <td>-0.01</td>\n",
       "      <td>0.01</td>\n",
       "      <td>0.08</td>\n",
       "      <td>-0.02</td>\n",
       "      <td>-0.01</td>\n",
       "      <td>-0.05</td>\n",
       "      <td>-0.07</td>\n",
       "    </tr>\n",
       "    <tr>\n",
       "      <th>s1</th>\n",
       "      <td>0.01</td>\n",
       "      <td>1.00</td>\n",
       "      <td>0.11</td>\n",
       "      <td>0.16</td>\n",
       "      <td>0.26</td>\n",
       "      <td>0.13</td>\n",
       "      <td>0.21</td>\n",
       "      <td>0.16</td>\n",
       "      <td>0.23</td>\n",
       "      <td>0.07</td>\n",
       "      <td>-0.09</td>\n",
       "    </tr>\n",
       "    <tr>\n",
       "      <th>s2</th>\n",
       "      <td>-0.03</td>\n",
       "      <td>0.11</td>\n",
       "      <td>1.00</td>\n",
       "      <td>0.22</td>\n",
       "      <td>0.27</td>\n",
       "      <td>0.35</td>\n",
       "      <td>0.21</td>\n",
       "      <td>0.09</td>\n",
       "      <td>0.35</td>\n",
       "      <td>0.24</td>\n",
       "      <td>-0.20</td>\n",
       "    </tr>\n",
       "    <tr>\n",
       "      <th>s3</th>\n",
       "      <td>0.00</td>\n",
       "      <td>0.16</td>\n",
       "      <td>0.22</td>\n",
       "      <td>1.00</td>\n",
       "      <td>0.24</td>\n",
       "      <td>0.08</td>\n",
       "      <td>0.09</td>\n",
       "      <td>0.24</td>\n",
       "      <td>0.15</td>\n",
       "      <td>0.05</td>\n",
       "      <td>-0.07</td>\n",
       "    </tr>\n",
       "    <tr>\n",
       "      <th>s4</th>\n",
       "      <td>-0.01</td>\n",
       "      <td>0.26</td>\n",
       "      <td>0.27</td>\n",
       "      <td>0.24</td>\n",
       "      <td>1.00</td>\n",
       "      <td>0.39</td>\n",
       "      <td>0.29</td>\n",
       "      <td>0.16</td>\n",
       "      <td>0.08</td>\n",
       "      <td>0.25</td>\n",
       "      <td>-0.16</td>\n",
       "    </tr>\n",
       "    <tr>\n",
       "      <th>s5</th>\n",
       "      <td>0.01</td>\n",
       "      <td>0.13</td>\n",
       "      <td>0.35</td>\n",
       "      <td>0.08</td>\n",
       "      <td>0.39</td>\n",
       "      <td>1.00</td>\n",
       "      <td>0.29</td>\n",
       "      <td>0.15</td>\n",
       "      <td>0.16</td>\n",
       "      <td>0.30</td>\n",
       "      <td>-0.11</td>\n",
       "    </tr>\n",
       "    <tr>\n",
       "      <th>s6</th>\n",
       "      <td>0.08</td>\n",
       "      <td>0.21</td>\n",
       "      <td>0.21</td>\n",
       "      <td>0.09</td>\n",
       "      <td>0.29</td>\n",
       "      <td>0.29</td>\n",
       "      <td>1.00</td>\n",
       "      <td>0.06</td>\n",
       "      <td>0.17</td>\n",
       "      <td>0.14</td>\n",
       "      <td>-0.16</td>\n",
       "    </tr>\n",
       "    <tr>\n",
       "      <th>s7</th>\n",
       "      <td>-0.02</td>\n",
       "      <td>0.16</td>\n",
       "      <td>0.09</td>\n",
       "      <td>0.24</td>\n",
       "      <td>0.16</td>\n",
       "      <td>0.15</td>\n",
       "      <td>0.06</td>\n",
       "      <td>1.00</td>\n",
       "      <td>0.11</td>\n",
       "      <td>0.16</td>\n",
       "      <td>-0.04</td>\n",
       "    </tr>\n",
       "    <tr>\n",
       "      <th>s8</th>\n",
       "      <td>-0.01</td>\n",
       "      <td>0.23</td>\n",
       "      <td>0.35</td>\n",
       "      <td>0.15</td>\n",
       "      <td>0.08</td>\n",
       "      <td>0.16</td>\n",
       "      <td>0.17</td>\n",
       "      <td>0.11</td>\n",
       "      <td>1.00</td>\n",
       "      <td>0.22</td>\n",
       "      <td>-0.12</td>\n",
       "    </tr>\n",
       "    <tr>\n",
       "      <th>s9</th>\n",
       "      <td>-0.05</td>\n",
       "      <td>0.07</td>\n",
       "      <td>0.24</td>\n",
       "      <td>0.05</td>\n",
       "      <td>0.25</td>\n",
       "      <td>0.30</td>\n",
       "      <td>0.14</td>\n",
       "      <td>0.16</td>\n",
       "      <td>0.22</td>\n",
       "      <td>1.00</td>\n",
       "      <td>-0.10</td>\n",
       "    </tr>\n",
       "    <tr>\n",
       "      <th>a</th>\n",
       "      <td>-0.07</td>\n",
       "      <td>-0.09</td>\n",
       "      <td>-0.20</td>\n",
       "      <td>-0.07</td>\n",
       "      <td>-0.16</td>\n",
       "      <td>-0.11</td>\n",
       "      <td>-0.16</td>\n",
       "      <td>-0.04</td>\n",
       "      <td>-0.12</td>\n",
       "      <td>-0.10</td>\n",
       "      <td>1.00</td>\n",
       "    </tr>\n",
       "  </tbody>\n",
       "</table>\n",
       "</div>"
      ],
      "text/plain": [
       "       g    s1    s2    s3    s4    s5    s6    s7    s8    s9     a\n",
       "g   1.00  0.01 -0.03  0.00 -0.01  0.01  0.08 -0.02 -0.01 -0.05 -0.07\n",
       "s1  0.01  1.00  0.11  0.16  0.26  0.13  0.21  0.16  0.23  0.07 -0.09\n",
       "s2 -0.03  0.11  1.00  0.22  0.27  0.35  0.21  0.09  0.35  0.24 -0.20\n",
       "s3  0.00  0.16  0.22  1.00  0.24  0.08  0.09  0.24  0.15  0.05 -0.07\n",
       "s4 -0.01  0.26  0.27  0.24  1.00  0.39  0.29  0.16  0.08  0.25 -0.16\n",
       "s5  0.01  0.13  0.35  0.08  0.39  1.00  0.29  0.15  0.16  0.30 -0.11\n",
       "s6  0.08  0.21  0.21  0.09  0.29  0.29  1.00  0.06  0.17  0.14 -0.16\n",
       "s7 -0.02  0.16  0.09  0.24  0.16  0.15  0.06  1.00  0.11  0.16 -0.04\n",
       "s8 -0.01  0.23  0.35  0.15  0.08  0.16  0.17  0.11  1.00  0.22 -0.12\n",
       "s9 -0.05  0.07  0.24  0.05  0.25  0.30  0.14  0.16  0.22  1.00 -0.10\n",
       "a  -0.07 -0.09 -0.20 -0.07 -0.16 -0.11 -0.16 -0.04 -0.12 -0.10  1.00"
      ]
     },
     "execution_count": 270,
     "metadata": {},
     "output_type": "execute_result"
    }
   ],
   "source": [
    "# Correlation girls\n",
    "df_f.corr().round(2)"
   ]
  },
  {
   "cell_type": "code",
   "execution_count": 271,
   "metadata": {
    "collapsed": false
   },
   "outputs": [
    {
     "data": {
      "text/html": [
       "<div>\n",
       "<table border=\"1\" class=\"dataframe\">\n",
       "  <thead>\n",
       "    <tr style=\"text-align: right;\">\n",
       "      <th></th>\n",
       "      <th>g</th>\n",
       "      <th>s1</th>\n",
       "      <th>s2</th>\n",
       "      <th>s3</th>\n",
       "      <th>s4</th>\n",
       "      <th>s5</th>\n",
       "      <th>s6</th>\n",
       "      <th>s7</th>\n",
       "      <th>s8</th>\n",
       "      <th>s9</th>\n",
       "      <th>a</th>\n",
       "    </tr>\n",
       "  </thead>\n",
       "  <tbody>\n",
       "    <tr>\n",
       "      <th>g</th>\n",
       "      <td>1.00</td>\n",
       "      <td>-0.01</td>\n",
       "      <td>-0.01</td>\n",
       "      <td>-0.04</td>\n",
       "      <td>0.01</td>\n",
       "      <td>-0.03</td>\n",
       "      <td>0.02</td>\n",
       "      <td>-0.02</td>\n",
       "      <td>-0.03</td>\n",
       "      <td>-0.03</td>\n",
       "      <td>-0.02</td>\n",
       "    </tr>\n",
       "    <tr>\n",
       "      <th>s1</th>\n",
       "      <td>-0.01</td>\n",
       "      <td>1.00</td>\n",
       "      <td>0.21</td>\n",
       "      <td>0.09</td>\n",
       "      <td>0.17</td>\n",
       "      <td>0.15</td>\n",
       "      <td>0.23</td>\n",
       "      <td>0.12</td>\n",
       "      <td>0.16</td>\n",
       "      <td>0.13</td>\n",
       "      <td>-0.08</td>\n",
       "    </tr>\n",
       "    <tr>\n",
       "      <th>s2</th>\n",
       "      <td>-0.01</td>\n",
       "      <td>0.21</td>\n",
       "      <td>1.00</td>\n",
       "      <td>0.21</td>\n",
       "      <td>0.28</td>\n",
       "      <td>0.33</td>\n",
       "      <td>0.26</td>\n",
       "      <td>0.16</td>\n",
       "      <td>0.31</td>\n",
       "      <td>0.17</td>\n",
       "      <td>-0.07</td>\n",
       "    </tr>\n",
       "    <tr>\n",
       "      <th>s3</th>\n",
       "      <td>-0.04</td>\n",
       "      <td>0.09</td>\n",
       "      <td>0.21</td>\n",
       "      <td>1.00</td>\n",
       "      <td>0.36</td>\n",
       "      <td>0.23</td>\n",
       "      <td>0.20</td>\n",
       "      <td>0.13</td>\n",
       "      <td>0.13</td>\n",
       "      <td>0.18</td>\n",
       "      <td>-0.09</td>\n",
       "    </tr>\n",
       "    <tr>\n",
       "      <th>s4</th>\n",
       "      <td>0.01</td>\n",
       "      <td>0.17</td>\n",
       "      <td>0.28</td>\n",
       "      <td>0.36</td>\n",
       "      <td>1.00</td>\n",
       "      <td>0.33</td>\n",
       "      <td>0.36</td>\n",
       "      <td>0.20</td>\n",
       "      <td>0.08</td>\n",
       "      <td>0.18</td>\n",
       "      <td>-0.13</td>\n",
       "    </tr>\n",
       "    <tr>\n",
       "      <th>s5</th>\n",
       "      <td>-0.03</td>\n",
       "      <td>0.15</td>\n",
       "      <td>0.33</td>\n",
       "      <td>0.23</td>\n",
       "      <td>0.33</td>\n",
       "      <td>1.00</td>\n",
       "      <td>0.31</td>\n",
       "      <td>0.19</td>\n",
       "      <td>0.16</td>\n",
       "      <td>0.26</td>\n",
       "      <td>-0.13</td>\n",
       "    </tr>\n",
       "    <tr>\n",
       "      <th>s6</th>\n",
       "      <td>0.02</td>\n",
       "      <td>0.23</td>\n",
       "      <td>0.26</td>\n",
       "      <td>0.20</td>\n",
       "      <td>0.36</td>\n",
       "      <td>0.31</td>\n",
       "      <td>1.00</td>\n",
       "      <td>0.08</td>\n",
       "      <td>0.16</td>\n",
       "      <td>0.07</td>\n",
       "      <td>-0.11</td>\n",
       "    </tr>\n",
       "    <tr>\n",
       "      <th>s7</th>\n",
       "      <td>-0.02</td>\n",
       "      <td>0.12</td>\n",
       "      <td>0.16</td>\n",
       "      <td>0.13</td>\n",
       "      <td>0.20</td>\n",
       "      <td>0.19</td>\n",
       "      <td>0.08</td>\n",
       "      <td>1.00</td>\n",
       "      <td>0.07</td>\n",
       "      <td>0.30</td>\n",
       "      <td>-0.10</td>\n",
       "    </tr>\n",
       "    <tr>\n",
       "      <th>s8</th>\n",
       "      <td>-0.03</td>\n",
       "      <td>0.16</td>\n",
       "      <td>0.31</td>\n",
       "      <td>0.13</td>\n",
       "      <td>0.08</td>\n",
       "      <td>0.16</td>\n",
       "      <td>0.16</td>\n",
       "      <td>0.07</td>\n",
       "      <td>1.00</td>\n",
       "      <td>0.16</td>\n",
       "      <td>-0.10</td>\n",
       "    </tr>\n",
       "    <tr>\n",
       "      <th>s9</th>\n",
       "      <td>-0.03</td>\n",
       "      <td>0.13</td>\n",
       "      <td>0.17</td>\n",
       "      <td>0.18</td>\n",
       "      <td>0.18</td>\n",
       "      <td>0.26</td>\n",
       "      <td>0.07</td>\n",
       "      <td>0.30</td>\n",
       "      <td>0.16</td>\n",
       "      <td>1.00</td>\n",
       "      <td>-0.09</td>\n",
       "    </tr>\n",
       "    <tr>\n",
       "      <th>a</th>\n",
       "      <td>-0.02</td>\n",
       "      <td>-0.08</td>\n",
       "      <td>-0.07</td>\n",
       "      <td>-0.09</td>\n",
       "      <td>-0.13</td>\n",
       "      <td>-0.13</td>\n",
       "      <td>-0.11</td>\n",
       "      <td>-0.10</td>\n",
       "      <td>-0.10</td>\n",
       "      <td>-0.09</td>\n",
       "      <td>1.00</td>\n",
       "    </tr>\n",
       "  </tbody>\n",
       "</table>\n",
       "</div>"
      ],
      "text/plain": [
       "       g    s1    s2    s3    s4    s5    s6    s7    s8    s9     a\n",
       "g   1.00 -0.01 -0.01 -0.04  0.01 -0.03  0.02 -0.02 -0.03 -0.03 -0.02\n",
       "s1 -0.01  1.00  0.21  0.09  0.17  0.15  0.23  0.12  0.16  0.13 -0.08\n",
       "s2 -0.01  0.21  1.00  0.21  0.28  0.33  0.26  0.16  0.31  0.17 -0.07\n",
       "s3 -0.04  0.09  0.21  1.00  0.36  0.23  0.20  0.13  0.13  0.18 -0.09\n",
       "s4  0.01  0.17  0.28  0.36  1.00  0.33  0.36  0.20  0.08  0.18 -0.13\n",
       "s5 -0.03  0.15  0.33  0.23  0.33  1.00  0.31  0.19  0.16  0.26 -0.13\n",
       "s6  0.02  0.23  0.26  0.20  0.36  0.31  1.00  0.08  0.16  0.07 -0.11\n",
       "s7 -0.02  0.12  0.16  0.13  0.20  0.19  0.08  1.00  0.07  0.30 -0.10\n",
       "s8 -0.03  0.16  0.31  0.13  0.08  0.16  0.16  0.07  1.00  0.16 -0.10\n",
       "s9 -0.03  0.13  0.17  0.18  0.18  0.26  0.07  0.30  0.16  1.00 -0.09\n",
       "a  -0.02 -0.08 -0.07 -0.09 -0.13 -0.13 -0.11 -0.10 -0.10 -0.09  1.00"
      ]
     },
     "execution_count": 271,
     "metadata": {},
     "output_type": "execute_result"
    }
   ],
   "source": [
    "# Correlation boys\n",
    "df_m.corr().round(2)"
   ]
  },
  {
   "cell_type": "code",
   "execution_count": 272,
   "metadata": {
    "collapsed": false
   },
   "outputs": [
    {
     "data": {
      "text/plain": [
       "<matplotlib.axes._subplots.AxesSubplot at 0x118279898>"
      ]
     },
     "execution_count": 272,
     "metadata": {},
     "output_type": "execute_result"
    },
    {
     "data": {
      "image/png": "[encoded data removed]",
      "text/plain": [
       "<matplotlib.figure.Figure at 0x118a0e0f0>"
      ]
     },
     "metadata": {},
     "output_type": "display_data"
    }
   ],
   "source": [
    "df_f.boxplot()"
   ]
  },
  {
   "cell_type": "code",
   "execution_count": 273,
   "metadata": {
    "collapsed": false
   },
   "outputs": [
    {
     "data": {
      "text/plain": [
       "<matplotlib.axes._subplots.AxesSubplot at 0x119312a90>"
      ]
     },
     "execution_count": 273,
     "metadata": {},
     "output_type": "execute_result"
    },
    {
     "data": {
      "image/png": "[encoded data removed]",
      "text/plain": [
       "<matplotlib.figure.Figure at 0x119354e80>"
      ]
     },
     "metadata": {},
     "output_type": "display_data"
    }
   ],
   "source": [
    "df_m.boxplot()"
   ]
  },
  {
   "cell_type": "markdown",
   "metadata": {},
   "source": [
    "### Get gender-specific frequency distributions of SNAP1,...,SNAP9"
   ]
  },
  {
   "cell_type": "code",
   "execution_count": 274,
   "metadata": {
    "collapsed": false
   },
   "outputs": [],
   "source": [
    "f_f = pd.DataFrame()\n",
    "f_m = pd.DataFrame()\n",
    "for col in new_names[2:-1]:\n",
    "    acc_f = pd.value_counts(df_f[col]).sum()\n",
    "    f_f[col] = pd.DataFrame((pd.value_counts(df_f[col], sort=False))*(100/acc_f))\n",
    "    acc_m = pd.value_counts(df_m[col]).sum()\n",
    "    f_m[col] = pd.DataFrame((pd.value_counts(df_m[col], sort=False))*(100/acc_m))"
   ]
  },
  {
   "cell_type": "code",
   "execution_count": 275,
   "metadata": {
    "collapsed": false
   },
   "outputs": [
    {
     "data": {
      "text/html": [
       "<div>\n",
       "<table border=\"1\" class=\"dataframe\">\n",
       "  <thead>\n",
       "    <tr style=\"text-align: right;\">\n",
       "      <th></th>\n",
       "      <th>s1</th>\n",
       "      <th>s2</th>\n",
       "      <th>s3</th>\n",
       "      <th>s4</th>\n",
       "      <th>s5</th>\n",
       "      <th>s6</th>\n",
       "      <th>s7</th>\n",
       "      <th>s8</th>\n",
       "      <th>s9</th>\n",
       "    </tr>\n",
       "  </thead>\n",
       "  <tbody>\n",
       "    <tr>\n",
       "      <th>0</th>\n",
       "      <td>1.3</td>\n",
       "      <td>0.5</td>\n",
       "      <td>0.2</td>\n",
       "      <td>0.2</td>\n",
       "      <td>0.5</td>\n",
       "      <td>0.4</td>\n",
       "      <td>0.3</td>\n",
       "      <td>1.4</td>\n",
       "      <td>0.4</td>\n",
       "    </tr>\n",
       "    <tr>\n",
       "      <th>1</th>\n",
       "      <td>91.1</td>\n",
       "      <td>93.9</td>\n",
       "      <td>96.6</td>\n",
       "      <td>96.2</td>\n",
       "      <td>95.9</td>\n",
       "      <td>96.2</td>\n",
       "      <td>98.5</td>\n",
       "      <td>84.3</td>\n",
       "      <td>93.3</td>\n",
       "    </tr>\n",
       "    <tr>\n",
       "      <th>2</th>\n",
       "      <td>7.6</td>\n",
       "      <td>5.6</td>\n",
       "      <td>3.2</td>\n",
       "      <td>3.6</td>\n",
       "      <td>3.6</td>\n",
       "      <td>3.4</td>\n",
       "      <td>1.2</td>\n",
       "      <td>14.3</td>\n",
       "      <td>6.3</td>\n",
       "    </tr>\n",
       "  </tbody>\n",
       "</table>\n",
       "</div>"
      ],
      "text/plain": [
       "     s1    s2    s3    s4    s5    s6    s7    s8    s9\n",
       "0   1.3   0.5   0.2   0.2   0.5   0.4   0.3   1.4   0.4\n",
       "1  91.1  93.9  96.6  96.2  95.9  96.2  98.5  84.3  93.3\n",
       "2   7.6   5.6   3.2   3.6   3.6   3.4   1.2  14.3   6.3"
      ]
     },
     "execution_count": 275,
     "metadata": {},
     "output_type": "execute_result"
    }
   ],
   "source": [
    "# SNAP frequency distribution girls\n",
    "f_f.round(1)"
   ]
  },
  {
   "cell_type": "code",
   "execution_count": 276,
   "metadata": {
    "collapsed": false
   },
   "outputs": [
    {
     "data": {
      "text/html": [
       "<div>\n",
       "<table border=\"1\" class=\"dataframe\">\n",
       "  <thead>\n",
       "    <tr style=\"text-align: right;\">\n",
       "      <th></th>\n",
       "      <th>s1</th>\n",
       "      <th>s2</th>\n",
       "      <th>s3</th>\n",
       "      <th>s4</th>\n",
       "      <th>s5</th>\n",
       "      <th>s6</th>\n",
       "      <th>s7</th>\n",
       "      <th>s8</th>\n",
       "      <th>s9</th>\n",
       "    </tr>\n",
       "  </thead>\n",
       "  <tbody>\n",
       "    <tr>\n",
       "      <th>0</th>\n",
       "      <td>2.6</td>\n",
       "      <td>3.9</td>\n",
       "      <td>1.1</td>\n",
       "      <td>1.1</td>\n",
       "      <td>2.2</td>\n",
       "      <td>2.4</td>\n",
       "      <td>0.7</td>\n",
       "      <td>6.6</td>\n",
       "      <td>1.9</td>\n",
       "    </tr>\n",
       "    <tr>\n",
       "      <th>1</th>\n",
       "      <td>81.9</td>\n",
       "      <td>82.1</td>\n",
       "      <td>86.6</td>\n",
       "      <td>88.4</td>\n",
       "      <td>86.3</td>\n",
       "      <td>86.5</td>\n",
       "      <td>94.2</td>\n",
       "      <td>64.4</td>\n",
       "      <td>85.0</td>\n",
       "    </tr>\n",
       "    <tr>\n",
       "      <th>2</th>\n",
       "      <td>15.4</td>\n",
       "      <td>14.0</td>\n",
       "      <td>12.4</td>\n",
       "      <td>10.4</td>\n",
       "      <td>11.5</td>\n",
       "      <td>11.1</td>\n",
       "      <td>5.1</td>\n",
       "      <td>29.0</td>\n",
       "      <td>13.1</td>\n",
       "    </tr>\n",
       "  </tbody>\n",
       "</table>\n",
       "</div>"
      ],
      "text/plain": [
       "     s1    s2    s3    s4    s5    s6    s7    s8    s9\n",
       "0   2.6   3.9   1.1   1.1   2.2   2.4   0.7   6.6   1.9\n",
       "1  81.9  82.1  86.6  88.4  86.3  86.5  94.2  64.4  85.0\n",
       "2  15.4  14.0  12.4  10.4  11.5  11.1   5.1  29.0  13.1"
      ]
     },
     "execution_count": 276,
     "metadata": {},
     "output_type": "execute_result"
    }
   ],
   "source": [
    "# SNAP frequency distribution boys\n",
    "f_m.round(1)"
   ]
  },
  {
   "cell_type": "code",
   "execution_count": 277,
   "metadata": {
    "collapsed": false
   },
   "outputs": [
    {
     "data": {
      "text/html": [
       "<div>\n",
       "<table border=\"1\" class=\"dataframe\">\n",
       "  <thead>\n",
       "    <tr style=\"text-align: right;\">\n",
       "      <th></th>\n",
       "      <th>s</th>\n",
       "      <th>g</th>\n",
       "      <th>s1</th>\n",
       "      <th>s2</th>\n",
       "      <th>s3</th>\n",
       "      <th>s4</th>\n",
       "      <th>s5</th>\n",
       "      <th>s6</th>\n",
       "      <th>s7</th>\n",
       "      <th>s8</th>\n",
       "      <th>s9</th>\n",
       "      <th>a</th>\n",
       "    </tr>\n",
       "  </thead>\n",
       "  <tbody>\n",
       "    <tr>\n",
       "      <th>134</th>\n",
       "      <td>1</td>\n",
       "      <td>2</td>\n",
       "      <td>1</td>\n",
       "      <td>1</td>\n",
       "      <td>1</td>\n",
       "      <td>1</td>\n",
       "      <td>1</td>\n",
       "      <td>1</td>\n",
       "      <td>1</td>\n",
       "      <td>1</td>\n",
       "      <td>1</td>\n",
       "      <td>1.0</td>\n",
       "    </tr>\n",
       "  </tbody>\n",
       "</table>\n",
       "</div>"
      ],
      "text/plain": [
       "     s  g  s1  s2  s3  s4  s5  s6  s7  s8  s9    a\n",
       "134  1  2   1   1   1   1   1   1   1   1   1  1.0"
      ]
     },
     "execution_count": 277,
     "metadata": {},
     "output_type": "execute_result"
    }
   ],
   "source": [
    "# Find label for lowest academic achievement\n",
    "label_l = df['a'].idxmin()\n",
    "df.select(lambda x: x==label_l)"
   ]
  },
  {
   "cell_type": "code",
   "execution_count": 278,
   "metadata": {
    "collapsed": false
   },
   "outputs": [
    {
     "data": {
      "text/html": [
       "<div>\n",
       "<table border=\"1\" class=\"dataframe\">\n",
       "  <thead>\n",
       "    <tr style=\"text-align: right;\">\n",
       "      <th></th>\n",
       "      <th>s</th>\n",
       "      <th>g</th>\n",
       "      <th>s1</th>\n",
       "      <th>s2</th>\n",
       "      <th>s3</th>\n",
       "      <th>s4</th>\n",
       "      <th>s5</th>\n",
       "      <th>s6</th>\n",
       "      <th>s7</th>\n",
       "      <th>s8</th>\n",
       "      <th>s9</th>\n",
       "      <th>a</th>\n",
       "    </tr>\n",
       "  </thead>\n",
       "  <tbody>\n",
       "    <tr>\n",
       "      <th>2109</th>\n",
       "      <td>0</td>\n",
       "      <td>3</td>\n",
       "      <td>1</td>\n",
       "      <td>1</td>\n",
       "      <td>1</td>\n",
       "      <td>1</td>\n",
       "      <td>1</td>\n",
       "      <td>1</td>\n",
       "      <td>1</td>\n",
       "      <td>1</td>\n",
       "      <td>1</td>\n",
       "      <td>5.9</td>\n",
       "    </tr>\n",
       "  </tbody>\n",
       "</table>\n",
       "</div>"
      ],
      "text/plain": [
       "      s  g  s1  s2  s3  s4  s5  s6  s7  s8  s9    a\n",
       "2109  0  3   1   1   1   1   1   1   1   1   1  5.9"
      ]
     },
     "execution_count": 278,
     "metadata": {},
     "output_type": "execute_result"
    }
   ],
   "source": [
    "# Find label for highest academic achievement\n",
    "label_h = df['a'].idxmax()\n",
    "df.select(lambda x: x==label_h)"
   ]
  },
  {
   "cell_type": "markdown",
   "metadata": {},
   "source": [
    "### Plotting"
   ]
  },
  {
   "cell_type": "code",
   "execution_count": 279,
   "metadata": {
    "collapsed": false
   },
   "outputs": [
    {
     "name": "stdout",
     "output_type": "stream",
     "text": [
      "['bmh', 'seaborn-notebook', 'seaborn-dark', 'seaborn-darkgrid', 'seaborn-poster', 'classic', 'ggplot', 'seaborn-muted', 'grayscale', 'seaborn-bright', 'seaborn-dark-palette', 'seaborn-paper', 'seaborn-talk', 'seaborn-deep', 'seaborn-white', 'seaborn-whitegrid', 'seaborn-ticks', 'seaborn-pastel', 'dark_background', 'fivethirtyeight', 'seaborn', 'seaborn-colorblind']\n"
     ]
    }
   ],
   "source": [
    "print(plt.style.available)\n",
    "my_currdir = os.getcwd()"
   ]
  },
  {
   "cell_type": "code",
   "execution_count": 280,
   "metadata": {
    "collapsed": false
   },
   "outputs": [
    {
     "data": {
      "text/plain": [
       "<matplotlib.axes._subplots.AxesSubplot at 0x118ab9438>"
      ]
     },
     "execution_count": 280,
     "metadata": {},
     "output_type": "execute_result"
    },
    {
     "data": {
      "image/png": "[encoded data removed]",
      "text/plain": [
       "<matplotlib.figure.Figure at 0x11dc259e8>"
      ]
     },
     "metadata": {},
     "output_type": "display_data"
    }
   ],
   "source": [
    "#plt.style.use('ggplot')\n",
    "#plt.style.use('classic')\n",
    "plt.style.use('seaborn-paper')\n",
    "plt.figure(); df_m['a'].plot(); df_f['a'].plot()"
   ]
  },
  {
   "cell_type": "code",
   "execution_count": 281,
   "metadata": {
    "collapsed": false
   },
   "outputs": [
    {
     "name": "stderr",
     "output_type": "stream",
     "text": [
      "/Users/arvid/anaconda3/lib/python3.5/site-packages/statsmodels/nonparametric/kdetools.py:20: VisibleDeprecationWarning: using a non-integer number instead of an integer will result in an error in the future\n",
      "  y = X[:m/2+1] + np.r_[0,X[m/2+1:],0]*1j\n"
     ]
    },
    {
     "data": {
      "image/png": "[encoded data removed]",
      "text/plain": [
       "<matplotlib.figure.Figure at 0x118891588>"
      ]
     },
     "metadata": {},
     "output_type": "display_data"
    }
   ],
   "source": [
    "plt.style.use('classic')\n",
    "sns.set(style=\"ticks\", palette=\"muted\", color_codes=True)\n",
    "paper_rc = {'lines.linewidth': 4, 'lines.markersize': 10} \n",
    "sns.set_style(\"white\", {\"axes.facecolor\": \"1.0\"})\n",
    "sns.set_context(\"paper\", rc = paper_rc, font_scale = 2) \n",
    "\n",
    "fig, axes = plt.subplots(1, 1, figsize=(10, 10), sharex=True)\n",
    "sns.despine(left=False)\n",
    "\n",
    "# Plot a kernel density estimate and rug plot\n",
    "label_m = \"Boys (n=%d)\" % df_m.shape[0]\n",
    "label_f = \"Girls (n= %d)\" % df_f.shape[0]\n",
    "sns.distplot(df_m['a'].values,hist=True,bins=50,rug=True,color=\"b\",label=label_m)\n",
    "sns.distplot(df_f['a'].values,hist=True,bins=50,rug=True,color=\"r\",label=label_f)\n",
    "axes.set_title('Academic achievement',fontsize=24, fontweight='bold')\n",
    "axes.set_xlabel('Average marks',fontsize=20)\n",
    "axes.set_ylabel('Density',fontsize=20)\n",
    "\n",
    "axes.legend(loc='upper left',fontsize='small')\n",
    "\n",
    "plt.setp(axes, yticks=[])\n",
    "plt.tight_layout()\n",
    "\n",
    "plt.savefig(my_currdir + '/../images/acadmic_achievement_vs_gender.pdf', bbox_inches='tight')\n",
    "#plt.savefig('acadmic_achievement_vs_gender.png', bbox_inches='tight', dpi=300)"
   ]
  },
  {
   "cell_type": "markdown",
   "metadata": {},
   "source": [
    "### Make category variables explicit, rename some variables and some category values"
   ]
  },
  {
   "cell_type": "code",
   "execution_count": 282,
   "metadata": {
    "collapsed": false
   },
   "outputs": [
    {
     "data": {
      "text/html": [
       "<div>\n",
       "<table border=\"1\" class=\"dataframe\">\n",
       "  <thead>\n",
       "    <tr style=\"text-align: right;\">\n",
       "      <th></th>\n",
       "      <th>gender</th>\n",
       "      <th>grade</th>\n",
       "      <th>s1</th>\n",
       "      <th>s2</th>\n",
       "      <th>s3</th>\n",
       "      <th>s4</th>\n",
       "      <th>s5</th>\n",
       "      <th>s6</th>\n",
       "      <th>s7</th>\n",
       "      <th>s8</th>\n",
       "      <th>s9</th>\n",
       "      <th>marks</th>\n",
       "    </tr>\n",
       "  </thead>\n",
       "  <tbody>\n",
       "    <tr>\n",
       "      <th>0</th>\n",
       "      <td>category</td>\n",
       "      <td>category</td>\n",
       "      <td>category</td>\n",
       "      <td>category</td>\n",
       "      <td>category</td>\n",
       "      <td>category</td>\n",
       "      <td>category</td>\n",
       "      <td>category</td>\n",
       "      <td>category</td>\n",
       "      <td>category</td>\n",
       "      <td>category</td>\n",
       "      <td>float64</td>\n",
       "    </tr>\n",
       "  </tbody>\n",
       "</table>\n",
       "</div>"
      ],
      "text/plain": [
       "     gender     grade        s1        s2        s3        s4        s5  \\\n",
       "0  category  category  category  category  category  category  category   \n",
       "\n",
       "         s6        s7        s8        s9    marks  \n",
       "0  category  category  category  category  float64  "
      ]
     },
     "execution_count": 282,
     "metadata": {},
     "output_type": "execute_result"
    }
   ],
   "source": [
    "\n",
    "df_c = df.copy()\n",
    "for col in new_names[:-1]:\n",
    "    df_c[col] = df_c[col].astype('category')\n",
    "names_df = ['s', 'g', 'a']\n",
    "names_df_c = ['gender', 'grade', 'marks']\n",
    "df_c.rename(columns=dict(zip(names_df, names_df_c)), inplace=True)\n",
    "pd.DataFrame([df_c.dtypes])"
   ]
  },
  {
   "cell_type": "code",
   "execution_count": 283,
   "metadata": {
    "collapsed": false
   },
   "outputs": [
    {
     "data": {
      "text/html": [
       "<div>\n",
       "<table border=\"1\" class=\"dataframe\">\n",
       "  <thead>\n",
       "    <tr style=\"text-align: right;\">\n",
       "      <th></th>\n",
       "      <th>gender</th>\n",
       "    </tr>\n",
       "  </thead>\n",
       "  <tbody>\n",
       "    <tr>\n",
       "      <th>girl</th>\n",
       "      <td>1256</td>\n",
       "    </tr>\n",
       "    <tr>\n",
       "      <th>boy</th>\n",
       "      <td>1141</td>\n",
       "    </tr>\n",
       "  </tbody>\n",
       "</table>\n",
       "</div>"
      ],
      "text/plain": [
       "      gender\n",
       "girl    1256\n",
       "boy     1141"
      ]
     },
     "execution_count": 283,
     "metadata": {},
     "output_type": "execute_result"
    }
   ],
   "source": [
    "#Define a generic function using Pandas replace function to rename variable values\n",
    "def coding(col, codeDict):\n",
    "  colCoded = pd.Series(col, copy=True)\n",
    "  for key, value in codeDict.items():\n",
    "    colCoded.replace(key, value, inplace=True)\n",
    "  return colCoded\n",
    "\n",
    "genderDict = {0: 'boy', 1: 'girl'}\n",
    "df_c['gender'] = coding(df_c['gender'], genderDict)\n",
    "pd.DataFrame(pd.value_counts(df_c['gender']))"
   ]
  },
  {
   "cell_type": "markdown",
   "metadata": {},
   "source": [
    "### Make discretization of academic achievement (marks) into three equifrequent categories: Low, Medium, High"
   ]
  },
  {
   "cell_type": "code",
   "execution_count": 284,
   "metadata": {
    "collapsed": false
   },
   "outputs": [
    {
     "name": "stdout",
     "output_type": "stream",
     "text": [
      "[(4.429, 5.9], [1, 3.75], (3.75, 4.429]]\n",
      "Categories (3, object): [[1, 3.75] < (3.75, 4.429] < (4.429, 5.9]]\n",
      "L    809\n",
      "M    798\n",
      "H    790\n",
      "Name: marks, dtype: int64\n",
      "  gender grade s1 s2 s3 s4 s5 s6 s7 s8 s9 LMH\n",
      "0   girl     2  1  1  1  1  1  1  1  1  1   H\n",
      "1   girl     2  1  1  2  1  1  1  1  1  1   L\n",
      "2   girl     2  1  1  1  1  1  1  1  1  1   M\n",
      "3   girl     2  1  1  1  1  1  1  1  1  1   M\n",
      "4   girl     2  1  1  1  1  1  1  1  1  1   M\n"
     ]
    },
    {
     "data": {
      "text/html": [
       "<div>\n",
       "<table border=\"1\" class=\"dataframe\">\n",
       "  <thead>\n",
       "    <tr style=\"text-align: right;\">\n",
       "      <th></th>\n",
       "      <th>gender</th>\n",
       "      <th>grade</th>\n",
       "      <th>s1</th>\n",
       "      <th>s2</th>\n",
       "      <th>s3</th>\n",
       "      <th>s4</th>\n",
       "      <th>s5</th>\n",
       "      <th>s6</th>\n",
       "      <th>s7</th>\n",
       "      <th>s8</th>\n",
       "      <th>s9</th>\n",
       "      <th>LMH</th>\n",
       "    </tr>\n",
       "  </thead>\n",
       "  <tbody>\n",
       "    <tr>\n",
       "      <th>0</th>\n",
       "      <td>category</td>\n",
       "      <td>category</td>\n",
       "      <td>category</td>\n",
       "      <td>category</td>\n",
       "      <td>category</td>\n",
       "      <td>category</td>\n",
       "      <td>category</td>\n",
       "      <td>category</td>\n",
       "      <td>category</td>\n",
       "      <td>category</td>\n",
       "      <td>category</td>\n",
       "      <td>category</td>\n",
       "    </tr>\n",
       "  </tbody>\n",
       "</table>\n",
       "</div>"
      ],
      "text/plain": [
       "     gender     grade        s1        s2        s3        s4        s5  \\\n",
       "0  category  category  category  category  category  category  category   \n",
       "\n",
       "         s6        s7        s8        s9       LMH  \n",
       "0  category  category  category  category  category  "
      ]
     },
     "execution_count": 284,
     "metadata": {},
     "output_type": "execute_result"
    }
   ],
   "source": [
    "# In R: => descr = 1:[1.00, 3.75) 2:[3.75,4.43) 3:[4.43,5.90] - 1:low, 2:medium; 3:high average mark\n",
    "df_cc = df_c.copy()\n",
    "print(pd.qcut(df_cc['marks'], 3).unique())\n",
    "LMH = pd.qcut(df_cc['marks'], 3, labels=['L', 'M', 'H'])\n",
    "print(LMH.value_counts())\n",
    "df_cc.rename(columns=dict(zip(['marks'], ['LMH'])), inplace=True)\n",
    "df_cc['LMH'] = LMH\n",
    "\n",
    "print(df_cc.head())\n",
    "df_cc['gender'] = df_cc['gender'].astype('category')\n",
    "pd.DataFrame([df_cc.dtypes])"
   ]
  },
  {
   "cell_type": "markdown",
   "metadata": {},
   "source": [
    "### Mulitnomial logistic regression\n",
    "http://scikit-learn.org/stable/auto_examples/linear_model/plot_logistic_multinomial.html"
   ]
  },
  {
   "cell_type": "code",
   "execution_count": 285,
   "metadata": {
    "collapsed": false
   },
   "outputs": [
    {
     "data": {
      "text/plain": [
       "(2397, 2)"
      ]
     },
     "execution_count": 285,
     "metadata": {},
     "output_type": "execute_result"
    }
   ],
   "source": [
    "predictors = ['s1','s2','s3','s4','s5','s6','s7','s8','s9']\n",
    "XX = df[predictors].as_matrix()\n",
    "X1 = XX.mean(axis=1)\n",
    "X2 = XX.std(axis=1)\n",
    "# X = np.vstack((X1,X2))\n",
    "pred = pd.DataFrame(np.vstack((X1,X2)).T)\n",
    "X = pred.as_matrix()   # 'numpy.ndarray'\n",
    "pred.shape"
   ]
  },
  {
   "cell_type": "code",
   "execution_count": 286,
   "metadata": {
    "collapsed": false
   },
   "outputs": [
    {
     "name": "stdout",
     "output_type": "stream",
     "text": [
      "[3 1 2 ..., 2 2 1]\n"
     ]
    },
    {
     "data": {
      "text/plain": [
       "(2397,)"
      ]
     },
     "execution_count": 286,
     "metadata": {},
     "output_type": "execute_result"
    }
   ],
   "source": [
    "marksDict = {'L': 1, 'M': 2, 'H': 3}\n",
    "df_ccc = df_cc.copy()\n",
    "df_ccc['LMH'] = coding(df_ccc['LMH'], marksDict)\n",
    "\n",
    "target = df_ccc['LMH'].values\n",
    "print(target)\n",
    "#y = target\n",
    "target.shape"
   ]
  },
  {
   "cell_type": "code",
   "execution_count": 287,
   "metadata": {
    "collapsed": false
   },
   "outputs": [
    {
     "name": "stdout",
     "output_type": "stream",
     "text": [
      "Optimization terminated successfully.\n",
      "         Current function value: 1.090257\n",
      "         Iterations 5\n",
      "                          MNLogit Regression Results                          \n",
      "==============================================================================\n",
      "Dep. Variable:                    LMH   No. Observations:                 2397\n",
      "Model:                        MNLogit   Df Residuals:                     2379\n",
      "Method:                           MLE   Df Model:                           16\n",
      "Date:                Tue, 24 Jan 2017   Pseudo R-squ.:                0.007563\n",
      "Time:                        13:35:31   Log-Likelihood:                -2613.3\n",
      "converged:                       True   LL-Null:                       -2633.3\n",
      "                                        LLR p-value:                 0.0008247\n",
      "==============================================================================\n",
      "     LMH=2       coef    std err          z      P>|z|      [95.0% Conf. Int.]\n",
      "------------------------------------------------------------------------------\n",
      "s1             0.1509      0.148      1.018      0.309        -0.140     0.441\n",
      "s2            -0.2621      0.172     -1.521      0.128        -0.600     0.076\n",
      "s3             0.0095      0.194      0.049      0.961        -0.371     0.390\n",
      "s4            -0.4314      0.225     -1.920      0.055        -0.872     0.009\n",
      "s5             0.1320      0.202      0.654      0.513        -0.264     0.528\n",
      "s6            -0.2513      0.195     -1.287      0.198        -0.634     0.131\n",
      "s7             0.7907      0.260      3.047      0.002         0.282     1.299\n",
      "s8            -0.1272      0.115     -1.109      0.268        -0.352     0.098\n",
      "s9            -0.0132      0.171     -0.077      0.939        -0.348     0.322\n",
      "------------------------------------------------------------------------------\n",
      "     LMH=3       coef    std err          z      P>|z|      [95.0% Conf. Int.]\n",
      "------------------------------------------------------------------------------\n",
      "s1            -0.0915      0.152     -0.601      0.548        -0.390     0.207\n",
      "s2            -0.3284      0.175     -1.875      0.061        -0.672     0.015\n",
      "s3             0.0764      0.194      0.394      0.694        -0.304     0.457\n",
      "s4            -0.2608      0.223     -1.167      0.243        -0.699     0.177\n",
      "s5            -0.0386      0.204     -0.189      0.850        -0.439     0.362\n",
      "s6            -0.1724      0.196     -0.881      0.378        -0.556     0.211\n",
      "s7             1.1249      0.260      4.321      0.000         0.615     1.635\n",
      "s8            -0.2168      0.116     -1.863      0.062        -0.445     0.011\n",
      "s9            -0.0989      0.176     -0.563      0.573        -0.443     0.245\n",
      "==============================================================================\n"
     ]
    },
    {
     "name": "stderr",
     "output_type": "stream",
     "text": [
      "/Users/arvid/anaconda3/lib/python3.5/site-packages/statsmodels/discrete/discrete_model.py:580: VisibleDeprecationWarning: using a non-integer number instead of an integer will result in an error in the future\n",
      "  start_params = np.zeros((self.K * (self.J-1)))\n",
      "/Users/arvid/anaconda3/lib/python3.5/site-packages/statsmodels/discrete/discrete_model.py:1840: VisibleDeprecationWarning: using a non-integer number instead of an integer will result in an error in the future\n",
      "  params = params.reshape(self.K, -1, order='F')\n",
      "/Users/arvid/anaconda3/lib/python3.5/site-packages/statsmodels/discrete/discrete_model.py:1756: VisibleDeprecationWarning: using a non-integer number instead of an integer will result in an error in the future\n",
      "  params = params.reshape(self.K, -1, order='F')\n",
      "/Users/arvid/anaconda3/lib/python3.5/site-packages/statsmodels/discrete/discrete_model.py:1697: VisibleDeprecationWarning: using a non-integer number instead of an integer will result in an error in the future\n",
      "  params = params.reshape(self.K, -1, order='F')\n",
      "/Users/arvid/anaconda3/lib/python3.5/site-packages/statsmodels/discrete/discrete_model.py:588: VisibleDeprecationWarning: using a non-integer number instead of an integer will result in an error in the future\n",
      "  mnfit.params = mnfit.params.reshape(self.K, -1, order='F')\n"
     ]
    },
    {
     "data": {
      "text/plain": [
       "array([[ 0.33425548,  0.33353555,  0.33220897],\n",
       "       [ 0.32465715,  0.32704476,  0.34829808],\n",
       "       [ 0.33425548,  0.33353555,  0.33220897],\n",
       "       ..., \n",
       "       [ 0.32602136,  0.37829763,  0.29568101],\n",
       "       [ 0.23937916,  0.40950125,  0.35111959],\n",
       "       [ 0.32602136,  0.37829763,  0.29568101]])"
      ]
     },
     "execution_count": 287,
     "metadata": {},
     "output_type": "execute_result"
    }
   ],
   "source": [
    "# http://stackoverflow.com/questions/31507396/mnlogit-in-statsmodel-returning-nan\n",
    "import statsmodels.api as st\n",
    "\n",
    "x = df.drop(['s','g','a'], axis = 1)\n",
    "y = df_ccc['LMH']\n",
    "# specify the model\n",
    "mdl = st.MNLogit(y, x)\n",
    "mdl_fit = mdl.fit()  \n",
    "# print model summary \n",
    "print(mdl_fit.summary())\n",
    "x.head()\n",
    "mdl_fit.predict()"
   ]
  },
  {
   "cell_type": "markdown",
   "metadata": {},
   "source": [
    "## TO DO:"
   ]
  },
  {
   "cell_type": "markdown",
   "metadata": {},
   "source": [
    "import numpy as np\n",
    "import matplotlib.pyplot as plt\n",
    "from sklearn.datasets import make_blobs\n",
    "from sklearn.linear_model import LogisticRegression\n",
    "\n",
    "\n",
    "#- make 3-class dataset for classification\n",
    "centers = [[-5, 0], [0, 1.5], [5, -1]]\n",
    "X, y = make_blobs(n_samples=1000, centers=centers, random_state=40)\n",
    "transformation = [[0.4, 0.2], [-0.4, 1.2]]\n",
    "X = np.dot(X, transformation)\n",
    "\n",
    "\n",
    "for multi_class in ('multinomial', 'ovr'):\n",
    "    clf = LogisticRegression(solver='sag', max_iter=100, random_state=42,\n",
    "                             multi_class=multi_class).fit(X, y)\n",
    "\n",
    "    #- print the training scores\n",
    "    print(\"training score : %.3f (%s)\" % (clf.score(X, y), multi_class))\n",
    "\n",
    "    #- create a mesh to plot in\n",
    "    h = .02  # step size in the mesh\n",
    "    x_min, x_max = X[:, 0].min() - 1, X[:, 0].max() + 1\n",
    "    y_min, y_max = X[:, 1].min() - 1, X[:, 1].max() + 1\n",
    "    xx, yy = np.meshgrid(np.arange(x_min, x_max, h),\n",
    "                         np.arange(y_min, y_max, h))\n",
    "\n",
    "    #- Plot the decision boundary. For that, we will assign a color to each\n",
    "    #- point in the mesh [x_min, x_max]x[y_min, y_max].\n",
    "    Z = clf.predict(np.c_[xx.ravel(), yy.ravel()])\n",
    "    #- Put the result into a color plot\n",
    "    Z = Z.reshape(xx.shape)\n",
    "    plt.figure()\n",
    "    plt.contourf(xx, yy, Z, cmap=plt.cm.Paired)\n",
    "    plt.title(\"Decision surface of LogisticRegression (%s)\" % multi_class)\n",
    "    plt.axis('tight')\n",
    "\n",
    "    #- Plot also the training points\n",
    "    colors = \"bry\"\n",
    "    for i, color in zip(clf.classes_, colors):\n",
    "        idx = np.where(y == i)\n",
    "        plt.scatter(X[idx, 0], X[idx, 1], c=color, cmap=plt.cm.Paired)\n",
    "\n",
    "    #- Plot the three one-against-all classifiers\n",
    "    xmin, xmax = plt.xlim()\n",
    "    ymin, ymax = plt.ylim()\n",
    "    coef = clf.coef_\n",
    "    intercept = clf.intercept_\n",
    "\n",
    "    def plot_hyperplane(c, color):\n",
    "        def line(x0):\n",
    "            return (-(x0 * coef[c, 0]) - intercept[c]) / coef[c, 1]\n",
    "        plt.plot([xmin, xmax], [line(xmin), line(xmax)],\n",
    "                 ls=\"--\", color=color)\n",
    "\n",
    "    for i, color in zip(clf.classes_, colors):\n",
    "        plot_hyperplane(i, color)\n",
    "\n",
    "plt.show()"
   ]
  },
  {
   "cell_type": "markdown",
   "metadata": {
    "collapsed": true
   },
   "source": [
    "X = df[list(df.columns)[:-1]]\n",
    "y = df['averBinned']\n",
    "from sklearn import preprocessing\n",
    "le=preprocessing.LabelEncoder()\n",
    "y_num=le.fit_transform(y)"
   ]
  },
  {
   "cell_type": "markdown",
   "metadata": {
    "collapsed": false
   },
   "source": [
    "#old_names = df.columns.tolist()\n",
    "#new_names = ['ACCC_L', 'MFC_L', 'OFL_L', 'OFM_L', 'MFR_L', 'INS_L', \n",
    "#-             'ACCC_R', 'MFC_R', 'OFL_R', 'OFM_R', 'MFR_R', 'INS_R', \n",
    "#-             'target'] \n",
    "#df.rename(columns=dict(zip(old_names, new_names)), inplace=True)\n",
    "#- Get the Low academic achievement data\n",
    "df_L = (df.groupby('averBinned').get_group('L')).iloc[:,:-1]\n",
    "X_L = df_L[list(df_L.columns)[:]]\n",
    "#- Get the Medium academic achievement data\n",
    "df_M = (df.groupby('averBinned').get_group('M')).iloc[:,:-1]\n",
    "X_M = df_M[list(df_M.columns)[:]]\n",
    "#- Get the High academic achievement data\n",
    "df_H = (df.groupby('averBinned').get_group('H')).iloc[:,:-1]\n",
    "X_H = df_H[list(df_H.columns)[:]]\n",
    "df_L.hist()"
   ]
  },
  {
   "cell_type": "markdown",
   "metadata": {},
   "source": [
    "## Investigating the prediction academic achievment from inattention data using machine learning\n"
   ]
  },
  {
   "cell_type": "markdown",
   "metadata": {},
   "source": [
    "\n",
    "import pickle\n",
    "\n",
    "PANDA to NUMPY.  .as_matrix()\n",
    "\n",
    "list .... .string_contans('....   ')\n",
    "\n",
    "pandas.tools.plotting.scatter_matrix \n",
    "from sklearn.metrics import confusion_matrix, classification_report\n",
    "\n",
    "print(classification_report(Ytest_split, Ypred_split))\n",
    "\n",
    "Neural networks generally, performs generally better than random forest on time series\n",
    "Multilayer perceptrons now in Scikit\n",
    "\n",
    "\n",
    "## Introduction\n",
    "Cortical thickness might be influenced by chronic pain conditions, and can therefore be increased or decreased in different brain regions. In the irritable bowel syndrome (IBS) brain, a core network is the salience network, responding to subjective salience of stimulus or the expectation of stimulus. In our study machine learning classification methods was used to analyze cortical thickness in key nodes of the salience network. \n",
    "\n",
    "\n",
    "FIGURE"
   ]
  },
  {
   "cell_type": "markdown",
   "metadata": {
    "collapsed": false
   },
   "source": [
    "reorder_list = [0, 6, 1, 7, 2, 8, 3, 9, 4, 10, 5, 11]\n",
    "old_names_reorder = [old_names[i] for i in reorder_list]\n",
    "new_names_reorder = [new_names[i] for i in reorder_list]\n",
    "\n",
    "sns.set(style=\"ticks\", palette=\"muted\", color_codes=True)\n",
    "paper_rc = {'lines.linewidth': 4, 'lines.markersize': 10} \n",
    "sns.set_style(\"white\", {\"axes.facecolor\": \"1.0\"})\n",
    "sns.set_context(\"paper\", rc = paper_rc, font_scale = 3) \n",
    "\n",
    "fig, axes = plt.subplots(6, 2, figsize=(15, 20), sharex=True)\n",
    "sns.despine(left=False)\n",
    "\n",
    "#- Plot a kernel density estimate and rug plot\n",
    "#- Plot a kernel density estimate and rug plot\n",
    "for i in range(0,len(reorder_list)):\n",
    "    k1 = math.floor(i/2) # 0,0,1,1,2,2,3,3, ... \n",
    "    k2 = i%2  # Left / Right parity\n",
    "    if (k1 == 0) & (k2 == 1):\n",
    "        sns.distplot(X_hc[new_names_reorder[i]].values,hist=False,rug=True,color=\"r\",ax=axes[k1,k2],label='HC')\n",
    "        sns.distplot(X_ibs[new_names_reorder[i]].values,hist=False,rug=True,color=\"b\",ax=axes[k1,k2],label='IBS')\n",
    "        axes[k1,k2].set_title(old_names_reorder[i],fontsize=24, fontweight='bold')\n",
    "    sns.distplot(X_hc[new_names_reorder[i]].values,hist=False,rug=True,color=\"r\",ax=axes[k1,k2])\n",
    "    sns.distplot(X_ibs[new_names_reorder[i]].values,hist=False,rug=True,color=\"b\",ax=axes[k1,k2])\n",
    "    axes[k1,k2].set_title(old_names_reorder[i],fontsize=24, fontweight='bold')\n",
    "\n",
    "plt.setp(axes, yticks=[])\n",
    "plt.tight_layout()\n",
    "\n",
    "plt.savefig('regional_mean_cortical_thickness_density.pdf', bbox_inches='tight')"
   ]
  },
  {
   "cell_type": "markdown",
   "metadata": {},
   "source": [
    "## Methods and materials\n",
    "Two successive 3D T1-weighted MRI acquisitions from 15 IBS patients and 15 healthy controls (HC) were recorded on a GE Sigma 3.0T MR scanner and segmented with FreeSurfer. Mean cortical thickness values from anatomical regions in the salience network were extracted and analyzed in Python/scikit-learn using various machine learning classifiers, with the goal of differentiating HC and IBS. It is suspected that the insular cortex plays an important role in IBS. To investigate this we've set up a prediction framework based on mean cortical thickness in the insula. "
   ]
  },
  {
   "cell_type": "markdown",
   "metadata": {},
   "source": [
    "FIGURE"
   ]
  },
  {
   "cell_type": "markdown",
   "metadata": {},
   "source": [
    "For training the classifiers we used a \"leave-one-out\" method, where the diagnosis of each patient is predicted by training the classifiers on the remaining patients. Since each patient was scanned twice, we remove the data corresponding to the test data from the training set each time."
   ]
  },
  {
   "cell_type": "markdown",
   "metadata": {
    "collapsed": true
   },
   "source": [
    "from sklearn.model_selection import LeaveOneOut\n",
    "loo = LeaveOneOut()"
   ]
  },
  {
   "cell_type": "markdown",
   "metadata": {
    "collapsed": true
   },
   "source": [
    "from sklearn.neural_network import MLPClassifier\n",
    "from sklearn.neighbors import KNeighborsClassifier\n",
    "from sklearn.gaussian_process.kernels import RBF\n",
    "from sklearn.ensemble import RandomForestClassifier, AdaBoostClassifier, ExtraTreesClassifier\n",
    "from sklearn.naive_bayes import GaussianNB\n",
    "from sklearn.discriminant_analysis import QuadraticDiscriminantAnalysis\n",
    "from sklearn.neighbors import KNeighborsClassifier\n",
    "from sklearn.metrics import accuracy_score"
   ]
  },
  {
   "cell_type": "markdown",
   "metadata": {
    "collapsed": true
   },
   "source": [
    "classifiers = [\n",
    "               RandomForestClassifier(n_estimators = 5, max_depth = 2),\n",
    "               ExtraTreesClassifier(n_estimators = 5, max_depth = 2, n_jobs=-1),\n",
    "               MLPClassifier(alpha = 0.05, max_iter=10000),\n",
    "               AdaBoostClassifier(learning_rate=0.1, n_estimators=50),\n",
    "               GaussianNB(),\n",
    "               QuadraticDiscriminantAnalysis(),\n",
    "               KNeighborsClassifier(n_neighbors = 2)\n",
    "               ]\n",
    "\n",
    "names = [\n",
    "        'Random forest', \n",
    "        'ExtraTreesClassifier',\n",
    "        'Neural net', \n",
    "        'AdaBoost', \n",
    "        'Naive Bayes', \n",
    "        'QDA',\n",
    "        'KNN'\n",
    "        ]"
   ]
  },
  {
   "cell_type": "markdown",
   "metadata": {},
   "source": [
    "# Results\n",
    "Cortical thickness (mm) in the salience network for both groups:\n",
    "\n",
    "IMAGE.  IMAGE Scatter plot"
   ]
  },
  {
   "cell_type": "markdown",
   "metadata": {
    "collapsed": false
   },
   "source": [
    "X = X[['Insula_L', 'Insula_R']]\n",
    "xHC = df_hc[['INS_L','INS_R']].values\n",
    "xIBS = df_ibs[['INS_L','INS_R']].values\n",
    "\n",
    "\n",
    "fig = plt.subplots(1, 1, figsize=(7, 7), sharex=True)\n",
    "\n",
    "hc = plt.scatter(xHC[:,0], xHC[:,1], marker='o', color='r', edgecolor='black', linewidth='1', alpha=.8, s=200)\n",
    "ibs = plt.scatter(xIBS[:,0], xIBS[:,1], marker='o', color='b',  edgecolor='black', linewidth='1', alpha=.8, s=200)\n",
    "\n",
    "plt.legend((hc, ibs),\n",
    "           ('HC', 'IBS'),\n",
    "           scatterpoints=1,\n",
    "           loc='upper left',\n",
    "           ncol=1,\n",
    "           fontsize=16)\n",
    "\n",
    "plt.xlabel('Insula_L [mm]', fontsize=16)\n",
    "plt.ylabel('Insula_R [mm]', fontsize=16)\n",
    "plt.tick_params(axis='both', which='major', labelsize=12)\n",
    "\n",
    "#- plt.show()\n",
    "\n",
    "plt.savefig('mean_cortical_thickness_R_vs_L_Insula.pdf', bbox_inches='tight')"
   ]
  },
  {
   "cell_type": "markdown",
   "metadata": {
    "collapsed": false
   },
   "source": [
    "#- X = X[['Insula_L', 'Insula_R']]\n",
    "\n",
    "#- plt.scatter(X['Insula_L'], X['Insula_R'], c=y_num, cmap=plt.cm.Paired, s=100);"
   ]
  },
  {
   "cell_type": "markdown",
   "metadata": {
    "collapsed": true
   },
   "source": [
    "from sklearn.preprocessing import StandardScaler"
   ]
  },
  {
   "cell_type": "markdown",
   "metadata": {
    "collapsed": true
   },
   "source": [
    "def scoreLOO(clf, X, prepost=True, scorer=\"accuracy\"):\n",
    "    scores=[]\n",
    "    trainscore=[]\n",
    "    for train_index, test_index in loo.split(X):\n",
    "            X_train, X_test = X.iloc[train_index,:], X.iloc[test_index,:]\n",
    "\n",
    "            if prepost:\n",
    "                # Remove corresponding pair in X_train:\n",
    "                y_train, y_test = y[train_index], y[test_index]\n",
    "                if (y_test.index % 2 == 0): #even (pre meal)\n",
    "                    X_train = X_train.drop(y_test.index + 1)  #(after meal)\n",
    "                    y_train = y_train.drop(y_test.index + 1)\n",
    "                else: #odd (after meal)\n",
    "                    X_train = X_train.drop(y_test.index - 1) #(pre meal)\n",
    "                    y_train = y_train.drop(y_test.index - 1)\n",
    "           \n",
    "            # Feature scaling\n",
    "            sc = StandardScaler()\n",
    "            sc.fit(X_train)\n",
    "\n",
    "            # Classifier\n",
    "            clfer=clf.fit(sc.transform(X_train), y_train)\n",
    "\n",
    "            y_pred = clf.predict(sc.transform(X_test))\n",
    "            y_train_pred = clf.predict(sc.transform(X_train))\n",
    "            \n",
    "            if scorer==\"accuracy\":\n",
    "                scores.append(accuracy_score(y_test, y_pred))\n",
    "                trainscore.append(accuracy_score(y_train, y_train_pred))\n",
    "            else:\n",
    "                scores.append(accuracy_score(y_test, y_pred))\n",
    "                trainscore.append(accuracy_score(y_train, y_train_pred))\n",
    "            \n",
    "    return np.mean(scores), np.mean(trainscore)"
   ]
  },
  {
   "cell_type": "markdown",
   "metadata": {
    "collapsed": false
   },
   "source": [
    "scorers = [\n",
    "    \"accuracy\" \n",
    "]\n",
    "\n",
    "num_runs=50\n",
    "\n",
    "for scorer in scorers:\n",
    "    for name, clf in zip(names, classifiers):\n",
    "        totalscores=[]\n",
    "        trainscores=[]\n",
    "\n",
    "        for i in range(1,num_runs):\n",
    "            meanscore, meantrainscore = scoreLOO(clf, X, prepost=True, scorer=scorer)\n",
    "            totalscores.append(meanscore)\n",
    "            trainscores.append(meantrainscore)\n",
    "\n",
    "        print(\"Training scores (%s): %s: \\t %0.2f (+/- %0.3f) \\n\" % (scorer, \n",
    "                                                                     name, \n",
    "                                                                     np.mean(trainscores), \n",
    "                                                                     np.std(trainscores)))\n",
    "        print(\"%s, %s: \\t %0.2f (+/- %0.3f) \\n ------------ \\n\" % (scorer, \n",
    "                                                                   name, \n",
    "                                                                   np.mean(totalscores), \n",
    "                                                                   np.std(totalscores)))"
   ]
  },
  {
   "cell_type": "markdown",
   "metadata": {
    "collapsed": true
   },
   "source": [
    "Training scores (accuracy): Random forest: \t 0.74 (+/- 0.005) \n",
    "\n",
    "accuracy, Random forest: \t 0.48 (+/- 0.056) \n",
    " ------------ \n",
    "\n",
    "Training scores (accuracy): ExtraTreesClassifier: \t 0.68 (+/- 0.007) \n",
    "\n",
    "accuracy, ExtraTreesClassifier: \t 0.45 (+/- 0.048) \n",
    " ------------ \n",
    "\n",
    "Training scores (accuracy): Neural net: \t 0.80 (+/- 0.002) \n",
    "\n",
    "accuracy, Neural net: \t 0.63 (+/- 0.012) \n",
    " ------------ \n",
    "\n",
    "Training scores (accuracy): AdaBoost: \t 0.82 (+/- 0.000) \n",
    "\n",
    "accuracy, AdaBoost: \t 0.52 (+/- 0.000) \n",
    " ------------ \n",
    "\n",
    "Training scores (accuracy): Naive Bayes: \t 0.64 (+/- 0.000) \n",
    "\n",
    "accuracy, Naive Bayes: \t 0.52 (+/- 0.000) \n",
    " ------------ \n",
    "\n",
    "Training scores (accuracy): QDA: \t 0.71 (+/- 0.000) \n",
    "\n",
    "accuracy, QDA: \t 0.63 (+/- 0.000) \n",
    " ------------ \n",
    "\n",
    "Training scores (accuracy): KNN: \t 0.78 (+/- 0.000) \n",
    "\n",
    "accuracy, KNN: \t 0.57 (+/- 0.000) \n",
    " ------------ \n"
   ]
  },
  {
   "cell_type": "markdown",
   "metadata": {},
   "source": [
    "# Conclusion and discussion"
   ]
  },
  {
   "cell_type": "markdown",
   "metadata": {},
   "source": [
    "Patients with IBS are known to have brain signatures within the salience network that differs from healthy controls. Finding such patterns would make it possible to discriminate between the IBS and HC brain and is a highly interesting problem, both diagnostically and mechanistically. An overall change in the network could indicate an altered interoceptive function in IBS patients constituting of several minor non-significant findings. \n",
    "\n",
    "The present study is part of an investigation into the salience network of IBS patients, using MRI and fMRI together with a meal intervention. The classification techniques studied here wasn't able to distinguish between patients and control in a significantly accurate manner. This is likely because the dataset is small and the subtle variation of the cortical thickness patterns across the groups.\n",
    "\n",
    "Using the fMRI data recorded pre and post meal intervention to construct activation graphs in the salience network, and use these networks to classify patients and healthy control would likely lead to better results. This approach is presently being investigated."
   ]
  },
  {
   "cell_type": "code",
   "execution_count": null,
   "metadata": {
    "collapsed": true
   },
   "outputs": [],
   "source": []
  }
 ],
 "metadata": {
  "anaconda-cloud": {},
  "kernelspec": {
   "display_name": "Python [default]",
   "language": "python",
   "name": "python3"
  },
  "language_info": {
   "codemirror_mode": {
    "name": "ipython",
    "version": 3
   },
   "file_extension": ".py",
   "mimetype": "text/x-python",
   "name": "python",
   "nbconvert_exporter": "python",
   "pygments_lexer": "ipython3",
   "version": "3.5.2"
  }
 },
 "nbformat": 4,
 "nbformat_minor": 0
}
