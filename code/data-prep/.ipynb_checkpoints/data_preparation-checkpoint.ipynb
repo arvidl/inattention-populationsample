{
 "cells": [
  {
   "cell_type": "markdown",
   "metadata": {},
   "source": [
    "#### Jupyter R notebook by Arvid Lundervold, 2016\n",
    "in the project\n",
    "### \"Prediction of academic achievement in adolescents from teacher reports of inattention in childhood - a methodological pattern classification study\"\n",
    "by _Astri J. Lundervold, Tormod Bøe, Arvid Lundervold_\n"
   ]
  },
  {
   "cell_type": "markdown",
   "metadata": {},
   "source": [
    "## Data preparation"
   ]
  },
  {
   "cell_type": "markdown",
   "metadata": {},
   "source": [
    "The original SPSS file as provided to AJL is 'inattention_Astri_94_96_new_grades_updated.sav'\n",
    "and being edited and reduced by AJL to 'inattention_Arvid_new.sav'."
   ]
  },
  {
   "cell_type": "code",
   "execution_count": 37,
   "metadata": {
    "collapsed": false
   },
   "outputs": [],
   "source": [
    "# Import data stored in the SPSS format\n",
    "library(memisc)\n",
    "fn <- \"~/Dropbox/Arvid_Inattention/data2/inattention_Arvid_new.sav\"\n",
    "data <- as.data.set(spss.system.file(fn))"
   ]
  },
  {
   "cell_type": "markdown",
   "metadata": {},
   "source": [
    "Make new data frame from the sample with the variables \n",
    "gender, grade, SNAP1, ..., SNAP9 (vars 1-11) and academic_achievement (var 52) "
   ]
  },
  {
   "cell_type": "code",
   "execution_count": 38,
   "metadata": {
    "collapsed": false
   },
   "outputs": [
    {
     "data": {
      "text/html": [
       "<ol class=list-inline>\n",
       "\t<li>'gender'</li>\n",
       "\t<li>'grade'</li>\n",
       "\t<li>'snap1'</li>\n",
       "\t<li>'snap2'</li>\n",
       "\t<li>'snap3'</li>\n",
       "\t<li>'snap4'</li>\n",
       "\t<li>'snap5'</li>\n",
       "\t<li>'snap6'</li>\n",
       "\t<li>'snap7'</li>\n",
       "\t<li>'snap8'</li>\n",
       "\t<li>'snap9'</li>\n",
       "\t<li>'snap10'</li>\n",
       "\t<li>'snap11'</li>\n",
       "\t<li>'snap12'</li>\n",
       "\t<li>'snap13'</li>\n",
       "\t<li>'snap14'</li>\n",
       "\t<li>'snap15'</li>\n",
       "\t<li>'snap16'</li>\n",
       "\t<li>'snap17'</li>\n",
       "\t<li>'snap18'</li>\n",
       "\t<li>'y_4_asrs_1'</li>\n",
       "\t<li>'y_4_asrs_2'</li>\n",
       "\t<li>'y_4_asrs_3'</li>\n",
       "\t<li>'y_4_asrs_4'</li>\n",
       "\t<li>'y_4_asrs_5'</li>\n",
       "\t<li>'y_4_asrs_6'</li>\n",
       "\t<li>'y_4_asrs_7'</li>\n",
       "\t<li>'y_4_asrs_8'</li>\n",
       "\t<li>'y_4_asrs_9'</li>\n",
       "\t<li>'y_4_asrs_10'</li>\n",
       "\t<li>'y_4_asrs_11'</li>\n",
       "\t<li>'y_4_asrs_12'</li>\n",
       "\t<li>'y_4_asrs_13'</li>\n",
       "\t<li>'y_4_asrs_14'</li>\n",
       "\t<li>'y_4_asrs_15'</li>\n",
       "\t<li>'y_4_asrs_16'</li>\n",
       "\t<li>'y_4_asrs_17'</li>\n",
       "\t<li>'y_4_asrs_18'</li>\n",
       "\t<li>'y_4_mfq_1'</li>\n",
       "\t<li>'y_4_mfq_2'</li>\n",
       "\t<li>'y_4_mfq_3'</li>\n",
       "\t<li>'y_4_mfq_4'</li>\n",
       "\t<li>'y_4_mfq_5'</li>\n",
       "\t<li>'y_4_mfq_6'</li>\n",
       "\t<li>'y_4_mfq_7'</li>\n",
       "\t<li>'y_4_mfq_8'</li>\n",
       "\t<li>'y_4_mfq_9'</li>\n",
       "\t<li>'y_4_mfq_10'</li>\n",
       "\t<li>'y_4_mfq_11'</li>\n",
       "\t<li>'y_4_mfq_12'</li>\n",
       "\t<li>'y_4_mfq_13'</li>\n",
       "\t<li>'academic_achievement'</li>\n",
       "</ol>\n"
      ],
      "text/latex": [
       "\\begin{enumerate*}\n",
       "\\item 'gender'\n",
       "\\item 'grade'\n",
       "\\item 'snap1'\n",
       "\\item 'snap2'\n",
       "\\item 'snap3'\n",
       "\\item 'snap4'\n",
       "\\item 'snap5'\n",
       "\\item 'snap6'\n",
       "\\item 'snap7'\n",
       "\\item 'snap8'\n",
       "\\item 'snap9'\n",
       "\\item 'snap10'\n",
       "\\item 'snap11'\n",
       "\\item 'snap12'\n",
       "\\item 'snap13'\n",
       "\\item 'snap14'\n",
       "\\item 'snap15'\n",
       "\\item 'snap16'\n",
       "\\item 'snap17'\n",
       "\\item 'snap18'\n",
       "\\item 'y\\_4\\_asrs\\_1'\n",
       "\\item 'y\\_4\\_asrs\\_2'\n",
       "\\item 'y\\_4\\_asrs\\_3'\n",
       "\\item 'y\\_4\\_asrs\\_4'\n",
       "\\item 'y\\_4\\_asrs\\_5'\n",
       "\\item 'y\\_4\\_asrs\\_6'\n",
       "\\item 'y\\_4\\_asrs\\_7'\n",
       "\\item 'y\\_4\\_asrs\\_8'\n",
       "\\item 'y\\_4\\_asrs\\_9'\n",
       "\\item 'y\\_4\\_asrs\\_10'\n",
       "\\item 'y\\_4\\_asrs\\_11'\n",
       "\\item 'y\\_4\\_asrs\\_12'\n",
       "\\item 'y\\_4\\_asrs\\_13'\n",
       "\\item 'y\\_4\\_asrs\\_14'\n",
       "\\item 'y\\_4\\_asrs\\_15'\n",
       "\\item 'y\\_4\\_asrs\\_16'\n",
       "\\item 'y\\_4\\_asrs\\_17'\n",
       "\\item 'y\\_4\\_asrs\\_18'\n",
       "\\item 'y\\_4\\_mfq\\_1'\n",
       "\\item 'y\\_4\\_mfq\\_2'\n",
       "\\item 'y\\_4\\_mfq\\_3'\n",
       "\\item 'y\\_4\\_mfq\\_4'\n",
       "\\item 'y\\_4\\_mfq\\_5'\n",
       "\\item 'y\\_4\\_mfq\\_6'\n",
       "\\item 'y\\_4\\_mfq\\_7'\n",
       "\\item 'y\\_4\\_mfq\\_8'\n",
       "\\item 'y\\_4\\_mfq\\_9'\n",
       "\\item 'y\\_4\\_mfq\\_10'\n",
       "\\item 'y\\_4\\_mfq\\_11'\n",
       "\\item 'y\\_4\\_mfq\\_12'\n",
       "\\item 'y\\_4\\_mfq\\_13'\n",
       "\\item 'academic\\_achievement'\n",
       "\\end{enumerate*}\n"
      ],
      "text/markdown": [
       "1. 'gender'\n",
       "2. 'grade'\n",
       "3. 'snap1'\n",
       "4. 'snap2'\n",
       "5. 'snap3'\n",
       "6. 'snap4'\n",
       "7. 'snap5'\n",
       "8. 'snap6'\n",
       "9. 'snap7'\n",
       "10. 'snap8'\n",
       "11. 'snap9'\n",
       "12. 'snap10'\n",
       "13. 'snap11'\n",
       "14. 'snap12'\n",
       "15. 'snap13'\n",
       "16. 'snap14'\n",
       "17. 'snap15'\n",
       "18. 'snap16'\n",
       "19. 'snap17'\n",
       "20. 'snap18'\n",
       "21. 'y_4_asrs_1'\n",
       "22. 'y_4_asrs_2'\n",
       "23. 'y_4_asrs_3'\n",
       "24. 'y_4_asrs_4'\n",
       "25. 'y_4_asrs_5'\n",
       "26. 'y_4_asrs_6'\n",
       "27. 'y_4_asrs_7'\n",
       "28. 'y_4_asrs_8'\n",
       "29. 'y_4_asrs_9'\n",
       "30. 'y_4_asrs_10'\n",
       "31. 'y_4_asrs_11'\n",
       "32. 'y_4_asrs_12'\n",
       "33. 'y_4_asrs_13'\n",
       "34. 'y_4_asrs_14'\n",
       "35. 'y_4_asrs_15'\n",
       "36. 'y_4_asrs_16'\n",
       "37. 'y_4_asrs_17'\n",
       "38. 'y_4_asrs_18'\n",
       "39. 'y_4_mfq_1'\n",
       "40. 'y_4_mfq_2'\n",
       "41. 'y_4_mfq_3'\n",
       "42. 'y_4_mfq_4'\n",
       "43. 'y_4_mfq_5'\n",
       "44. 'y_4_mfq_6'\n",
       "45. 'y_4_mfq_7'\n",
       "46. 'y_4_mfq_8'\n",
       "47. 'y_4_mfq_9'\n",
       "48. 'y_4_mfq_10'\n",
       "49. 'y_4_mfq_11'\n",
       "50. 'y_4_mfq_12'\n",
       "51. 'y_4_mfq_13'\n",
       "52. 'academic_achievement'\n",
       "\n",
       "\n"
      ],
      "text/plain": [
       " [1] \"gender\"               \"grade\"                \"snap1\"               \n",
       " [4] \"snap2\"                \"snap3\"                \"snap4\"               \n",
       " [7] \"snap5\"                \"snap6\"                \"snap7\"               \n",
       "[10] \"snap8\"                \"snap9\"                \"snap10\"              \n",
       "[13] \"snap11\"               \"snap12\"               \"snap13\"              \n",
       "[16] \"snap14\"               \"snap15\"               \"snap16\"              \n",
       "[19] \"snap17\"               \"snap18\"               \"y_4_asrs_1\"          \n",
       "[22] \"y_4_asrs_2\"           \"y_4_asrs_3\"           \"y_4_asrs_4\"          \n",
       "[25] \"y_4_asrs_5\"           \"y_4_asrs_6\"           \"y_4_asrs_7\"          \n",
       "[28] \"y_4_asrs_8\"           \"y_4_asrs_9\"           \"y_4_asrs_10\"         \n",
       "[31] \"y_4_asrs_11\"          \"y_4_asrs_12\"          \"y_4_asrs_13\"         \n",
       "[34] \"y_4_asrs_14\"          \"y_4_asrs_15\"          \"y_4_asrs_16\"         \n",
       "[37] \"y_4_asrs_17\"          \"y_4_asrs_18\"          \"y_4_mfq_1\"           \n",
       "[40] \"y_4_mfq_2\"            \"y_4_mfq_3\"            \"y_4_mfq_4\"           \n",
       "[43] \"y_4_mfq_5\"            \"y_4_mfq_6\"            \"y_4_mfq_7\"           \n",
       "[46] \"y_4_mfq_8\"            \"y_4_mfq_9\"            \"y_4_mfq_10\"          \n",
       "[49] \"y_4_mfq_11\"           \"y_4_mfq_12\"           \"y_4_mfq_13\"          \n",
       "[52] \"academic_achievement\""
      ]
     },
     "metadata": {},
     "output_type": "display_data"
    },
    {
     "data": {
      "text/html": [
       "<ol class=list-inline>\n",
       "\t<li>10870</li>\n",
       "\t<li>12</li>\n",
       "</ol>\n"
      ],
      "text/latex": [
       "\\begin{enumerate*}\n",
       "\\item 10870\n",
       "\\item 12\n",
       "\\end{enumerate*}\n"
      ],
      "text/markdown": [
       "1. 10870\n",
       "2. 12\n",
       "\n",
       "\n"
      ],
      "text/plain": [
       "[1] 10870    12"
      ]
     },
     "metadata": {},
     "output_type": "display_data"
    },
    {
     "data": {
      "text/html": [
       "<ol class=list-inline>\n",
       "\t<li>'gender'</li>\n",
       "\t<li>'grade'</li>\n",
       "\t<li>'snap1'</li>\n",
       "\t<li>'snap2'</li>\n",
       "\t<li>'snap3'</li>\n",
       "\t<li>'snap4'</li>\n",
       "\t<li>'snap5'</li>\n",
       "\t<li>'snap6'</li>\n",
       "\t<li>'snap7'</li>\n",
       "\t<li>'snap8'</li>\n",
       "\t<li>'snap9'</li>\n",
       "\t<li>'academic_achievement'</li>\n",
       "</ol>\n"
      ],
      "text/latex": [
       "\\begin{enumerate*}\n",
       "\\item 'gender'\n",
       "\\item 'grade'\n",
       "\\item 'snap1'\n",
       "\\item 'snap2'\n",
       "\\item 'snap3'\n",
       "\\item 'snap4'\n",
       "\\item 'snap5'\n",
       "\\item 'snap6'\n",
       "\\item 'snap7'\n",
       "\\item 'snap8'\n",
       "\\item 'snap9'\n",
       "\\item 'academic\\_achievement'\n",
       "\\end{enumerate*}\n"
      ],
      "text/markdown": [
       "1. 'gender'\n",
       "2. 'grade'\n",
       "3. 'snap1'\n",
       "4. 'snap2'\n",
       "5. 'snap3'\n",
       "6. 'snap4'\n",
       "7. 'snap5'\n",
       "8. 'snap6'\n",
       "9. 'snap7'\n",
       "10. 'snap8'\n",
       "11. 'snap9'\n",
       "12. 'academic_achievement'\n",
       "\n",
       "\n"
      ],
      "text/plain": [
       " [1] \"gender\"               \"grade\"                \"snap1\"               \n",
       " [4] \"snap2\"                \"snap3\"                \"snap4\"               \n",
       " [7] \"snap5\"                \"snap6\"                \"snap7\"               \n",
       "[10] \"snap8\"                \"snap9\"                \"academic_achievement\""
      ]
     },
     "metadata": {},
     "output_type": "display_data"
    },
    {
     "name": "stdout",
     "output_type": "stream",
     "text": [
      "Data set with 10870 obs. of 12 variables:\n",
      " $ gender              : Nmnl. item w/ 2 labels for 0,1  num  NA NA NA NA NA NA NA NA NA NA ...\n",
      " $ grade               : Itvl. item + ms.v.  num  NA NA NA NA NA NA NA NA NA NA ...\n",
      " $ snap1               : Nmnl. item w/ 3 labels for 0,1,2 + ms.v.  num  NA NA NA NA NA NA NA NA NA NA ...\n",
      " $ snap2               : Nmnl. item w/ 3 labels for 0,1,2 + ms.v.  num  NA NA NA NA NA NA NA NA NA NA ...\n",
      " $ snap3               : Nmnl. item w/ 3 labels for 0,1,2 + ms.v.  num  NA NA NA NA NA NA NA NA NA NA ...\n",
      " $ snap4               : Nmnl. item w/ 3 labels for 0,1,2 + ms.v.  num  NA NA NA NA NA NA NA NA NA NA ...\n",
      " $ snap5               : Nmnl. item w/ 3 labels for 0,1,2 + ms.v.  num  NA NA NA NA NA NA NA NA NA NA ...\n",
      " $ snap6               : Nmnl. item w/ 3 labels for 0,1,2 + ms.v.  num  NA NA NA NA NA NA NA NA NA NA ...\n",
      " $ snap7               : Nmnl. item w/ 3 labels for 0,1,2 + ms.v.  num  NA NA NA NA NA NA NA NA NA NA ...\n",
      " $ snap8               : Nmnl. item w/ 3 labels for 0,1,2 + ms.v.  num  NA NA NA NA NA NA NA NA NA NA ...\n",
      " $ snap9               : Nmnl. item w/ 3 labels for 0,1,2 + ms.v.  num  NA NA NA NA NA NA NA NA NA NA ...\n",
      " $ academic_achievement: Itvl. item  num  2.86 NA 3 3.67 4.1 ...\n"
     ]
    },
    {
     "data": {
      "text/plain": [
       "  gender          grade                    snap1                 snap2     \n",
       " Girl:5528   Min.    :   2.00   Not true      :2646   Not true      :2698  \n",
       " Boy :4978   1st Qu. :   2.00   Somewhat true : 350   Somewhat true : 294  \n",
       " *   :   0   Median  :   3.00   Certainly true:  61   Certainly true:  65  \n",
       " NAs : 364   Mean    :   2.84   *             :   0   *             :   0  \n",
       "             3rd Qu. :   3.50   NAs           :7813   NAs           :7813  \n",
       "             Max.    :   4.00                                              \n",
       "             Missings:   0.00                                              \n",
       "             NAs     :7719.00                                              \n",
       "            snap3                 snap4                 snap5     \n",
       " Not true      :2810   Not true      :2806   Not true      :2783  \n",
       " Somewhat true : 225   Somewhat true : 229   Somewhat true : 225  \n",
       " Certainly true:  23   Certainly true:  22   Certainly true:  49  \n",
       " *             :   0   *             :   0   *             :   0  \n",
       " NAs           :7812   NAs           :7813   NAs           :7813  \n",
       "                                                                  \n",
       "                                                                  \n",
       "                                                                  \n",
       "            snap6                 snap7                 snap8     \n",
       " Not true      :2784   Not true      :2927   Not true      :2260  \n",
       " Somewhat true : 223   Somewhat true :  96   Somewhat true : 669  \n",
       " Certainly true:  49   Certainly true:  18   Certainly true: 127  \n",
       " *             :   0   *             :   0   *             :   0  \n",
       " NAs           :7814   NAs           :7829   NAs           :7814  \n",
       "                                                                  \n",
       "                                                                  \n",
       "                                                                  \n",
       "            snap9      academic_achievement\n",
       " Not true      :2733   Min.    :   1.000   \n",
       " Somewhat true : 288   1st Qu. :   3.286   \n",
       " Certainly true:  37   Median  :   3.889   \n",
       " *             :   0   Mean    :   3.824   \n",
       " NAs           :7812   3rd Qu. :   4.444   \n",
       "                       Max.    :   6.000   \n",
       "                       Missings:   0.000   \n",
       "                       NAs     :2204.000   "
      ]
     },
     "metadata": {},
     "output_type": "display_data"
    }
   ],
   "source": [
    "names(data)\n",
    "d <- data[, c(1:11, 52)]\n",
    "dim(d)\n",
    "names(d)\n",
    "str(d)\n",
    "summary(d)"
   ]
  },
  {
   "cell_type": "markdown",
   "metadata": {},
   "source": [
    "Get observations of data frame that have missing values and those with complete cases"
   ]
  },
  {
   "cell_type": "code",
   "execution_count": 39,
   "metadata": {
    "collapsed": false
   },
   "outputs": [
    {
     "name": "stdout",
     "output_type": "stream",
     "text": [
      "Data set with 2397 obs. of 12 variables:\n",
      " $ gender              : Nmnl. item w/ 2 labels for 0,1  num  0 0 0 0 0 0 0 0 0 0 ...\n",
      " $ grade               : Itvl. item + ms.v.  num  2 2 2 2 2 2 2 2 2 2 ...\n",
      " $ snap1               : Nmnl. item w/ 3 labels for 0,1,2 + ms.v.  num  0 0 0 0 0 0 0 0 0 0 ...\n",
      " $ snap2               : Nmnl. item w/ 3 labels for 0,1,2 + ms.v.  num  0 0 0 0 0 0 0 0 0 0 ...\n",
      " $ snap3               : Nmnl. item w/ 3 labels for 0,1,2 + ms.v.  num  0 1 0 0 0 0 0 0 0 0 ...\n",
      " $ snap4               : Nmnl. item w/ 3 labels for 0,1,2 + ms.v.  num  0 0 0 0 0 0 0 0 0 0 ...\n",
      " $ snap5               : Nmnl. item w/ 3 labels for 0,1,2 + ms.v.  num  0 0 0 0 0 0 0 0 0 0 ...\n",
      " $ snap6               : Nmnl. item w/ 3 labels for 0,1,2 + ms.v.  num  0 0 0 0 0 0 0 0 0 0 ...\n",
      " $ snap7               : Nmnl. item w/ 3 labels for 0,1,2 + ms.v.  num  0 0 0 0 0 0 0 0 0 0 ...\n",
      " $ snap8               : Nmnl. item w/ 3 labels for 0,1,2 + ms.v.  num  0 0 0 0 0 0 0 0 1 0 ...\n",
      " $ snap9               : Nmnl. item w/ 3 labels for 0,1,2 + ms.v.  num  0 0 0 0 0 0 0 0 0 0 ...\n",
      " $ academic_achievement: Itvl. item  num  4.67 3.67 4.14 4.11 4.3 ...\n"
     ]
    },
    {
     "data": {
      "text/plain": [
       "  gender         grade                  snap1                 snap2     \n",
       " Girl:1256   Min.   :2.000   Not true      :2079   Not true      :2117  \n",
       " Boy :1141   1st Qu.:2.000   Somewhat true : 272   Somewhat true : 230  \n",
       "             Median :3.000   Certainly true:  46   Certainly true:  50  \n",
       "             Mean   :2.814                                              \n",
       "             3rd Qu.:3.000                                              \n",
       "             Max.   :4.000                                              \n",
       "            snap3                 snap4                 snap5     \n",
       " Not true      :2201   Not true      :2217   Not true      :2190  \n",
       " Somewhat true : 181   Somewhat true : 164   Somewhat true : 176  \n",
       " Certainly true:  15   Certainly true:  16   Certainly true:  31  \n",
       "                                                                  \n",
       "                                                                  \n",
       "                                                                  \n",
       "            snap6                 snap7                 snap8     \n",
       " Not true      :2195   Not true      :2312   Not true      :1794  \n",
       " Somewhat true : 170   Somewhat true :  73   Somewhat true : 510  \n",
       " Certainly true:  32   Certainly true:  12   Certainly true:  93  \n",
       "                                                                  \n",
       "                                                                  \n",
       "                                                                  \n",
       "            snap9      academic_achievement\n",
       " Not true      :2142   Min.   :1.000       \n",
       " Somewhat true : 228   1st Qu.:3.556       \n",
       " Certainly true:  27   Median :4.083       \n",
       "                       Mean   :4.023       \n",
       "                       3rd Qu.:4.556       \n",
       "                       Max.   :5.900       "
      ]
     },
     "metadata": {},
     "output_type": "display_data"
    }
   ],
   "source": [
    "d.miss <- d[!complete.cases(d),]\n",
    "d.nomiss <- d[complete.cases(d),]\n",
    "str(d.nomiss)\n",
    "summary(d.nomiss)"
   ]
  },
  {
   "cell_type": "markdown",
   "metadata": {},
   "source": [
    "In the following, we let *D <- d.nomiss* be the dataset we are working with, i.e."
   ]
  },
  {
   "cell_type": "code",
   "execution_count": 40,
   "metadata": {
    "collapsed": true
   },
   "outputs": [],
   "source": [
    "D <- d.nomiss\n",
    "D3 <- d.nomiss # dummy copy"
   ]
  },
  {
   "cell_type": "markdown",
   "metadata": {},
   "source": [
    "Save the nomiss _D_ to an .csv file without row names for further analysis"
   ]
  },
  {
   "cell_type": "code",
   "execution_count": 41,
   "metadata": {
    "collapsed": true
   },
   "outputs": [],
   "source": [
    "write.csv(D, file = \"~/Dropbox/Arvid_Inattention/data2/inattention_nomiss_2397x12.csv\",row.names=FALSE)"
   ]
  },
  {
   "cell_type": "markdown",
   "metadata": {},
   "source": [
    "For simplicity, we rename (and translate) the variables names in the dataset D without any missing"
   ]
  },
  {
   "cell_type": "code",
   "execution_count": 42,
   "metadata": {
    "collapsed": false
   },
   "outputs": [
    {
     "name": "stdout",
     "output_type": "stream",
     "text": [
      "Data set with 2397 obs. of 12 variables:\n",
      " $ gender: num  0 0 0 0 0 0 0 0 0 0 ...\n",
      " $ grade : Itvl. item + ms.v.  num  2 2 2 2 2 2 2 2 2 2 ...\n",
      " $ snap1 : num  0 0 0 0 0 0 0 0 0 0 ...\n",
      " $ snap2 : num  0 0 0 0 0 0 0 0 0 0 ...\n",
      " $ snap3 : num  0 1 0 0 0 0 0 0 0 0 ...\n",
      " $ snap4 : num  0 0 0 0 0 0 0 0 0 0 ...\n",
      " $ snap5 : num  0 0 0 0 0 0 0 0 0 0 ...\n",
      " $ snap6 : num  0 0 0 0 0 0 0 0 0 0 ...\n",
      " $ snap7 : num  0 0 0 0 0 0 0 0 0 0 ...\n",
      " $ snap8 : num  0 0 0 0 0 0 0 0 1 0 ...\n",
      " $ snap9 : num  0 0 0 0 0 0 0 0 0 0 ...\n",
      " $ ave   : Itvl. item  num  4.67 3.67 4.14 4.11 4.3 ...\n"
     ]
    }
   ],
   "source": [
    "library(plyr)\n",
    "D <- rename(D, c(academic_achievement=\"ave\"))\n",
    "D$snap1 <- mapvalues(as.factor(D$snap1), from = c(\"Not true\",\"Somewhat true\",\"Certainly true\"), to = c(\"0\",\"1\",\"2\"))\n",
    "D$snap1 <- as.numeric(D$snap1)-1\n",
    "D$snap2 <- mapvalues(as.factor(D$snap2), from = c(\"Not true\",\"Somewhat true\",\"Certainly true\"), to = c(\"0\",\"1\",\"2\"))\n",
    "D$snap2 <- as.numeric(D$snap2)-1\n",
    "D$snap3 <- mapvalues(as.factor(D$snap3), from = c(\"Not true\",\"Somewhat true\",\"Certainly true\"), to = c(\"0\",\"1\",\"2\"))\n",
    "D$snap3 <- as.numeric(D$snap3)-1\n",
    "D$snap4 <- mapvalues(as.factor(D$snap4), from = c(\"Not true\",\"Somewhat true\",\"Certainly true\"), to = c(\"0\",\"1\",\"2\"))\n",
    "D$snap4 <- as.numeric(D$snap4)-1\n",
    "D$snap5 <- mapvalues(as.factor(D$snap5), from = c(\"Not true\",\"Somewhat true\",\"Certainly true\"), to = c(\"0\",\"1\",\"2\"))\n",
    "D$snap5 <- as.numeric(D$snap5)-1\n",
    "D$snap6 <- mapvalues(as.factor(D$snap6), from = c(\"Not true\",\"Somewhat true\",\"Certainly true\"), to = c(\"0\",\"1\",\"2\"))\n",
    "D$snap6 <- as.numeric(D$snap6)-1\n",
    "D$snap7 <- mapvalues(as.factor(D$snap7), from = c(\"Not true\",\"Somewhat true\",\"Certainly true\"), to = c(\"0\",\"1\",\"2\"))\n",
    "D$snap7 <- as.numeric(D$snap7)-1\n",
    "D$snap8 <- mapvalues(as.factor(D$snap8), from = c(\"Not true\",\"Somewhat true\",\"Certainly true\"), to = c(\"0\",\"1\",\"2\"))\n",
    "D$snap8 <- as.numeric(D$snap8)-1\n",
    "D$snap9 <- mapvalues(as.factor(D$snap9), from = c(\"Not true\",\"Somewhat true\",\"Certainly true\"), to = c(\"0\",\"1\",\"2\"))\n",
    "D$snap9 <- as.numeric(D$snap9)-1\n",
    "D$gender <- mapvalues(as.factor(D$gender), from = c(\"Girl\", \"Boy\"), to = c(\"0\", \"1\"))\n",
    "D$gender <- as.numeric(D$gender)-1\n",
    "str(D)"
   ]
  },
  {
   "cell_type": "markdown",
   "metadata": {},
   "source": [
    "Save this _D_ (at early stage) to .csv file for analysis in e.g. MATLAB "
   ]
  },
  {
   "cell_type": "code",
   "execution_count": 43,
   "metadata": {
    "collapsed": true
   },
   "outputs": [],
   "source": [
    "write.csv(D, file = \"~/Dropbox/Arvid_Inattention/data2/inattention_nomiss_snap_is_012.csv\",row.names=FALSE)"
   ]
  },
  {
   "cell_type": "markdown",
   "metadata": {},
   "source": [
    "For even more simplicity, we rename (and translate) the variables names in the dataset without any missing, reducing the predictor categories to be __binary__, i.e. collapsing \"1\" and \"2\" to \"1\":"
   ]
  },
  {
   "cell_type": "code",
   "execution_count": 44,
   "metadata": {
    "collapsed": false
   },
   "outputs": [
    {
     "name": "stdout",
     "output_type": "stream",
     "text": [
      "Data set with 2397 obs. of 12 variables:\n",
      " $ gender: num  0 0 0 0 0 0 0 0 0 0 ...\n",
      " $ grade : Itvl. item + ms.v.  num  2 2 2 2 2 2 2 2 2 2 ...\n",
      " $ snap1 : Factor w/ 2 levels \"0\",\"1\": 1 1 1 1 1 1 1 1 1 1 ...\n",
      " $ snap2 : Factor w/ 2 levels \"0\",\"1\": 1 1 1 1 1 1 1 1 1 1 ...\n",
      " $ snap3 : Factor w/ 2 levels \"0\",\"1\": 1 2 1 1 1 1 1 1 1 1 ...\n",
      " $ snap4 : Factor w/ 2 levels \"0\",\"1\": 1 1 1 1 1 1 1 1 1 1 ...\n",
      " $ snap5 : Factor w/ 2 levels \"0\",\"1\": 1 1 1 1 1 1 1 1 1 1 ...\n",
      " $ snap6 : Factor w/ 2 levels \"0\",\"1\": 1 1 1 1 1 1 1 1 1 1 ...\n",
      " $ snap7 : Factor w/ 2 levels \"0\",\"1\": 1 1 1 1 1 1 1 1 1 1 ...\n",
      " $ snap8 : Factor w/ 2 levels \"0\",\"1\": 1 1 1 1 1 1 1 1 2 1 ...\n",
      " $ snap9 : Factor w/ 2 levels \"0\",\"1\": 1 1 1 1 1 1 1 1 1 1 ...\n",
      " $ ave   : Itvl. item  num  4.67 3.67 4.14 4.11 4.3 ...\n"
     ]
    },
    {
     "data": {
      "text/plain": [
       "     gender          grade       snap1    snap2    snap3    snap4    snap5   \n",
       " Min.   :0.000   Min.   :2.000   0:2079   0:2117   0:2201   0:2217   0:2190  \n",
       " 1st Qu.:0.000   1st Qu.:2.000   1: 318   1: 280   1: 196   1: 180   1: 207  \n",
       " Median :0.000   Median :3.000                                               \n",
       " Mean   :0.476   Mean   :2.814                                               \n",
       " 3rd Qu.:1.000   3rd Qu.:3.000                                               \n",
       " Max.   :1.000   Max.   :4.000                                               \n",
       " snap6    snap7    snap8    snap9         ave       \n",
       " 0:2195   0:2312   0:1794   0:2142   Min.   :1.000  \n",
       " 1: 202   1:  85   1: 603   1: 255   1st Qu.:3.556  \n",
       "                                     Median :4.083  \n",
       "                                     Mean   :4.023  \n",
       "                                     3rd Qu.:4.556  \n",
       "                                     Max.   :5.900  "
      ]
     },
     "metadata": {},
     "output_type": "display_data"
    }
   ],
   "source": [
    "library(plyr)\n",
    "D <- D3\n",
    "D <- rename(D, c(academic_achievement=\"ave\"))\n",
    "D$snap1 <- mapvalues(as.factor(D$snap1), from = c(\"Not true\",\"Somewhat true\",\"Certainly true\"), to = c(\"0\",\"1\",\"1\"))\n",
    "D$snap2 <- mapvalues(as.factor(D$snap2), from = c(\"Not true\",\"Somewhat true\",\"Certainly true\"), to = c(\"0\",\"1\",\"1\"))\n",
    "D$snap3 <- mapvalues(as.factor(D$snap3), from = c(\"Not true\",\"Somewhat true\",\"Certainly true\"), to = c(\"0\",\"1\",\"1\"))\n",
    "D$snap4 <- mapvalues(as.factor(D$snap4), from = c(\"Not true\",\"Somewhat true\",\"Certainly true\"), to = c(\"0\",\"1\",\"1\"))\n",
    "D$snap5 <- mapvalues(as.factor(D$snap5), from = c(\"Not true\",\"Somewhat true\",\"Certainly true\"), to = c(\"0\",\"1\",\"1\"))\n",
    "D$snap6 <- mapvalues(as.factor(D$snap6), from = c(\"Not true\",\"Somewhat true\",\"Certainly true\"), to = c(\"0\",\"1\",\"1\"))\n",
    "D$snap7 <- mapvalues(as.factor(D$snap7), from = c(\"Not true\",\"Somewhat true\",\"Certainly true\"), to = c(\"0\",\"1\",\"1\"))\n",
    "D$snap8 <- mapvalues(as.factor(D$snap8), from = c(\"Not true\",\"Somewhat true\",\"Certainly true\"), to = c(\"0\",\"1\",\"1\"))\n",
    "D$snap9 <- mapvalues(as.factor(D$snap9), from = c(\"Not true\",\"Somewhat true\",\"Certainly true\"), to = c(\"0\",\"1\",\"1\"))\n",
    "D$gender <- mapvalues(as.factor(D$gender), from = c(\"Girl\", \"Boy\"), to = c(\"0\", \"1\"))\n",
    "D$gender <- as.numeric(D$gender)-1\n",
    "str(D)\n",
    "summary(D)"
   ]
  },
  {
   "cell_type": "markdown",
   "metadata": {},
   "source": [
    "Save the new _D_ to an .csv file without row names for further analysis"
   ]
  },
  {
   "cell_type": "code",
   "execution_count": 45,
   "metadata": {
    "collapsed": true
   },
   "outputs": [],
   "source": [
    "write.csv(D, file = \"~/Dropbox/Arvid_Inattention/data2/inattention_nomiss_snap_is_01.csv\",row.names=FALSE)"
   ]
  },
  {
   "cell_type": "markdown",
   "metadata": {},
   "source": [
    "### Struture of the _D_ dataset"
   ]
  },
  {
   "cell_type": "code",
   "execution_count": 46,
   "metadata": {
    "collapsed": false
   },
   "outputs": [
    {
     "name": "stdout",
     "output_type": "stream",
     "text": [
      "[1] \"Structure of the 2397 x 12 DATASET\"\n"
     ]
    }
   ],
   "source": [
    "s <- dim(D)\n",
    "n <- s[1]\n",
    "p <- s[2]\n",
    "txt = sprintf(\"Structure of the %d x %d DATASET\", n, p)\n",
    "print(txt)"
   ]
  },
  {
   "cell_type": "code",
   "execution_count": 47,
   "metadata": {
    "collapsed": true
   },
   "outputs": [],
   "source": [
    "library(DiagrammeR)\n",
    "\n",
    "n_txt = sprintf(\"Dataset \\n (N = %d)\", n);\n",
    "gviz <- grViz(\"\n",
    "              # Circles: predictor variables; Triangle: Outcome variable\n",
    "\n",
    "              digraph Structure_of_the_dataset_D {\n",
    "\n",
    "              # node definitions with substituted label text\n",
    "              node [fontname = Helvetica]\n",
    "              1 [label = 'Dataset \\n (N = 2397)', shape=box]\n",
    "              2 [label = 'gender \\n {Girl | Boy}', shape=circle]\n",
    "              3 [label = 'grade \\n {2 | 3 | 4}', shape=circle]\n",
    "              4 [label = 'ave \\n (average marks) \\n [1, 6] or {low | medium | high}', shape=triangle]\n",
    "              a [label = 'SNAP \\n {0 | 1}', shape=oval]\n",
    "              b [label = 'SNAP1', shape=circle]\n",
    "              c [label = 'SNAP2', shape=circle]\n",
    "              d [label = 'SNAP3', shape=circle]\n",
    "              e [label = 'SNAP4', shape=circle]\n",
    "              f [label = 'SNAP5', shape=circle]\n",
    "              g [label = 'SNAP6', shape=circle]\n",
    "              h [label = 'SNAP7', shape=circle]\n",
    "              i [label = 'SNAP8', shape=circle]\n",
    "              j [label = 'SNAP9', shape=circle]\n",
    "\n",
    "              # edge definitions with the node IDs\n",
    "              1 -> {2 3 a 4}\n",
    "              a -> {b c d e f g h i j}\n",
    "              }\",\n",
    "engine = \"dot\")\n",
    "\n",
    "print(gviz)"
   ]
  },
  {
   "cell_type": "markdown",
   "metadata": {},
   "source": [
    "#### Show design (not working yet):"
   ]
  },
  {
   "cell_type": "markdown",
   "metadata": {
    "collapsed": true
   },
   "source": [
    "<img src=\"../../manuscript/Figs/design_grViz.png\",width=60,height=40>\n",
    "![title](/Users/arvid/GitHub/inattention-populationsample/manuscript/Figs/design_grViz.png)\n",
    "Image(filename = \"../../manuscript/Figs/design_grViz.png\", width=100, height=100)"
   ]
  },
  {
   "cell_type": "code",
   "execution_count": 48,
   "metadata": {
    "collapsed": false
   },
   "outputs": [
    {
     "data": {
      "text/markdown": [
       "**Strong Text**\n",
       " \n",
       "A formula: $\\sqrt{x}$"
      ]
     },
     "metadata": {},
     "output_type": "display_data"
    },
    {
     "data": {
      "image/png": "[encoded data removed]"
     },
     "metadata": {
      "height": 20,
      "width": 60
     },
     "output_type": "display_data"
    },
    {
     "data": {
      "text/html": [
       "'/Users/arvid/GitHub/inattention-populationsample/code/data-prep'"
      ],
      "text/latex": [
       "'/Users/arvid/GitHub/inattention-populationsample/code/data-prep'"
      ],
      "text/markdown": [
       "'/Users/arvid/GitHub/inattention-populationsample/code/data-prep'"
      ],
      "text/plain": [
       "[1] \"/Users/arvid/GitHub/inattention-populationsample/code/data-prep\""
      ]
     },
     "metadata": {},
     "output_type": "display_data"
    }
   ],
   "source": [
    "library(IRdisplay)\n",
    "display_markdown(\"**Strong Text**\\n \\nA formula: $\\\\sqrt{x}$\")\n",
    "display_png(charToRaw('../../manuscript/Figs/design_grViz.png'),width = 60, height = 20 )\n",
    "getwd()"
   ]
  },
  {
   "cell_type": "code",
   "execution_count": 49,
   "metadata": {
    "collapsed": false
   },
   "outputs": [
    {
     "name": "stdout",
     "output_type": "stream",
     "text": [
      "[1] \"In our analysis we included n = 2397 individuals (none with missing data) from the dataset '~/Dropbox/Arvid_Inattention/data2/inattention_Arvid_new.sav'\\n\"\n"
     ]
    }
   ],
   "source": [
    "n_txt = sprintf(\"In our analysis we included n = %d individuals (none with missing data) from the dataset '%s'\\n\", nrow(D), fn);\n",
    "print(n_txt)"
   ]
  },
  {
   "cell_type": "markdown",
   "metadata": {},
   "source": [
    "### Grades (continuous and categorized)\n",
    "We consider the grades (academic_achievement), as both a continuous (for regression) and \n",
    "discretized variable (for classification), where *gjennomsnitt*: - Item 'Karaktergjennomsnitt alle gyldige karakterer 1-6 (ikke kroppsøving)' "
   ]
  },
  {
   "cell_type": "code",
   "execution_count": 50,
   "metadata": {
    "collapsed": false
   },
   "outputs": [
    {
     "data": {
      "text/plain": [
       "   Min. 1st Qu.  Median    Mean 3rd Qu.    Max. \n",
       "  1.000   3.556   4.083   4.023   4.556   5.900 "
      ]
     },
     "metadata": {},
     "output_type": "display_data"
    },
    {
     "name": "stdout",
     "output_type": "stream",
     "text": [
      "[1] 1.000000 3.750000 4.428571 5.900000\n"
     ]
    }
   ],
   "source": [
    "# Discretized at three levels, with data-driven cutpoints (equifrequent levels)\n",
    "aver <- D$ave\n",
    "summary(aver)\n",
    "bins <- 3\n",
    "cutpoints<-quantile(aver,(0:bins)/bins,names=FALSE)\n",
    "print(cutpoints)"
   ]
  },
  {
   "cell_type": "markdown",
   "metadata": {},
   "source": [
    "> Consistent with MATLAB 'histcounts' (D_20151110_analysis.m  ;  T2)\n",
    "\n",
    "> fn2 = '../data/D_20151110.csv';\n",
    "\n",
    "> T2 = readtable(fn2);\n",
    "\n",
    "> bins = 3;\n",
    "\n",
    "> y = quantile(T2.ave,[0:bins]/bins)\n",
    "\n",
    "> [N,EDGES,BIN] = histcounts(T2.ave,y);\n",
    "\n",
    "> cuts = sprintf('1:[%.2f, %.2f) 2:[%.2f,%.2f) 3:[%.2f,%.2f]', EDGES(1), EDGES(2), EDGES(2), \n",
    "> EDGES(3), EDGES(3), EDGES(4));\n",
    "\n",
    "> T2.ave_cat = BIN;   % categorical(BIN,'Ordinal',true);\n",
    "\n",
    "> descr = sprintf('%s - 1:low, 2:medium; 3:high average mark', cuts);\n",
    "\n",
    "> T2.Properties.VariableDescriptions{'ave_cat'} = descr;\n",
    "\n",
    ">  => descr = 1:[1.00, 3.75) 2:[3.75,4.43) 3:[4.43,5.90] - 1:low, 2:medium; 3:high average mark\n"
   ]
  },
  {
   "cell_type": "code",
   "execution_count": 51,
   "metadata": {
    "collapsed": false
   },
   "outputs": [
    {
     "data": {
      "text/html": [
       "<dl class=dl-horizontal>\n",
       "\t<dt>[1,3.75)</dt>\n",
       "\t\t<dd>779</dd>\n",
       "\t<dt>[3.75,4.43)</dt>\n",
       "\t\t<dd>818</dd>\n",
       "\t<dt>[4.43,5.9]</dt>\n",
       "\t\t<dd>800</dd>\n",
       "</dl>\n"
      ],
      "text/latex": [
       "\\begin{description*}\n",
       "\\item[\\{{[}\\}1,3.75)] 779\n",
       "\\item[\\{{[}\\}3.75,4.43)] 818\n",
       "\\item[\\{{[}\\}4.43,5.9\\{{]}\\}] 800\n",
       "\\end{description*}\n"
      ],
      "text/markdown": [
       "[1,3.75)\n",
       ":   779[3.75,4.43)\n",
       ":   818[4.43,5.9]\n",
       ":   800\n",
       "\n"
      ],
      "text/plain": [
       "   [1,3.75) [3.75,4.43)  [4.43,5.9] \n",
       "        779         818         800 "
      ]
     },
     "metadata": {},
     "output_type": "display_data"
    },
    {
     "data": {
      "image/png": "[encoded data removed]",
      "image/svg+xml": [
       "<?xml version=\"1.0\" encoding=\"UTF-8\"?>\n",
       "<svg xmlns=\"http://www.w3.org/2000/svg\" xmlns:xlink=\"http://www.w3.org/1999/xlink\" width=\"504pt\" height=\"504pt\" viewBox=\"0 0 504 504\" version=\"1.1\">\n",
       "<defs>\n",
       "<g>\n",
       "<symbol overflow=\"visible\" id=\"glyph0-0\">\n",
       "<path style=\"stroke:none;\" d=\"M 0.484375 0 L 0.484375 -10.6875 L 8.96875 -10.6875 L 8.96875 0 Z M 7.625 -1.34375 L 7.625 -9.359375 L 1.8125 -9.359375 L 1.8125 -1.34375 Z \"/>\n",
       "</symbol>\n",
       "<symbol overflow=\"visible\" id=\"glyph0-1\">\n",
       "<path style=\"stroke:none;\" d=\"M 1.171875 -10.6875 L 2.640625 -10.6875 L 2.640625 -6.28125 L 8.203125 -6.28125 L 8.203125 -10.6875 L 9.65625 -10.6875 L 9.65625 0 L 8.203125 0 L 8.203125 -5 L 2.640625 -5 L 2.640625 0 L 1.171875 0 Z \"/>\n",
       "</symbol>\n",
       "<symbol overflow=\"visible\" id=\"glyph0-2\">\n",
       "<path style=\"stroke:none;\" d=\"M 0.953125 -7.765625 L 2.296875 -7.765625 L 2.296875 0 L 0.953125 0 Z M 0.953125 -10.6875 L 2.296875 -10.6875 L 2.296875 -9.203125 L 0.953125 -9.203125 Z \"/>\n",
       "</symbol>\n",
       "<symbol overflow=\"visible\" id=\"glyph0-3\">\n",
       "<path style=\"stroke:none;\" d=\"M 1.734375 -2.453125 C 1.773438 -2.015625 1.882812 -1.675781 2.0625 -1.4375 C 2.394531 -1.019531 2.96875 -0.8125 3.78125 -0.8125 C 4.269531 -0.8125 4.695312 -0.914062 5.0625 -1.125 C 5.4375 -1.332031 5.625 -1.660156 5.625 -2.109375 C 5.625 -2.441406 5.472656 -2.695312 5.171875 -2.875 C 4.984375 -2.976562 4.609375 -3.097656 4.046875 -3.234375 L 3.015625 -3.5 C 2.347656 -3.664062 1.859375 -3.847656 1.546875 -4.046875 C 0.984375 -4.398438 0.703125 -4.894531 0.703125 -5.53125 C 0.703125 -6.257812 0.96875 -6.851562 1.5 -7.3125 C 2.03125 -7.769531 2.742188 -8 3.640625 -8 C 4.816406 -8 5.660156 -7.65625 6.171875 -6.96875 C 6.503906 -6.53125 6.664062 -6.054688 6.65625 -5.546875 L 5.421875 -5.546875 C 5.390625 -5.847656 5.285156 -6.117188 5.109375 -6.359375 C 4.804688 -6.703125 4.28125 -6.875 3.53125 -6.875 C 3.039062 -6.875 2.664062 -6.78125 2.40625 -6.59375 C 2.15625 -6.40625 2.03125 -6.15625 2.03125 -5.84375 C 2.03125 -5.5 2.195312 -5.226562 2.53125 -5.03125 C 2.726562 -4.90625 3.015625 -4.796875 3.390625 -4.703125 L 4.265625 -4.5 C 5.203125 -4.269531 5.832031 -4.046875 6.15625 -3.828125 C 6.664062 -3.492188 6.921875 -2.96875 6.921875 -2.25 C 6.921875 -1.5625 6.65625 -0.960938 6.125 -0.453125 C 5.59375 0.046875 4.789062 0.296875 3.71875 0.296875 C 2.5625 0.296875 1.738281 0.0351562 1.25 -0.484375 C 0.769531 -1.015625 0.515625 -1.671875 0.484375 -2.453125 Z M 3.671875 -7.984375 Z \"/>\n",
       "</symbol>\n",
       "<symbol overflow=\"visible\" id=\"glyph0-4\">\n",
       "<path style=\"stroke:none;\" d=\"M 1.21875 -9.96875 L 2.546875 -9.96875 L 2.546875 -7.796875 L 3.796875 -7.796875 L 3.796875 -6.71875 L 2.546875 -6.71875 L 2.546875 -1.640625 C 2.546875 -1.367188 2.640625 -1.1875 2.828125 -1.09375 C 2.929688 -1.039062 3.097656 -1.015625 3.328125 -1.015625 C 3.390625 -1.015625 3.457031 -1.015625 3.53125 -1.015625 C 3.601562 -1.015625 3.691406 -1.019531 3.796875 -1.03125 L 3.796875 0 C 3.640625 0.0390625 3.476562 0.0703125 3.3125 0.09375 C 3.15625 0.113281 2.984375 0.125 2.796875 0.125 C 2.179688 0.125 1.765625 -0.03125 1.546875 -0.34375 C 1.328125 -0.65625 1.21875 -1.0625 1.21875 -1.5625 L 1.21875 -6.71875 L 0.171875 -6.71875 L 0.171875 -7.796875 L 1.21875 -7.796875 Z \"/>\n",
       "</symbol>\n",
       "<symbol overflow=\"visible\" id=\"glyph0-5\">\n",
       "<path style=\"stroke:none;\" d=\"M 4.046875 -0.84375 C 4.921875 -0.84375 5.519531 -1.171875 5.84375 -1.828125 C 6.164062 -2.484375 6.328125 -3.21875 6.328125 -4.03125 C 6.328125 -4.75 6.207031 -5.335938 5.96875 -5.796875 C 5.601562 -6.515625 4.96875 -6.875 4.0625 -6.875 C 3.269531 -6.875 2.691406 -6.566406 2.328125 -5.953125 C 1.960938 -5.347656 1.78125 -4.613281 1.78125 -3.75 C 1.78125 -2.914062 1.960938 -2.222656 2.328125 -1.671875 C 2.691406 -1.117188 3.265625 -0.84375 4.046875 -0.84375 Z M 4.109375 -8.015625 C 5.109375 -8.015625 5.953125 -7.679688 6.640625 -7.015625 C 7.335938 -6.347656 7.6875 -5.363281 7.6875 -4.0625 C 7.6875 -2.800781 7.378906 -1.757812 6.765625 -0.9375 C 6.160156 -0.125 5.21875 0.28125 3.9375 0.28125 C 2.863281 0.28125 2.007812 -0.078125 1.375 -0.796875 C 0.738281 -1.523438 0.421875 -2.503906 0.421875 -3.734375 C 0.421875 -5.035156 0.753906 -6.070312 1.421875 -6.84375 C 2.085938 -7.625 2.984375 -8.015625 4.109375 -8.015625 Z M 4.0625 -7.984375 Z \"/>\n",
       "</symbol>\n",
       "<symbol overflow=\"visible\" id=\"glyph0-6\">\n",
       "<path style=\"stroke:none;\" d=\"M 3.71875 -7.9375 C 4.320312 -7.9375 4.851562 -7.785156 5.3125 -7.484375 C 5.5625 -7.316406 5.8125 -7.066406 6.0625 -6.734375 L 6.0625 -7.71875 L 7.28125 -7.71875 L 7.28125 -0.640625 C 7.28125 0.359375 7.132812 1.140625 6.84375 1.703125 C 6.300781 2.765625 5.273438 3.296875 3.765625 3.296875 C 2.921875 3.296875 2.210938 3.109375 1.640625 2.734375 C 1.066406 2.359375 0.75 1.769531 0.6875 0.96875 L 2.015625 0.96875 C 2.078125 1.3125 2.203125 1.582031 2.390625 1.78125 C 2.691406 2.070312 3.160156 2.21875 3.796875 2.21875 C 4.796875 2.21875 5.453125 1.863281 5.765625 1.15625 C 5.953125 0.738281 6.035156 -0.00390625 6.015625 -1.078125 C 5.753906 -0.679688 5.4375 -0.382812 5.0625 -0.1875 C 4.695312 0 4.210938 0.09375 3.609375 0.09375 C 2.765625 0.09375 2.023438 -0.203125 1.390625 -0.796875 C 0.753906 -1.398438 0.4375 -2.394531 0.4375 -3.78125 C 0.4375 -5.082031 0.753906 -6.097656 1.390625 -6.828125 C 2.035156 -7.566406 2.8125 -7.9375 3.71875 -7.9375 Z M 6.0625 -3.9375 C 6.0625 -4.894531 5.863281 -5.609375 5.46875 -6.078125 C 5.070312 -6.546875 4.566406 -6.78125 3.953125 -6.78125 C 3.023438 -6.78125 2.394531 -6.347656 2.0625 -5.484375 C 1.882812 -5.023438 1.796875 -4.421875 1.796875 -3.671875 C 1.796875 -2.785156 1.972656 -2.113281 2.328125 -1.65625 C 2.679688 -1.195312 3.160156 -0.96875 3.765625 -0.96875 C 4.703125 -0.96875 5.363281 -1.394531 5.75 -2.25 C 5.957031 -2.726562 6.0625 -3.289062 6.0625 -3.9375 Z M 3.859375 -7.984375 Z \"/>\n",
       "</symbol>\n",
       "<symbol overflow=\"visible\" id=\"glyph0-7\">\n",
       "<path style=\"stroke:none;\" d=\"M 1 -7.796875 L 2.234375 -7.796875 L 2.234375 -6.453125 C 2.335938 -6.710938 2.585938 -7.03125 2.984375 -7.40625 C 3.390625 -7.78125 3.847656 -7.96875 4.359375 -7.96875 C 4.390625 -7.96875 4.429688 -7.960938 4.484375 -7.953125 C 4.546875 -7.953125 4.648438 -7.945312 4.796875 -7.9375 L 4.796875 -6.546875 C 4.710938 -6.566406 4.632812 -6.578125 4.5625 -6.578125 C 4.5 -6.585938 4.429688 -6.59375 4.359375 -6.59375 C 3.703125 -6.59375 3.195312 -6.378906 2.84375 -5.953125 C 2.488281 -5.523438 2.3125 -5.035156 2.3125 -4.484375 L 2.3125 0 L 1 0 Z \"/>\n",
       "</symbol>\n",
       "<symbol overflow=\"visible\" id=\"glyph0-8\">\n",
       "<path style=\"stroke:none;\" d=\"M 1.96875 -2.078125 C 1.96875 -1.691406 2.101562 -1.390625 2.375 -1.171875 C 2.65625 -0.960938 2.984375 -0.859375 3.359375 -0.859375 C 3.816406 -0.859375 4.265625 -0.960938 4.703125 -1.171875 C 5.429688 -1.523438 5.796875 -2.101562 5.796875 -2.90625 L 5.796875 -3.96875 C 5.628906 -3.863281 5.421875 -3.773438 5.171875 -3.703125 C 4.921875 -3.640625 4.675781 -3.59375 4.4375 -3.5625 L 3.640625 -3.46875 C 3.160156 -3.40625 2.800781 -3.304688 2.5625 -3.171875 C 2.164062 -2.941406 1.96875 -2.578125 1.96875 -2.078125 Z M 5.140625 -4.71875 C 5.441406 -4.757812 5.644531 -4.890625 5.75 -5.109375 C 5.800781 -5.222656 5.828125 -5.390625 5.828125 -5.609375 C 5.828125 -6.054688 5.664062 -6.378906 5.34375 -6.578125 C 5.03125 -6.773438 4.578125 -6.875 3.984375 -6.875 C 3.304688 -6.875 2.820312 -6.691406 2.53125 -6.328125 C 2.375 -6.117188 2.269531 -5.816406 2.21875 -5.421875 L 1 -5.421875 C 1.019531 -6.378906 1.328125 -7.046875 1.921875 -7.421875 C 2.523438 -7.796875 3.222656 -7.984375 4.015625 -7.984375 C 4.929688 -7.984375 5.675781 -7.804688 6.25 -7.453125 C 6.820312 -7.109375 7.109375 -6.566406 7.109375 -5.828125 L 7.109375 -1.34375 C 7.109375 -1.207031 7.132812 -1.097656 7.1875 -1.015625 C 7.238281 -0.929688 7.359375 -0.890625 7.546875 -0.890625 C 7.597656 -0.890625 7.660156 -0.890625 7.734375 -0.890625 C 7.804688 -0.898438 7.882812 -0.914062 7.96875 -0.9375 L 7.96875 0.03125 C 7.769531 0.09375 7.613281 0.128906 7.5 0.140625 C 7.394531 0.160156 7.25 0.171875 7.0625 0.171875 C 6.613281 0.171875 6.285156 0.0078125 6.078125 -0.3125 C 5.972656 -0.476562 5.898438 -0.71875 5.859375 -1.03125 C 5.585938 -0.6875 5.203125 -0.382812 4.703125 -0.125 C 4.203125 0.132812 3.65625 0.265625 3.0625 0.265625 C 2.332031 0.265625 1.738281 0.046875 1.28125 -0.390625 C 0.820312 -0.835938 0.59375 -1.390625 0.59375 -2.046875 C 0.59375 -2.765625 0.816406 -3.320312 1.265625 -3.71875 C 1.722656 -4.125 2.316406 -4.375 3.046875 -4.46875 Z M 4.046875 -7.984375 Z \"/>\n",
       "</symbol>\n",
       "<symbol overflow=\"visible\" id=\"glyph0-9\">\n",
       "<path style=\"stroke:none;\" d=\"M 0.953125 -7.796875 L 2.25 -7.796875 L 2.25 -6.6875 C 2.5625 -7.070312 2.84375 -7.351562 3.09375 -7.53125 C 3.53125 -7.820312 4.023438 -7.96875 4.578125 -7.96875 C 5.191406 -7.96875 5.6875 -7.816406 6.0625 -7.515625 C 6.28125 -7.335938 6.476562 -7.078125 6.65625 -6.734375 C 6.945312 -7.148438 7.285156 -7.457031 7.671875 -7.65625 C 8.066406 -7.863281 8.507812 -7.96875 9 -7.96875 C 10.050781 -7.96875 10.765625 -7.585938 11.140625 -6.828125 C 11.347656 -6.421875 11.453125 -5.875 11.453125 -5.1875 L 11.453125 0 L 10.09375 0 L 10.09375 -5.421875 C 10.09375 -5.929688 9.960938 -6.285156 9.703125 -6.484375 C 9.441406 -6.679688 9.125 -6.78125 8.75 -6.78125 C 8.238281 -6.78125 7.796875 -6.609375 7.421875 -6.265625 C 7.046875 -5.921875 6.859375 -5.34375 6.859375 -4.53125 L 6.859375 0 L 5.53125 0 L 5.53125 -5.09375 C 5.53125 -5.613281 5.46875 -6 5.34375 -6.25 C 5.144531 -6.613281 4.773438 -6.796875 4.234375 -6.796875 C 3.734375 -6.796875 3.28125 -6.601562 2.875 -6.21875 C 2.46875 -5.832031 2.265625 -5.140625 2.265625 -4.140625 L 2.265625 0 L 0.953125 0 Z \"/>\n",
       "</symbol>\n",
       "<symbol overflow=\"visible\" id=\"glyph0-10\">\n",
       "<path style=\"stroke:none;\" d=\"\"/>\n",
       "</symbol>\n",
       "<symbol overflow=\"visible\" id=\"glyph0-11\">\n",
       "<path style=\"stroke:none;\" d=\"M 1.28125 -8.984375 C 1.300781 -9.523438 1.398438 -9.921875 1.578125 -10.171875 C 1.878906 -10.617188 2.46875 -10.84375 3.34375 -10.84375 C 3.425781 -10.84375 3.507812 -10.835938 3.59375 -10.828125 C 3.6875 -10.828125 3.785156 -10.820312 3.890625 -10.8125 L 3.890625 -9.625 C 3.753906 -9.632812 3.65625 -9.640625 3.59375 -9.640625 C 3.539062 -9.640625 3.484375 -9.640625 3.421875 -9.640625 C 3.023438 -9.640625 2.785156 -9.535156 2.703125 -9.328125 C 2.628906 -9.128906 2.59375 -8.609375 2.59375 -7.765625 L 3.890625 -7.765625 L 3.890625 -6.71875 L 2.578125 -6.71875 L 2.578125 0 L 1.28125 0 L 1.28125 -6.71875 L 0.203125 -6.71875 L 0.203125 -7.765625 L 1.28125 -7.765625 Z \"/>\n",
       "</symbol>\n",
       "<symbol overflow=\"visible\" id=\"glyph0-12\">\n",
       "<path style=\"stroke:none;\" d=\"M 1.28125 -1.59375 L 2.796875 -1.59375 L 2.796875 0 L 1.28125 0 Z \"/>\n",
       "</symbol>\n",
       "<symbol overflow=\"visible\" id=\"glyph0-13\">\n",
       "<path style=\"stroke:none;\" d=\"M 0.953125 -7.796875 L 2.203125 -7.796875 L 2.203125 -6.6875 C 2.578125 -7.144531 2.96875 -7.472656 3.375 -7.671875 C 3.789062 -7.867188 4.25 -7.96875 4.75 -7.96875 C 5.851562 -7.96875 6.601562 -7.582031 7 -6.8125 C 7.207031 -6.382812 7.3125 -5.78125 7.3125 -5 L 7.3125 0 L 5.984375 0 L 5.984375 -4.90625 C 5.984375 -5.382812 5.910156 -5.769531 5.765625 -6.0625 C 5.535156 -6.550781 5.113281 -6.796875 4.5 -6.796875 C 4.195312 -6.796875 3.941406 -6.765625 3.734375 -6.703125 C 3.378906 -6.585938 3.066406 -6.375 2.796875 -6.0625 C 2.578125 -5.800781 2.429688 -5.53125 2.359375 -5.25 C 2.296875 -4.976562 2.265625 -4.585938 2.265625 -4.078125 L 2.265625 0 L 0.953125 0 Z M 4.046875 -7.984375 Z \"/>\n",
       "</symbol>\n",
       "<symbol overflow=\"visible\" id=\"glyph0-14\">\n",
       "<path style=\"stroke:none;\" d=\"M 2.265625 -7.796875 L 2.265625 -2.625 C 2.265625 -2.21875 2.328125 -1.890625 2.453125 -1.640625 C 2.691406 -1.179688 3.128906 -0.953125 3.765625 -0.953125 C 4.671875 -0.953125 5.289062 -1.359375 5.625 -2.171875 C 5.800781 -2.609375 5.890625 -3.207031 5.890625 -3.96875 L 5.890625 -7.796875 L 7.203125 -7.796875 L 7.203125 0 L 5.96875 0 L 5.984375 -1.15625 C 5.816406 -0.851562 5.601562 -0.601562 5.34375 -0.40625 C 4.84375 0.0078125 4.238281 0.21875 3.53125 0.21875 C 2.414062 0.21875 1.660156 -0.15625 1.265625 -0.90625 C 1.046875 -1.300781 0.9375 -1.832031 0.9375 -2.5 L 0.9375 -7.796875 Z M 4.0625 -7.984375 Z \"/>\n",
       "</symbol>\n",
       "<symbol overflow=\"visible\" id=\"glyph0-15\">\n",
       "<path style=\"stroke:none;\" d=\"M 4.203125 -7.96875 C 4.753906 -7.96875 5.289062 -7.835938 5.8125 -7.578125 C 6.332031 -7.316406 6.726562 -6.984375 7 -6.578125 C 7.257812 -6.179688 7.4375 -5.722656 7.53125 -5.203125 C 7.601562 -4.835938 7.640625 -4.265625 7.640625 -3.484375 L 1.921875 -3.484375 C 1.953125 -2.691406 2.140625 -2.054688 2.484375 -1.578125 C 2.835938 -1.097656 3.378906 -0.859375 4.109375 -0.859375 C 4.796875 -0.859375 5.34375 -1.082031 5.75 -1.53125 C 5.976562 -1.789062 6.144531 -2.097656 6.25 -2.453125 L 7.53125 -2.453125 C 7.5 -2.160156 7.382812 -1.835938 7.1875 -1.484375 C 7 -1.128906 6.785156 -0.84375 6.546875 -0.625 C 6.148438 -0.238281 5.660156 0.0195312 5.078125 0.15625 C 4.753906 0.238281 4.394531 0.28125 4 0.28125 C 3.03125 0.28125 2.207031 -0.0703125 1.53125 -0.78125 C 0.863281 -1.488281 0.53125 -2.476562 0.53125 -3.75 C 0.53125 -5 0.867188 -6.015625 1.546875 -6.796875 C 2.222656 -7.578125 3.109375 -7.96875 4.203125 -7.96875 Z M 6.296875 -4.515625 C 6.242188 -5.085938 6.117188 -5.539062 5.921875 -5.875 C 5.566406 -6.507812 4.96875 -6.828125 4.125 -6.828125 C 3.519531 -6.828125 3.015625 -6.609375 2.609375 -6.171875 C 2.203125 -5.742188 1.988281 -5.191406 1.96875 -4.515625 Z M 4.078125 -7.984375 Z \"/>\n",
       "</symbol>\n",
       "<symbol overflow=\"visible\" id=\"glyph0-16\">\n",
       "<path style=\"stroke:none;\" d=\"M 3.96875 -8.015625 C 4.84375 -8.015625 5.554688 -7.800781 6.109375 -7.375 C 6.660156 -6.945312 6.992188 -6.210938 7.109375 -5.171875 L 5.828125 -5.171875 C 5.753906 -5.648438 5.578125 -6.046875 5.296875 -6.359375 C 5.023438 -6.679688 4.582031 -6.84375 3.96875 -6.84375 C 3.132812 -6.84375 2.535156 -6.4375 2.171875 -5.625 C 1.941406 -5.09375 1.828125 -4.441406 1.828125 -3.671875 C 1.828125 -2.890625 1.988281 -2.226562 2.3125 -1.6875 C 2.644531 -1.15625 3.164062 -0.890625 3.875 -0.890625 C 4.414062 -0.890625 4.84375 -1.054688 5.15625 -1.390625 C 5.476562 -1.722656 5.703125 -2.179688 5.828125 -2.765625 L 7.109375 -2.765625 C 6.960938 -1.722656 6.597656 -0.960938 6.015625 -0.484375 C 5.429688 -0.015625 4.6875 0.21875 3.78125 0.21875 C 2.757812 0.21875 1.941406 -0.148438 1.328125 -0.890625 C 0.722656 -1.640625 0.421875 -2.570312 0.421875 -3.6875 C 0.421875 -5.050781 0.753906 -6.113281 1.421875 -6.875 C 2.085938 -7.632812 2.9375 -8.015625 3.96875 -8.015625 Z M 3.765625 -7.984375 Z \"/>\n",
       "</symbol>\n",
       "<symbol overflow=\"visible\" id=\"glyph0-17\">\n",
       "<path style=\"stroke:none;\" d=\"M 4.40625 -10.859375 C 3.644531 -9.378906 3.148438 -8.289062 2.921875 -7.59375 C 2.578125 -6.53125 2.40625 -5.304688 2.40625 -3.921875 C 2.40625 -2.515625 2.601562 -1.226562 3 -0.0625 C 3.238281 0.65625 3.71875 1.691406 4.4375 3.046875 L 3.546875 3.046875 C 2.835938 1.941406 2.398438 1.234375 2.234375 0.921875 C 2.066406 0.617188 1.882812 0.207031 1.6875 -0.3125 C 1.414062 -1.03125 1.222656 -1.800781 1.109375 -2.625 C 1.054688 -3.039062 1.03125 -3.441406 1.03125 -3.828125 C 1.03125 -5.265625 1.253906 -6.546875 1.703125 -7.671875 C 1.992188 -8.378906 2.59375 -9.441406 3.5 -10.859375 Z \"/>\n",
       "</symbol>\n",
       "<symbol overflow=\"visible\" id=\"glyph0-18\">\n",
       "<path style=\"stroke:none;\" d=\"M 1.59375 -7.796875 L 3.6875 -1.453125 L 5.859375 -7.796875 L 7.296875 -7.796875 L 4.359375 0 L 2.953125 0 L 0.078125 -7.796875 Z \"/>\n",
       "</symbol>\n",
       "<symbol overflow=\"visible\" id=\"glyph0-19\">\n",
       "<path style=\"stroke:none;\" d=\"M 5.15625 -6.171875 C 5.757812 -6.171875 6.234375 -6.253906 6.578125 -6.421875 C 7.109375 -6.691406 7.375 -7.175781 7.375 -7.875 C 7.375 -8.570312 7.09375 -9.039062 6.53125 -9.28125 C 6.207031 -9.414062 5.734375 -9.484375 5.109375 -9.484375 L 2.515625 -9.484375 L 2.515625 -6.171875 Z M 5.640625 -1.234375 C 6.523438 -1.234375 7.160156 -1.492188 7.546875 -2.015625 C 7.773438 -2.335938 7.890625 -2.726562 7.890625 -3.1875 C 7.890625 -3.96875 7.546875 -4.5 6.859375 -4.78125 C 6.484375 -4.925781 5.992188 -5 5.390625 -5 L 2.515625 -5 L 2.515625 -1.234375 Z M 1.09375 -10.6875 L 5.6875 -10.6875 C 6.9375 -10.6875 7.828125 -10.316406 8.359375 -9.578125 C 8.671875 -9.128906 8.828125 -8.617188 8.828125 -8.046875 C 8.828125 -7.367188 8.632812 -6.816406 8.25 -6.390625 C 8.050781 -6.160156 7.765625 -5.945312 7.390625 -5.75 C 7.941406 -5.539062 8.351562 -5.304688 8.625 -5.046875 C 9.101562 -4.585938 9.34375 -3.945312 9.34375 -3.125 C 9.34375 -2.4375 9.128906 -1.8125 8.703125 -1.25 C 8.054688 -0.414062 7.03125 0 5.625 0 L 1.09375 0 Z \"/>\n",
       "</symbol>\n",
       "<symbol overflow=\"visible\" id=\"glyph0-20\">\n",
       "<path style=\"stroke:none;\" d=\"M 1.796875 -3.8125 C 1.796875 -2.976562 1.972656 -2.273438 2.328125 -1.703125 C 2.679688 -1.140625 3.25 -0.859375 4.03125 -0.859375 C 4.632812 -0.859375 5.128906 -1.117188 5.515625 -1.640625 C 5.910156 -2.171875 6.109375 -2.921875 6.109375 -3.890625 C 6.109375 -4.878906 5.90625 -5.609375 5.5 -6.078125 C 5.09375 -6.554688 4.597656 -6.796875 4.015625 -6.796875 C 3.347656 -6.796875 2.8125 -6.539062 2.40625 -6.03125 C 2 -5.53125 1.796875 -4.789062 1.796875 -3.8125 Z M 3.765625 -7.9375 C 4.359375 -7.9375 4.859375 -7.8125 5.265625 -7.5625 C 5.492188 -7.414062 5.757812 -7.160156 6.0625 -6.796875 L 6.0625 -10.734375 L 7.3125 -10.734375 L 7.3125 0 L 6.140625 0 L 6.140625 -1.078125 C 5.828125 -0.597656 5.460938 -0.25 5.046875 -0.03125 C 4.628906 0.175781 4.15625 0.28125 3.625 0.28125 C 2.75 0.28125 1.992188 -0.0820312 1.359375 -0.8125 C 0.722656 -1.550781 0.40625 -2.523438 0.40625 -3.734375 C 0.40625 -4.867188 0.691406 -5.851562 1.265625 -6.6875 C 1.847656 -7.519531 2.679688 -7.9375 3.765625 -7.9375 Z \"/>\n",
       "</symbol>\n",
       "<symbol overflow=\"visible\" id=\"glyph0-21\">\n",
       "<path style=\"stroke:none;\" d=\"M 0.515625 3.046875 C 1.285156 1.535156 1.785156 0.4375 2.015625 -0.25 C 2.347656 -1.289062 2.515625 -2.515625 2.515625 -3.921875 C 2.515625 -5.316406 2.316406 -6.597656 1.921875 -7.765625 C 1.679688 -8.484375 1.207031 -9.515625 0.5 -10.859375 L 1.375 -10.859375 C 2.125 -9.671875 2.578125 -8.9375 2.734375 -8.65625 C 2.890625 -8.375 3.0625 -7.988281 3.25 -7.5 C 3.476562 -6.894531 3.640625 -6.296875 3.734375 -5.703125 C 3.835938 -5.109375 3.890625 -4.539062 3.890625 -4 C 3.890625 -2.5625 3.660156 -1.28125 3.203125 -0.15625 C 2.921875 0.570312 2.328125 1.640625 1.421875 3.046875 Z \"/>\n",
       "</symbol>\n",
       "<symbol overflow=\"visible\" id=\"glyph1-0\">\n",
       "<path style=\"stroke:none;\" d=\"M 0.40625 0 L 0.40625 -8.96875 L 7.515625 -8.96875 L 7.515625 0 Z M 6.390625 -1.125 L 6.390625 -7.84375 L 1.53125 -7.84375 L 1.53125 -1.125 Z \"/>\n",
       "</symbol>\n",
       "<symbol overflow=\"visible\" id=\"glyph1-1\">\n",
       "<path style=\"stroke:none;\" d=\"M 1.640625 -1.734375 C 1.640625 -1.421875 1.753906 -1.171875 1.984375 -0.984375 C 2.222656 -0.804688 2.5 -0.71875 2.8125 -0.71875 C 3.207031 -0.71875 3.582031 -0.804688 3.9375 -0.984375 C 4.550781 -1.273438 4.859375 -1.757812 4.859375 -2.4375 L 4.859375 -3.328125 C 4.722656 -3.242188 4.546875 -3.171875 4.328125 -3.109375 C 4.117188 -3.054688 3.914062 -3.015625 3.71875 -2.984375 L 3.046875 -2.90625 C 2.648438 -2.851562 2.351562 -2.769531 2.15625 -2.65625 C 1.8125 -2.46875 1.640625 -2.160156 1.640625 -1.734375 Z M 4.3125 -3.96875 C 4.5625 -4 4.726562 -4.101562 4.8125 -4.28125 C 4.863281 -4.375 4.890625 -4.515625 4.890625 -4.703125 C 4.890625 -5.078125 4.753906 -5.347656 4.484375 -5.515625 C 4.222656 -5.679688 3.84375 -5.765625 3.34375 -5.765625 C 2.769531 -5.765625 2.363281 -5.609375 2.125 -5.296875 C 1.988281 -5.128906 1.898438 -4.878906 1.859375 -4.546875 L 0.84375 -4.546875 C 0.851562 -5.347656 1.109375 -5.90625 1.609375 -6.21875 C 2.117188 -6.539062 2.707031 -6.703125 3.375 -6.703125 C 4.132812 -6.703125 4.757812 -6.550781 5.25 -6.25 C 5.71875 -5.957031 5.953125 -5.503906 5.953125 -4.890625 L 5.953125 -1.125 C 5.953125 -1.007812 5.972656 -0.914062 6.015625 -0.84375 C 6.066406 -0.78125 6.171875 -0.75 6.328125 -0.75 C 6.367188 -0.75 6.421875 -0.75 6.484375 -0.75 C 6.546875 -0.757812 6.613281 -0.769531 6.6875 -0.78125 L 6.6875 0.03125 C 6.507812 0.0820312 6.375 0.113281 6.28125 0.125 C 6.195312 0.132812 6.078125 0.140625 5.921875 0.140625 C 5.546875 0.140625 5.273438 0.00390625 5.109375 -0.265625 C 5.015625 -0.398438 4.945312 -0.597656 4.90625 -0.859375 C 4.6875 -0.566406 4.367188 -0.3125 3.953125 -0.09375 C 3.535156 0.113281 3.070312 0.21875 2.5625 0.21875 C 1.957031 0.21875 1.460938 0.0351562 1.078125 -0.328125 C 0.691406 -0.703125 0.5 -1.164062 0.5 -1.71875 C 0.5 -2.320312 0.6875 -2.789062 1.0625 -3.125 C 1.445312 -3.457031 1.945312 -3.660156 2.5625 -3.734375 Z M 3.40625 -6.703125 Z \"/>\n",
       "</symbol>\n",
       "<symbol overflow=\"visible\" id=\"glyph1-2\">\n",
       "<path style=\"stroke:none;\" d=\"M 1.453125 -2.046875 C 1.484375 -1.679688 1.578125 -1.398438 1.734375 -1.203125 C 2.015625 -0.847656 2.492188 -0.671875 3.171875 -0.671875 C 3.578125 -0.671875 3.9375 -0.757812 4.25 -0.9375 C 4.5625 -1.113281 4.71875 -1.390625 4.71875 -1.765625 C 4.71875 -2.046875 4.59375 -2.257812 4.34375 -2.40625 C 4.1875 -2.5 3.875 -2.601562 3.40625 -2.71875 L 2.53125 -2.9375 C 1.96875 -3.070312 1.554688 -3.226562 1.296875 -3.40625 C 0.828125 -3.695312 0.59375 -4.101562 0.59375 -4.625 C 0.59375 -5.25 0.8125 -5.75 1.25 -6.125 C 1.695312 -6.507812 2.296875 -6.703125 3.046875 -6.703125 C 4.035156 -6.703125 4.75 -6.414062 5.1875 -5.84375 C 5.457031 -5.476562 5.585938 -5.082031 5.578125 -4.65625 L 4.546875 -4.65625 C 4.523438 -4.90625 4.4375 -5.128906 4.28125 -5.328125 C 4.03125 -5.617188 3.59375 -5.765625 2.96875 -5.765625 C 2.550781 -5.765625 2.234375 -5.6875 2.015625 -5.53125 C 1.804688 -5.375 1.703125 -5.164062 1.703125 -4.90625 C 1.703125 -4.613281 1.84375 -4.382812 2.125 -4.21875 C 2.289062 -4.113281 2.53125 -4.023438 2.84375 -3.953125 L 3.578125 -3.765625 C 4.359375 -3.578125 4.882812 -3.394531 5.15625 -3.21875 C 5.582031 -2.9375 5.796875 -2.492188 5.796875 -1.890625 C 5.796875 -1.304688 5.570312 -0.800781 5.125 -0.375 C 4.6875 0.0390625 4.019531 0.25 3.125 0.25 C 2.144531 0.25 1.453125 0.03125 1.046875 -0.40625 C 0.648438 -0.851562 0.4375 -1.398438 0.40625 -2.046875 Z M 3.078125 -6.703125 Z \"/>\n",
       "</symbol>\n",
       "<symbol overflow=\"visible\" id=\"glyph1-3\">\n",
       "<path style=\"stroke:none;\" d=\"M 1.0625 -1.328125 L 2.34375 -1.328125 L 2.34375 0 L 1.0625 0 Z \"/>\n",
       "</symbol>\n",
       "<symbol overflow=\"visible\" id=\"glyph1-4\">\n",
       "<path style=\"stroke:none;\" d=\"M 0.8125 -6.53125 L 1.84375 -6.53125 L 1.84375 -5.609375 C 2.15625 -5.992188 2.484375 -6.269531 2.828125 -6.4375 C 3.171875 -6.601562 3.554688 -6.6875 3.984375 -6.6875 C 4.910156 -6.6875 5.535156 -6.363281 5.859375 -5.71875 C 6.046875 -5.363281 6.140625 -4.851562 6.140625 -4.1875 L 6.140625 0 L 5.015625 0 L 5.015625 -4.125 C 5.015625 -4.519531 4.957031 -4.835938 4.84375 -5.078125 C 4.644531 -5.484375 4.289062 -5.6875 3.78125 -5.6875 C 3.519531 -5.6875 3.304688 -5.660156 3.140625 -5.609375 C 2.835938 -5.523438 2.570312 -5.347656 2.34375 -5.078125 C 2.15625 -4.859375 2.035156 -4.632812 1.984375 -4.40625 C 1.929688 -4.175781 1.90625 -3.847656 1.90625 -3.421875 L 1.90625 0 L 0.8125 0 Z M 3.390625 -6.703125 Z \"/>\n",
       "</symbol>\n",
       "<symbol overflow=\"visible\" id=\"glyph1-5\">\n",
       "<path style=\"stroke:none;\" d=\"M 1.90625 -6.53125 L 1.90625 -2.203125 C 1.90625 -1.867188 1.957031 -1.59375 2.0625 -1.375 C 2.257812 -0.988281 2.625 -0.796875 3.15625 -0.796875 C 3.914062 -0.796875 4.4375 -1.132812 4.71875 -1.8125 C 4.863281 -2.1875 4.9375 -2.691406 4.9375 -3.328125 L 4.9375 -6.53125 L 6.046875 -6.53125 L 6.046875 0 L 5 0 L 5.015625 -0.96875 C 4.867188 -0.71875 4.691406 -0.503906 4.484375 -0.328125 C 4.066406 0.00390625 3.554688 0.171875 2.953125 0.171875 C 2.023438 0.171875 1.394531 -0.132812 1.0625 -0.75 C 0.875 -1.082031 0.78125 -1.53125 0.78125 -2.09375 L 0.78125 -6.53125 Z M 3.40625 -6.703125 Z \"/>\n",
       "</symbol>\n",
       "<symbol overflow=\"visible\" id=\"glyph1-6\">\n",
       "<path style=\"stroke:none;\" d=\"M 0.8125 -6.53125 L 1.890625 -6.53125 L 1.890625 -5.609375 C 2.148438 -5.929688 2.382812 -6.164062 2.59375 -6.3125 C 2.957031 -6.5625 3.367188 -6.6875 3.828125 -6.6875 C 4.347656 -6.6875 4.769531 -6.554688 5.09375 -6.296875 C 5.269531 -6.148438 5.429688 -5.9375 5.578125 -5.65625 C 5.816406 -6 6.101562 -6.253906 6.4375 -6.421875 C 6.769531 -6.597656 7.140625 -6.6875 7.546875 -6.6875 C 8.429688 -6.6875 9.03125 -6.367188 9.34375 -5.734375 C 9.507812 -5.390625 9.59375 -4.929688 9.59375 -4.359375 L 9.59375 0 L 8.453125 0 L 8.453125 -4.546875 C 8.453125 -4.972656 8.34375 -5.269531 8.125 -5.4375 C 7.914062 -5.601562 7.65625 -5.6875 7.34375 -5.6875 C 6.90625 -5.6875 6.53125 -5.539062 6.21875 -5.25 C 5.90625 -4.957031 5.75 -4.472656 5.75 -3.796875 L 5.75 0 L 4.640625 0 L 4.640625 -4.265625 C 4.640625 -4.710938 4.585938 -5.035156 4.484375 -5.234375 C 4.316406 -5.535156 4.003906 -5.6875 3.546875 -5.6875 C 3.128906 -5.6875 2.75 -5.523438 2.40625 -5.203125 C 2.070312 -4.890625 1.90625 -4.3125 1.90625 -3.46875 L 1.90625 0 L 0.8125 0 Z \"/>\n",
       "</symbol>\n",
       "<symbol overflow=\"visible\" id=\"glyph1-7\">\n",
       "<path style=\"stroke:none;\" d=\"M 3.53125 -6.6875 C 3.988281 -6.6875 4.4375 -6.578125 4.875 -6.359375 C 5.3125 -6.140625 5.644531 -5.859375 5.875 -5.515625 C 6.09375 -5.179688 6.238281 -4.796875 6.3125 -4.359375 C 6.375 -4.054688 6.40625 -3.578125 6.40625 -2.921875 L 1.625 -2.921875 C 1.632812 -2.253906 1.785156 -1.71875 2.078125 -1.3125 C 2.378906 -0.914062 2.835938 -0.71875 3.453125 -0.71875 C 4.023438 -0.71875 4.484375 -0.90625 4.828125 -1.28125 C 5.015625 -1.507812 5.148438 -1.765625 5.234375 -2.046875 L 6.3125 -2.046875 C 6.289062 -1.804688 6.195312 -1.539062 6.03125 -1.25 C 5.875 -0.957031 5.695312 -0.71875 5.5 -0.53125 C 5.164062 -0.195312 4.75 0.0234375 4.25 0.140625 C 3.988281 0.203125 3.691406 0.234375 3.359375 0.234375 C 2.546875 0.234375 1.851562 -0.0625 1.28125 -0.65625 C 0.71875 -1.25 0.4375 -2.078125 0.4375 -3.140625 C 0.4375 -4.191406 0.722656 -5.046875 1.296875 -5.703125 C 1.867188 -6.359375 2.613281 -6.6875 3.53125 -6.6875 Z M 5.28125 -3.796875 C 5.238281 -4.265625 5.132812 -4.644531 4.96875 -4.9375 C 4.664062 -5.457031 4.160156 -5.71875 3.453125 -5.71875 C 2.953125 -5.71875 2.53125 -5.535156 2.1875 -5.171875 C 1.84375 -4.804688 1.660156 -4.347656 1.640625 -3.796875 Z M 3.421875 -6.703125 Z \"/>\n",
       "</symbol>\n",
       "<symbol overflow=\"visible\" id=\"glyph1-8\">\n",
       "<path style=\"stroke:none;\" d=\"M 0.84375 -6.53125 L 1.875 -6.53125 L 1.875 -5.40625 C 1.96875 -5.625 2.179688 -5.890625 2.515625 -6.203125 C 2.847656 -6.523438 3.226562 -6.6875 3.65625 -6.6875 C 3.675781 -6.6875 3.710938 -6.679688 3.765625 -6.671875 C 3.816406 -6.671875 3.898438 -6.664062 4.015625 -6.65625 L 4.015625 -5.5 C 3.953125 -5.507812 3.890625 -5.515625 3.828125 -5.515625 C 3.773438 -5.523438 3.71875 -5.53125 3.65625 -5.53125 C 3.101562 -5.53125 2.675781 -5.347656 2.375 -4.984375 C 2.082031 -4.628906 1.9375 -4.222656 1.9375 -3.765625 L 1.9375 0 L 0.84375 0 Z \"/>\n",
       "</symbol>\n",
       "<symbol overflow=\"visible\" id=\"glyph1-9\">\n",
       "<path style=\"stroke:none;\" d=\"M 0.8125 -6.5 L 1.921875 -6.5 L 1.921875 0 L 0.8125 0 Z M 0.8125 -8.96875 L 1.921875 -8.96875 L 1.921875 -7.71875 L 0.8125 -7.71875 Z \"/>\n",
       "</symbol>\n",
       "<symbol overflow=\"visible\" id=\"glyph1-10\">\n",
       "<path style=\"stroke:none;\" d=\"M 3.328125 -6.71875 C 4.066406 -6.71875 4.664062 -6.539062 5.125 -6.1875 C 5.582031 -5.832031 5.859375 -5.21875 5.953125 -4.34375 L 4.890625 -4.34375 C 4.828125 -4.738281 4.675781 -5.070312 4.4375 -5.34375 C 4.207031 -5.613281 3.835938 -5.75 3.328125 -5.75 C 2.628906 -5.75 2.128906 -5.40625 1.828125 -4.71875 C 1.628906 -4.269531 1.53125 -3.722656 1.53125 -3.078125 C 1.53125 -2.421875 1.664062 -1.867188 1.9375 -1.421875 C 2.21875 -0.972656 2.65625 -0.75 3.25 -0.75 C 3.707031 -0.75 4.066406 -0.890625 4.328125 -1.171875 C 4.597656 -1.453125 4.785156 -1.832031 4.890625 -2.3125 L 5.953125 -2.3125 C 5.835938 -1.445312 5.535156 -0.8125 5.046875 -0.40625 C 4.554688 -0.0078125 3.929688 0.1875 3.171875 0.1875 C 2.316406 0.1875 1.632812 -0.125 1.125 -0.75 C 0.613281 -1.375 0.359375 -2.15625 0.359375 -3.09375 C 0.359375 -4.238281 0.632812 -5.128906 1.1875 -5.765625 C 1.75 -6.398438 2.460938 -6.71875 3.328125 -6.71875 Z M 3.15625 -6.703125 Z \"/>\n",
       "</symbol>\n",
       "<symbol overflow=\"visible\" id=\"glyph1-11\">\n",
       "<path style=\"stroke:none;\" d=\"M 3.703125 -9.109375 C 3.054688 -7.867188 2.640625 -6.957031 2.453125 -6.375 C 2.160156 -5.476562 2.015625 -4.445312 2.015625 -3.28125 C 2.015625 -2.101562 2.179688 -1.023438 2.515625 -0.046875 C 2.710938 0.554688 3.113281 1.421875 3.71875 2.546875 L 2.984375 2.546875 C 2.390625 1.617188 2.019531 1.023438 1.875 0.765625 C 1.726562 0.515625 1.570312 0.171875 1.40625 -0.265625 C 1.175781 -0.867188 1.019531 -1.515625 0.9375 -2.203125 C 0.882812 -2.554688 0.859375 -2.890625 0.859375 -3.203125 C 0.859375 -4.410156 1.050781 -5.484375 1.4375 -6.421875 C 1.675781 -7.023438 2.175781 -7.921875 2.9375 -9.109375 Z \"/>\n",
       "</symbol>\n",
       "<symbol overflow=\"visible\" id=\"glyph1-12\">\n",
       "<path style=\"stroke:none;\" d=\"M 1.34375 -6.53125 L 3.09375 -1.21875 L 4.90625 -6.53125 L 6.109375 -6.53125 L 3.65625 0 L 2.484375 0 L 0.0625 -6.53125 Z \"/>\n",
       "</symbol>\n",
       "<symbol overflow=\"visible\" id=\"glyph1-13\">\n",
       "<path style=\"stroke:none;\" d=\"M 4.328125 -5.171875 C 4.835938 -5.171875 5.234375 -5.242188 5.515625 -5.390625 C 5.960938 -5.609375 6.1875 -6.007812 6.1875 -6.59375 C 6.1875 -7.1875 5.945312 -7.582031 5.46875 -7.78125 C 5.207031 -7.894531 4.8125 -7.953125 4.28125 -7.953125 L 2.109375 -7.953125 L 2.109375 -5.171875 Z M 4.734375 -1.03125 C 5.472656 -1.03125 6.003906 -1.25 6.328125 -1.6875 C 6.523438 -1.957031 6.625 -2.285156 6.625 -2.671875 C 6.625 -3.328125 6.332031 -3.769531 5.75 -4 C 5.4375 -4.125 5.023438 -4.1875 4.515625 -4.1875 L 2.109375 -4.1875 L 2.109375 -1.03125 Z M 0.921875 -8.96875 L 4.765625 -8.96875 C 5.816406 -8.96875 6.566406 -8.65625 7.015625 -8.03125 C 7.273438 -7.65625 7.40625 -7.226562 7.40625 -6.75 C 7.40625 -6.175781 7.242188 -5.710938 6.921875 -5.359375 C 6.753906 -5.160156 6.515625 -4.984375 6.203125 -4.828125 C 6.660156 -4.648438 7.003906 -4.453125 7.234375 -4.234375 C 7.640625 -3.847656 7.84375 -3.3125 7.84375 -2.625 C 7.84375 -2.039062 7.660156 -1.515625 7.296875 -1.046875 C 6.753906 -0.347656 5.894531 0 4.71875 0 L 0.921875 0 Z \"/>\n",
       "</symbol>\n",
       "<symbol overflow=\"visible\" id=\"glyph1-14\">\n",
       "<path style=\"stroke:none;\" d=\"M 1.5 -3.1875 C 1.5 -2.488281 1.644531 -1.898438 1.9375 -1.421875 C 2.238281 -0.953125 2.71875 -0.71875 3.375 -0.71875 C 3.882812 -0.71875 4.300781 -0.9375 4.625 -1.375 C 4.957031 -1.8125 5.125 -2.441406 5.125 -3.265625 C 5.125 -4.085938 4.953125 -4.695312 4.609375 -5.09375 C 4.273438 -5.488281 3.859375 -5.6875 3.359375 -5.6875 C 2.804688 -5.6875 2.359375 -5.472656 2.015625 -5.046875 C 1.671875 -4.628906 1.5 -4.007812 1.5 -3.1875 Z M 3.15625 -6.65625 C 3.65625 -6.65625 4.070312 -6.546875 4.40625 -6.328125 C 4.601562 -6.210938 4.828125 -6 5.078125 -5.6875 L 5.078125 -9 L 6.140625 -9 L 6.140625 0 L 5.140625 0 L 5.140625 -0.90625 C 4.890625 -0.507812 4.585938 -0.21875 4.234375 -0.03125 C 3.890625 0.144531 3.488281 0.234375 3.03125 0.234375 C 2.300781 0.234375 1.671875 -0.0703125 1.140625 -0.6875 C 0.609375 -1.300781 0.34375 -2.113281 0.34375 -3.125 C 0.34375 -4.082031 0.582031 -4.910156 1.0625 -5.609375 C 1.550781 -6.304688 2.25 -6.65625 3.15625 -6.65625 Z \"/>\n",
       "</symbol>\n",
       "<symbol overflow=\"visible\" id=\"glyph1-15\">\n",
       "<path style=\"stroke:none;\" d=\"M 0.4375 2.546875 C 1.082031 1.285156 1.5 0.367188 1.6875 -0.203125 C 1.96875 -1.078125 2.109375 -2.101562 2.109375 -3.28125 C 2.109375 -4.457031 1.945312 -5.535156 1.625 -6.515625 C 1.414062 -7.117188 1.015625 -7.984375 0.421875 -9.109375 L 1.15625 -9.109375 C 1.78125 -8.109375 2.15625 -7.488281 2.28125 -7.25 C 2.414062 -7.019531 2.5625 -6.703125 2.71875 -6.296875 C 2.914062 -5.785156 3.054688 -5.28125 3.140625 -4.78125 C 3.222656 -4.289062 3.265625 -3.8125 3.265625 -3.34375 C 3.265625 -2.144531 3.070312 -1.070312 2.6875 -0.125 C 2.445312 0.476562 1.953125 1.367188 1.203125 2.546875 Z \"/>\n",
       "</symbol>\n",
       "<symbol overflow=\"visible\" id=\"glyph1-16\">\n",
       "<path style=\"stroke:none;\" d=\"M 1.203125 -6.1875 L 1.203125 -7.03125 C 1.992188 -7.101562 2.546875 -7.226562 2.859375 -7.40625 C 3.171875 -7.59375 3.40625 -8.023438 3.5625 -8.703125 L 4.421875 -8.703125 L 4.421875 0 L 3.25 0 L 3.25 -6.1875 Z \"/>\n",
       "</symbol>\n",
       "<symbol overflow=\"visible\" id=\"glyph1-17\">\n",
       "<path style=\"stroke:none;\" d=\"M 3.375 -8.734375 C 4.507812 -8.734375 5.328125 -8.269531 5.828125 -7.34375 C 6.222656 -6.625 6.421875 -5.632812 6.421875 -4.375 C 6.421875 -3.1875 6.242188 -2.207031 5.890625 -1.4375 C 5.378906 -0.320312 4.539062 0.234375 3.375 0.234375 C 2.320312 0.234375 1.539062 -0.21875 1.03125 -1.125 C 0.601562 -1.882812 0.390625 -2.90625 0.390625 -4.1875 C 0.390625 -5.1875 0.519531 -6.039062 0.78125 -6.75 C 1.257812 -8.070312 2.125 -8.734375 3.375 -8.734375 Z M 3.375 -0.765625 C 3.9375 -0.765625 4.382812 -1.015625 4.71875 -1.515625 C 5.0625 -2.023438 5.234375 -2.96875 5.234375 -4.34375 C 5.234375 -5.332031 5.109375 -6.144531 4.859375 -6.78125 C 4.617188 -7.425781 4.148438 -7.75 3.453125 -7.75 C 2.804688 -7.75 2.332031 -7.441406 2.03125 -6.828125 C 1.726562 -6.222656 1.578125 -5.332031 1.578125 -4.15625 C 1.578125 -3.257812 1.675781 -2.539062 1.875 -2 C 2.164062 -1.175781 2.664062 -0.765625 3.375 -0.765625 Z \"/>\n",
       "</symbol>\n",
       "<symbol overflow=\"visible\" id=\"glyph1-18\">\n",
       "<path style=\"stroke:none;\" d=\"M 1.546875 -2.234375 C 1.617188 -1.597656 1.910156 -1.160156 2.421875 -0.921875 C 2.679688 -0.804688 2.984375 -0.75 3.328125 -0.75 C 3.972656 -0.75 4.453125 -0.953125 4.765625 -1.359375 C 5.078125 -1.773438 5.234375 -2.238281 5.234375 -2.75 C 5.234375 -3.351562 5.046875 -3.820312 4.671875 -4.15625 C 4.304688 -4.488281 3.863281 -4.65625 3.34375 -4.65625 C 2.957031 -4.65625 2.628906 -4.582031 2.359375 -4.4375 C 2.085938 -4.289062 1.859375 -4.085938 1.671875 -3.828125 L 0.71875 -3.890625 L 1.390625 -8.59375 L 5.921875 -8.59375 L 5.921875 -7.53125 L 2.203125 -7.53125 L 1.84375 -5.109375 C 2.039062 -5.253906 2.234375 -5.367188 2.421875 -5.453125 C 2.742188 -5.585938 3.117188 -5.65625 3.546875 -5.65625 C 4.347656 -5.65625 5.023438 -5.394531 5.578125 -4.875 C 6.140625 -4.363281 6.421875 -3.707031 6.421875 -2.90625 C 6.421875 -2.082031 6.164062 -1.351562 5.65625 -0.71875 C 5.144531 -0.09375 4.328125 0.21875 3.203125 0.21875 C 2.492188 0.21875 1.863281 0.0195312 1.3125 -0.375 C 0.769531 -0.78125 0.46875 -1.398438 0.40625 -2.234375 Z \"/>\n",
       "</symbol>\n",
       "<symbol overflow=\"visible\" id=\"glyph1-19\">\n",
       "<path style=\"stroke:none;\" d=\"M 0.390625 0 C 0.429688 -0.75 0.585938 -1.398438 0.859375 -1.953125 C 1.128906 -2.515625 1.65625 -3.023438 2.4375 -3.484375 L 3.609375 -4.15625 C 4.140625 -4.46875 4.507812 -4.726562 4.71875 -4.9375 C 5.050781 -5.28125 5.21875 -5.671875 5.21875 -6.109375 C 5.21875 -6.609375 5.0625 -7.007812 4.75 -7.3125 C 4.445312 -7.613281 4.046875 -7.765625 3.546875 -7.765625 C 2.785156 -7.765625 2.265625 -7.476562 1.984375 -6.90625 C 1.828125 -6.601562 1.738281 -6.179688 1.71875 -5.640625 L 0.609375 -5.640625 C 0.617188 -6.398438 0.757812 -7.019531 1.03125 -7.5 C 1.5 -8.34375 2.335938 -8.765625 3.546875 -8.765625 C 4.546875 -8.765625 5.273438 -8.492188 5.734375 -7.953125 C 6.203125 -7.410156 6.4375 -6.8125 6.4375 -6.15625 C 6.4375 -5.457031 6.1875 -4.859375 5.6875 -4.359375 C 5.40625 -4.066406 4.894531 -3.71875 4.15625 -3.3125 L 3.328125 -2.84375 C 2.929688 -2.625 2.617188 -2.414062 2.390625 -2.21875 C 1.984375 -1.863281 1.726562 -1.46875 1.625 -1.03125 L 6.390625 -1.03125 L 6.390625 0 Z \"/>\n",
       "</symbol>\n",
       "<symbol overflow=\"visible\" id=\"glyph1-20\">\n",
       "<path style=\"stroke:none;\" d=\"M 3.25 0.234375 C 2.21875 0.234375 1.46875 -0.046875 1 -0.609375 C 0.53125 -1.179688 0.296875 -1.875 0.296875 -2.6875 L 1.453125 -2.6875 C 1.492188 -2.125 1.597656 -1.710938 1.765625 -1.453125 C 2.046875 -0.992188 2.5625 -0.765625 3.3125 -0.765625 C 3.882812 -0.765625 4.34375 -0.914062 4.6875 -1.21875 C 5.039062 -1.53125 5.21875 -1.929688 5.21875 -2.421875 C 5.21875 -3.023438 5.035156 -3.445312 4.671875 -3.6875 C 4.304688 -3.925781 3.796875 -4.046875 3.140625 -4.046875 C 3.066406 -4.046875 2.988281 -4.046875 2.90625 -4.046875 C 2.832031 -4.046875 2.757812 -4.039062 2.6875 -4.03125 L 2.6875 -5 C 2.800781 -4.988281 2.894531 -4.976562 2.96875 -4.96875 C 3.050781 -4.96875 3.132812 -4.96875 3.21875 -4.96875 C 3.632812 -4.96875 3.972656 -5.035156 4.234375 -5.171875 C 4.703125 -5.398438 4.9375 -5.804688 4.9375 -6.390625 C 4.9375 -6.828125 4.78125 -7.160156 4.46875 -7.390625 C 4.15625 -7.628906 3.796875 -7.75 3.390625 -7.75 C 2.648438 -7.75 2.144531 -7.503906 1.875 -7.015625 C 1.71875 -6.742188 1.628906 -6.363281 1.609375 -5.875 L 0.515625 -5.875 C 0.515625 -6.519531 0.644531 -7.070312 0.90625 -7.53125 C 1.351562 -8.34375 2.140625 -8.75 3.265625 -8.75 C 4.160156 -8.75 4.851562 -8.550781 5.34375 -8.15625 C 5.832031 -7.757812 6.078125 -7.1875 6.078125 -6.4375 C 6.078125 -5.894531 5.929688 -5.457031 5.640625 -5.125 C 5.460938 -4.914062 5.226562 -4.753906 4.9375 -4.640625 C 5.40625 -4.515625 5.765625 -4.269531 6.015625 -3.90625 C 6.273438 -3.550781 6.40625 -3.113281 6.40625 -2.59375 C 6.40625 -1.757812 6.128906 -1.078125 5.578125 -0.546875 C 5.035156 -0.0234375 4.257812 0.234375 3.25 0.234375 Z \"/>\n",
       "</symbol>\n",
       "<symbol overflow=\"visible\" id=\"glyph2-0\">\n",
       "<path style=\"stroke:none;\" d=\"M 0 -0.40625 L -8.96875 -0.40625 L -8.96875 -7.515625 L 0 -7.515625 Z M -1.125 -6.390625 L -7.84375 -6.390625 L -7.84375 -1.53125 L -1.125 -1.53125 Z \"/>\n",
       "</symbol>\n",
       "<symbol overflow=\"visible\" id=\"glyph2-1\">\n",
       "<path style=\"stroke:none;\" d=\"M -8.96875 -1.0625 L -8.96875 -7.28125 L -7.875 -7.28125 L -7.875 -2.28125 L -5.140625 -2.28125 L -5.140625 -6.6875 L -4.078125 -6.6875 L -4.078125 -2.28125 L 0 -2.28125 L 0 -1.0625 Z \"/>\n",
       "</symbol>\n",
       "<symbol overflow=\"visible\" id=\"glyph2-2\">\n",
       "<path style=\"stroke:none;\" d=\"M -6.53125 -0.84375 L -6.53125 -1.875 L -5.40625 -1.875 C -5.625 -1.96875 -5.890625 -2.179688 -6.203125 -2.515625 C -6.523438 -2.847656 -6.6875 -3.226562 -6.6875 -3.65625 C -6.6875 -3.675781 -6.679688 -3.710938 -6.671875 -3.765625 C -6.671875 -3.816406 -6.664062 -3.898438 -6.65625 -4.015625 L -5.5 -4.015625 C -5.507812 -3.953125 -5.515625 -3.890625 -5.515625 -3.828125 C -5.523438 -3.773438 -5.53125 -3.71875 -5.53125 -3.65625 C -5.53125 -3.101562 -5.347656 -2.675781 -4.984375 -2.375 C -4.628906 -2.082031 -4.222656 -1.9375 -3.765625 -1.9375 L 0 -1.9375 L 0 -0.84375 Z \"/>\n",
       "</symbol>\n",
       "<symbol overflow=\"visible\" id=\"glyph2-3\">\n",
       "<path style=\"stroke:none;\" d=\"M -6.6875 -3.53125 C -6.6875 -3.988281 -6.578125 -4.4375 -6.359375 -4.875 C -6.140625 -5.3125 -5.859375 -5.644531 -5.515625 -5.875 C -5.179688 -6.09375 -4.796875 -6.238281 -4.359375 -6.3125 C -4.054688 -6.375 -3.578125 -6.40625 -2.921875 -6.40625 L -2.921875 -1.625 C -2.253906 -1.632812 -1.71875 -1.785156 -1.3125 -2.078125 C -0.914062 -2.378906 -0.71875 -2.835938 -0.71875 -3.453125 C -0.71875 -4.023438 -0.90625 -4.484375 -1.28125 -4.828125 C -1.507812 -5.015625 -1.765625 -5.148438 -2.046875 -5.234375 L -2.046875 -6.3125 C -1.804688 -6.289062 -1.539062 -6.195312 -1.25 -6.03125 C -0.957031 -5.875 -0.71875 -5.695312 -0.53125 -5.5 C -0.195312 -5.164062 0.0234375 -4.75 0.140625 -4.25 C 0.203125 -3.988281 0.234375 -3.691406 0.234375 -3.359375 C 0.234375 -2.546875 -0.0625 -1.851562 -0.65625 -1.28125 C -1.25 -0.71875 -2.078125 -0.4375 -3.140625 -0.4375 C -4.191406 -0.4375 -5.046875 -0.722656 -5.703125 -1.296875 C -6.359375 -1.867188 -6.6875 -2.613281 -6.6875 -3.53125 Z M -3.796875 -5.28125 C -4.265625 -5.238281 -4.644531 -5.132812 -4.9375 -4.96875 C -5.457031 -4.664062 -5.71875 -4.160156 -5.71875 -3.453125 C -5.71875 -2.953125 -5.535156 -2.53125 -5.171875 -2.1875 C -4.804688 -1.84375 -4.347656 -1.660156 -3.796875 -1.640625 Z M -6.703125 -3.421875 Z \"/>\n",
       "</symbol>\n",
       "<symbol overflow=\"visible\" id=\"glyph2-4\">\n",
       "<path style=\"stroke:none;\" d=\"M -3.1875 -1.515625 C -2.613281 -1.515625 -2.140625 -1.59375 -1.765625 -1.75 C -1.078125 -2.03125 -0.734375 -2.535156 -0.734375 -3.265625 C -0.734375 -4.023438 -1.09375 -4.550781 -1.8125 -4.84375 C -2.207031 -5 -2.710938 -5.078125 -3.328125 -5.078125 C -3.890625 -5.078125 -4.363281 -4.988281 -4.75 -4.8125 C -5.394531 -4.519531 -5.71875 -4 -5.71875 -3.25 C -5.71875 -2.769531 -5.507812 -2.359375 -5.09375 -2.015625 C -4.675781 -1.679688 -4.039062 -1.515625 -3.1875 -1.515625 Z M -6.6875 -3.140625 C -6.6875 -3.679688 -6.550781 -4.132812 -6.28125 -4.5 C -6.132812 -4.707031 -5.914062 -4.90625 -5.625 -5.09375 L -6.53125 -5.09375 L -6.53125 -6.140625 L 2.609375 -6.140625 L 2.609375 -5.03125 L -0.75 -5.03125 C -0.457031 -4.84375 -0.222656 -4.585938 -0.046875 -4.265625 C 0.117188 -3.941406 0.203125 -3.539062 0.203125 -3.0625 C 0.203125 -2.363281 -0.0664062 -1.738281 -0.609375 -1.1875 C -1.148438 -0.632812 -1.976562 -0.359375 -3.09375 -0.359375 C -4.144531 -0.359375 -5.003906 -0.613281 -5.671875 -1.125 C -6.347656 -1.644531 -6.6875 -2.316406 -6.6875 -3.140625 Z \"/>\n",
       "</symbol>\n",
       "<symbol overflow=\"visible\" id=\"glyph2-5\">\n",
       "<path style=\"stroke:none;\" d=\"M -6.53125 -1.90625 L -2.203125 -1.90625 C -1.867188 -1.90625 -1.59375 -1.957031 -1.375 -2.0625 C -0.988281 -2.257812 -0.796875 -2.625 -0.796875 -3.15625 C -0.796875 -3.914062 -1.132812 -4.4375 -1.8125 -4.71875 C -2.1875 -4.863281 -2.691406 -4.9375 -3.328125 -4.9375 L -6.53125 -4.9375 L -6.53125 -6.046875 L 0 -6.046875 L 0 -5 L -0.96875 -5.015625 C -0.71875 -4.867188 -0.503906 -4.691406 -0.328125 -4.484375 C 0.00390625 -4.066406 0.171875 -3.554688 0.171875 -2.953125 C 0.171875 -2.023438 -0.132812 -1.394531 -0.75 -1.0625 C -1.082031 -0.875 -1.53125 -0.78125 -2.09375 -0.78125 L -6.53125 -0.78125 Z M -6.703125 -3.40625 Z \"/>\n",
       "</symbol>\n",
       "<symbol overflow=\"visible\" id=\"glyph2-6\">\n",
       "<path style=\"stroke:none;\" d=\"M -6.53125 -0.8125 L -6.53125 -1.84375 L -5.609375 -1.84375 C -5.992188 -2.15625 -6.269531 -2.484375 -6.4375 -2.828125 C -6.601562 -3.171875 -6.6875 -3.554688 -6.6875 -3.984375 C -6.6875 -4.910156 -6.363281 -5.535156 -5.71875 -5.859375 C -5.363281 -6.046875 -4.851562 -6.140625 -4.1875 -6.140625 L 0 -6.140625 L 0 -5.015625 L -4.125 -5.015625 C -4.519531 -5.015625 -4.835938 -4.957031 -5.078125 -4.84375 C -5.484375 -4.644531 -5.6875 -4.289062 -5.6875 -3.78125 C -5.6875 -3.519531 -5.660156 -3.304688 -5.609375 -3.140625 C -5.523438 -2.835938 -5.347656 -2.570312 -5.078125 -2.34375 C -4.859375 -2.15625 -4.632812 -2.035156 -4.40625 -1.984375 C -4.175781 -1.929688 -3.847656 -1.90625 -3.421875 -1.90625 L 0 -1.90625 L 0 -0.8125 Z M -6.703125 -3.390625 Z \"/>\n",
       "</symbol>\n",
       "<symbol overflow=\"visible\" id=\"glyph2-7\">\n",
       "<path style=\"stroke:none;\" d=\"M -6.71875 -3.328125 C -6.71875 -4.066406 -6.539062 -4.664062 -6.1875 -5.125 C -5.832031 -5.582031 -5.21875 -5.859375 -4.34375 -5.953125 L -4.34375 -4.890625 C -4.738281 -4.828125 -5.070312 -4.675781 -5.34375 -4.4375 C -5.613281 -4.207031 -5.75 -3.835938 -5.75 -3.328125 C -5.75 -2.628906 -5.40625 -2.128906 -4.71875 -1.828125 C -4.269531 -1.628906 -3.722656 -1.53125 -3.078125 -1.53125 C -2.421875 -1.53125 -1.867188 -1.664062 -1.421875 -1.9375 C -0.972656 -2.21875 -0.75 -2.65625 -0.75 -3.25 C -0.75 -3.707031 -0.890625 -4.066406 -1.171875 -4.328125 C -1.453125 -4.597656 -1.832031 -4.785156 -2.3125 -4.890625 L -2.3125 -5.953125 C -1.445312 -5.835938 -0.8125 -5.535156 -0.40625 -5.046875 C -0.0078125 -4.554688 0.1875 -3.929688 0.1875 -3.171875 C 0.1875 -2.316406 -0.125 -1.632812 -0.75 -1.125 C -1.375 -0.613281 -2.15625 -0.359375 -3.09375 -0.359375 C -4.238281 -0.359375 -5.128906 -0.632812 -5.765625 -1.1875 C -6.398438 -1.75 -6.71875 -2.460938 -6.71875 -3.328125 Z M -6.703125 -3.15625 Z \"/>\n",
       "</symbol>\n",
       "<symbol overflow=\"visible\" id=\"glyph2-8\">\n",
       "<path style=\"stroke:none;\" d=\"M -6.53125 -4.890625 L -6.53125 -6.109375 C -6.113281 -5.953125 -5.160156 -5.609375 -3.671875 -5.078125 C -2.546875 -4.671875 -1.628906 -4.335938 -0.921875 -4.078125 C 0.742188 -3.441406 1.757812 -2.992188 2.125 -2.734375 C 2.488281 -2.472656 2.671875 -2.023438 2.671875 -1.390625 C 2.671875 -1.234375 2.664062 -1.113281 2.65625 -1.03125 C 2.644531 -0.945312 2.625 -0.84375 2.59375 -0.71875 L 1.59375 -0.71875 C 1.644531 -0.90625 1.675781 -1.039062 1.6875 -1.125 C 1.695312 -1.21875 1.703125 -1.296875 1.703125 -1.359375 C 1.703125 -1.566406 1.664062 -1.71875 1.59375 -1.8125 C 1.53125 -1.90625 1.453125 -1.984375 1.359375 -2.046875 C 1.328125 -2.066406 1.160156 -2.140625 0.859375 -2.265625 C 0.554688 -2.390625 0.332031 -2.484375 0.1875 -2.546875 L -6.53125 -0.125 L -6.53125 -1.375 L -1.21875 -3.125 Z M -6.703125 -3.125 Z \"/>\n",
       "</symbol>\n",
       "<symbol overflow=\"visible\" id=\"glyph2-9\">\n",
       "<path style=\"stroke:none;\" d=\"M -8.734375 -3.375 C -8.734375 -4.507812 -8.269531 -5.328125 -7.34375 -5.828125 C -6.625 -6.222656 -5.632812 -6.421875 -4.375 -6.421875 C -3.1875 -6.421875 -2.207031 -6.242188 -1.4375 -5.890625 C -0.320312 -5.378906 0.234375 -4.539062 0.234375 -3.375 C 0.234375 -2.320312 -0.21875 -1.539062 -1.125 -1.03125 C -1.882812 -0.601562 -2.90625 -0.390625 -4.1875 -0.390625 C -5.1875 -0.390625 -6.039062 -0.519531 -6.75 -0.78125 C -8.070312 -1.257812 -8.734375 -2.125 -8.734375 -3.375 Z M -0.765625 -3.375 C -0.765625 -3.9375 -1.015625 -4.382812 -1.515625 -4.71875 C -2.023438 -5.0625 -2.96875 -5.234375 -4.34375 -5.234375 C -5.332031 -5.234375 -6.144531 -5.109375 -6.78125 -4.859375 C -7.425781 -4.617188 -7.75 -4.148438 -7.75 -3.453125 C -7.75 -2.804688 -7.441406 -2.332031 -6.828125 -2.03125 C -6.222656 -1.726562 -5.332031 -1.578125 -4.15625 -1.578125 C -3.257812 -1.578125 -2.539062 -1.675781 -2 -1.875 C -1.175781 -2.164062 -0.765625 -2.664062 -0.765625 -3.375 Z \"/>\n",
       "</symbol>\n",
       "<symbol overflow=\"visible\" id=\"glyph2-10\">\n",
       "<path style=\"stroke:none;\" d=\"M 0 -0.390625 C -0.75 -0.429688 -1.398438 -0.585938 -1.953125 -0.859375 C -2.515625 -1.128906 -3.023438 -1.65625 -3.484375 -2.4375 L -4.15625 -3.609375 C -4.46875 -4.140625 -4.726562 -4.507812 -4.9375 -4.71875 C -5.28125 -5.050781 -5.671875 -5.21875 -6.109375 -5.21875 C -6.609375 -5.21875 -7.007812 -5.0625 -7.3125 -4.75 C -7.613281 -4.445312 -7.765625 -4.046875 -7.765625 -3.546875 C -7.765625 -2.785156 -7.476562 -2.265625 -6.90625 -1.984375 C -6.601562 -1.828125 -6.179688 -1.738281 -5.640625 -1.71875 L -5.640625 -0.609375 C -6.398438 -0.617188 -7.019531 -0.757812 -7.5 -1.03125 C -8.34375 -1.5 -8.765625 -2.335938 -8.765625 -3.546875 C -8.765625 -4.546875 -8.492188 -5.273438 -7.953125 -5.734375 C -7.410156 -6.203125 -6.8125 -6.4375 -6.15625 -6.4375 C -5.457031 -6.4375 -4.859375 -6.1875 -4.359375 -5.6875 C -4.066406 -5.40625 -3.71875 -4.894531 -3.3125 -4.15625 L -2.84375 -3.328125 C -2.625 -2.929688 -2.414062 -2.617188 -2.21875 -2.390625 C -1.863281 -1.984375 -1.46875 -1.726562 -1.03125 -1.625 L -1.03125 -6.390625 L 0 -6.390625 Z \"/>\n",
       "</symbol>\n",
       "<symbol overflow=\"visible\" id=\"glyph2-11\">\n",
       "<path style=\"stroke:none;\" d=\"M -3.09375 -4.125 L -7.0625 -4.125 L -3.09375 -1.328125 Z M 0 -4.15625 L -2.140625 -4.15625 L -2.140625 -0.3125 L -3.203125 -0.3125 L -8.765625 -4.328125 L -8.765625 -5.25 L -3.09375 -5.25 L -3.09375 -6.53125 L -2.140625 -6.53125 L -2.140625 -5.25 L 0 -5.25 Z \"/>\n",
       "</symbol>\n",
       "<symbol overflow=\"visible\" id=\"glyph2-12\">\n",
       "<path style=\"stroke:none;\" d=\"M -8.78125 -3.65625 C -8.78125 -4.632812 -8.523438 -5.316406 -8.015625 -5.703125 C -7.503906 -6.085938 -6.984375 -6.28125 -6.453125 -6.28125 L -6.453125 -5.1875 C -6.796875 -5.125 -7.066406 -5.019531 -7.265625 -4.875 C -7.628906 -4.613281 -7.8125 -4.210938 -7.8125 -3.671875 C -7.8125 -3.054688 -7.523438 -2.566406 -6.953125 -2.203125 C -6.390625 -1.847656 -5.578125 -1.648438 -4.515625 -1.609375 C -4.890625 -1.859375 -5.171875 -2.175781 -5.359375 -2.5625 C -5.515625 -2.90625 -5.59375 -3.296875 -5.59375 -3.734375 C -5.59375 -4.460938 -5.359375 -5.097656 -4.890625 -5.640625 C -4.421875 -6.191406 -3.722656 -6.46875 -2.796875 -6.46875 C -2.003906 -6.46875 -1.300781 -6.207031 -0.6875 -5.6875 C -0.0820312 -5.164062 0.21875 -4.429688 0.21875 -3.484375 C 0.21875 -2.660156 -0.0859375 -1.953125 -0.703125 -1.359375 C -1.328125 -0.765625 -2.375 -0.46875 -3.84375 -0.46875 C -4.925781 -0.46875 -5.847656 -0.597656 -6.609375 -0.859375 C -8.054688 -1.367188 -8.78125 -2.300781 -8.78125 -3.65625 Z M -0.75 -3.578125 C -0.75 -4.148438 -0.941406 -4.578125 -1.328125 -4.859375 C -1.722656 -5.148438 -2.179688 -5.296875 -2.703125 -5.296875 C -3.148438 -5.296875 -3.578125 -5.164062 -3.984375 -4.90625 C -4.390625 -4.65625 -4.59375 -4.191406 -4.59375 -3.515625 C -4.59375 -3.046875 -4.4375 -2.632812 -4.125 -2.28125 C -3.8125 -1.925781 -3.335938 -1.75 -2.703125 -1.75 C -2.148438 -1.75 -1.6875 -1.910156 -1.3125 -2.234375 C -0.9375 -2.554688 -0.75 -3.003906 -0.75 -3.578125 Z \"/>\n",
       "</symbol>\n",
       "<symbol overflow=\"visible\" id=\"glyph2-13\">\n",
       "<path style=\"stroke:none;\" d=\"M -5.078125 -3.40625 C -5.078125 -3.882812 -5.210938 -4.257812 -5.484375 -4.53125 C -5.753906 -4.800781 -6.078125 -4.9375 -6.453125 -4.9375 C -6.773438 -4.9375 -7.070312 -4.804688 -7.34375 -4.546875 C -7.613281 -4.285156 -7.75 -3.890625 -7.75 -3.359375 C -7.75 -2.828125 -7.613281 -2.441406 -7.34375 -2.203125 C -7.070312 -1.972656 -6.753906 -1.859375 -6.390625 -1.859375 C -5.984375 -1.859375 -5.660156 -2.007812 -5.421875 -2.3125 C -5.191406 -2.625 -5.078125 -2.988281 -5.078125 -3.40625 Z M -0.75 -3.46875 C -0.75 -3.976562 -0.882812 -4.398438 -1.15625 -4.734375 C -1.4375 -5.066406 -1.847656 -5.234375 -2.390625 -5.234375 C -2.953125 -5.234375 -3.378906 -5.0625 -3.671875 -4.71875 C -3.972656 -4.375 -4.125 -3.929688 -4.125 -3.390625 C -4.125 -2.859375 -3.972656 -2.425781 -3.671875 -2.09375 C -3.367188 -1.769531 -2.953125 -1.609375 -2.421875 -1.609375 C -1.972656 -1.609375 -1.582031 -1.757812 -1.25 -2.0625 C -0.914062 -2.363281 -0.75 -2.832031 -0.75 -3.46875 Z M -4.65625 -1.90625 C -4.789062 -1.601562 -4.941406 -1.363281 -5.109375 -1.1875 C -5.441406 -0.863281 -5.867188 -0.703125 -6.390625 -0.703125 C -7.035156 -0.703125 -7.59375 -0.9375 -8.0625 -1.40625 C -8.53125 -1.882812 -8.765625 -2.554688 -8.765625 -3.421875 C -8.765625 -4.265625 -8.539062 -4.921875 -8.09375 -5.390625 C -7.65625 -5.867188 -7.144531 -6.109375 -6.5625 -6.109375 C -6.007812 -6.109375 -5.566406 -5.96875 -5.234375 -5.6875 C -5.035156 -5.539062 -4.847656 -5.300781 -4.671875 -4.96875 C -4.503906 -5.332031 -4.3125 -5.617188 -4.09375 -5.828125 C -3.6875 -6.210938 -3.160156 -6.40625 -2.515625 -6.40625 C -1.742188 -6.40625 -1.085938 -6.144531 -0.546875 -5.625 C -0.015625 -5.113281 0.25 -4.382812 0.25 -3.4375 C 0.25 -2.59375 0.0195312 -1.875 -0.4375 -1.28125 C -0.90625 -0.695312 -1.578125 -0.40625 -2.453125 -0.40625 C -2.972656 -0.40625 -3.421875 -0.53125 -3.796875 -0.78125 C -4.171875 -1.03125 -4.457031 -1.40625 -4.65625 -1.90625 Z \"/>\n",
       "</symbol>\n",
       "</g>\n",
       "</defs>\n",
       "<g id=\"surface88\">\n",
       "<rect x=\"0\" y=\"0\" width=\"504\" height=\"504\" style=\"fill:rgb(100%,100%,100%);fill-opacity:1;stroke:none;\"/>\n",
       "<g style=\"fill:rgb(0%,0%,0%);fill-opacity:1;\">\n",
       "  <use xlink:href=\"#glyph0-1\" x=\"142.960938\" y=\"34.863281\"/>\n",
       "  <use xlink:href=\"#glyph0-2\" x=\"153.725754\" y=\"34.863281\"/>\n",
       "  <use xlink:href=\"#glyph0-3\" x=\"157.037445\" y=\"34.863281\"/>\n",
       "  <use xlink:href=\"#glyph0-4\" x=\"164.49057\" y=\"34.863281\"/>\n",
       "  <use xlink:href=\"#glyph0-5\" x=\"168.632004\" y=\"34.863281\"/>\n",
       "  <use xlink:href=\"#glyph0-6\" x=\"176.92215\" y=\"34.863281\"/>\n",
       "  <use xlink:href=\"#glyph0-7\" x=\"185.212296\" y=\"34.863281\"/>\n",
       "  <use xlink:href=\"#glyph0-8\" x=\"190.176193\" y=\"34.863281\"/>\n",
       "  <use xlink:href=\"#glyph0-9\" x=\"198.466339\" y=\"34.863281\"/>\n",
       "  <use xlink:href=\"#glyph0-10\" x=\"210.883362\" y=\"34.863281\"/>\n",
       "  <use xlink:href=\"#glyph0-5\" x=\"215.024796\" y=\"34.863281\"/>\n",
       "  <use xlink:href=\"#glyph0-11\" x=\"223.314941\" y=\"34.863281\"/>\n",
       "  <use xlink:href=\"#glyph0-10\" x=\"227.456375\" y=\"34.863281\"/>\n",
       "  <use xlink:href=\"#glyph0-8\" x=\"231.597809\" y=\"34.863281\"/>\n",
       "  <use xlink:href=\"#glyph0-3\" x=\"239.887955\" y=\"34.863281\"/>\n",
       "  <use xlink:href=\"#glyph0-12\" x=\"247.34108\" y=\"34.863281\"/>\n",
       "  <use xlink:href=\"#glyph0-13\" x=\"251.482513\" y=\"34.863281\"/>\n",
       "  <use xlink:href=\"#glyph0-14\" x=\"259.772659\" y=\"34.863281\"/>\n",
       "  <use xlink:href=\"#glyph0-9\" x=\"268.062805\" y=\"34.863281\"/>\n",
       "  <use xlink:href=\"#glyph0-15\" x=\"280.479828\" y=\"34.863281\"/>\n",
       "  <use xlink:href=\"#glyph0-7\" x=\"288.769974\" y=\"34.863281\"/>\n",
       "  <use xlink:href=\"#glyph0-2\" x=\"293.733871\" y=\"34.863281\"/>\n",
       "  <use xlink:href=\"#glyph0-16\" x=\"297.045563\" y=\"34.863281\"/>\n",
       "  <use xlink:href=\"#glyph0-17\" x=\"304.498688\" y=\"34.863281\"/>\n",
       "  <use xlink:href=\"#glyph0-8\" x=\"309.462585\" y=\"34.863281\"/>\n",
       "  <use xlink:href=\"#glyph0-18\" x=\"317.752731\" y=\"34.863281\"/>\n",
       "  <use xlink:href=\"#glyph0-15\" x=\"325.205856\" y=\"34.863281\"/>\n",
       "  <use xlink:href=\"#glyph0-7\" x=\"333.496002\" y=\"34.863281\"/>\n",
       "  <use xlink:href=\"#glyph0-19\" x=\"338.4599\" y=\"34.863281\"/>\n",
       "  <use xlink:href=\"#glyph0-2\" x=\"348.402252\" y=\"34.863281\"/>\n",
       "  <use xlink:href=\"#glyph0-13\" x=\"351.713943\" y=\"34.863281\"/>\n",
       "  <use xlink:href=\"#glyph0-13\" x=\"360.004089\" y=\"34.863281\"/>\n",
       "  <use xlink:href=\"#glyph0-15\" x=\"368.294235\" y=\"34.863281\"/>\n",
       "  <use xlink:href=\"#glyph0-20\" x=\"376.584381\" y=\"34.863281\"/>\n",
       "  <use xlink:href=\"#glyph0-21\" x=\"384.874527\" y=\"34.863281\"/>\n",
       "</g>\n",
       "<g style=\"fill:rgb(0%,0%,0%);fill-opacity:1;\">\n",
       "  <use xlink:href=\"#glyph1-1\" x=\"200.050781\" y=\"486.71875\"/>\n",
       "  <use xlink:href=\"#glyph1-2\" x=\"207.002686\" y=\"486.71875\"/>\n",
       "  <use xlink:href=\"#glyph1-3\" x=\"213.252686\" y=\"486.71875\"/>\n",
       "  <use xlink:href=\"#glyph1-4\" x=\"216.725586\" y=\"486.71875\"/>\n",
       "  <use xlink:href=\"#glyph1-5\" x=\"223.67749\" y=\"486.71875\"/>\n",
       "  <use xlink:href=\"#glyph1-6\" x=\"230.629395\" y=\"486.71875\"/>\n",
       "  <use xlink:href=\"#glyph1-7\" x=\"241.041992\" y=\"486.71875\"/>\n",
       "  <use xlink:href=\"#glyph1-8\" x=\"247.993896\" y=\"486.71875\"/>\n",
       "  <use xlink:href=\"#glyph1-9\" x=\"252.156494\" y=\"486.71875\"/>\n",
       "  <use xlink:href=\"#glyph1-10\" x=\"254.933594\" y=\"486.71875\"/>\n",
       "  <use xlink:href=\"#glyph1-11\" x=\"261.183594\" y=\"486.71875\"/>\n",
       "  <use xlink:href=\"#glyph1-1\" x=\"265.346191\" y=\"486.71875\"/>\n",
       "  <use xlink:href=\"#glyph1-12\" x=\"272.298096\" y=\"486.71875\"/>\n",
       "  <use xlink:href=\"#glyph1-7\" x=\"278.548096\" y=\"486.71875\"/>\n",
       "  <use xlink:href=\"#glyph1-8\" x=\"285.5\" y=\"486.71875\"/>\n",
       "  <use xlink:href=\"#glyph1-13\" x=\"289.662598\" y=\"486.71875\"/>\n",
       "  <use xlink:href=\"#glyph1-9\" x=\"298\" y=\"486.71875\"/>\n",
       "  <use xlink:href=\"#glyph1-4\" x=\"300.7771\" y=\"486.71875\"/>\n",
       "  <use xlink:href=\"#glyph1-4\" x=\"307.729004\" y=\"486.71875\"/>\n",
       "  <use xlink:href=\"#glyph1-7\" x=\"314.680908\" y=\"486.71875\"/>\n",
       "  <use xlink:href=\"#glyph1-14\" x=\"321.632812\" y=\"486.71875\"/>\n",
       "  <use xlink:href=\"#glyph1-15\" x=\"328.584717\" y=\"486.71875\"/>\n",
       "</g>\n",
       "<g style=\"fill:rgb(0%,0%,0%);fill-opacity:1;\">\n",
       "  <use xlink:href=\"#glyph2-1\" x=\"14.398438\" y=\"274.328125\"/>\n",
       "  <use xlink:href=\"#glyph2-2\" x=\"14.398438\" y=\"266.692627\"/>\n",
       "  <use xlink:href=\"#glyph2-3\" x=\"14.398438\" y=\"262.530029\"/>\n",
       "  <use xlink:href=\"#glyph2-4\" x=\"14.398438\" y=\"255.578125\"/>\n",
       "  <use xlink:href=\"#glyph2-5\" x=\"14.398438\" y=\"248.626221\"/>\n",
       "  <use xlink:href=\"#glyph2-3\" x=\"14.398438\" y=\"241.674316\"/>\n",
       "  <use xlink:href=\"#glyph2-6\" x=\"14.398438\" y=\"234.722412\"/>\n",
       "  <use xlink:href=\"#glyph2-7\" x=\"14.398438\" y=\"227.770508\"/>\n",
       "  <use xlink:href=\"#glyph2-8\" x=\"14.398438\" y=\"221.520508\"/>\n",
       "</g>\n",
       "<path style=\"fill:none;stroke-width:1;stroke-linecap:round;stroke-linejoin:round;stroke:rgb(0%,0%,0%);stroke-opacity:1;stroke-miterlimit:10;\" d=\"M 74.398438 430.558594 L 458.398438 430.558594 \"/>\n",
       "<path style=\"fill:none;stroke-width:1;stroke-linecap:round;stroke-linejoin:round;stroke:rgb(0%,0%,0%);stroke-opacity:1;stroke-miterlimit:10;\" d=\"M 74.398438 430.558594 L 74.398438 437.761719 \"/>\n",
       "<path style=\"fill:none;stroke-width:1;stroke-linecap:round;stroke-linejoin:round;stroke:rgb(0%,0%,0%);stroke-opacity:1;stroke-miterlimit:10;\" d=\"M 170.398438 430.558594 L 170.398438 437.761719 \"/>\n",
       "<path style=\"fill:none;stroke-width:1;stroke-linecap:round;stroke-linejoin:round;stroke:rgb(0%,0%,0%);stroke-opacity:1;stroke-miterlimit:10;\" d=\"M 266.398438 430.558594 L 266.398438 437.761719 \"/>\n",
       "<path style=\"fill:none;stroke-width:1;stroke-linecap:round;stroke-linejoin:round;stroke:rgb(0%,0%,0%);stroke-opacity:1;stroke-miterlimit:10;\" d=\"M 362.398438 430.558594 L 362.398438 437.761719 \"/>\n",
       "<path style=\"fill:none;stroke-width:1;stroke-linecap:round;stroke-linejoin:round;stroke:rgb(0%,0%,0%);stroke-opacity:1;stroke-miterlimit:10;\" d=\"M 458.398438 430.558594 L 458.398438 437.761719 \"/>\n",
       "<g style=\"fill:rgb(0%,0%,0%);fill-opacity:1;\">\n",
       "  <use xlink:href=\"#glyph1-16\" x=\"65.710938\" y=\"457.921875\"/>\n",
       "  <use xlink:href=\"#glyph1-3\" x=\"72.662842\" y=\"457.921875\"/>\n",
       "  <use xlink:href=\"#glyph1-17\" x=\"76.135742\" y=\"457.921875\"/>\n",
       "</g>\n",
       "<g style=\"fill:rgb(0%,0%,0%);fill-opacity:1;\">\n",
       "  <use xlink:href=\"#glyph1-16\" x=\"161.710938\" y=\"457.921875\"/>\n",
       "  <use xlink:href=\"#glyph1-3\" x=\"168.662842\" y=\"457.921875\"/>\n",
       "  <use xlink:href=\"#glyph1-18\" x=\"172.135742\" y=\"457.921875\"/>\n",
       "</g>\n",
       "<g style=\"fill:rgb(0%,0%,0%);fill-opacity:1;\">\n",
       "  <use xlink:href=\"#glyph1-19\" x=\"257.710938\" y=\"457.921875\"/>\n",
       "  <use xlink:href=\"#glyph1-3\" x=\"264.662842\" y=\"457.921875\"/>\n",
       "  <use xlink:href=\"#glyph1-17\" x=\"268.135742\" y=\"457.921875\"/>\n",
       "</g>\n",
       "<g style=\"fill:rgb(0%,0%,0%);fill-opacity:1;\">\n",
       "  <use xlink:href=\"#glyph1-19\" x=\"353.710938\" y=\"457.921875\"/>\n",
       "  <use xlink:href=\"#glyph1-3\" x=\"360.662842\" y=\"457.921875\"/>\n",
       "  <use xlink:href=\"#glyph1-18\" x=\"364.135742\" y=\"457.921875\"/>\n",
       "</g>\n",
       "<g style=\"fill:rgb(0%,0%,0%);fill-opacity:1;\">\n",
       "  <use xlink:href=\"#glyph1-20\" x=\"449.710938\" y=\"457.921875\"/>\n",
       "  <use xlink:href=\"#glyph1-3\" x=\"456.662842\" y=\"457.921875\"/>\n",
       "  <use xlink:href=\"#glyph1-17\" x=\"460.135742\" y=\"457.921875\"/>\n",
       "</g>\n",
       "<path style=\"fill:none;stroke-width:1;stroke-linecap:round;stroke-linejoin:round;stroke:rgb(0%,0%,0%);stroke-opacity:1;stroke-miterlimit:10;\" d=\"M 59.039062 416.800781 L 59.039062 80.371094 \"/>\n",
       "<path style=\"fill:none;stroke-width:1;stroke-linecap:round;stroke-linejoin:round;stroke:rgb(0%,0%,0%);stroke-opacity:1;stroke-miterlimit:10;\" d=\"M 59.039062 416.800781 L 51.839844 416.800781 \"/>\n",
       "<path style=\"fill:none;stroke-width:1;stroke-linecap:round;stroke-linejoin:round;stroke:rgb(0%,0%,0%);stroke-opacity:1;stroke-miterlimit:10;\" d=\"M 59.039062 332.691406 L 51.839844 332.691406 \"/>\n",
       "<path style=\"fill:none;stroke-width:1;stroke-linecap:round;stroke-linejoin:round;stroke:rgb(0%,0%,0%);stroke-opacity:1;stroke-miterlimit:10;\" d=\"M 59.039062 248.585938 L 51.839844 248.585938 \"/>\n",
       "<path style=\"fill:none;stroke-width:1;stroke-linecap:round;stroke-linejoin:round;stroke:rgb(0%,0%,0%);stroke-opacity:1;stroke-miterlimit:10;\" d=\"M 59.039062 164.476562 L 51.839844 164.476562 \"/>\n",
       "<path style=\"fill:none;stroke-width:1;stroke-linecap:round;stroke-linejoin:round;stroke:rgb(0%,0%,0%);stroke-opacity:1;stroke-miterlimit:10;\" d=\"M 59.039062 80.371094 L 51.839844 80.371094 \"/>\n",
       "<g style=\"fill:rgb(0%,0%,0%);fill-opacity:1;\">\n",
       "  <use xlink:href=\"#glyph2-9\" x=\"43.199219\" y=\"420.277344\"/>\n",
       "</g>\n",
       "<g style=\"fill:rgb(0%,0%,0%);fill-opacity:1;\">\n",
       "  <use xlink:href=\"#glyph2-10\" x=\"43.199219\" y=\"343.121094\"/>\n",
       "  <use xlink:href=\"#glyph2-9\" x=\"43.199219\" y=\"336.169189\"/>\n",
       "  <use xlink:href=\"#glyph2-9\" x=\"43.199219\" y=\"329.217285\"/>\n",
       "</g>\n",
       "<g style=\"fill:rgb(0%,0%,0%);fill-opacity:1;\">\n",
       "  <use xlink:href=\"#glyph2-11\" x=\"43.199219\" y=\"259.015625\"/>\n",
       "  <use xlink:href=\"#glyph2-9\" x=\"43.199219\" y=\"252.063721\"/>\n",
       "  <use xlink:href=\"#glyph2-9\" x=\"43.199219\" y=\"245.111816\"/>\n",
       "</g>\n",
       "<g style=\"fill:rgb(0%,0%,0%);fill-opacity:1;\">\n",
       "  <use xlink:href=\"#glyph2-12\" x=\"43.199219\" y=\"174.90625\"/>\n",
       "  <use xlink:href=\"#glyph2-9\" x=\"43.199219\" y=\"167.954346\"/>\n",
       "  <use xlink:href=\"#glyph2-9\" x=\"43.199219\" y=\"161.002441\"/>\n",
       "</g>\n",
       "<g style=\"fill:rgb(0%,0%,0%);fill-opacity:1;\">\n",
       "  <use xlink:href=\"#glyph2-13\" x=\"43.199219\" y=\"90.800781\"/>\n",
       "  <use xlink:href=\"#glyph2-9\" x=\"43.199219\" y=\"83.848877\"/>\n",
       "  <use xlink:href=\"#glyph2-9\" x=\"43.199219\" y=\"76.896973\"/>\n",
       "</g>\n",
       "<path style=\"fill:none;stroke-width:1;stroke-linecap:round;stroke-linejoin:round;stroke:rgb(0%,0%,0%);stroke-opacity:1;stroke-miterlimit:10;\" d=\"M 74.398438 89.199219 L 112.796875 89.199219 L 112.796875 416.796875 L 74.398438 416.796875 Z \"/>\n",
       "<path style=\"fill:none;stroke-width:1;stroke-linecap:round;stroke-linejoin:round;stroke:rgb(0%,0%,0%);stroke-opacity:1;stroke-miterlimit:10;\" d=\"M 112.800781 416.800781 L 151.199219 416.800781 Z \"/>\n",
       "<path style=\"fill:none;stroke-width:1;stroke-linecap:round;stroke-linejoin:round;stroke:rgb(0%,0%,0%);stroke-opacity:1;stroke-miterlimit:10;\" d=\"M 151.199219 416.800781 L 189.597656 416.800781 Z \"/>\n",
       "<path style=\"fill:none;stroke-width:1;stroke-linecap:round;stroke-linejoin:round;stroke:rgb(0%,0%,0%);stroke-opacity:1;stroke-miterlimit:10;\" d=\"M 189.601562 416.800781 L 228 416.800781 Z \"/>\n",
       "<path style=\"fill:none;stroke-width:1;stroke-linecap:round;stroke-linejoin:round;stroke:rgb(0%,0%,0%);stroke-opacity:1;stroke-miterlimit:10;\" d=\"M 228 72.800781 L 266.398438 72.800781 L 266.398438 416.800781 L 228 416.800781 Z \"/>\n",
       "<path style=\"fill:none;stroke-width:1;stroke-linecap:round;stroke-linejoin:round;stroke:rgb(0%,0%,0%);stroke-opacity:1;stroke-miterlimit:10;\" d=\"M 266.398438 416.800781 L 304.796875 416.800781 Z \"/>\n",
       "<path style=\"fill:none;stroke-width:1;stroke-linecap:round;stroke-linejoin:round;stroke:rgb(0%,0%,0%);stroke-opacity:1;stroke-miterlimit:10;\" d=\"M 304.800781 416.800781 L 343.199219 416.800781 Z \"/>\n",
       "<path style=\"fill:none;stroke-width:1;stroke-linecap:round;stroke-linejoin:round;stroke:rgb(0%,0%,0%);stroke-opacity:1;stroke-miterlimit:10;\" d=\"M 343.199219 416.800781 L 381.597656 416.800781 Z \"/>\n",
       "<path style=\"fill:none;stroke-width:1;stroke-linecap:round;stroke-linejoin:round;stroke:rgb(0%,0%,0%);stroke-opacity:1;stroke-miterlimit:10;\" d=\"M 381.601562 416.800781 L 420 416.800781 Z \"/>\n",
       "<path style=\"fill:none;stroke-width:1;stroke-linecap:round;stroke-linejoin:round;stroke:rgb(0%,0%,0%);stroke-opacity:1;stroke-miterlimit:10;\" d=\"M 420 80.371094 L 458.398438 80.371094 L 458.398438 416.800781 L 420 416.800781 Z \"/>\n",
       "</g>\n",
       "</svg>\n"
      ],
      "text/plain": [
       "Plot with title “Histogram of as.numeric(averBinned)”"
      ]
     },
     "metadata": {
      "image/svg+xml": {
       "isolated": true
      }
     },
     "output_type": "display_data"
    }
   ],
   "source": [
    "averBinned <- cut(aver, cutpoints, right=FALSE, include.lowest=TRUE)\n",
    "summary(averBinned)\n",
    "hist(as.numeric(averBinned))"
   ]
  },
  {
   "cell_type": "markdown",
   "metadata": {},
   "source": [
    "#### Define *grade categories* \"low\", \"medium\" and \"high\" in terms of the calculated cut-point intervals: "
   ]
  },
  {
   "cell_type": "code",
   "execution_count": 52,
   "metadata": {
    "collapsed": false
   },
   "outputs": [
    {
     "name": "stdout",
     "output_type": "stream",
     "text": [
      "[1] \"low: [1.000, 3.750)\\n\"\n",
      "[1] \"medium: [3.750, 4.429)\\n\"\n",
      "[1] \"high: [4.429, 5.900]\\n\"\n"
     ]
    }
   ],
   "source": [
    "txt_low <- sprintf(\"low: [%.3f, %.3f)\\n\", cutpoints[[1]], cutpoints[[2]])\n",
    "print(txt_low)\n",
    "txt_medium <- sprintf(\"medium: [%.3f, %.3f)\\n\", cutpoints[[2]], cutpoints[[3]])\n",
    "print(txt_medium)\n",
    "txt_high <- sprintf(\"high: [%.3f, %.3f]\\n\", cutpoints[[3]], cutpoints[[4]])\n",
    "print(txt_high)"
   ]
  },
  {
   "cell_type": "markdown",
   "metadata": {},
   "source": [
    "Dataset for classification lables and textual levels and numerical level 1, 2, 3,"
   ]
  },
  {
   "cell_type": "code",
   "execution_count": 53,
   "metadata": {
    "collapsed": true
   },
   "outputs": [],
   "source": [
    "C <- D\n",
    "C$averBinned <- cut(aver, cutpoints, right=FALSE, include.lowest=TRUE,\n",
    "                     labels=c(\"low\",\"medium\",\"high\"))\n",
    "C <- subset(C, select = -c(ave)) "
   ]
  },
  {
   "cell_type": "markdown",
   "metadata": {},
   "source": [
    "Save the dataset C with binary SNAP predictors and trinary outcome to an .csv file for further analysis"
   ]
  },
  {
   "cell_type": "code",
   "execution_count": 54,
   "metadata": {
    "collapsed": true
   },
   "outputs": [],
   "source": [
    "write.csv(C, file = \"~/Dropbox/Arvid_Inattention/data2/inattention_nomiss_snap_is_01_outcome_is_low_medium_high.csv\",row.names=FALSE)"
   ]
  },
  {
   "cell_type": "code",
   "execution_count": 55,
   "metadata": {
    "collapsed": true
   },
   "outputs": [],
   "source": [
    "C <- D\n",
    "C$averBinned <- cut(aver, cutpoints, right=FALSE, include.lowest=TRUE,\n",
    "                    labels=c(\"1\",\"2\",\"3\"))\n",
    "C <- subset(C, select = -c(ave))"
   ]
  },
  {
   "cell_type": "markdown",
   "metadata": {},
   "source": [
    "Save the dataset C with binary SNAP predictors and trinary outcome to an .csv file for further analysis"
   ]
  },
  {
   "cell_type": "code",
   "execution_count": 56,
   "metadata": {
    "collapsed": true
   },
   "outputs": [],
   "source": [
    "write.csv(C, file = \"~/Dropbox/Arvid_Inattention/data2/inattention_nomiss_snap_is_01_outcome_is_123.csv\",row.names=FALSE)"
   ]
  },
  {
   "cell_type": "code",
   "execution_count": null,
   "metadata": {
    "collapsed": true
   },
   "outputs": [],
   "source": []
  }
 ],
 "metadata": {
  "kernelspec": {
   "display_name": "R",
   "language": "R",
   "name": "ir"
  },
  "language_info": {
   "codemirror_mode": "r",
   "file_extension": ".r",
   "mimetype": "text/x-r-source",
   "name": "R",
   "pygments_lexer": "r",
   "version": "3.3.0"
  }
 },
 "nbformat": 4,
 "nbformat_minor": 0
}
